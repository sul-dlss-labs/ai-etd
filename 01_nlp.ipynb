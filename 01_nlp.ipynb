{
 "cells": [
  {
   "cell_type": "markdown",
   "metadata": {},
   "source": [
    "## Using FastAI and BERT\n",
    "Following the steps outlined in [A Tutorial to Fine-Tuning BERT with Fast AI](http://mlexplained.com/2019/05/13/a-tutorial-to-fine-tuning-bert-with-fast-ai/). In the tutorial, the `pytorch_pretrained_bert` is used but this project been superceded by the [transformers](https://github.com/huggingface/transformers) project."
   ]
  },
  {
   "cell_type": "code",
   "execution_count": 1,
   "metadata": {},
   "outputs": [],
   "source": [
    "%reload_ext autoreload\n",
    "%autoreload 2\n",
    "%matplotlib inline"
   ]
  },
  {
   "cell_type": "code",
   "execution_count": 35,
   "metadata": {},
   "outputs": [],
   "source": [
    "from transformers import pipeline"
   ]
  },
  {
   "cell_type": "code",
   "execution_count": 23,
   "metadata": {},
   "outputs": [],
   "source": [
    "with open(\"etd_01ta/zp486mx6538.txt\") as fo:\n",
    "    etd_01 = fo.read()"
   ]
  },
  {
   "cell_type": "code",
   "execution_count": 26,
   "metadata": {},
   "outputs": [
    {
     "data": {
      "application/vnd.jupyter.widget-view+json": {
       "model_id": "4fc9f04a5e614784bfe1fbed295125f4",
       "version_major": 2,
       "version_minor": 0
      },
      "text/plain": [
       "HBox(children=(FloatProgress(value=0.0, description='Downloading', max=546.0, style=ProgressStyle(description_…"
      ]
     },
     "metadata": {},
     "output_type": "display_data"
    },
    {
     "name": "stdout",
     "output_type": "stream",
     "text": [
      "\n"
     ]
    },
    {
     "data": {
      "application/vnd.jupyter.widget-view+json": {
       "model_id": "69319faef4cf41429242cc400fdb75f2",
       "version_major": 2,
       "version_minor": 0
      },
      "text/plain": [
       "HBox(children=(FloatProgress(value=0.0, description='Downloading', max=754.0, style=ProgressStyle(description_…"
      ]
     },
     "metadata": {},
     "output_type": "display_data"
    },
    {
     "name": "stdout",
     "output_type": "stream",
     "text": [
      "\n"
     ]
    },
    {
     "data": {
      "application/vnd.jupyter.widget-view+json": {
       "model_id": "0d412983b7c349bb961f4d55bd2dc323",
       "version_major": 2,
       "version_minor": 0
      },
      "text/plain": [
       "HBox(children=(FloatProgress(value=0.0, description='Downloading', max=230.0, style=ProgressStyle(description_…"
      ]
     },
     "metadata": {},
     "output_type": "display_data"
    },
    {
     "name": "stdout",
     "output_type": "stream",
     "text": [
      "\n"
     ]
    },
    {
     "data": {
      "application/vnd.jupyter.widget-view+json": {
       "model_id": "f01d84c689c4404d8549688b8b93174b",
       "version_major": 2,
       "version_minor": 0
      },
      "text/plain": [
       "HBox(children=(FloatProgress(value=0.0, description='Downloading', max=267844284.0, style=ProgressStyle(descri…"
      ]
     },
     "metadata": {},
     "output_type": "display_data"
    },
    {
     "name": "stdout",
     "output_type": "stream",
     "text": [
      "\n"
     ]
    }
   ],
   "source": [
    "nlp = pipeline('sentiment-analysis')"
   ]
  },
  {
   "cell_type": "code",
   "execution_count": 27,
   "metadata": {},
   "outputs": [
    {
     "data": {
      "text/plain": [
       "[{'label': 'POSITIVE', 'score': 0.9857774}]"
      ]
     },
     "execution_count": 27,
     "metadata": {},
     "output_type": "execute_result"
    }
   ],
   "source": [
    "nlp(etd_01)"
   ]
  },
  {
   "cell_type": "code",
   "execution_count": 28,
   "metadata": {},
   "outputs": [
    {
     "data": {
      "application/vnd.jupyter.widget-view+json": {
       "model_id": "a91b2932e5954312882aae9ef6598fe0",
       "version_major": 2,
       "version_minor": 0
      },
      "text/plain": [
       "HBox(children=(FloatProgress(value=0.0, description='Downloading', max=569.0, style=ProgressStyle(description_…"
      ]
     },
     "metadata": {},
     "output_type": "display_data"
    },
    {
     "name": "stdout",
     "output_type": "stream",
     "text": [
      "\n"
     ]
    },
    {
     "data": {
      "application/vnd.jupyter.widget-view+json": {
       "model_id": "c85c4070046842d0b7c24c6a552f8366",
       "version_major": 2,
       "version_minor": 0
      },
      "text/plain": [
       "HBox(children=(FloatProgress(value=0.0, description='Downloading', max=213450.0, style=ProgressStyle(descripti…"
      ]
     },
     "metadata": {},
     "output_type": "display_data"
    },
    {
     "name": "stdout",
     "output_type": "stream",
     "text": [
      "\n"
     ]
    },
    {
     "data": {
      "application/vnd.jupyter.widget-view+json": {
       "model_id": "efe3b20e99ce44f695ef9c40ae620181",
       "version_major": 2,
       "version_minor": 0
      },
      "text/plain": [
       "HBox(children=(FloatProgress(value=0.0, description='Downloading', max=1089.0, style=ProgressStyle(description…"
      ]
     },
     "metadata": {},
     "output_type": "display_data"
    },
    {
     "name": "stdout",
     "output_type": "stream",
     "text": [
      "\n"
     ]
    },
    {
     "data": {
      "application/vnd.jupyter.widget-view+json": {
       "model_id": "b1792dc2f76c47ef93c4a145e84d743a",
       "version_major": 2,
       "version_minor": 0
      },
      "text/plain": [
       "HBox(children=(FloatProgress(value=0.0, description='Downloading', max=230.0, style=ProgressStyle(description_…"
      ]
     },
     "metadata": {},
     "output_type": "display_data"
    },
    {
     "name": "stdout",
     "output_type": "stream",
     "text": [
      "\n"
     ]
    },
    {
     "data": {
      "application/vnd.jupyter.widget-view+json": {
       "model_id": "f16afb0dfbce4ca987ea3eaba91a5d75",
       "version_major": 2,
       "version_minor": 0
      },
      "text/plain": [
       "HBox(children=(FloatProgress(value=0.0, description='Downloading', max=1334448817.0, style=ProgressStyle(descr…"
      ]
     },
     "metadata": {},
     "output_type": "display_data"
    },
    {
     "name": "stdout",
     "output_type": "stream",
     "text": [
      "\n"
     ]
    }
   ],
   "source": [
    "nlp_named_entity = pipeline('ner')"
   ]
  },
  {
   "cell_type": "code",
   "execution_count": 30,
   "metadata": {},
   "outputs": [
    {
     "data": {
      "text/plain": [
       "[{'word': 'G', 'score': 0.656947135925293, 'entity': 'I-MISC'},\n",
       " {'word': 'P', 'score': 0.5450064539909363, 'entity': 'I-PER'},\n",
       " {'word': '##H', 'score': 0.7459108829498291, 'entity': 'I-ORG'},\n",
       " {'word': '##IL', 'score': 0.8311479687690735, 'entity': 'I-ORG'},\n",
       " {'word': '##OS', 'score': 0.4880170524120331, 'entity': 'I-ORG'},\n",
       " {'word': '##OP', 'score': 0.5223172307014465, 'entity': 'I-ORG'},\n",
       " {'word': 'Mo', 'score': 0.8309988379478455, 'entity': 'I-PER'},\n",
       " {'word': '##o', 'score': 0.4108041226863861, 'entity': 'I-PER'},\n",
       " {'word': '##jo', 'score': 0.7101302742958069, 'entity': 'I-ORG'},\n",
       " {'word': '##ong', 'score': 0.6142235398292542, 'entity': 'I-ORG'},\n",
       " {'word': 'Ra', 'score': 0.5545247197151184, 'entity': 'I-ORG'},\n",
       " {'word': 'Mo', 'score': 0.7629261612892151, 'entity': 'I-PER'},\n",
       " {'word': '##o', 'score': 0.5551256537437439, 'entity': 'I-PER'},\n",
       " {'word': '##jo', 'score': 0.6911376714706421, 'entity': 'I-ORG'},\n",
       " {'word': '##ong', 'score': 0.5745614171028137, 'entity': 'I-PER'},\n",
       " {'word': 'Ra', 'score': 0.6607196927070618, 'entity': 'I-ORG'},\n",
       " {'word': 'Stanford', 'score': 0.9988878965377808, 'entity': 'I-ORG'},\n",
       " {'word': 'University', 'score': 0.9951291680335999, 'entity': 'I-ORG'},\n",
       " {'word': 'Creative', 'score': 0.9735059142112732, 'entity': 'I-MISC'},\n",
       " {'word': 'Commons', 'score': 0.9888043403625488, 'entity': 'I-MISC'},\n",
       " {'word': 'At', 'score': 0.6482295393943787, 'entity': 'I-MISC'},\n",
       " {'word': 'Non', 'score': 0.7341568470001221, 'entity': 'I-MISC'},\n",
       " {'word': '3', 'score': 0.522132158279419, 'entity': 'I-MISC'},\n",
       " {'word': '0', 'score': 0.5052645206451416, 'entity': 'I-MISC'},\n",
       " {'word': 'United', 'score': 0.9243240356445312, 'entity': 'I-MISC'},\n",
       " {'word': 'States', 'score': 0.9898291230201721, 'entity': 'I-MISC'},\n",
       " {'word': 'License', 'score': 0.9901728630065918, 'entity': 'I-MISC'},\n",
       " {'word': '##tan', 'score': 0.5124652981758118, 'entity': 'I-ORG'},\n",
       " {'word': 'Philosophy', 'score': 0.83858722448349, 'entity': 'I-MISC'},\n",
       " {'word': 'Kay', 'score': 0.9995589852333069, 'entity': 'I-PER'},\n",
       " {'word': 'G', 'score': 0.9996873140335083, 'entity': 'I-PER'},\n",
       " {'word': '##ies', 'score': 0.9717459678649902, 'entity': 'I-PER'},\n",
       " {'word': '##eck', 'score': 0.9889258742332458, 'entity': 'I-PER'},\n",
       " {'word': '##e', 'score': 0.979155957698822, 'entity': 'I-PER'},\n",
       " {'word': 'Doctor', 'score': 0.48351961374282837, 'entity': 'I-MISC'},\n",
       " {'word': 'Philosophy', 'score': 0.8080229163169861, 'entity': 'I-MISC'},\n",
       " {'word': 'Peter', 'score': 0.9992144703865051, 'entity': 'I-PER'},\n",
       " {'word': 'G', 'score': 0.9995638728141785, 'entity': 'I-PER'},\n",
       " {'word': '##lynn', 'score': 0.9825406074523926, 'entity': 'I-PER'},\n",
       " {'word': 'Doctor', 'score': 0.5527932643890381, 'entity': 'I-MISC'},\n",
       " {'word': 'Philosophy', 'score': 0.793701171875, 'entity': 'I-MISC'},\n",
       " {'word': 'Peter', 'score': 0.999254047870636, 'entity': 'I-PER'},\n",
       " {'word': 'Haas', 'score': 0.9987107515335083, 'entity': 'I-PER'},\n",
       " {'word': 'Stanford', 'score': 0.9958868622779846, 'entity': 'I-ORG'},\n",
       " {'word': 'University', 'score': 0.9933300614356995, 'entity': 'I-ORG'},\n",
       " {'word': 'Committee', 'score': 0.9896671175956726, 'entity': 'I-ORG'},\n",
       " {'word': 'on', 'score': 0.9565630555152893, 'entity': 'I-ORG'},\n",
       " {'word': 'Graduate', 'score': 0.9604241847991943, 'entity': 'I-ORG'},\n",
       " {'word': 'Studies', 'score': 0.9614614248275757, 'entity': 'I-ORG'},\n",
       " {'word': 'Patricia', 'score': 0.9990101456642151, 'entity': 'I-PER'},\n",
       " {'word': 'J', 'score': 0.9976767301559448, 'entity': 'I-PER'},\n",
       " {'word': 'G', 'score': 0.9995009303092957, 'entity': 'I-PER'}]"
      ]
     },
     "execution_count": 30,
     "metadata": {},
     "output_type": "execute_result"
    }
   ],
   "source": [
    "nlp_named_entity(etd_01)"
   ]
  },
  {
   "cell_type": "code",
   "execution_count": 31,
   "metadata": {},
   "outputs": [
    {
     "data": {
      "application/vnd.jupyter.widget-view+json": {
       "model_id": "b617f84bae5d4c4db28f9974c60d6b7a",
       "version_major": 2,
       "version_minor": 0
      },
      "text/plain": [
       "HBox(children=(FloatProgress(value=0.0, description='Downloading', max=1497.0, style=ProgressStyle(description…"
      ]
     },
     "metadata": {},
     "output_type": "display_data"
    },
    {
     "name": "stdout",
     "output_type": "stream",
     "text": [
      "\n"
     ]
    },
    {
     "data": {
      "application/vnd.jupyter.widget-view+json": {
       "model_id": "11ca7279ccda447ebdfb913fda9be04d",
       "version_major": 2,
       "version_minor": 0
      },
      "text/plain": [
       "HBox(children=(FloatProgress(value=0.0, description='Downloading', max=898823.0, style=ProgressStyle(descripti…"
      ]
     },
     "metadata": {},
     "output_type": "display_data"
    },
    {
     "name": "stdout",
     "output_type": "stream",
     "text": [
      "\n"
     ]
    },
    {
     "data": {
      "application/vnd.jupyter.widget-view+json": {
       "model_id": "5c602a9c87e644e58fe4669dc1b37e9a",
       "version_major": 2,
       "version_minor": 0
      },
      "text/plain": [
       "HBox(children=(FloatProgress(value=0.0, description='Downloading', max=456318.0, style=ProgressStyle(descripti…"
      ]
     },
     "metadata": {},
     "output_type": "display_data"
    },
    {
     "name": "stdout",
     "output_type": "stream",
     "text": [
      "\n"
     ]
    },
    {
     "name": "stderr",
     "output_type": "stream",
     "text": [
      "Couldn't reach server at 'https://s3.amazonaws.com/models.huggingface.co/bert/facebook/bart-large-cnn/modelcard.json' to download model card file.\n",
      "Creating an empty model card.\n"
     ]
    },
    {
     "data": {
      "application/vnd.jupyter.widget-view+json": {
       "model_id": "b3e890e6819d4b239442cf7eba18998c",
       "version_major": 2,
       "version_minor": 0
      },
      "text/plain": [
       "HBox(children=(FloatProgress(value=0.0, description='Downloading', max=1625270765.0, style=ProgressStyle(descr…"
      ]
     },
     "metadata": {},
     "output_type": "display_data"
    },
    {
     "name": "stdout",
     "output_type": "stream",
     "text": [
      "\n"
     ]
    }
   ],
   "source": [
    "summarizer = pipeline('summarization')"
   ]
  },
  {
   "cell_type": "code",
   "execution_count": 33,
   "metadata": {},
   "outputs": [
    {
     "data": {
      "text/plain": [
       "[{'summary_text': 'This dissertation develops a simulation of point processes with stochasticities, intensities, and estimation methodologies. It is licensed under a Creative Commons Attribution-Noncommercial 3.0 United States License. The author Moojoong Ra is a Professor of Philosophy at Stanford University.'}]"
      ]
     },
     "execution_count": 33,
     "metadata": {},
     "output_type": "execute_result"
    }
   ],
   "source": [
    "summarizer(etd_01)"
   ]
  }
 ],
 "metadata": {
  "kernelspec": {
   "display_name": "Python 3",
   "language": "python",
   "name": "python3"
  },
  "language_info": {
   "codemirror_mode": {
    "name": "ipython",
    "version": 3
   },
   "file_extension": ".py",
   "mimetype": "text/x-python",
   "name": "python",
   "nbconvert_exporter": "python",
   "pygments_lexer": "ipython3",
   "version": "3.7.0"
  }
 },
 "nbformat": 4,
 "nbformat_minor": 4
}
