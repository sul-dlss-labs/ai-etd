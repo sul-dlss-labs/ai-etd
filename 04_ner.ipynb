{
 "cells": [
  {
   "cell_type": "code",
   "execution_count": 1,
   "metadata": {},
   "outputs": [],
   "source": [
    "%reload_ext autoreload\n",
    "%autoreload 2\n",
    "%matplotlib inline"
   ]
  },
  {
   "cell_type": "code",
   "execution_count": 1,
   "metadata": {},
   "outputs": [],
   "source": [
    "import spacy\n",
    "spacy_nlp = spacy.load('en_core_web_md')\n",
    "abstract = \"\"\"Developments in hybrid propulsion technology over the past several decades have made these motors attractive candidates for a variety of applications. In the past, they have been overlooked due to the low regression rate of classical hybrid fuels or in favor of the heritage and commercial availability of liquid or solid propulsion systems. The slow burning rate translates into either a reduced thrust level or the requirement for a complicated, multi-port fuel grain to increase the available burning surface area. These major disadvantages can be mitigated through the use of liquefying hybrid fuels, such as paraffin. Typically, this increase is enough to achieve desired thrust levels with a simple, single port design. Benefits unique to the paraffin-based hybrid design makes it a competitive and viable option for solar system exploration missions. Two specific examples are included to illustrate the advantages of hybrids for solar system exploration. A hybrid design for a Mars Ascent Vehicle as part of a sample return campaign takes advantage of paraffin's tolerance to low and variable temperatures. Hybrid propulsion systems are well suited for planetary orbit insertion because of their ability to throttle, stop and restart at high thrust levels. The high regression rates of liquefying hybrid fuels are due to a fuel entrainment mass transfer mechanism. The design, assembly and results of an experiment to visualize this mechanism are presented. A combustion chamber with three windows allows visual access to the combustion process. A flow conditioning system is employed to create a uniform oxidizer flow at the entrance to the combustion chamber. Experimental visualization of entrainment mass transfer will enable the improvement of combustion models and therefore future hybrid designs.\"\"\""
   ]
  },
  {
   "cell_type": "code",
   "execution_count": 3,
   "metadata": {},
   "outputs": [],
   "source": [
    "import pandas as pd\n",
    "fast_topics = pd.read_csv('/Users/jpnelson/2020/sul-dlss/ai-etd/data/topic_uri_label_utf8.csv', names=['URI', 'Label'])"
   ]
  },
  {
   "cell_type": "code",
   "execution_count": 26,
   "metadata": {},
   "outputs": [],
   "source": [
    "topic_labels = {}\n",
    "for row in fast_topics.iterrows():\n",
    "    topic_labels[row[1]['URI']] = [row[1]['Label'],]"
   ]
  },
  {
   "cell_type": "code",
   "execution_count": null,
   "metadata": {},
   "outputs": [],
   "source": [
    "topic_labels"
   ]
  },
  {
   "cell_type": "code",
   "execution_count": 27,
   "metadata": {},
   "outputs": [],
   "source": [
    "from spacy_lookup import Entity\n",
    "topic_entity = Entity(keywords_dict=topic_labels, label=\"FAST_TOPICS\")"
   ]
  },
  {
   "cell_type": "code",
   "execution_count": 28,
   "metadata": {},
   "outputs": [],
   "source": [
    "spacy_nlp.add_pipe(topic_entity)"
   ]
  },
  {
   "cell_type": "code",
   "execution_count": 29,
   "metadata": {},
   "outputs": [
    {
     "data": {
      "text/plain": [
       "('ner', <spacy.pipeline.pipes.EntityRecognizer at 0x7f9ef20c9940>)"
      ]
     },
     "execution_count": 29,
     "metadata": {},
     "output_type": "execute_result"
    }
   ],
   "source": [
    "spacy_nlp.remove_pipe(\"ner\")"
   ]
  },
  {
   "cell_type": "code",
   "execution_count": 30,
   "metadata": {},
   "outputs": [],
   "source": [
    "doc = spacy_nlp(abstract)"
   ]
  },
  {
   "cell_type": "code",
   "execution_count": 117,
   "metadata": {},
   "outputs": [
    {
     "name": "stdout",
     "output_type": "stream",
     "text": [
      "technology http://id.worldcat.org/fast/1145078\n",
      "motors http://id.worldcat.org/fast/1028189\n",
      "propulsion systems http://id.worldcat.org/fast/1079285\n",
      "fuel http://id.worldcat.org/fast/935806\n",
      "grain http://id.worldcat.org/fast/945891\n",
      "design http://id.worldcat.org/fast/891253\n",
      "design http://id.worldcat.org/fast/891253\n",
      "missions http://id.worldcat.org/fast/1023771\n",
      "design http://id.worldcat.org/fast/891253\n",
      "propulsion systems http://id.worldcat.org/fast/1079285\n",
      "ability http://id.worldcat.org/fast/794400\n",
      "fuel http://id.worldcat.org/fast/935806\n",
      "mass transfer http://id.worldcat.org/fast/1011450\n",
      "design http://id.worldcat.org/fast/891253\n",
      "combustion http://id.worldcat.org/fast/869027\n",
      "windows http://id.worldcat.org/fast/1175789\n",
      "combustion http://id.worldcat.org/fast/869027\n",
      "process http://id.worldcat.org/fast/1078016\n",
      "combustion http://id.worldcat.org/fast/869027\n",
      "visualization http://id.worldcat.org/fast/1168121\n",
      "mass transfer http://id.worldcat.org/fast/1011450\n",
      "will http://id.worldcat.org/fast/1198525\n",
      "combustion http://id.worldcat.org/fast/869027\n"
     ]
    }
   ],
   "source": [
    "for ent in doc.ents:\n",
    "    print(ent.text, topic_entity.keyword_processor.get_keyword(ent.text))"
   ]
  },
  {
   "cell_type": "code",
   "execution_count": 86,
   "metadata": {},
   "outputs": [],
   "source": [
    "from spacy import displacy"
   ]
  },
  {
   "cell_type": "code",
   "execution_count": 88,
   "metadata": {},
   "outputs": [
    {
     "data": {
      "text/html": [
       "<span class=\"tex2jax_ignore\"><div class=\"entities\" style=\"line-height: 2.5; direction: ltr\">Developments in hybrid propulsion \n",
       "<mark class=\"entity\" style=\"background: #ddd; padding: 0.45em 0.6em; margin: 0 0.25em; line-height: 1; border-radius: 0.35em;\">\n",
       "    technology\n",
       "    <span style=\"font-size: 0.8em; font-weight: bold; line-height: 1; border-radius: 0.35em; text-transform: uppercase; vertical-align: middle; margin-left: 0.5rem\">FAST_TOPICS</span>\n",
       "</mark>\n",
       " over the past several decades have made these \n",
       "<mark class=\"entity\" style=\"background: #ddd; padding: 0.45em 0.6em; margin: 0 0.25em; line-height: 1; border-radius: 0.35em;\">\n",
       "    motors\n",
       "    <span style=\"font-size: 0.8em; font-weight: bold; line-height: 1; border-radius: 0.35em; text-transform: uppercase; vertical-align: middle; margin-left: 0.5rem\">FAST_TOPICS</span>\n",
       "</mark>\n",
       " attractive candidates for a variety of applications. In the past, they have been overlooked due to the low regression rate of classical hybrid fuels or in favor of the heritage and commercial availability of liquid or solid \n",
       "<mark class=\"entity\" style=\"background: #ddd; padding: 0.45em 0.6em; margin: 0 0.25em; line-height: 1; border-radius: 0.35em;\">\n",
       "    propulsion systems\n",
       "    <span style=\"font-size: 0.8em; font-weight: bold; line-height: 1; border-radius: 0.35em; text-transform: uppercase; vertical-align: middle; margin-left: 0.5rem\">FAST_TOPICS</span>\n",
       "</mark>\n",
       ". The slow burning rate translates into either a reduced thrust level or the requirement for a complicated, multi-port \n",
       "<mark class=\"entity\" style=\"background: #ddd; padding: 0.45em 0.6em; margin: 0 0.25em; line-height: 1; border-radius: 0.35em;\">\n",
       "    fuel\n",
       "    <span style=\"font-size: 0.8em; font-weight: bold; line-height: 1; border-radius: 0.35em; text-transform: uppercase; vertical-align: middle; margin-left: 0.5rem\">FAST_TOPICS</span>\n",
       "</mark>\n",
       " \n",
       "<mark class=\"entity\" style=\"background: #ddd; padding: 0.45em 0.6em; margin: 0 0.25em; line-height: 1; border-radius: 0.35em;\">\n",
       "    grain\n",
       "    <span style=\"font-size: 0.8em; font-weight: bold; line-height: 1; border-radius: 0.35em; text-transform: uppercase; vertical-align: middle; margin-left: 0.5rem\">FAST_TOPICS</span>\n",
       "</mark>\n",
       " to increase the available burning surface area. These major disadvantages can be mitigated through the use of liquefying hybrid fuels, such as paraffin. Typically, this increase is enough to achieve desired thrust levels with a simple, single port \n",
       "<mark class=\"entity\" style=\"background: #ddd; padding: 0.45em 0.6em; margin: 0 0.25em; line-height: 1; border-radius: 0.35em;\">\n",
       "    design\n",
       "    <span style=\"font-size: 0.8em; font-weight: bold; line-height: 1; border-radius: 0.35em; text-transform: uppercase; vertical-align: middle; margin-left: 0.5rem\">FAST_TOPICS</span>\n",
       "</mark>\n",
       ". Benefits unique to the paraffin-based hybrid \n",
       "<mark class=\"entity\" style=\"background: #ddd; padding: 0.45em 0.6em; margin: 0 0.25em; line-height: 1; border-radius: 0.35em;\">\n",
       "    design\n",
       "    <span style=\"font-size: 0.8em; font-weight: bold; line-height: 1; border-radius: 0.35em; text-transform: uppercase; vertical-align: middle; margin-left: 0.5rem\">FAST_TOPICS</span>\n",
       "</mark>\n",
       " makes it a competitive and viable option for solar system exploration \n",
       "<mark class=\"entity\" style=\"background: #ddd; padding: 0.45em 0.6em; margin: 0 0.25em; line-height: 1; border-radius: 0.35em;\">\n",
       "    missions\n",
       "    <span style=\"font-size: 0.8em; font-weight: bold; line-height: 1; border-radius: 0.35em; text-transform: uppercase; vertical-align: middle; margin-left: 0.5rem\">FAST_TOPICS</span>\n",
       "</mark>\n",
       ". Two specific examples are included to illustrate the advantages of hybrids for solar system exploration. A hybrid \n",
       "<mark class=\"entity\" style=\"background: #ddd; padding: 0.45em 0.6em; margin: 0 0.25em; line-height: 1; border-radius: 0.35em;\">\n",
       "    design\n",
       "    <span style=\"font-size: 0.8em; font-weight: bold; line-height: 1; border-radius: 0.35em; text-transform: uppercase; vertical-align: middle; margin-left: 0.5rem\">FAST_TOPICS</span>\n",
       "</mark>\n",
       " for a Mars Ascent Vehicle as part of a sample return campaign takes advantage of paraffin's tolerance to low and variable temperatures. Hybrid \n",
       "<mark class=\"entity\" style=\"background: #ddd; padding: 0.45em 0.6em; margin: 0 0.25em; line-height: 1; border-radius: 0.35em;\">\n",
       "    propulsion systems\n",
       "    <span style=\"font-size: 0.8em; font-weight: bold; line-height: 1; border-radius: 0.35em; text-transform: uppercase; vertical-align: middle; margin-left: 0.5rem\">FAST_TOPICS</span>\n",
       "</mark>\n",
       " are well suited for planetary orbit insertion because of their \n",
       "<mark class=\"entity\" style=\"background: #ddd; padding: 0.45em 0.6em; margin: 0 0.25em; line-height: 1; border-radius: 0.35em;\">\n",
       "    ability\n",
       "    <span style=\"font-size: 0.8em; font-weight: bold; line-height: 1; border-radius: 0.35em; text-transform: uppercase; vertical-align: middle; margin-left: 0.5rem\">FAST_TOPICS</span>\n",
       "</mark>\n",
       " to throttle, stop and restart at high thrust levels. The high regression rates of liquefying hybrid fuels are due to a \n",
       "<mark class=\"entity\" style=\"background: #ddd; padding: 0.45em 0.6em; margin: 0 0.25em; line-height: 1; border-radius: 0.35em;\">\n",
       "    fuel\n",
       "    <span style=\"font-size: 0.8em; font-weight: bold; line-height: 1; border-radius: 0.35em; text-transform: uppercase; vertical-align: middle; margin-left: 0.5rem\">FAST_TOPICS</span>\n",
       "</mark>\n",
       " entrainment \n",
       "<mark class=\"entity\" style=\"background: #ddd; padding: 0.45em 0.6em; margin: 0 0.25em; line-height: 1; border-radius: 0.35em;\">\n",
       "    mass transfer\n",
       "    <span style=\"font-size: 0.8em; font-weight: bold; line-height: 1; border-radius: 0.35em; text-transform: uppercase; vertical-align: middle; margin-left: 0.5rem\">FAST_TOPICS</span>\n",
       "</mark>\n",
       " mechanism. The \n",
       "<mark class=\"entity\" style=\"background: #ddd; padding: 0.45em 0.6em; margin: 0 0.25em; line-height: 1; border-radius: 0.35em;\">\n",
       "    design\n",
       "    <span style=\"font-size: 0.8em; font-weight: bold; line-height: 1; border-radius: 0.35em; text-transform: uppercase; vertical-align: middle; margin-left: 0.5rem\">FAST_TOPICS</span>\n",
       "</mark>\n",
       ", assembly and results of an experiment to visualize this mechanism are presented. A \n",
       "<mark class=\"entity\" style=\"background: #ddd; padding: 0.45em 0.6em; margin: 0 0.25em; line-height: 1; border-radius: 0.35em;\">\n",
       "    combustion\n",
       "    <span style=\"font-size: 0.8em; font-weight: bold; line-height: 1; border-radius: 0.35em; text-transform: uppercase; vertical-align: middle; margin-left: 0.5rem\">FAST_TOPICS</span>\n",
       "</mark>\n",
       " chamber with three \n",
       "<mark class=\"entity\" style=\"background: #ddd; padding: 0.45em 0.6em; margin: 0 0.25em; line-height: 1; border-radius: 0.35em;\">\n",
       "    windows\n",
       "    <span style=\"font-size: 0.8em; font-weight: bold; line-height: 1; border-radius: 0.35em; text-transform: uppercase; vertical-align: middle; margin-left: 0.5rem\">FAST_TOPICS</span>\n",
       "</mark>\n",
       " allows visual access to the \n",
       "<mark class=\"entity\" style=\"background: #ddd; padding: 0.45em 0.6em; margin: 0 0.25em; line-height: 1; border-radius: 0.35em;\">\n",
       "    combustion\n",
       "    <span style=\"font-size: 0.8em; font-weight: bold; line-height: 1; border-radius: 0.35em; text-transform: uppercase; vertical-align: middle; margin-left: 0.5rem\">FAST_TOPICS</span>\n",
       "</mark>\n",
       " \n",
       "<mark class=\"entity\" style=\"background: #ddd; padding: 0.45em 0.6em; margin: 0 0.25em; line-height: 1; border-radius: 0.35em;\">\n",
       "    process\n",
       "    <span style=\"font-size: 0.8em; font-weight: bold; line-height: 1; border-radius: 0.35em; text-transform: uppercase; vertical-align: middle; margin-left: 0.5rem\">FAST_TOPICS</span>\n",
       "</mark>\n",
       ". A flow conditioning system is employed to create a uniform oxidizer flow at the entrance to the \n",
       "<mark class=\"entity\" style=\"background: #ddd; padding: 0.45em 0.6em; margin: 0 0.25em; line-height: 1; border-radius: 0.35em;\">\n",
       "    combustion\n",
       "    <span style=\"font-size: 0.8em; font-weight: bold; line-height: 1; border-radius: 0.35em; text-transform: uppercase; vertical-align: middle; margin-left: 0.5rem\">FAST_TOPICS</span>\n",
       "</mark>\n",
       " chamber. Experimental \n",
       "<mark class=\"entity\" style=\"background: #ddd; padding: 0.45em 0.6em; margin: 0 0.25em; line-height: 1; border-radius: 0.35em;\">\n",
       "    visualization\n",
       "    <span style=\"font-size: 0.8em; font-weight: bold; line-height: 1; border-radius: 0.35em; text-transform: uppercase; vertical-align: middle; margin-left: 0.5rem\">FAST_TOPICS</span>\n",
       "</mark>\n",
       " of entrainment \n",
       "<mark class=\"entity\" style=\"background: #ddd; padding: 0.45em 0.6em; margin: 0 0.25em; line-height: 1; border-radius: 0.35em;\">\n",
       "    mass transfer\n",
       "    <span style=\"font-size: 0.8em; font-weight: bold; line-height: 1; border-radius: 0.35em; text-transform: uppercase; vertical-align: middle; margin-left: 0.5rem\">FAST_TOPICS</span>\n",
       "</mark>\n",
       " \n",
       "<mark class=\"entity\" style=\"background: #ddd; padding: 0.45em 0.6em; margin: 0 0.25em; line-height: 1; border-radius: 0.35em;\">\n",
       "    will\n",
       "    <span style=\"font-size: 0.8em; font-weight: bold; line-height: 1; border-radius: 0.35em; text-transform: uppercase; vertical-align: middle; margin-left: 0.5rem\">FAST_TOPICS</span>\n",
       "</mark>\n",
       " enable the improvement of \n",
       "<mark class=\"entity\" style=\"background: #ddd; padding: 0.45em 0.6em; margin: 0 0.25em; line-height: 1; border-radius: 0.35em;\">\n",
       "    combustion\n",
       "    <span style=\"font-size: 0.8em; font-weight: bold; line-height: 1; border-radius: 0.35em; text-transform: uppercase; vertical-align: middle; margin-left: 0.5rem\">FAST_TOPICS</span>\n",
       "</mark>\n",
       " models and therefore future hybrid designs.</div></span>"
      ],
      "text/plain": [
       "<IPython.core.display.HTML object>"
      ]
     },
     "metadata": {},
     "output_type": "display_data"
    }
   ],
   "source": [
    "displacy.render(doc, style='ent')"
   ]
  },
  {
   "cell_type": "code",
   "execution_count": 115,
   "metadata": {},
   "outputs": [
    {
     "data": {
      "text/plain": [
       "'http://id.worldcat.org/fast/1011450'"
      ]
     },
     "execution_count": 115,
     "metadata": {},
     "output_type": "execute_result"
    }
   ],
   "source": [
    "topic_entity.keyword_processor.get_keyword('mass transfer')"
   ]
  },
  {
   "cell_type": "code",
   "execution_count": 118,
   "metadata": {},
   "outputs": [
    {
     "data": {
      "text/plain": [
       "460098"
      ]
     },
     "execution_count": 118,
     "metadata": {},
     "output_type": "execute_result"
    }
   ],
   "source": [
    "len(topic_entity.keyword_processor)"
   ]
  },
  {
   "cell_type": "code",
   "execution_count": 24,
   "metadata": {},
   "outputs": [
    {
     "name": "stdout",
     "output_type": "stream",
     "text": [
      "Artificial satellites--Propulsion systems\n",
      "Aerobee rockets--Propulsion systems\n",
      "Aerobee rockets--Propulsion systems--Failures\n",
      "Large space structures (Astronautics)--Propulsion systems\n",
      "Guided missiles--Propulsion systems\n",
      "Nanosatellites--Propulsion systems\n",
      "Propulsion systems\n",
      "Space shuttles--Propulsion systems\n",
      "Space shuttles--Propulsion systems--Design and construction\n",
      "Space shuttles--Propulsion systems--Environmental aspects\n",
      "Space shuttles--Propulsion systems--Testing\n",
      "Space vehicles--Propulsion systems\n",
      "Space vehicles--Propulsion systems--Automatic control\n",
      "Space vehicles--Propulsion systems--Computer simulation\n",
      "Delta launch vehicles--Propulsion systems--Failures\n",
      "Delta launch vehicles--Propulsion systems\n",
      "Space vehicles--Propulsion systems--Design and construction\n",
      "Space vehicles--Propulsion systems--Environmental aspects\n",
      "Space vehicles--Propulsion systems--Materials\n",
      "Space vehicles--Propulsion systems--Mathematical models\n",
      "Space vehicles--Propulsion systems--Research\n",
      "Space vehicles--Propulsion systems--Standards\n",
      "Space vehicles--Electric propulsion systems\n"
     ]
    }
   ],
   "source": [
    "for row in topic_labels:\n",
    "    if 'propulsion systems' in row.lower():\n",
    "        print(row)"
   ]
  },
  {
   "cell_type": "code",
   "execution_count": 13,
   "metadata": {},
   "outputs": [
    {
     "name": "stderr",
     "output_type": "stream",
     "text": [
      "2020-08-17 19:09:53 INFO: Loading these models for language: en (English):\n",
      "=========================\n",
      "| Processor | Package   |\n",
      "-------------------------\n",
      "| tokenize  | ewt       |\n",
      "| ner       | ontonotes |\n",
      "=========================\n",
      "\n",
      "2020-08-17 19:09:53 INFO: Use device: cpu\n",
      "2020-08-17 19:09:53 INFO: Loading: tokenize\n",
      "2020-08-17 19:09:53 INFO: Loading: ner\n",
      "2020-08-17 19:09:54 INFO: Done loading processors!\n"
     ]
    }
   ],
   "source": [
    "import stanza\n",
    "stanza_ner = stanza.Pipeline(lang='en', processors='tokenize,ner')\n",
    "stanza_doc = stanza_ner(abstract)"
   ]
  },
  {
   "cell_type": "code",
   "execution_count": 15,
   "metadata": {},
   "outputs": [
    {
     "name": "stdout",
     "output_type": "stream",
     "text": [
      "entity: the past several decades\ttype: DATE\n",
      "entity: Two\ttype: CARDINAL\n",
      "entity: a Mars Ascent Vehicle\ttype: PRODUCT\n",
      "entity: three\ttype: CARDINAL\n"
     ]
    }
   ],
   "source": [
    "print(*[f'entity: {ent.text}\\ttype: {ent.type}' for ent in stanza_doc.ents], sep='\\n')"
   ]
  },
  {
   "cell_type": "code",
   "execution_count": 16,
   "metadata": {},
   "outputs": [],
   "source": [
    "from transformers import pipeline\n",
    "hugs_ner = pipeline('ner')"
   ]
  },
  {
   "cell_type": "code",
   "execution_count": 17,
   "metadata": {},
   "outputs": [],
   "source": [
    "hugs_doc = hugs_ner(abstract)"
   ]
  },
  {
   "cell_type": "code",
   "execution_count": 18,
   "metadata": {},
   "outputs": [
    {
     "data": {
      "text/plain": [
       "[{'word': 'Mars',\n",
       "  'score': 0.9837314486503601,\n",
       "  'entity': 'I-MISC',\n",
       "  'index': 180},\n",
       " {'word': 'As', 'score': 0.9873371124267578, 'entity': 'I-MISC', 'index': 181},\n",
       " {'word': '##cent',\n",
       "  'score': 0.9526634216308594,\n",
       "  'entity': 'I-MISC',\n",
       "  'index': 182},\n",
       " {'word': 'Vehicle',\n",
       "  'score': 0.9836892485618591,\n",
       "  'entity': 'I-MISC',\n",
       "  'index': 183}]"
      ]
     },
     "execution_count": 18,
     "metadata": {},
     "output_type": "execute_result"
    }
   ],
   "source": [
    "hugs_doc"
   ]
  },
  {
   "cell_type": "code",
   "execution_count": 29,
   "metadata": {},
   "outputs": [
    {
     "ename": "AttributeError",
     "evalue": "module 'spacy' has no attribute 'KnowledgeBase'",
     "output_type": "error",
     "traceback": [
      "\u001b[0;31m---------------------------------------------------------------------------\u001b[0m",
      "\u001b[0;31mAttributeError\u001b[0m                            Traceback (most recent call last)",
      "\u001b[0;32m<ipython-input-29-4c60cde0eab7>\u001b[0m in \u001b[0;36m<module>\u001b[0;34m\u001b[0m\n\u001b[0;32m----> 1\u001b[0;31m \u001b[0mtopic_kb\u001b[0m \u001b[0;34m=\u001b[0m \u001b[0mspacy\u001b[0m\u001b[0;34m.\u001b[0m\u001b[0mKnowledgeBase\u001b[0m\u001b[0;34m(\u001b[0m\u001b[0mfast_topics\u001b[0m\u001b[0;34m)\u001b[0m\u001b[0;34m\u001b[0m\u001b[0;34m\u001b[0m\u001b[0m\n\u001b[0m",
      "\u001b[0;31mAttributeError\u001b[0m: module 'spacy' has no attribute 'KnowledgeBase'"
     ]
    }
   ],
   "source": [
    "topic_kb = spacy.KnowledgeBase(fast_topics)"
   ]
  },
  {
   "cell_type": "code",
   "execution_count": 119,
   "metadata": {},
   "outputs": [],
   "source": [
    "doc2 = spacy_nlp(\"\"\"People often engage in behaviors that benefit both themselves and others. In particular, people frequently receive something in exchange for their prosocial behavior. These self-interested benefits can take the form of tangible items, feelings of moral self-regard, or a positive image in the eyes of others. I explore how people navigate these various motives and their effects on prosocial decision making. Chapter 1 examines the inconsistency in existing research showing that appeals to self-interest sometimes increase and sometimes decrease prosocial behavior. I propose that this inconsistency is in part due to the framings of these appeals. Different framings generate different salient reference points, leading to different assessments of the appeal. Study 1 demonstrates that buying an item with the proceeds going to charity evokes a different set of alternative behaviors than donating and receiving an item in return. Studies 2 and 3a-g establish that people are more willing to act, and give more when they do, when reading the former framing than the latter. Study 4 establishes ecological validity by replicating the effect in a field experiment assessing participants' actual charitable contributions. Finally, Study 5 provides additional process evidence via moderation for the proposed mechanism. Chapter 2 further examines how the motivation to feel moral guides people's behavior. I propose that people's efforts to preserve their moral self-regard conform to a moral threshold model. This model predicts that people are primarily concerned with whether their prosocial behavior legitimates the claim that they have acted morally, a claim that often diverges from whether their behavior is in the best interests of the recipient of the prosocial behavior. Specifically, it predicts that for people to feel moral following a prosocial decision, that decision need not have promised the greatest benefit for the recipient but only one larger than at least one other available outcome. Moreover, this model predicts that once people produce a benefit that exceeds this threshold, their moral self-regard is relatively insensitive to the magnitude of benefit that they produce. In seven studies, I test this moral threshold model by examining people's prosocial risk decisions. I find that, compared to risky egoistic decisions, people systematically avoid making risky prosocial decisions that carry the possibility of producing the worst possible outcome in a choice set—even when those decisions are objectively superior. I further find that people's greater aversion to producing the worst possible outcome when the beneficiary is a prosocial cause leads their prosocial (vs. egoistic) risk decisions to be less sensitive to those decisions' maximum possible benefit. Finally, Chapter 3 explores the potential drawbacks that come with behaving prosocially in public. Specifically, I argue that being identified for one's prosocial behavior can sometimes crowd out feelings of moral self-regard. This in turn, leads to a preference for private acts of prosociality over public ones. Five studies provide evidence that, when given the option between engaging in prosocial behavior in public or in private, people often choose the latter—contrary to prior work. In further support of a crowding out effect, people perceived private prosocial behavior to be more moral than public prosocial behavior. However, this difference in morality between public and private behavior was malleable and depended on the salient comparison point used, providing evidence that contextual factors play a role in how the identifiability of a prosocial act affects one's moral self-regard.\"\"\")"
   ]
  },
  {
   "cell_type": "code",
   "execution_count": 122,
   "metadata": {},
   "outputs": [
    {
     "data": {
      "text/plain": [
       "(exchange,\n",
       " self,\n",
       " self,\n",
       " decision making,\n",
       " research,\n",
       " self-interest,\n",
       " charity,\n",
       " reading,\n",
       " process,\n",
       " evidence,\n",
       " moderation,\n",
       " self,\n",
       " self,\n",
       " risk,\n",
       " possibility,\n",
       " aversion,\n",
       " risk,\n",
       " drawbacks,\n",
       " self,\n",
       " evidence,\n",
       " work,\n",
       " evidence,\n",
       " play,\n",
       " self)"
      ]
     },
     "execution_count": 122,
     "metadata": {},
     "output_type": "execute_result"
    }
   ],
   "source": [
    "doc2.ents"
   ]
  },
  {
   "cell_type": "code",
   "execution_count": null,
   "metadata": {},
   "outputs": [],
   "source": []
  }
 ],
 "metadata": {
  "kernelspec": {
   "display_name": "Python 3",
   "language": "python",
   "name": "python3"
  },
  "language_info": {
   "codemirror_mode": {
    "name": "ipython",
    "version": 3
   },
   "file_extension": ".py",
   "mimetype": "text/x-python",
   "name": "python",
   "nbconvert_exporter": "python",
   "pygments_lexer": "ipython3",
   "version": "3.8.1"
  }
 },
 "nbformat": 4,
 "nbformat_minor": 4
}
