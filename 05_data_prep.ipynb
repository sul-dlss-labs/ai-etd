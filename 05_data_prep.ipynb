{
 "cells": [
  {
   "cell_type": "code",
   "execution_count": 32,
   "metadata": {},
   "outputs": [],
   "source": [
    "import datetime\n",
    "import pathlib\n",
    "\n",
    "from nltk import word_tokenize\n",
    "etds = pathlib.Path(\"../tmp/etds\")\n",
    "etd_paths = [etd for etd in etds.iterdir()]"
   ]
  },
  {
   "cell_type": "code",
   "execution_count": 43,
   "metadata": {},
   "outputs": [
    {
     "data": {
      "text/plain": [
       "6287"
      ]
     },
     "execution_count": 43,
     "metadata": {},
     "output_type": "execute_result"
    }
   ],
   "source": [
    "len(etd_paths)"
   ]
  },
  {
   "cell_type": "code",
   "execution_count": 44,
   "metadata": {},
   "outputs": [
    {
     "data": {
      "text/plain": [
       "PosixPath('../tmp/etds/wg700tb0779.txt')"
      ]
     },
     "execution_count": 44,
     "metadata": {},
     "output_type": "execute_result"
    }
   ],
   "source": [
    "etd_paths[34]"
   ]
  },
  {
   "cell_type": "code",
   "execution_count": 12,
   "metadata": {},
   "outputs": [
    {
     "data": {
      "text/plain": [
       "637"
      ]
     },
     "execution_count": 12,
     "metadata": {},
     "output_type": "execute_result"
    }
   ],
   "source": [
    "etd_paths[56].stat().st_size"
   ]
  },
  {
   "cell_type": "code",
   "execution_count": 14,
   "metadata": {},
   "outputs": [
    {
     "name": "stdout",
     "output_type": "stream",
     "text": [
      "80 my460fq1046.txt size is less than one\n",
      "140 yd796zm6740.txt size is less than one\n",
      "337 yq071tj0740.txt size is less than one\n",
      "450 yx656fs6181.txt size is less than one\n",
      "781 ns144db9649.txt size is less than one\n",
      "820 kr698ww0913.txt size is less than one\n",
      "1216 sy486tp5223.txt size is less than one\n",
      "1219 dh727rv8642.txt size is less than one\n",
      "1411 bd697wr9786.txt size is less than one\n",
      "1505 tk151jc7099.txt size is less than one\n",
      "1731 tm772zz7352.txt size is less than one\n",
      "1940 hv283bs7821.txt size is less than one\n",
      "1992 xx259tf5123.txt size is less than one\n",
      "2001 yb440sg1391.txt size is less than one\n",
      "2027 gk306wd4742.txt size is less than one\n",
      "2260 zx064tb7256.txt size is less than one\n",
      "2331 hz462yv9251.txt size is less than one\n",
      "2479 fq899hc0553.txt size is less than one\n",
      "2553 sn866kq8471.txt size is less than one\n",
      "2678 mk114rp1100.txt size is less than one\n",
      "2786 hk239ky7693.txt size is less than one\n",
      "3136 pk521wd7589.txt size is less than one\n",
      "3313 dr308cc5354.txt size is less than one\n",
      "3391 sk624fg3275.txt size is less than one\n",
      "3444 qj637wy3896.txt size is less than one\n",
      "3468 xk632tw2072.txt size is less than one\n",
      "3576 jt376vn5009.txt size is less than one\n",
      "3687 bk781nt0208.txt size is less than one\n",
      "3745 wp108gc6672.txt size is less than one\n",
      "3765 qn935ty7877.txt size is less than one\n",
      "3942 rd758rz9037.txt size is less than one\n",
      "4113 np171yx2380.txt size is less than one\n",
      "4490 ss318vm9997.txt size is less than one\n",
      "4518 ps305nz9912.txt size is less than one\n",
      "4622 hr313dw9240.txt size is less than one\n",
      "4657 gq971ft1572.txt size is less than one\n",
      "4854 nw906mc1017.txt size is less than one\n",
      "5062 qm183jx4230.txt size is less than one\n",
      "5077 mc724tx1889.txt size is less than one\n",
      "5224 nw859cb9320.txt size is less than one\n",
      "5259 sc052gc9982.txt size is less than one\n",
      "5612 qc213fr2409.txt size is less than one\n",
      "5967 gp985mq4741.txt size is less than one\n",
      "6172 jh098qh8729.txt size is less than one\n",
      "6175 bx715hz2565.txt size is less than one\n"
     ]
    }
   ],
   "source": [
    "empty_etds = []\n",
    "for i,etd in enumerate(etd_paths):\n",
    "    if etd.stat().st_size < 1:\n",
    "        print(f\"{i} {etd.name} size is less than one\")\n",
    "        empty_etds.append(etd)\n",
    "    "
   ]
  },
  {
   "cell_type": "code",
   "execution_count": 15,
   "metadata": {},
   "outputs": [
    {
     "data": {
      "text/plain": [
       "45"
      ]
     },
     "execution_count": 15,
     "metadata": {},
     "output_type": "execute_result"
    }
   ],
   "source": [
    "len(empty_etds)"
   ]
  },
  {
   "cell_type": "code",
   "execution_count": 33,
   "metadata": {},
   "outputs": [],
   "source": [
    "raw_text = etd_paths[6].read_text()"
   ]
  },
  {
   "cell_type": "code",
   "execution_count": 34,
   "metadata": {},
   "outputs": [
    {
     "data": {
      "text/plain": [
       "10316"
      ]
     },
     "execution_count": 34,
     "metadata": {},
     "output_type": "execute_result"
    }
   ],
   "source": [
    "raw_text.find(\"Abstract\", 2161)"
   ]
  },
  {
   "cell_type": "code",
   "execution_count": 22,
   "metadata": {},
   "outputs": [
    {
     "data": {
      "text/plain": [
       "'kh271wr8164.txt'"
      ]
     },
     "execution_count": 22,
     "metadata": {},
     "output_type": "execute_result"
    }
   ],
   "source": [
    "etd_paths[6].name"
   ]
  },
  {
   "cell_type": "code",
   "execution_count": 35,
   "metadata": {},
   "outputs": [],
   "source": [
    "kh271wr8164_tokens = word_tokenize(raw_text)"
   ]
  },
  {
   "cell_type": "code",
   "execution_count": 38,
   "metadata": {},
   "outputs": [
    {
     "data": {
      "text/plain": [
       "['ANALYSIS', 'OF']"
      ]
     },
     "execution_count": 38,
     "metadata": {},
     "output_type": "execute_result"
    }
   ],
   "source": [
    "kh271wr8164_tokens[0:2]"
   ]
  },
  {
   "cell_type": "code",
   "execution_count": null,
   "metadata": {},
   "outputs": [],
   "source": [
    "print(f\"\"\"Counts:\n",
    "\\tAbstract {kh271wr8164_tokens.count(\"Abstract\")}\n",
    "\\tReferences {kh271wr8164_tokens.count(\"References\")} \"\"\")"
   ]
  },
  {
   "cell_type": "code",
   "execution_count": 48,
   "metadata": {},
   "outputs": [],
   "source": [
    "import requests\n",
    "import lxml.etree as etree\n",
    "ns = {\"mods\": \"http://www.loc.gov/mods/v3\"}"
   ]
  },
  {
   "cell_type": "code",
   "execution_count": 59,
   "metadata": {},
   "outputs": [
    {
     "name": "stdout",
     "output_type": "stream",
     "text": [
      "\n",
      "No abstract 2170 dg421jb1685.txt\n",
      "\n",
      "No abstract 2974 dz885gy0747.txt\n",
      "\n",
      "No abstract 3710 world-accessible-etd-full-text.tar.gz\n"
     ]
    }
   ],
   "source": [
    "for i,thesis in enumerate(etd_paths):\n",
    "    abstract_file = pathlib.Path(f\"/Users/jpnelson/2020/sul-dlss/tmp/etds/abstracts/{thesis.name}\")\n",
    "    if abstract_file.exists():\n",
    "        continue\n",
    "    purl_url = f\"https://purl.stanford.edu/{thesis.name[:-4]}.xml\"\n",
    "    purl_result = requests.get(purl_url)\n",
    "    if not i%25:\n",
    "        print(\".\", end=\"\")\n",
    "    if not i%100:\n",
    "        print(f\"{i}\", end=\"\")\n",
    "    try:\n",
    "        purl_xml = etree.XML(purl_result.text.encode())\n",
    "    except etree.XMLSyntaxError:\n",
    "        print(f\"\\nXML error for {i} {thesis.name}\")\n",
    "    abstract = purl_xml.find(\"mods:mods/mods:abstract\", namespaces=ns)\n",
    "    if abstract is None:\n",
    "        print(f\"\\nNo abstract {i} {thesis.name}\")\n",
    "        continue\n",
    "    with abstract_file.open(\"w+\") as file_obj:\n",
    "        file_obj.write(abstract.text)\n",
    "    "
   ]
  },
  {
   "cell_type": "code",
   "execution_count": 17,
   "metadata": {},
   "outputs": [],
   "source": [
    "import lxml.etree as etree\n",
    "import requests\n",
    "\n",
    "ns = {\"mods\": \"http://www.loc.gov/mods/v3\"}\n",
    "\n",
    "def get_department(druid: str):\n",
    "    purl_url = f\"https://purl.stanford.edu/{druid}.xml\"\n",
    "    try:\n",
    "        purl_result = requests.get(purl_url)\n",
    "    except:\n",
    "        print(f\"Request error for {druid} with {purl_url}\")\n",
    "        return ''\n",
    "    try:\n",
    "        purl_xml = etree.XML(purl_result.text.encode())\n",
    "    except etree.XMLSyntaxError:\n",
    "        print(f\"\\nXML Syntax Error for {druid}\")\n",
    "        return ''\n",
    "    corporate_names = purl_xml.findall(\"mods:mods/mods:name[@type='corporate']/mods:namePart\", namespaces=ns)\n",
    "    department = []\n",
    "    for name in corporate_names:\n",
    "        if name.text.startswith(\"Stanford University\"):\n",
    "            continue\n",
    "        department.append(name.text)\n",
    "    return ','.join(department)"
   ]
  },
  {
   "cell_type": "code",
   "execution_count": 18,
   "metadata": {},
   "outputs": [
    {
     "name": "stdout",
     "output_type": "stream",
     "text": [
      "2020-10-20 16:22:50.518016\n",
      ".0..........250..........500..........750..........1000..........1250..........1500.......Request error for sf979mz6738 with https://purl.stanford.edu/sf979mz6738.xml\n",
      "...1750...\n",
      "XML Syntax Error for tt337yq1092\n",
      ".......2000.......\n",
      "XML Syntax Error for lm_c\n",
      "...2250\n",
      "XML Syntax Error for gs372pn4215\n",
      "..........2500..........2750.........\n",
      "XML Syntax Error for lm_train\n",
      ".3000..........3250..........3500\n",
      "XML Syntax Error for world-accessible-etd-full-\n",
      ".\n",
      "XML Syntax Error for abstr\n",
      ".........3750..........4000..........4250..........4500..........4750....\n",
      "XML Syntax Error for lm_val\n",
      "......5000..........5250..........5500..........5750..........6000..........6250.Finished at 2020-10-20 17:44:09.836560 total time 81.31666666666666 minutes\n"
     ]
    }
   ],
   "source": [
    "import datetime\n",
    "druid_departments = {}\n",
    "start = datetime.datetime.utcnow()\n",
    "print(start)\n",
    "for i,etd in enumerate(etd_paths):\n",
    "    if etd.is_dir():\n",
    "        continue\n",
    "    druid = etd.name[:-4]\n",
    "    departments = get_department(druid)\n",
    "    druid_departments[druid] = departments\n",
    "    if not i%25:\n",
    "        print(\".\", end=\"\")\n",
    "    if not i%250:\n",
    "        print(f\"{i}\", end=\"\")\n",
    "end = datetime.datetime.utcnow()\n",
    "print(f\"Finished at {end} total time {(end-start).seconds / 60.} minutes\")"
   ]
  },
  {
   "cell_type": "code",
   "execution_count": 20,
   "metadata": {},
   "outputs": [
    {
     "data": {
      "text/plain": [
       "6288"
      ]
     },
     "execution_count": 20,
     "metadata": {},
     "output_type": "execute_result"
    }
   ],
   "source": [
    "len(druid_departments)"
   ]
  },
  {
   "cell_type": "code",
   "execution_count": 25,
   "metadata": {},
   "outputs": [
    {
     "name": "stdout",
     "output_type": "stream",
     "text": [
      "Department of Computer Science.\n",
      "Graduate School of Education.\n",
      "Department of Geological and Environmental Sciences.\n",
      "Department of Bioengineering.\n"
     ]
    }
   ],
   "source": [
    "for row in list(druid_departments.keys())[0:4]:\n",
    "    print(druid_departments[row])"
   ]
  },
  {
   "cell_type": "code",
   "execution_count": 26,
   "metadata": {},
   "outputs": [],
   "source": [
    "import pandas as pd\n",
    "abstract_df = pd.read_pickle(\"./data/abstracts.pkl\")"
   ]
  },
  {
   "cell_type": "code",
   "execution_count": 27,
   "metadata": {},
   "outputs": [],
   "source": [
    "def add_department(druid: str) -> str:\n",
    "    return druid_departments.get(druid)\n",
    "\n",
    "abstract_df['departments'] = abstract_df.druids.apply(add_department)"
   ]
  },
  {
   "cell_type": "code",
   "execution_count": 28,
   "metadata": {},
   "outputs": [
    {
     "data": {
      "text/html": [
       "<div>\n",
       "<style scoped>\n",
       "    .dataframe tbody tr th:only-of-type {\n",
       "        vertical-align: middle;\n",
       "    }\n",
       "\n",
       "    .dataframe tbody tr th {\n",
       "        vertical-align: top;\n",
       "    }\n",
       "\n",
       "    .dataframe thead th {\n",
       "        text-align: right;\n",
       "    }\n",
       "</style>\n",
       "<table border=\"1\" class=\"dataframe\">\n",
       "  <thead>\n",
       "    <tr style=\"text-align: right;\">\n",
       "      <th></th>\n",
       "      <th>druids</th>\n",
       "      <th>abstracts</th>\n",
       "      <th>abstracts_cleaned</th>\n",
       "      <th>departments</th>\n",
       "    </tr>\n",
       "  </thead>\n",
       "  <tbody>\n",
       "    <tr>\n",
       "      <th>0</th>\n",
       "      <td>yq942qc7340</td>\n",
       "      <td>Metaverses are virtual worlds where users crea...</td>\n",
       "      <td>metaverses virtual worlds users create entire ...</td>\n",
       "      <td>Department of Computer Science.</td>\n",
       "    </tr>\n",
       "    <tr>\n",
       "      <th>1</th>\n",
       "      <td>yx753dx0216</td>\n",
       "      <td>In this dissertation, I use two novel test sco...</td>\n",
       "      <td>dissertation  use two novel test score data se...</td>\n",
       "      <td>Graduate School of Education.</td>\n",
       "    </tr>\n",
       "    <tr>\n",
       "      <th>2</th>\n",
       "      <td>yd874rr2274</td>\n",
       "      <td>A 20-minute documentary film was created to ac...</td>\n",
       "      <td>minute documentary film created accelerate ...</td>\n",
       "      <td>Department of Geological and Environmental Sci...</td>\n",
       "    </tr>\n",
       "    <tr>\n",
       "      <th>3</th>\n",
       "      <td>sh260yn9550</td>\n",
       "      <td>The usage of hydrogen as an alternative energy...</td>\n",
       "      <td>usage hydrogen alternative energy carrier beco...</td>\n",
       "      <td>Department of Bioengineering.</td>\n",
       "    </tr>\n",
       "    <tr>\n",
       "      <th>4</th>\n",
       "      <td>nk877ng0918</td>\n",
       "      <td>High-order methods in Computational Fluid Dyna...</td>\n",
       "      <td>high order methods computational fluid dynamic...</td>\n",
       "      <td>Department of Aeronautics and Astronautics.</td>\n",
       "    </tr>\n",
       "  </tbody>\n",
       "</table>\n",
       "</div>"
      ],
      "text/plain": [
       "        druids                                          abstracts  \\\n",
       "0  yq942qc7340  Metaverses are virtual worlds where users crea...   \n",
       "1  yx753dx0216  In this dissertation, I use two novel test sco...   \n",
       "2  yd874rr2274  A 20-minute documentary film was created to ac...   \n",
       "3  sh260yn9550  The usage of hydrogen as an alternative energy...   \n",
       "4  nk877ng0918  High-order methods in Computational Fluid Dyna...   \n",
       "\n",
       "                                   abstracts_cleaned  \\\n",
       "0  metaverses virtual worlds users create entire ...   \n",
       "1  dissertation  use two novel test score data se...   \n",
       "2     minute documentary film created accelerate ...   \n",
       "3  usage hydrogen alternative energy carrier beco...   \n",
       "4  high order methods computational fluid dynamic...   \n",
       "\n",
       "                                         departments  \n",
       "0                    Department of Computer Science.  \n",
       "1                      Graduate School of Education.  \n",
       "2  Department of Geological and Environmental Sci...  \n",
       "3                      Department of Bioengineering.  \n",
       "4        Department of Aeronautics and Astronautics.  "
      ]
     },
     "execution_count": 28,
     "metadata": {},
     "output_type": "execute_result"
    }
   ],
   "source": [
    "abstract_df.head()"
   ]
  },
  {
   "cell_type": "code",
   "execution_count": 30,
   "metadata": {},
   "outputs": [],
   "source": [
    "abstract_df.to_pickle(\"./data/abstracts.pkl\")"
   ]
  },
  {
   "cell_type": "code",
   "execution_count": 39,
   "metadata": {},
   "outputs": [],
   "source": [
    "from sklearn import preprocessing\n",
    "le = preprocessing.LabelEncoder()\n",
    "etd_encoded = le.fit_transform(kh271wr8164_tokens)"
   ]
  },
  {
   "cell_type": "code",
   "execution_count": 40,
   "metadata": {},
   "outputs": [
    {
     "data": {
      "text/plain": [
       "array([ 697, 2880, 1714, 3752, 1606])"
      ]
     },
     "execution_count": 40,
     "metadata": {},
     "output_type": "execute_result"
    }
   ],
   "source": [
    "etd_encoded[0:5]"
   ]
  },
  {
   "cell_type": "code",
   "execution_count": 41,
   "metadata": {},
   "outputs": [
    {
     "data": {
      "text/plain": [
       "38798"
      ]
     },
     "execution_count": 41,
     "metadata": {},
     "output_type": "execute_result"
    }
   ],
   "source": [
    "len(etd_encoded)"
   ]
  }
 ],
 "metadata": {
  "kernelspec": {
   "display_name": "Python 3",
   "language": "python",
   "name": "python3"
  },
  "language_info": {
   "codemirror_mode": {
    "name": "ipython",
    "version": 3
   },
   "file_extension": ".py",
   "mimetype": "text/x-python",
   "name": "python",
   "nbconvert_exporter": "python",
   "pygments_lexer": "ipython3",
   "version": "3.8.1"
  }
 },
 "nbformat": 4,
 "nbformat_minor": 4
}
