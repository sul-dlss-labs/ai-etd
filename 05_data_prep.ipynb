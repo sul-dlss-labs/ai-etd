{
 "cells": [
  {
   "cell_type": "code",
   "execution_count": 27,
   "metadata": {},
   "outputs": [],
   "source": [
    "import pathlib\n",
    "from nltk import word_tokenize\n",
    "etds = pathlib.Path(\"../tmp/etds\")\n",
    "etd_paths = [etd for etd in etds.iterdir()]"
   ]
  },
  {
   "cell_type": "code",
   "execution_count": 43,
   "metadata": {},
   "outputs": [
    {
     "data": {
      "text/plain": [
       "6287"
      ]
     },
     "execution_count": 43,
     "metadata": {},
     "output_type": "execute_result"
    }
   ],
   "source": [
    "len(etd_paths)"
   ]
  },
  {
   "cell_type": "code",
   "execution_count": 44,
   "metadata": {},
   "outputs": [
    {
     "data": {
      "text/plain": [
       "PosixPath('../tmp/etds/wg700tb0779.txt')"
      ]
     },
     "execution_count": 44,
     "metadata": {},
     "output_type": "execute_result"
    }
   ],
   "source": [
    "etd_paths[34]"
   ]
  },
  {
   "cell_type": "code",
   "execution_count": 12,
   "metadata": {},
   "outputs": [
    {
     "data": {
      "text/plain": [
       "637"
      ]
     },
     "execution_count": 12,
     "metadata": {},
     "output_type": "execute_result"
    }
   ],
   "source": [
    "etd_paths[56].stat().st_size"
   ]
  },
  {
   "cell_type": "code",
   "execution_count": 14,
   "metadata": {},
   "outputs": [
    {
     "name": "stdout",
     "output_type": "stream",
     "text": [
      "80 my460fq1046.txt size is less than one\n",
      "140 yd796zm6740.txt size is less than one\n",
      "337 yq071tj0740.txt size is less than one\n",
      "450 yx656fs6181.txt size is less than one\n",
      "781 ns144db9649.txt size is less than one\n",
      "820 kr698ww0913.txt size is less than one\n",
      "1216 sy486tp5223.txt size is less than one\n",
      "1219 dh727rv8642.txt size is less than one\n",
      "1411 bd697wr9786.txt size is less than one\n",
      "1505 tk151jc7099.txt size is less than one\n",
      "1731 tm772zz7352.txt size is less than one\n",
      "1940 hv283bs7821.txt size is less than one\n",
      "1992 xx259tf5123.txt size is less than one\n",
      "2001 yb440sg1391.txt size is less than one\n",
      "2027 gk306wd4742.txt size is less than one\n",
      "2260 zx064tb7256.txt size is less than one\n",
      "2331 hz462yv9251.txt size is less than one\n",
      "2479 fq899hc0553.txt size is less than one\n",
      "2553 sn866kq8471.txt size is less than one\n",
      "2678 mk114rp1100.txt size is less than one\n",
      "2786 hk239ky7693.txt size is less than one\n",
      "3136 pk521wd7589.txt size is less than one\n",
      "3313 dr308cc5354.txt size is less than one\n",
      "3391 sk624fg3275.txt size is less than one\n",
      "3444 qj637wy3896.txt size is less than one\n",
      "3468 xk632tw2072.txt size is less than one\n",
      "3576 jt376vn5009.txt size is less than one\n",
      "3687 bk781nt0208.txt size is less than one\n",
      "3745 wp108gc6672.txt size is less than one\n",
      "3765 qn935ty7877.txt size is less than one\n",
      "3942 rd758rz9037.txt size is less than one\n",
      "4113 np171yx2380.txt size is less than one\n",
      "4490 ss318vm9997.txt size is less than one\n",
      "4518 ps305nz9912.txt size is less than one\n",
      "4622 hr313dw9240.txt size is less than one\n",
      "4657 gq971ft1572.txt size is less than one\n",
      "4854 nw906mc1017.txt size is less than one\n",
      "5062 qm183jx4230.txt size is less than one\n",
      "5077 mc724tx1889.txt size is less than one\n",
      "5224 nw859cb9320.txt size is less than one\n",
      "5259 sc052gc9982.txt size is less than one\n",
      "5612 qc213fr2409.txt size is less than one\n",
      "5967 gp985mq4741.txt size is less than one\n",
      "6172 jh098qh8729.txt size is less than one\n",
      "6175 bx715hz2565.txt size is less than one\n"
     ]
    }
   ],
   "source": [
    "empty_etds = []\n",
    "for i,etd in enumerate(etd_paths):\n",
    "    if etd.stat().st_size < 1:\n",
    "        print(f\"{i} {etd.name} size is less than one\")\n",
    "        empty_etds.append(etd)\n",
    "    "
   ]
  },
  {
   "cell_type": "code",
   "execution_count": 15,
   "metadata": {},
   "outputs": [
    {
     "data": {
      "text/plain": [
       "45"
      ]
     },
     "execution_count": 15,
     "metadata": {},
     "output_type": "execute_result"
    }
   ],
   "source": [
    "len(empty_etds)"
   ]
  },
  {
   "cell_type": "code",
   "execution_count": 17,
   "metadata": {},
   "outputs": [],
   "source": [
    "raw_text = etd_paths[6].read_text()"
   ]
  },
  {
   "cell_type": "code",
   "execution_count": 26,
   "metadata": {},
   "outputs": [
    {
     "data": {
      "text/plain": [
       "10316"
      ]
     },
     "execution_count": 26,
     "metadata": {},
     "output_type": "execute_result"
    }
   ],
   "source": [
    "raw_text.find(\"Abstract\", 2161)"
   ]
  },
  {
   "cell_type": "code",
   "execution_count": 22,
   "metadata": {},
   "outputs": [
    {
     "data": {
      "text/plain": [
       "'kh271wr8164.txt'"
      ]
     },
     "execution_count": 22,
     "metadata": {},
     "output_type": "execute_result"
    }
   ],
   "source": [
    "etd_paths[6].name"
   ]
  },
  {
   "cell_type": "code",
   "execution_count": 29,
   "metadata": {},
   "outputs": [],
   "source": [
    "kh271wr8164_tokens = word_tokenize(raw_text)"
   ]
  },
  {
   "cell_type": "code",
   "execution_count": 30,
   "metadata": {},
   "outputs": [
    {
     "data": {
      "text/plain": [
       "38798"
      ]
     },
     "execution_count": 30,
     "metadata": {},
     "output_type": "execute_result"
    }
   ],
   "source": [
    "len(kh271wr8164_tokens)"
   ]
  },
  {
   "cell_type": "code",
   "execution_count": null,
   "metadata": {},
   "outputs": [],
   "source": [
    "print(f\"\"\"Counts:\n",
    "\\tAbstract {kh271wr8164_tokens.count(\"Abstract\")}\n",
    "\\tReferences {kh271wr8164_tokens.count(\"References\")} \"\"\")"
   ]
  },
  {
   "cell_type": "code",
   "execution_count": 48,
   "metadata": {},
   "outputs": [],
   "source": [
    "import requests\n",
    "import lxml.etree as etree\n",
    "ns = {\"mods\": \"http://www.loc.gov/mods/v3\"}"
   ]
  },
  {
   "cell_type": "code",
   "execution_count": 59,
   "metadata": {},
   "outputs": [
    {
     "name": "stdout",
     "output_type": "stream",
     "text": [
      "\n",
      "No abstract 2170 dg421jb1685.txt\n",
      "\n",
      "No abstract 2974 dz885gy0747.txt\n",
      "\n",
      "No abstract 3710 world-accessible-etd-full-text.tar.gz\n"
     ]
    }
   ],
   "source": [
    "for i,thesis in enumerate(etd_paths):\n",
    "    abstract_file = pathlib.Path(f\"/Users/jpnelson/2020/sul-dlss/tmp/etds/abstracts/{thesis.name}\")\n",
    "    if abstract_file.exists():\n",
    "        continue\n",
    "    purl_url = f\"https://purl.stanford.edu/{thesis.name[:-4]}.xml\"\n",
    "    purl_result = requests.get(purl_url)\n",
    "    if not i%25:\n",
    "        print(\".\", end=\"\")\n",
    "    if not i%100:\n",
    "        print(f\"{i}\", end=\"\")\n",
    "    try:\n",
    "        purl_xml = etree.XML(purl_result.text.encode())\n",
    "    except etree.XMLSyntaxError:\n",
    "        print(f\"\\nXML error for {i} {thesis.name}\")\n",
    "    abstract = purl_xml.find(\"mods:mods/mods:abstract\", namespaces=ns)\n",
    "    if abstract is None:\n",
    "        print(f\"\\nNo abstract {i} {thesis.name}\")\n",
    "        continue\n",
    "    with abstract_file.open(\"w+\") as file_obj:\n",
    "        file_obj.write(abstract.text)\n",
    "    "
   ]
  },
  {
   "cell_type": "markdown",
   "metadata": {},
   "source": [
    "\n"
   ]
  },
  {
   "cell_type": "code",
   "execution_count": 2,
   "metadata": {},
   "outputs": [
    {
     "name": "stderr",
     "output_type": "stream",
     "text": [
      "100%|██████████| 405M/405M [04:30<00:00, 1.50MB/s] \n"
     ]
    }
   ],
   "source": []
  },
  {
   "cell_type": "code",
   "execution_count": null,
   "metadata": {},
   "outputs": [],
   "source": []
  }
 ],
 "metadata": {
  "kernelspec": {
   "display_name": "Python 3",
   "language": "python",
   "name": "python3"
  },
  "language_info": {
   "codemirror_mode": {
    "name": "ipython",
    "version": 3
   },
   "file_extension": ".py",
   "mimetype": "text/x-python",
   "name": "python",
   "nbconvert_exporter": "python",
   "pygments_lexer": "ipython3",
   "version": "3.8.1"
  }
 },
 "nbformat": 4,
 "nbformat_minor": 4
}
