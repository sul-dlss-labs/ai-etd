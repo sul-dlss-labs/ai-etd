{
 "cells": [
  {
   "cell_type": "code",
   "execution_count": 1,
   "metadata": {},
   "outputs": [],
   "source": [
    "# From https://towardsdatascience.com/calculating-document-similarities-using-bert-and-other-models-b2c1a29c9630\n",
    "import pandas as pd\n",
    "import numpy as np\n",
    "from nltk.corpus import stopwords\n",
    "import nltk\n",
    "import re\n",
    "import pathlib\n",
    "import random\n",
    "from sklearn.feature_extraction.text import TfidfVectorizer\n",
    "from sklearn.metrics.pairwise import cosine_similarity\n",
    "from sklearn.metrics.pairwise import euclidean_distances\n",
    "from sklearn.cluster import KMeans"
   ]
  },
  {
   "cell_type": "markdown",
   "metadata": {},
   "source": [
    "# Similarity Measures for ETD Abstracts\n",
    "Using this [blog post](https://towardsdatascience.com/calculating-document-similarities-using-bert-and-other-models-b2c1a29c9630) as a guide, this notebook replicates the generation of similarity measures for a random sample of Stanford's public available theses and dissertations.\n",
    "\n",
    "## Generating Abstracts Sample\n",
    "To generate the abstracts sample, all of the abstracts were loaded into a list and a random ten abstracts were loaded into the `sample` list."
   ]
  },
  {
   "cell_type": "code",
   "execution_count": 2,
   "metadata": {},
   "outputs": [
    {
     "name": "stdout",
     "output_type": "stream",
     "text": [
      "Added 4374\n",
      "Added 1959\n",
      "Added 4062\n",
      "Added 1469\n",
      "Added 4666\n",
      "Added 3306\n",
      "Added 5213\n",
      "Added 2229\n",
      "Added 3654\n",
      "Added 2195\n"
     ]
    }
   ],
   "source": [
    "# Use 10 random abstracts\n",
    "abstract_dir = pathlib.Path(\"../tmp/etds/abstracts/\")\n",
    "abstracts = [abstract for abstract in abstract_dir.iterdir()]\n",
    "sample = []\n",
    "for i in range(10):\n",
    "    position = random.randint(0, len(abstracts))\n",
    "    sample.append(abstracts[position])\n",
    "    print(f\"Added {position}\")"
   ]
  },
  {
   "cell_type": "markdown",
   "metadata": {},
   "source": [
    "## Pandas Document DataFrame\n",
    "Create a documents dataframe from a list of the abstracts in the sample."
   ]
  },
  {
   "cell_type": "code",
   "execution_count": 3,
   "metadata": {},
   "outputs": [],
   "source": [
    "documents = [abstract.read_text() for abstract in sample]"
   ]
  },
  {
   "cell_type": "code",
   "execution_count": 4,
   "metadata": {},
   "outputs": [
    {
     "name": "stdout",
     "output_type": "stream",
     "text": [
      "<class 'pandas.core.frame.DataFrame'>\n",
      "RangeIndex: 10 entries, 0 to 9\n",
      "Data columns (total 1 columns):\n",
      " #   Column     Non-Null Count  Dtype \n",
      "---  ------     --------------  ----- \n",
      " 0   documents  10 non-null     object\n",
      "dtypes: object(1)\n",
      "memory usage: 208.0+ bytes\n"
     ]
    },
    {
     "data": {
      "text/html": [
       "<div>\n",
       "<style scoped>\n",
       "    .dataframe tbody tr th:only-of-type {\n",
       "        vertical-align: middle;\n",
       "    }\n",
       "\n",
       "    .dataframe tbody tr th {\n",
       "        vertical-align: top;\n",
       "    }\n",
       "\n",
       "    .dataframe thead th {\n",
       "        text-align: right;\n",
       "    }\n",
       "</style>\n",
       "<table border=\"1\" class=\"dataframe\">\n",
       "  <thead>\n",
       "    <tr style=\"text-align: right;\">\n",
       "      <th></th>\n",
       "      <th>documents</th>\n",
       "    </tr>\n",
       "  </thead>\n",
       "  <tbody>\n",
       "    <tr>\n",
       "      <th>0</th>\n",
       "      <td>One of the premier challenges in energy resear...</td>\n",
       "    </tr>\n",
       "    <tr>\n",
       "      <th>1</th>\n",
       "      <td>Wireless has quickly become an irreplaceable m...</td>\n",
       "    </tr>\n",
       "    <tr>\n",
       "      <th>2</th>\n",
       "      <td>The Hall thruster is a type of plasma propulsi...</td>\n",
       "    </tr>\n",
       "    <tr>\n",
       "      <th>3</th>\n",
       "      <td>A review of the literature on the educational ...</td>\n",
       "    </tr>\n",
       "    <tr>\n",
       "      <th>4</th>\n",
       "      <td>Two value of information (VOI) methodologies f...</td>\n",
       "    </tr>\n",
       "  </tbody>\n",
       "</table>\n",
       "</div>"
      ],
      "text/plain": [
       "                                           documents\n",
       "0  One of the premier challenges in energy resear...\n",
       "1  Wireless has quickly become an irreplaceable m...\n",
       "2  The Hall thruster is a type of plasma propulsi...\n",
       "3  A review of the literature on the educational ...\n",
       "4  Two value of information (VOI) methodologies f..."
      ]
     },
     "execution_count": 4,
     "metadata": {},
     "output_type": "execute_result"
    }
   ],
   "source": [
    "documents_df = pd.DataFrame(documents, columns=['documents'])\n",
    "documents_df.info()\n",
    "documents_df.head()"
   ]
  },
  {
   "cell_type": "markdown",
   "metadata": {},
   "source": [
    "## Text clean-up \n",
    "Removes stopwords and special characters from the documents and converts all characters to lower-case in the Document DataFrame. "
   ]
  },
  {
   "cell_type": "code",
   "execution_count": 10,
   "metadata": {},
   "outputs": [
    {
     "name": "stdout",
     "output_type": "stream",
     "text": [
      "179 ['we', 'our', 'ours', 'ourselves', 'you', \"you're\", \"you've\", \"you'll\", \"you'd\", 'your', 'yours']\n"
     ]
    }
   ],
   "source": [
    "stop_words_list = stopwords.words('english')\n",
    "print(len(stop_words_list), stop_words_list[4:15])"
   ]
  },
  {
   "cell_type": "code",
   "execution_count": 8,
   "metadata": {},
   "outputs": [],
   "source": [
    "special_char_re = re.compile(r'[^a-zA-Z]')\n",
    "\n",
    "def cleanup(term: str) -> str:\n",
    "    cleaned = []\n",
    "    for char in term.split():\n",
    "        cleaned_char = special_char_re.sub(' ', char).lower()\n",
    "        if cleaned_char in stop_words_list:\n",
    "            continue\n",
    "        cleaned.append(cleaned_char)\n",
    "    return ' '.join(cleaned)"
   ]
  },
  {
   "cell_type": "code",
   "execution_count": 7,
   "metadata": {},
   "outputs": [],
   "source": [
    "documents_df['documents_cleaned'] = documents_df.documents.apply(cleanup)"
   ]
  },
  {
   "cell_type": "code",
   "execution_count": 8,
   "metadata": {},
   "outputs": [
    {
     "data": {
      "text/html": [
       "<div>\n",
       "<style scoped>\n",
       "    .dataframe tbody tr th:only-of-type {\n",
       "        vertical-align: middle;\n",
       "    }\n",
       "\n",
       "    .dataframe tbody tr th {\n",
       "        vertical-align: top;\n",
       "    }\n",
       "\n",
       "    .dataframe thead th {\n",
       "        text-align: right;\n",
       "    }\n",
       "</style>\n",
       "<table border=\"1\" class=\"dataframe\">\n",
       "  <thead>\n",
       "    <tr style=\"text-align: right;\">\n",
       "      <th></th>\n",
       "      <th>documents</th>\n",
       "      <th>documents_cleaned</th>\n",
       "    </tr>\n",
       "  </thead>\n",
       "  <tbody>\n",
       "    <tr>\n",
       "      <th>0</th>\n",
       "      <td>One of the premier challenges in energy resear...</td>\n",
       "      <td>one premier challenges energy research develop...</td>\n",
       "    </tr>\n",
       "    <tr>\n",
       "      <th>1</th>\n",
       "      <td>Wireless has quickly become an irreplaceable m...</td>\n",
       "      <td>wireless quickly become irreplaceable medium c...</td>\n",
       "    </tr>\n",
       "    <tr>\n",
       "      <th>2</th>\n",
       "      <td>The Hall thruster is a type of plasma propulsi...</td>\n",
       "      <td>hall thruster type plasma propulsion system sp...</td>\n",
       "    </tr>\n",
       "    <tr>\n",
       "      <th>3</th>\n",
       "      <td>A review of the literature on the educational ...</td>\n",
       "      <td>review literature educational applications imm...</td>\n",
       "    </tr>\n",
       "    <tr>\n",
       "      <th>4</th>\n",
       "      <td>Two value of information (VOI) methodologies f...</td>\n",
       "      <td>two value information  voi  methodologies spat...</td>\n",
       "    </tr>\n",
       "  </tbody>\n",
       "</table>\n",
       "</div>"
      ],
      "text/plain": [
       "                                           documents  \\\n",
       "0  One of the premier challenges in energy resear...   \n",
       "1  Wireless has quickly become an irreplaceable m...   \n",
       "2  The Hall thruster is a type of plasma propulsi...   \n",
       "3  A review of the literature on the educational ...   \n",
       "4  Two value of information (VOI) methodologies f...   \n",
       "\n",
       "                                   documents_cleaned  \n",
       "0  one premier challenges energy research develop...  \n",
       "1  wireless quickly become irreplaceable medium c...  \n",
       "2  hall thruster type plasma propulsion system sp...  \n",
       "3  review literature educational applications imm...  \n",
       "4  two value information  voi  methodologies spat...  "
      ]
     },
     "execution_count": 8,
     "metadata": {},
     "output_type": "execute_result"
    }
   ],
   "source": [
    "documents_df.head()"
   ]
  },
  {
   "cell_type": "markdown",
   "metadata": {},
   "source": [
    "## Term Frequency - Inverse Document Frequency (tf-idf)\n",
    "Create tf-idf vectors from the [sklearn](https://scikit-learn.org/stable/index.html) project for the documents."
   ]
  },
  {
   "cell_type": "code",
   "execution_count": 30,
   "metadata": {},
   "outputs": [],
   "source": [
    "tfidfvectorizer = TfidfVectorizer()\n",
    "tfidfvectorizer.fit(documents_df.documents_cleaned)\n",
    "tfidf_vectors = tfidfvectorizer.transform(documents_df.documents_cleaned)"
   ]
  },
  {
   "cell_type": "code",
   "execution_count": 10,
   "metadata": {},
   "outputs": [
    {
     "name": "stdout",
     "output_type": "stream",
     "text": [
      "  (0, 51)\t0.3075188831350197\n",
      "  (0, 40)\t0.06726067103770944\n",
      "  (0, 39)\t0.3843986039187746\n",
      "  (0, 38)\t0.45218504976746166\n",
      "  (0, 29)\t0.23063916235126475\n",
      "  (0, 27)\t0.11959911280817526\n",
      "  (0, 26)\t0.15375944156750984\n",
      "  (0, 25)\t0.6330590696744464\n",
      "  (0, 14)\t0.23063916235126475\n",
      "  (0, 11)\t0.05979955640408763\n"
     ]
    }
   ],
   "source": [
    "print(tfidf_vectors[-1])"
   ]
  },
  {
   "cell_type": "markdown",
   "metadata": {},
   "source": [
    "Creates two matrices for pairwise comparisons of similarities and differences"
   ]
  },
  {
   "cell_type": "code",
   "execution_count": 11,
   "metadata": {},
   "outputs": [],
   "source": [
    "pairwise_similarities=np.dot(tfidf_vectors,tfidf_vectors.T).toarray()\n",
    "pairwise_differences=euclidean_distances(tfidf_vectors)"
   ]
  },
  {
   "cell_type": "markdown",
   "metadata": {},
   "source": [
    "## Most Similar Function\n",
    "Function takes a document position, a matrix, and string title to generate a comparison between the document and the rest of the documents in the corpus."
   ]
  },
  {
   "cell_type": "code",
   "execution_count": 12,
   "metadata": {},
   "outputs": [],
   "source": [
    "def most_similar(doc_id: int, similarity_matrix: np.ndarray, matrix: str) -> None:\n",
    "    print(f\"Document: {documents_df.iloc[doc_id]['documents']}\\n\")\n",
    "    print(\"Similar Documents\")\n",
    "    if matrix.startswith(\"Cosine Similarity\"):\n",
    "        similar_index_array = np.argsort(similarity_matrix[doc_id])[::-1]\n",
    "    elif matrix.startswith(\"Euclidean Distance\"):\n",
    "        similar_index_array = np.argsort(similarity_matrix[doc_id])\n",
    "    for index_ in similar_index_array:\n",
    "        if index_ == doc_id:\n",
    "            continue\n",
    "        print(f\"\\nDocument: {documents_df.iloc[index_]['documents']}\")\n",
    "        print(f\"{matrix} : {similarity_matrix[doc_id][index_]}\")"
   ]
  },
  {
   "cell_type": "markdown",
   "metadata": {},
   "source": [
    "Compare the first document with the rest of the corpus using *Cosine Similarity* "
   ]
  },
  {
   "cell_type": "code",
   "execution_count": 13,
   "metadata": {
    "collapsed": true,
    "jupyter": {
     "outputs_hidden": true
    }
   },
   "outputs": [
    {
     "name": "stdout",
     "output_type": "stream",
     "text": [
      "Document: One of the premier challenges in energy research is the development of efficient methods to convert chemical fuels into useful forms of energy with reduced greenhouse gas emissions. The reversible electrodehydrogenation of liquid fuels, such as alcohols, would provide a means for the efficient release of energy and energy storage, if electrocatalysts that operate at the appropriate potentials can be developed. Currently, even the most highly optimized alcohol electrooxidation catalysts suffer from kinetic limitations that require high overpotentials to achieve reasonable rates despite significant effort in the design of heterogeneous methanol and isopropanol electrooxidation catalysts. With the perspective that the fundamental gaps in understanding of the energetic requirements of critical chemical steps for reversible electrodehydrogenation are the major impediments to further progress, mechanistic examination of the relevant chemical and electrochemical events of molecular complexes may illuminate the properties of a catalyst required to effect energy efficient conversion of chemical fuels. A new conceptual approach to the discovery of catalysts is proposed: The approximate thermoneutrality of chemical transfer hydrogenation catalysis implicates their catalysts as viable candidates for reversible electrodehdyrogenation catalysts. In transfer hydrogenation reactions, alcohols are oxidized with zero driving force, the thermodynamic equivalent of an electrochemically reversible alcohol oxidation at the thermodynamic potential of the alcohol. Ruthenium arene transfer hydrogenation catalysts are investigated for the electrooxidation of alcohols. They are shown to serve as active electrocatalytic precursors and exhibit rapid rates for alcohol oxidation when supported on electrodes in basic aqueous solution. The first examination of organometallic reactions and of species on electrode surfaces via desorption ionization electrospray mass spectrometry are performed. These studies provide support for the proposed electrocatalytic mechanism for alcohol oxidation by the Ru-arene complexes. Additionally, Ru transfer hydrogenation catalysts are shown to reversibly and catalytically oxidize methanol to methyl formate. Mechanistic studies of octahedral ruthenium transfer hydrogenation catalysts are carried out to gain insight into the types of homogeneous reaction mechanisms are amenable to translate into catalytic electrochemical mechanisms. The octahedral complexes are studied extensively by cyclic voltammetry; however, preparative electrolysis results in the presence of alcohols did not provide clear evidence for the electrooxidation of methanol or isopropanol. Possibilities for the absence of oxidation products are discussed as well as the challenges in developing molecular electrocatalysts, particularly in translating catalytic homogeneous two electron chemistry to heterogeneous one electron electrochemistry.\n",
      "\n",
      "Similar Documents\n",
      "\n",
      "Document: The Hall thruster is a type of plasma propulsion system for space vehicle applications. The thrust produced by this device is derived from the momentum of ions, which are accelerated to high exit velocities by the action of an electric field sustained within the plasma. The advantage of the Hall thruster compared to conventional chemical rocket propulsion is a significantly higher exhaust velocity, which leads to better utilization of propellant mass. Since the early days of Hall thruster research, experiments have suggested that the mobility of electrons along the axis of the thruster, perpendicular to an imposed magnetic field, is higher than can be explained by classical collision transfer processes alone. A lack of understanding regarding the mechanism for this enhanced mobility has proved a significant challenge toward the development of reliable simulations capable of predicting the performance of these devices. This thesis examines the role of high frequency plasma oscillations on the electron mobility using a combination of experimental studies on a laboratory Hall thruster, and numerical simulations capable of capturing these oscillations and quantifying their impact on the electron mobility. Two high frequency oscillations were consistently observed in the experiments: a 10MHz mode which appeared strongest in the vicinity of the anode, and a 4.5MHz mode which was strongest in the mid-channel region of the thruster. These were relatively low wave number (long wavelength) oscillations: approximately 6cm for the 4.5MHz oscillation and 3cm for the 10MHz oscillation. The angle of these waves varied considerably depending on the operating conditions of the thruster. They were found to be closely aligned to the axis of the thruster for experiments conducted with Xenon propellant, and were aligned with the circumference of the thruster (in the direction of electron drift) for experiments conducted with Krypton. A Hall thruster simulation, formulated in the axial-azimuthal coordinates of the thruster, was able to capture high frequency oscillations in reasonable agreement with experimental findings: 13MHz near the anode and 5MHz in the mid-channel region of the thruster for 160V discharge conditions. The simulation results demonstrated the crucial role of these oscillations in regulating the electron transport. In the vicinity of these oscillations the electron mobility was increased by a factor of five or more. The central finding of this thesis is that high frequency oscillations in the range 1 - 50MHz can account for the observed discrepancy between classical and experimental electron mobility in the Hall thruster.\n",
      "Cosine Similarity : 0.06936166079149621\n",
      "\n",
      "Document: A central goal of ecology is to understand the forces driving the distribution and abundance of organisms. However, understanding the population dynamics of high-dispersal species, their conservation, and the connections between population dynamics and evolution remains difficult. It is in this context that marine organisms provide a particularly intriguing and challenging study system. Their population dynamics are often highly stochastic, most species have a great ability to disperse, and as the last group of wild species exploited commercially, their ecology and evolution can be strongly influenced by human behavior. By using population genetics, modeling, and meta-analysis, this thesis investigates the spatial ecology of reef fish and the causes and evolutionary consequences of global fisheries collapse. One of the first challenges in understanding spatial population dynamics is obtaining accurate measurements of dispersal abilities. This has been especially difficult for marine species with pelagic larvae. In Chapter 1, I apply a new approach to measuring single-generation dispersal kernels in Clark's anemonefish (Amphiprion clarkii) in the central Philippines. After developing two methods for measuring the strength of local genetic drift, my results suggest that larval dispersal kernels in A. clarkii had a spread near 11 km (4-27 km). This study shows that ecologically relevant larval dispersal can be estimated with widely available genetic methods when effective density is measured carefully through cohort sampling and ecological censuses. In Chapter 2, I use dispersal kernels to develop a model for population openness. Openness refers to the degree to which populations are replenished by immigrants or by local production, a factor that has strong implications for population dynamics, species interactions, and response to exploitation. It is also a population trait that has been increasingly measured empirically, though we have until now lacked theory for predicting population openness. I show that considering habitat isolation elegantly explains the existence of surprisingly closed populations in high dispersal species, and that relatively closed populations are expected when patch spacing is more than twice the standard deviation of a species' dispersal kernel. In addition, empirical scales of habitat patchiness on coral reefs are sufficient to create both largely open and largely closed populations. We predict that habitat patchiness has strong control over population replenishment pathways for a wide range of marine and terrestrial species with a highly dispersive life stage. While the first tow chapters have strong implications for the design of regional marine protected areas, I turn to global conservation questions in Chapters 3 and 4. I first ask which marine fishes are most vulnerable to human impacts. Surveys of terrestrial species have suggested that large-bodied species and top predators are the most at risk, but there has been no global test of this hypothesis in the sea. Contrary to expectations, two datasets compiled from around the world suggest that up to twice as many fisheries for small, low trophic level species have collapsed as compared to those for large predators. I then show that collapsed and overfished species have lower genetic diversity than their close relatives. While the ecological and ecosystem impacts of harvesting wild populations have long been recognized, it has been controversial how widespread evolutionary impacts are. Using a meta-analytical approach across 37 taxonomically paired comparisons, I find on average 19% fewer alleles per locus in overfished species, but little difference in heterozygosity. I confirm with simulations that these results are consistent with a recent population bottleneck. These results suggest that the genetic impacts of overharvest are widespread, even among abundant species. A loss of allelic richness has implications for the long-term evolutionary potential of species.\n",
      "Cosine Similarity : 0.05990035840703914\n",
      "\n",
      "Document: Robotic haptics is a growing field that uses specially designed robotic devices as force-reflecting, human-computer interfaces in a variety of applications, from 3D modeling and gaming to telerobotic controllers and surgical simulation. While many types of haptic devices have been prototyped and studied, small, back-drivable, desktop devices such as the 3D Systems Phantoms and Force Dimension Omegas are by far the most common due to their commercial availability, relatively low cost, safety, and ease of use. However, stable and accurate rendering of high frequency signals on these impedance type haptic devices remains a challenge. Traditional control techniques rely on digital closed loop position feedback, which is not well suited to handling the high frequencies inherent in rigid contact simulation and the display of vibrations, transients, and textures. Further, the complex high frequency dynamics of the device act to distort and couple high frequency, multi-degree-of-freedom signals. In this dissertation, three control strategies are presented that improve the performance of impedance type devices at high frequencies, particularly during rigid contact simulation. The first utilizes a high bandwidth current loop at the motor amplifier level to add significant impedance to the device by leveraging the motor dynamics. This enables much higher stiffness rigid contacts, but requires a new high-level control framework for practical implementation. The second strategy layers on top of existing controllers and aims to provide a perception of rigid contact by stopping a user's momentum as quickly as possible through use of an impulse-generating switching controller. Finally, distortion and cross-coupling of high frequency signals are improved through a deconvolution-based, multi-DOF haptic device equalizer.\n",
      "Cosine Similarity : 0.042637906496419284\n",
      "\n",
      "Document: Wireless has quickly become an irreplaceable medium for communication, but by their very nature, wireless transmissions are vulnerable to RF interference from various sources. This weakness is a growing problem for technologies that operate in unlicensed frequency bands, as these bands are becoming more crowded over time. The increasing density of radios, coupled with the growing number of different protocols, dictates that future wireless devices will require the ability to coexist and operate in a crowded and often unregulated electromagnetic environment. This dissertation presents a set of architectures and mechanisms for wireless coexistence. These mechanisms are intended as general primitives, enabling future wireless networks to be architected such that they are aware of who their RF neighbors are, what they are doing, and how to respond to them. We design and develop two systems, each demonstrating how changes at different levels across the network stack can provide significant gains. Degrees Of Freedom (DOF) is a robust and accurate technique to detect activity in any band of the relevant spectrum, while Picasso is an extensible radio design which allows the device to more easily exploit the fragmented bands which are available. This dissertation contributes to advancing the state of the art in wireless network design in multiple ways. First, the systems in this dissertation present novel algorithms that span signal processing, circuit design, and software systems. Not only do these algorithms enrich existing theory, they are designed with practical implementations in mind - helping to bridge the gap between theory and practice. Second, we present prototype implementations and testbed evaluations of our systems. Our results demonstrate that our systems deliver significantly improved performance in crowded interferencecentric environments, compared to the state-of-the-art. Finally, the work in this dissertation demonstrates that by having layers work cooperatively, rather than in isolation, common goals of high throughput and reliability in dense interference scenarios are much more practical to achieve. In particular, DOF demonstrates that more fine-grained information passed between the PHY and the MAC enables the MAC to make more informed and intelligent decisions regarding how to respond to the varying sources of interference. In the same vain, Picasso demonstrates that increased RF isolation can significantly lessen the burden on PHY filtering and MAC coordination - similarly allowing the three to share in the task of exploiting fragmented spectrum. We believe that the systems in this dissertation make a compelling and strong argument for cross-layer interdisciplinary wireless network design in order to solve the problems of wireless coexistence.\n",
      "Cosine Similarity : 0.02873184282036661\n",
      "\n",
      "Document: Two value of information (VOI) methodologies for spatial Earth problems are proposed. VOI is a tool to determine whether purchasing a new information source would improve a decision-maker's chances of taking the optimal action. These actions represent alternatives to spatial decisions regarding the sustainability of aquifers or enhanced recovery of oil or minerals. These decisions are difficult due to uncertainty in the Earth properties and the predictions made from Earth models. The risk of making poor decisions due to this uncertainty may justify the collection of more information. Both the prior geologic uncertainty and the information reliability must be quantified before the data are collected to estimate the VOI, making it challenging to obtain. A flexible prior geologic uncertainty modeling scheme is presented that allows for the inclusion of many types of spatial parameters and used for both VOI methodologies. In the first methodology, we describe how to obtain a physics-based reliability measure by simulating the geophysical measurement on the generated prior models and interpreting the simulated data. Repeating this simulation and interpretation for all datasets, a table can be obtained that describes how many times a correct or false interpretation was made by comparing them to their respective original model. This table is the reliability measure, which is required for the VOI calculation. An example VOI calculation is demonstrated for a spatial decision related to aquifer recharge where two geophysical techniques are considered for their ability to resolve channel orientations. As necessitated by spatial problems, this methodology preserves the structure, influence and dependence of spatial variables through the prior geological modeling and the explicit geophysical simulations and interpretations. The focus of the second methodology is to 1) represent the uncertainty of a dynamic response of the unknown subsurface, 2) provide a quantitative data reliability and 3) use both of these to propose a VOI workflow for spatial decisions and data. The dynamic response of the subsurface is the result of some stress or perturbation (which is either important for or representing the decision action) and the geologic spatial heterogeneity. Prior models are used to capture the prior uncertainty of the dynamic response. Geostatistical simulation and a dynamic simulation function are both used to actualize the data reliability. The geostatistical simulation requires a likelihood function. Likelihood functions describe a particular data attribute's discrimination ability of the key geologic indicators (deemed to influence the decision outcome). The geostatistical simulation creates Earth models conditioned to the synthetic geophysical data, thereby representing possible interpretations that could be made if the information was purchased. Using these prior and conditioned models' dynamic responses, a VOI workflow is proposed for dynamic spatial problems. Specifically, two VOI calculations were determined using two different likelihoods. This thesis contributes VOI methodologies that incorporate the spatial element into Earth science decisions. Previous VOI studies ignored the spatial dimension. Spatial modeling is included in the prior model uncertainty and in both proposed information reliability methodologies. In the first method, the spatial aspect is included by simulating the interpretation of a geophysical image. The second method proposes geostatistical simulation to represent the variability in the geophysical message and how geophysics could resolve the static properties which influence a dynamic response. These methods for obtaining spatial data reliability and consequently a VOI estimate will become increasingly important with changing uncertainties and risks regarding decisions related to the management of our natural resources.\n",
      "Cosine Similarity : 0.02341932365436182\n",
      "\n",
      "Document: A review of the literature on the educational applications of immersive virtual reality and similar immersive digital environments suggests a framework for the disparate affordances of these technologies in learning environments. In collaboration with classroom teachers, we apply a subset of these affordances to design and deploy an immersive virtual reality experience to teach students about ocean acidification. We examined the effectiveness of this virtual experience on both students' knowledge of ocean acidification and feelings towards the environment, as well as the interactions of the virtual experience with a real ocean exploration. Results of this study show that virtual reality can be an effective way of teaching students about ocean acidification, but that some of that efficacy may be lost in real-world use. Two followup studies in a laboratory setting explore the effect of the learner's self-avatar on the efficacy of the learning environment, and show a link between a learner's feeling of presence in a virtual world and their change in environmental attitude.\n",
      "Cosine Similarity : 0.02148322742818382\n",
      "\n",
      "Document: This dissertation examines the consequences of economic globalization for organizations and the corporate elites through an investigation of recent transformations in the Finnish corporate governance system since the early 1990s. The core thesis of this dissertation is that globalization encourages diversity in organizational forms rather than convergence. Globalization is not a sweeping trend that affects all states and organizations in the same way or to the same extent. In drafting public policies, governments try to strike a balance between global pressures and political and ideological preferences, and competing demands of different stakeholders. Similarly, organizations respond to global pressures in unique ways by recombining foreign elements with already available templates and scripts to create new, blended forms and unique configurations of the old. To capture transformations in the systems of governance, I focus on changes in three distinct layers of economic life: organizational practices and structures, managerial rhetoric, and political discourse around issues of ownership and control. I show how the rhetoric of shareholder value permeated the managerial and political discourse in Finland, and document how Anglo-American governance practices diffused among Finnish corporations. Although many governance practices associated with the American model have spread widely among Finnish firms, none of them have diffused throughout the entire corporate population. Similarly, although shareholder value rhetoric has become increasingly common, it has not entirely replaced the old rhetoric emphasizing the importance of all stakeholders. Thus, globalization has not entailed a clean transition from one homogeneous environment to another, as suggested by convergence theorists. Instead, globalization has lead to the emergence of a heterogeneous order, in which some firms stayed true to the stakeholder model, some aligned both their rhetoric and practices with the shareholder value concept, and some mixed and matched elements from both.\n",
      "Cosine Similarity : 0.003827239175971425\n",
      "\n",
      "Document: The signaling pathways and functions that the four Numb-associated kinases (NAK) regulate are largely unknown. We reported that AAK1 and GAK control intracellular trafficking of RNA viruses. Nevertheless, the role of BIKE and STK16 in viral infection remained unknown. We reveal a requirement for BIKE in dengue virus (DENV) entry and assembly/egress. To identify BIKE substrates, we conducted a barcode fusion genetics-Yeast 2-Hybrid screen and retrieved publicly available data generated via affinity-purification mass spectrometry. Nineteen of 47 putative interactors were validated via mammalian cell-based protein-protein interaction assays. CLINT1, a cargo-specific adaptor implicated in bidirectional Golgi-to-endosome trafficking, emerged as a predominant hit in both screens. BIKE catalyzes phosphorylation of a threonine 294 (T294) CLINT1 residue both in vitro and in cells. CLINT1 phosphorylation mediates its binding to the DENV nonstructural 3 protein and subsequently DENV assembly and egress. CLINT1 cotraffics with DENV particles via live-cell imaging and is involved in mediating BIKE's role in DENV infection. Our data indicate that additional interactors implicated in the host immune and stress responses and the ubiquitin proteasome system are candidate phosphorylation substrates of BIKE. Lastly, pharmacological compounds with potent anti-BIKE activity suppress DENV infection both in vitro and ex vivo, exhibit activity against the unrelated Ebola virus, and their mechanism of antiviral action is in part mediated by BIKE. These findings reveal cellular substrates and pathways regulated by the understudied BIKE, mechanism for CLINT1 regulation, and control of DENV infection via BIKE signaling, with potential implications for cell biology, virology, and host-targeted antiviral design\n",
      "Cosine Similarity : 0.002069086797853255\n",
      "\n",
      "Document: This dissertation explores the roots of modern American politics and policy of backlash towards Latino illegal immigration in late twentieth century California, the state with the largest Latino undocumented immigrant population. Drawing on research in dozens of largely untapped archival collections of local, state, and federal officials, agencies, and legislative bodies, and advocates, as well as published media, government, legal, and academic and think tank research sources, I explain evolving debates over labor market impacts, social and fiscal policy, federal immigration policy implementation, local and state immigration policy, and immigration law enforcement. I trace underexplored historical relationships between policymakers at various levels of government and diverse political advocates, political institutional and economic processes, legal developments, and political outcomes of policy shifts. I argue that from the early 1970s to the mid-1990s, Latino illegal immigration transformed from a predominantly liberal political issue into a conservative one in metropolitan California. Economic concerns, over labor market competition and increasingly over fiscal impacts, remained the core focus of debate yet conservatives increasingly seized upon and recast economic concerns in a cultural framework and embraced a cultural politics of illegal immigration law and order. The complex structure of modern American federalism made it extremely difficult to address California illegal immigration concerns, helping to fuel the political contentiousness of debate and fragmented local and state policymaking.\n",
      "Cosine Similarity : 0.0\n"
     ]
    }
   ],
   "source": [
    "most_similar(0, pairwise_similarities, 'Cosine Similarity')"
   ]
  },
  {
   "cell_type": "markdown",
   "metadata": {},
   "source": [
    "Compares the first document the rest of the corpus using *Euclidean Distance*"
   ]
  },
  {
   "cell_type": "code",
   "execution_count": 14,
   "metadata": {
    "collapsed": true,
    "jupyter": {
     "outputs_hidden": true
    }
   },
   "outputs": [
    {
     "name": "stdout",
     "output_type": "stream",
     "text": [
      "Document: One of the premier challenges in energy research is the development of efficient methods to convert chemical fuels into useful forms of energy with reduced greenhouse gas emissions. The reversible electrodehydrogenation of liquid fuels, such as alcohols, would provide a means for the efficient release of energy and energy storage, if electrocatalysts that operate at the appropriate potentials can be developed. Currently, even the most highly optimized alcohol electrooxidation catalysts suffer from kinetic limitations that require high overpotentials to achieve reasonable rates despite significant effort in the design of heterogeneous methanol and isopropanol electrooxidation catalysts. With the perspective that the fundamental gaps in understanding of the energetic requirements of critical chemical steps for reversible electrodehydrogenation are the major impediments to further progress, mechanistic examination of the relevant chemical and electrochemical events of molecular complexes may illuminate the properties of a catalyst required to effect energy efficient conversion of chemical fuels. A new conceptual approach to the discovery of catalysts is proposed: The approximate thermoneutrality of chemical transfer hydrogenation catalysis implicates their catalysts as viable candidates for reversible electrodehdyrogenation catalysts. In transfer hydrogenation reactions, alcohols are oxidized with zero driving force, the thermodynamic equivalent of an electrochemically reversible alcohol oxidation at the thermodynamic potential of the alcohol. Ruthenium arene transfer hydrogenation catalysts are investigated for the electrooxidation of alcohols. They are shown to serve as active electrocatalytic precursors and exhibit rapid rates for alcohol oxidation when supported on electrodes in basic aqueous solution. The first examination of organometallic reactions and of species on electrode surfaces via desorption ionization electrospray mass spectrometry are performed. These studies provide support for the proposed electrocatalytic mechanism for alcohol oxidation by the Ru-arene complexes. Additionally, Ru transfer hydrogenation catalysts are shown to reversibly and catalytically oxidize methanol to methyl formate. Mechanistic studies of octahedral ruthenium transfer hydrogenation catalysts are carried out to gain insight into the types of homogeneous reaction mechanisms are amenable to translate into catalytic electrochemical mechanisms. The octahedral complexes are studied extensively by cyclic voltammetry; however, preparative electrolysis results in the presence of alcohols did not provide clear evidence for the electrooxidation of methanol or isopropanol. Possibilities for the absence of oxidation products are discussed as well as the challenges in developing molecular electrocatalysts, particularly in translating catalytic homogeneous two electron chemistry to heterogeneous one electron electrochemistry.\n",
      "\n",
      "Similar Documents\n",
      "\n",
      "Document: The Hall thruster is a type of plasma propulsion system for space vehicle applications. The thrust produced by this device is derived from the momentum of ions, which are accelerated to high exit velocities by the action of an electric field sustained within the plasma. The advantage of the Hall thruster compared to conventional chemical rocket propulsion is a significantly higher exhaust velocity, which leads to better utilization of propellant mass. Since the early days of Hall thruster research, experiments have suggested that the mobility of electrons along the axis of the thruster, perpendicular to an imposed magnetic field, is higher than can be explained by classical collision transfer processes alone. A lack of understanding regarding the mechanism for this enhanced mobility has proved a significant challenge toward the development of reliable simulations capable of predicting the performance of these devices. This thesis examines the role of high frequency plasma oscillations on the electron mobility using a combination of experimental studies on a laboratory Hall thruster, and numerical simulations capable of capturing these oscillations and quantifying their impact on the electron mobility. Two high frequency oscillations were consistently observed in the experiments: a 10MHz mode which appeared strongest in the vicinity of the anode, and a 4.5MHz mode which was strongest in the mid-channel region of the thruster. These were relatively low wave number (long wavelength) oscillations: approximately 6cm for the 4.5MHz oscillation and 3cm for the 10MHz oscillation. The angle of these waves varied considerably depending on the operating conditions of the thruster. They were found to be closely aligned to the axis of the thruster for experiments conducted with Xenon propellant, and were aligned with the circumference of the thruster (in the direction of electron drift) for experiments conducted with Krypton. A Hall thruster simulation, formulated in the axial-azimuthal coordinates of the thruster, was able to capture high frequency oscillations in reasonable agreement with experimental findings: 13MHz near the anode and 5MHz in the mid-channel region of the thruster for 160V discharge conditions. The simulation results demonstrated the crucial role of these oscillations in regulating the electron transport. In the vicinity of these oscillations the electron mobility was increased by a factor of five or more. The central finding of this thesis is that high frequency oscillations in the range 1 - 50MHz can account for the observed discrepancy between classical and experimental electron mobility in the Hall thruster.\n",
      "Euclidean Distance : 1.36428614242651\n",
      "\n",
      "Document: A central goal of ecology is to understand the forces driving the distribution and abundance of organisms. However, understanding the population dynamics of high-dispersal species, their conservation, and the connections between population dynamics and evolution remains difficult. It is in this context that marine organisms provide a particularly intriguing and challenging study system. Their population dynamics are often highly stochastic, most species have a great ability to disperse, and as the last group of wild species exploited commercially, their ecology and evolution can be strongly influenced by human behavior. By using population genetics, modeling, and meta-analysis, this thesis investigates the spatial ecology of reef fish and the causes and evolutionary consequences of global fisheries collapse. One of the first challenges in understanding spatial population dynamics is obtaining accurate measurements of dispersal abilities. This has been especially difficult for marine species with pelagic larvae. In Chapter 1, I apply a new approach to measuring single-generation dispersal kernels in Clark's anemonefish (Amphiprion clarkii) in the central Philippines. After developing two methods for measuring the strength of local genetic drift, my results suggest that larval dispersal kernels in A. clarkii had a spread near 11 km (4-27 km). This study shows that ecologically relevant larval dispersal can be estimated with widely available genetic methods when effective density is measured carefully through cohort sampling and ecological censuses. In Chapter 2, I use dispersal kernels to develop a model for population openness. Openness refers to the degree to which populations are replenished by immigrants or by local production, a factor that has strong implications for population dynamics, species interactions, and response to exploitation. It is also a population trait that has been increasingly measured empirically, though we have until now lacked theory for predicting population openness. I show that considering habitat isolation elegantly explains the existence of surprisingly closed populations in high dispersal species, and that relatively closed populations are expected when patch spacing is more than twice the standard deviation of a species' dispersal kernel. In addition, empirical scales of habitat patchiness on coral reefs are sufficient to create both largely open and largely closed populations. We predict that habitat patchiness has strong control over population replenishment pathways for a wide range of marine and terrestrial species with a highly dispersive life stage. While the first tow chapters have strong implications for the design of regional marine protected areas, I turn to global conservation questions in Chapters 3 and 4. I first ask which marine fishes are most vulnerable to human impacts. Surveys of terrestrial species have suggested that large-bodied species and top predators are the most at risk, but there has been no global test of this hypothesis in the sea. Contrary to expectations, two datasets compiled from around the world suggest that up to twice as many fisheries for small, low trophic level species have collapsed as compared to those for large predators. I then show that collapsed and overfished species have lower genetic diversity than their close relatives. While the ecological and ecosystem impacts of harvesting wild populations have long been recognized, it has been controversial how widespread evolutionary impacts are. Using a meta-analytical approach across 37 taxonomically paired comparisons, I find on average 19% fewer alleles per locus in overfished species, but little difference in heterozygosity. I confirm with simulations that these results are consistent with a recent population bottleneck. These results suggest that the genetic impacts of overharvest are widespread, even among abundant species. A loss of allelic richness has implications for the long-term evolutionary potential of species.\n",
      "Euclidean Distance : 1.3712035892550463\n",
      "\n",
      "Document: Robotic haptics is a growing field that uses specially designed robotic devices as force-reflecting, human-computer interfaces in a variety of applications, from 3D modeling and gaming to telerobotic controllers and surgical simulation. While many types of haptic devices have been prototyped and studied, small, back-drivable, desktop devices such as the 3D Systems Phantoms and Force Dimension Omegas are by far the most common due to their commercial availability, relatively low cost, safety, and ease of use. However, stable and accurate rendering of high frequency signals on these impedance type haptic devices remains a challenge. Traditional control techniques rely on digital closed loop position feedback, which is not well suited to handling the high frequencies inherent in rigid contact simulation and the display of vibrations, transients, and textures. Further, the complex high frequency dynamics of the device act to distort and couple high frequency, multi-degree-of-freedom signals. In this dissertation, three control strategies are presented that improve the performance of impedance type devices at high frequencies, particularly during rigid contact simulation. The first utilizes a high bandwidth current loop at the motor amplifier level to add significant impedance to the device by leveraging the motor dynamics. This enables much higher stiffness rigid contacts, but requires a new high-level control framework for practical implementation. The second strategy layers on top of existing controllers and aims to provide a perception of rigid contact by stopping a user's momentum as quickly as possible through use of an impulse-generating switching controller. Finally, distortion and cross-coupling of high frequency signals are improved through a deconvolution-based, multi-DOF haptic device equalizer.\n",
      "Euclidean Distance : 1.3837355914361535\n",
      "\n",
      "Document: Wireless has quickly become an irreplaceable medium for communication, but by their very nature, wireless transmissions are vulnerable to RF interference from various sources. This weakness is a growing problem for technologies that operate in unlicensed frequency bands, as these bands are becoming more crowded over time. The increasing density of radios, coupled with the growing number of different protocols, dictates that future wireless devices will require the ability to coexist and operate in a crowded and often unregulated electromagnetic environment. This dissertation presents a set of architectures and mechanisms for wireless coexistence. These mechanisms are intended as general primitives, enabling future wireless networks to be architected such that they are aware of who their RF neighbors are, what they are doing, and how to respond to them. We design and develop two systems, each demonstrating how changes at different levels across the network stack can provide significant gains. Degrees Of Freedom (DOF) is a robust and accurate technique to detect activity in any band of the relevant spectrum, while Picasso is an extensible radio design which allows the device to more easily exploit the fragmented bands which are available. This dissertation contributes to advancing the state of the art in wireless network design in multiple ways. First, the systems in this dissertation present novel algorithms that span signal processing, circuit design, and software systems. Not only do these algorithms enrich existing theory, they are designed with practical implementations in mind - helping to bridge the gap between theory and practice. Second, we present prototype implementations and testbed evaluations of our systems. Our results demonstrate that our systems deliver significantly improved performance in crowded interferencecentric environments, compared to the state-of-the-art. Finally, the work in this dissertation demonstrates that by having layers work cooperatively, rather than in isolation, common goals of high throughput and reliability in dense interference scenarios are much more practical to achieve. In particular, DOF demonstrates that more fine-grained information passed between the PHY and the MAC enables the MAC to make more informed and intelligent decisions regarding how to respond to the varying sources of interference. In the same vain, Picasso demonstrates that increased RF isolation can significantly lessen the burden on PHY filtering and MAC coordination - similarly allowing the three to share in the task of exploiting fragmented spectrum. We believe that the systems in this dissertation make a compelling and strong argument for cross-layer interdisciplinary wireless network design in order to solve the problems of wireless coexistence.\n",
      "Euclidean Distance : 1.3937490141195679\n",
      "\n",
      "Document: Two value of information (VOI) methodologies for spatial Earth problems are proposed. VOI is a tool to determine whether purchasing a new information source would improve a decision-maker's chances of taking the optimal action. These actions represent alternatives to spatial decisions regarding the sustainability of aquifers or enhanced recovery of oil or minerals. These decisions are difficult due to uncertainty in the Earth properties and the predictions made from Earth models. The risk of making poor decisions due to this uncertainty may justify the collection of more information. Both the prior geologic uncertainty and the information reliability must be quantified before the data are collected to estimate the VOI, making it challenging to obtain. A flexible prior geologic uncertainty modeling scheme is presented that allows for the inclusion of many types of spatial parameters and used for both VOI methodologies. In the first methodology, we describe how to obtain a physics-based reliability measure by simulating the geophysical measurement on the generated prior models and interpreting the simulated data. Repeating this simulation and interpretation for all datasets, a table can be obtained that describes how many times a correct or false interpretation was made by comparing them to their respective original model. This table is the reliability measure, which is required for the VOI calculation. An example VOI calculation is demonstrated for a spatial decision related to aquifer recharge where two geophysical techniques are considered for their ability to resolve channel orientations. As necessitated by spatial problems, this methodology preserves the structure, influence and dependence of spatial variables through the prior geological modeling and the explicit geophysical simulations and interpretations. The focus of the second methodology is to 1) represent the uncertainty of a dynamic response of the unknown subsurface, 2) provide a quantitative data reliability and 3) use both of these to propose a VOI workflow for spatial decisions and data. The dynamic response of the subsurface is the result of some stress or perturbation (which is either important for or representing the decision action) and the geologic spatial heterogeneity. Prior models are used to capture the prior uncertainty of the dynamic response. Geostatistical simulation and a dynamic simulation function are both used to actualize the data reliability. The geostatistical simulation requires a likelihood function. Likelihood functions describe a particular data attribute's discrimination ability of the key geologic indicators (deemed to influence the decision outcome). The geostatistical simulation creates Earth models conditioned to the synthetic geophysical data, thereby representing possible interpretations that could be made if the information was purchased. Using these prior and conditioned models' dynamic responses, a VOI workflow is proposed for dynamic spatial problems. Specifically, two VOI calculations were determined using two different likelihoods. This thesis contributes VOI methodologies that incorporate the spatial element into Earth science decisions. Previous VOI studies ignored the spatial dimension. Spatial modeling is included in the prior model uncertainty and in both proposed information reliability methodologies. In the first method, the spatial aspect is included by simulating the interpretation of a geophysical image. The second method proposes geostatistical simulation to represent the variability in the geophysical message and how geophysics could resolve the static properties which influence a dynamic response. These methods for obtaining spatial data reliability and consequently a VOI estimate will become increasingly important with changing uncertainties and risks regarding decisions related to the management of our natural resources.\n",
      "Euclidean Distance : 1.397555491811068\n",
      "\n",
      "Document: A review of the literature on the educational applications of immersive virtual reality and similar immersive digital environments suggests a framework for the disparate affordances of these technologies in learning environments. In collaboration with classroom teachers, we apply a subset of these affordances to design and deploy an immersive virtual reality experience to teach students about ocean acidification. We examined the effectiveness of this virtual experience on both students' knowledge of ocean acidification and feelings towards the environment, as well as the interactions of the virtual experience with a real ocean exploration. Results of this study show that virtual reality can be an effective way of teaching students about ocean acidification, but that some of that efficacy may be lost in real-world use. Two followup studies in a laboratory setting explore the effect of the learner's self-avatar on the efficacy of the learning environment, and show a link between a learner's feeling of presence in a virtual world and their change in environmental attitude.\n",
      "Euclidean Distance : 1.3989401506653643\n",
      "\n",
      "Document: This dissertation examines the consequences of economic globalization for organizations and the corporate elites through an investigation of recent transformations in the Finnish corporate governance system since the early 1990s. The core thesis of this dissertation is that globalization encourages diversity in organizational forms rather than convergence. Globalization is not a sweeping trend that affects all states and organizations in the same way or to the same extent. In drafting public policies, governments try to strike a balance between global pressures and political and ideological preferences, and competing demands of different stakeholders. Similarly, organizations respond to global pressures in unique ways by recombining foreign elements with already available templates and scripts to create new, blended forms and unique configurations of the old. To capture transformations in the systems of governance, I focus on changes in three distinct layers of economic life: organizational practices and structures, managerial rhetoric, and political discourse around issues of ownership and control. I show how the rhetoric of shareholder value permeated the managerial and political discourse in Finland, and document how Anglo-American governance practices diffused among Finnish corporations. Although many governance practices associated with the American model have spread widely among Finnish firms, none of them have diffused throughout the entire corporate population. Similarly, although shareholder value rhetoric has become increasingly common, it has not entirely replaced the old rhetoric emphasizing the importance of all stakeholders. Thus, globalization has not entailed a clean transition from one homogeneous environment to another, as suggested by convergence theorists. Instead, globalization has lead to the emergence of a heterogeneous order, in which some firms stayed true to the stakeholder model, some aligned both their rhetoric and practices with the shareholder value concept, and some mixed and matched elements from both.\n",
      "Euclidean Distance : 1.41150470124901\n",
      "\n",
      "Document: The signaling pathways and functions that the four Numb-associated kinases (NAK) regulate are largely unknown. We reported that AAK1 and GAK control intracellular trafficking of RNA viruses. Nevertheless, the role of BIKE and STK16 in viral infection remained unknown. We reveal a requirement for BIKE in dengue virus (DENV) entry and assembly/egress. To identify BIKE substrates, we conducted a barcode fusion genetics-Yeast 2-Hybrid screen and retrieved publicly available data generated via affinity-purification mass spectrometry. Nineteen of 47 putative interactors were validated via mammalian cell-based protein-protein interaction assays. CLINT1, a cargo-specific adaptor implicated in bidirectional Golgi-to-endosome trafficking, emerged as a predominant hit in both screens. BIKE catalyzes phosphorylation of a threonine 294 (T294) CLINT1 residue both in vitro and in cells. CLINT1 phosphorylation mediates its binding to the DENV nonstructural 3 protein and subsequently DENV assembly and egress. CLINT1 cotraffics with DENV particles via live-cell imaging and is involved in mediating BIKE's role in DENV infection. Our data indicate that additional interactors implicated in the host immune and stress responses and the ubiquitin proteasome system are candidate phosphorylation substrates of BIKE. Lastly, pharmacological compounds with potent anti-BIKE activity suppress DENV infection both in vitro and ex vivo, exhibit activity against the unrelated Ebola virus, and their mechanism of antiviral action is in part mediated by BIKE. These findings reveal cellular substrates and pathways regulated by the understudied BIKE, mechanism for CLINT1 regulation, and control of DENV infection via BIKE signaling, with potential implications for cell biology, virology, and host-targeted antiviral design\n",
      "Euclidean Distance : 1.4127497394812336\n",
      "\n",
      "Document: This dissertation explores the roots of modern American politics and policy of backlash towards Latino illegal immigration in late twentieth century California, the state with the largest Latino undocumented immigrant population. Drawing on research in dozens of largely untapped archival collections of local, state, and federal officials, agencies, and legislative bodies, and advocates, as well as published media, government, legal, and academic and think tank research sources, I explain evolving debates over labor market impacts, social and fiscal policy, federal immigration policy implementation, local and state immigration policy, and immigration law enforcement. I trace underexplored historical relationships between policymakers at various levels of government and diverse political advocates, political institutional and economic processes, legal developments, and political outcomes of policy shifts. I argue that from the early 1970s to the mid-1990s, Latino illegal immigration transformed from a predominantly liberal political issue into a conservative one in metropolitan California. Economic concerns, over labor market competition and increasingly over fiscal impacts, remained the core focus of debate yet conservatives increasingly seized upon and recast economic concerns in a cultural framework and embraced a cultural politics of illegal immigration law and order. The complex structure of modern American federalism made it extremely difficult to address California illegal immigration concerns, helping to fuel the political contentiousness of debate and fragmented local and state policymaking.\n",
      "Euclidean Distance : 1.4142135623730951\n"
     ]
    }
   ],
   "source": [
    "most_similar(0, pairwise_differences, 'Euclidean Distance')"
   ]
  },
  {
   "cell_type": "code",
   "execution_count": 15,
   "metadata": {},
   "outputs": [
    {
     "name": "stdout",
     "output_type": "stream",
     "text": [
      "[[0.36407186 0.         0.58251497 0.30949434 0.         0.\n",
      "  0.         0.         0.04323869 0.         0.         0.\n",
      "  0.         0.         0.         0.12379774 0.36407186 0.04323869\n",
      "  0.         0.         0.         0.         0.         0.04323869\n",
      "  0.36407186 0.         0.         0.         0.         0.\n",
      "  0.         0.         0.         0.         0.         0.\n",
      "  0.04323869 0.         0.         0.         0.         0.\n",
      "  0.12379774 0.12971608 0.         0.         0.04323869 0.\n",
      "  0.         0.         0.06189887 0.         0.09629392 0.\n",
      "  0.         0.         0.30949434 0.03908881 0.         0.\n",
      "  0.         0.         0.         0.        ]]\n",
      "(10, 10)\n",
      "[1.         0.02873184 0.06936166 0.02148323 0.02341932 0.05990036\n",
      " 0.00382724 0.00206909 0.04263791 0.        ]\n"
     ]
    }
   ],
   "source": [
    "print(tfidf_vectors[0].toarray())\n",
    "print(pairwise_similarities.shape)\n",
    "print(pairwise_similarities[0][:])"
   ]
  },
  {
   "cell_type": "markdown",
   "metadata": {},
   "source": [
    "## Use Keras to Tokenize and Pad Documents\n",
    "Imports Keras [tokenizer](https://keras.io/api/preprocessing/text/#tokenizer-class) class and padding function to run on cleaned documents in the corpus. This creates two Numpy arrays, one for the tokenized documents, and the padded documents to make each one the same size."
   ]
  },
  {
   "cell_type": "code",
   "execution_count": 16,
   "metadata": {},
   "outputs": [],
   "source": [
    "from keras.preprocessing.text import Tokenizer\n",
    "from keras.preprocessing.sequence import pad_sequences\n",
    "\n",
    "tokenizer = Tokenizer()\n",
    "tokenizer.fit_on_texts(documents_df.documents_cleaned)\n",
    "tokenized_documents = tokenizer.texts_to_sequences(documents_df.documents_cleaned)\n",
    "tokenized_paded_documents = pad_sequences(tokenized_documents, maxlen=400, padding='post')\n",
    "vocab_size=len(tokenizer.word_index) + 1"
   ]
  },
  {
   "cell_type": "code",
   "execution_count": 17,
   "metadata": {},
   "outputs": [
    {
     "name": "stdout",
     "output_type": "stream",
     "text": [
      "[  14 1151 1152  438  112  439   73 1153  324  219  115   36 1154 1155\n",
      " 1156  220   39 1157  219 1158 1159    5 1160   74 1161  109 1162 1163\n",
      " 1164   67   39  440 1165 1166 1167 1168  441   84 1169 1170  442  443\n",
      " 1171 1172 1173   74  139 1174 1175 1176  444  445   44 1177  446   73\n",
      "  440   36   73  437   67   39   36   73   36  447 1178 1179 1180 1181\n",
      " 1182 1183  255  265  442 1184   24  441   24 1185   69  298  443 1186\n",
      "   24 1187   73 1188 1189  168    9  171    9  219  115   36 1190 1191\n",
      " 1192   24 1193 1194   45 1195  220   69  221  444  445 1196   64  446\n",
      "   44  419  403  195  448 1197 1198   64 1199 1200 1201   69  221  449\n",
      "  182 1202  449  439  115   36  447  162  434  348  438  112 1203  103\n",
      " 1204  102 1205  220  115   36  221  279 1206   24 1207  448  148   67\n",
      "   39 1208    0    0    0    0    0    0    0    0    0    0    0    0\n",
      "    0    0    0    0    0    0    0    0    0    0    0    0    0    0\n",
      "    0    0    0    0    0    0    0    0    0    0    0    0    0    0\n",
      "    0    0    0    0    0    0    0    0    0    0    0    0    0    0\n",
      "    0    0    0    0    0    0    0    0    0    0    0    0    0    0\n",
      "    0    0    0    0    0    0    0    0    0    0    0    0    0    0\n",
      "    0    0    0    0    0    0    0    0    0    0    0    0    0    0\n",
      "    0    0    0    0    0    0    0    0    0    0    0    0    0    0\n",
      "    0    0    0    0    0    0    0    0    0    0    0    0    0    0\n",
      "    0    0    0    0    0    0    0    0    0    0    0    0    0    0\n",
      "    0    0    0    0    0    0    0    0    0    0    0    0    0    0\n",
      "    0    0    0    0    0    0    0    0    0    0    0    0    0    0\n",
      "    0    0    0    0    0    0    0    0    0    0    0    0    0    0\n",
      "    0    0    0    0    0    0    0    0    0    0    0    0    0    0\n",
      "    0    0    0    0    0    0    0    0    0    0    0    0    0    0\n",
      "    0    0    0    0    0    0    0    0    0    0    0    0    0    0\n",
      "    0    0    0    0    0    0    0    0    0    0    0    0    0    0\n",
      "    0    0    0    0    0    0    0    0]\n"
     ]
    }
   ],
   "source": [
    "print(tokenized_paded_documents[-1])"
   ]
  },
  {
   "cell_type": "code",
   "execution_count": 18,
   "metadata": {},
   "outputs": [
    {
     "data": {
      "text/plain": [
       "1209"
      ]
     },
     "execution_count": 18,
     "metadata": {},
     "output_type": "execute_result"
    }
   ],
   "source": [
    "vocab_size"
   ]
  },
  {
   "cell_type": "markdown",
   "metadata": {},
   "source": [
    "# word2vec \n",
    "Uses the gensim library and a Google News pre-trained embedding. "
   ]
  },
  {
   "cell_type": "code",
   "execution_count": 19,
   "metadata": {},
   "outputs": [],
   "source": [
    "import gensim\n",
    "W2V_PATH = \"/Users/jpnelson/Downloads/GoogleNews-vectors-negative300.bin.gz\"\n",
    "mode_w2v = gensim.models.KeyedVectors.load_word2vec_format(W2V_PATH, binary=True)"
   ]
  },
  {
   "cell_type": "code",
   "execution_count": 20,
   "metadata": {},
   "outputs": [],
   "source": [
    "embedding_matrix = np.zeros((vocab_size, 300))"
   ]
  },
  {
   "cell_type": "code",
   "execution_count": 22,
   "metadata": {},
   "outputs": [
    {
     "data": {
      "text/plain": [
       "(1209, 300)"
      ]
     },
     "execution_count": 22,
     "metadata": {},
     "output_type": "execute_result"
    }
   ],
   "source": [
    "embedding_matrix.shape"
   ]
  },
  {
   "cell_type": "code",
   "execution_count": 23,
   "metadata": {},
   "outputs": [],
   "source": [
    "document_word_embeddings = np.zeros((len(tokenized_paded_documents), 400, 300))"
   ]
  },
  {
   "cell_type": "code",
   "execution_count": 24,
   "metadata": {},
   "outputs": [],
   "source": [
    "for i in range(len(tokenized_paded_documents)):\n",
    "    for j in range(len(tokenized_paded_documents[0])):\n",
    "        document_word_embeddings[i][j] = embedding_matrix[tokenized_paded_documents[i][j]]"
   ]
  },
  {
   "cell_type": "code",
   "execution_count": 25,
   "metadata": {},
   "outputs": [
    {
     "data": {
      "text/plain": [
       "(10, 400, 300)"
      ]
     },
     "execution_count": 25,
     "metadata": {},
     "output_type": "execute_result"
    }
   ],
   "source": [
    "document_word_embeddings.shape"
   ]
  },
  {
   "cell_type": "markdown",
   "metadata": {},
   "source": [
    "Creates a weighted word average using tf-idf weights to create a single vector to represent the document"
   ]
  },
  {
   "cell_type": "code",
   "execution_count": 31,
   "metadata": {},
   "outputs": [],
   "source": [
    "document_embeddings = np.zeros((len(tokenized_paded_documents), 300))\n",
    "words = tfidfvectorizer.get_feature_names()"
   ]
  },
  {
   "cell_type": "code",
   "execution_count": 48,
   "metadata": {
    "collapsed": true,
    "jupyter": {
     "outputs_hidden": true
    }
   },
   "outputs": [
    {
     "name": "stdout",
     "output_type": "stream",
     "text": [
      "1012 i=0 j=0\t850 i=0 j=1\t86 i=0 j=2\t692 i=0 j=3\t537 i=0 j=4\t829 i=0 j=5\t943 i=0 j=6\t1171 i=0 j=7\t638 i=0 j=8\t702 i=0 j=9\t146 i=0 j=10\t228 i=0 j=11\t185 i=0 j=12\t266 i=0 j=13\t1126 i=0 j=14\t94 i=0 j=15\t742 i=0 j=16\t501 i=0 j=17\t147 i=0 j=18\t791 i=0 j=19\t1041 i=0 j=20\t1134 i=0 j=21\t890 i=0 j=22\t1066 i=0 j=23\t517 i=0 j=24\t1205 i=0 j=25\t586 i=0 j=26\t644 i=0 j=27\t441 i=0 j=28\t953 i=0 j=29\t1031 i=0 j=30\t321 i=0 j=31\t1166 i=0 j=32\t693 i=0 j=33\t1139 i=0 j=34\t47 i=0 j=35\t77 i=0 j=36\t275 i=0 j=37\t176 i=0 j=38\t933 i=0 j=39\t945 i=0 j=40\t622 i=0 j=41\t270 i=0 j=42\t660 i=0 j=43\t654 i=0 j=44\t969 i=0 j=45\t874 i=0 j=46\t743 i=0 j=47\t414 i=0 j=48\t527 i=0 j=49\t112 i=0 j=50\t206 i=0 j=51\t858 i=0 j=52\t1133 i=0 j=53\t843 i=0 j=54\t926 i=0 j=55\t857 i=0 j=56\t675 i=0 j=57\t981 i=0 j=58\t309 i=0 j=59\t994 i=0 j=60\t1075 i=0 j=61\t428 i=0 j=62\t671 i=0 j=63\t165 i=0 j=64\t323 i=0 j=65\t128 i=0 j=66\t461 i=0 j=67\t488 i=0 j=68\t674 i=0 j=69\t507 i=0 j=70\t774 i=0 j=71\t745 i=0 j=72\t569 i=0 j=73\t563 i=0 j=74\t1163 i=0 j=75\t262 i=0 j=76\t905 i=0 j=77\t242 i=0 j=78\t1189 i=0 j=79\t628 i=0 j=80\t395 i=0 j=81\t272 i=0 j=82\t908 i=0 j=83\t811 i=0 j=84\t1038 i=0 j=85\t422 i=0 j=86\t415 i=0 j=87\t732 i=0 j=88\t792 i=0 j=89\t1108 i=0 j=90\t88 i=0 j=91\t727 i=0 j=92\t931 i=0 j=93\t570 i=0 j=94\t689 i=0 j=95\t296 i=0 j=96\t690 i=0 j=97\t1101 i=0 j=98\t1153 i=0 j=99\t962 i=0 j=100\t581 i=0 j=101\t141 i=0 j=102\t1131 i=0 j=103\t1024 i=0 j=104\t192 i=0 j=105\t506 i=0 j=106\t136 i=0 j=107\t551 i=0 j=108\t842 i=0 j=109\t626 i=0 j=110\t650 i=0 j=111\t1042 i=0 j=112\t11 i=0 j=113\t1056 i=0 j=114\t1087 i=0 j=115\t972 i=0 j=116\t911 i=0 j=117\t1168 i=0 j=118\t1005 i=0 j=119\t941 i=0 j=120\t596 i=0 j=121\t619 i=0 j=122\t344 i=0 j=123\t803 i=0 j=124\t220 i=0 j=125\t1070 i=0 j=126\t493 i=0 j=127\t301 i=0 j=128\t178 i=0 j=129\t667 i=0 j=130\t865 i=0 j=131\t1039 i=0 j=132\t523 i=0 j=133\t490 i=0 j=134\t484 i=0 j=135\t15 i=0 j=136\t249 i=0 j=137\t519 i=0 j=138\t1050 i=0 j=139\t847 i=0 j=140\t212 i=0 j=141\t1054 i=0 j=142\t1083 i=0 j=143\t868 i=0 j=144\t179 i=0 j=145\t1156 i=0 j=146\t300 i=0 j=147\t116 i=0 j=148\t335 i=0 j=149\t739 i=0 j=150\t730 i=0 j=151\t264 i=0 j=152\t819 i=0 j=153\t172 i=0 j=154\t376 i=0 j=155\t391 i=0 j=156\t37 i=0 j=157\t541 i=0 j=158\t592 i=0 j=159\t684 i=0 j=160\t856 i=0 j=161\t378 i=0 j=162\t297 i=0 j=163\t711 i=0 j=164\t992 i=0 j=165\t534 i=0 j=166\t72 i=0 j=167\t920 i=0 j=168\t108 i=0 j=169\t682 i=0 j=170\t311 i=0 j=171\t558 i=0 j=172\t261 i=0 j=173\t866 i=0 j=174\t710 i=0 j=175\t848 i=0 j=176\t397 i=0 j=177\t755 i=0 j=178\t752 i=0 j=179\t1164 i=0 j=180\t659 i=0 j=181\t665 i=0 j=182\t1107 i=0 j=183\t839 i=0 j=184\t158 i=0 j=185\t545 i=0 j=186\t154 i=0 j=187\t770 i=0 j=188\t929 i=0 j=189\t627 i=0 j=190\t965 i=0 j=191\t1196 i=0 j=192\t917 i=0 j=193\t434 i=0 j=194\t125 i=0 j=195\t1073 i=0 j=196\t1094 i=0 j=197\t1002 i=0 j=198\t486 i=0 j=199\t221 i=0 j=200\t359 i=0 j=201\t313 i=0 j=202\t177 i=0 j=203\t973 i=0 j=204\t939 i=0 j=205\t830 i=0 j=206\t374 i=0 j=207\t818 i=0 j=208\t368 i=0 j=209\t1194 i=0 j=210\t1198 i=0 j=211\t678 i=0 j=212\t776 i=0 j=213\t879 i=0 j=214\t940 i=0 j=215\t670 i=0 j=216\t218 i=0 j=217\t1137 i=0 j=218\t1207 i=0 j=219\t831 i=0 j=220\t915 i=0 j=221\t271 i=0 j=222\t34 i=0 j=223\t1146 i=0 j=224\t431 i=0 j=225\t925 i=0 j=226\t645 i=0 j=227\t405 i=0 j=228\t485 i=0 j=229\t451 i=0 j=230\t606 i=0 j=231\t691 i=0 j=232\t621 i=0 j=233\t893 i=0 j=234\t403 i=0 j=235\t208 i=0 j=236\t982 i=0 j=237\t768 i=0 j=238\t1109 i=0 j=239\t1059 i=0 j=240\t361 i=0 j=241\t1128 i=0 j=242\t555 i=0 j=243\t1148 i=0 j=244\t388 i=0 j=245\t798 i=0 j=246\t477 i=0 j=247\t291 i=0 j=248\t142 i=0 j=249\t696 i=0 j=250\t449 i=0 j=251\t1132 i=0 j=252\t464 i=0 j=253\t530 i=0 j=254\t10 i=0 j=255\t342 i=0 j=256\t652 i=0 j=257\t448 i=0 j=258\t1176 i=0 j=259\t101 i=0 j=260\t29 i=0 j=261\t1149 i=0 j=262\t796 i=0 j=263\t385 i=0 j=264\t577 i=0 j=265\t603 i=0 j=266\t966 i=0 j=267\t602 i=0 j=268\t317 i=0 j=269\t155 i=0 j=270\t574 i=0 j=271\t1021 i=0 j=272\t609 i=0 j=273\t257 i=0 j=274\t35 i=0 j=275\t780 i=0 j=276\t679 i=0 j=277\t714 i=0 j=278\t636 i=0 j=279\t338 i=0 j=280\t766 i=0 j=281\t12 i=0 j=282\t277 i=0 j=283\t1103 i=0 j=284\t512 i=0 j=285\t470 i=0 j=286\t580 i=0 j=287\t734 i=0 j=288\t804 i=0 j=289\t263 i=0 j=290\t463 i=0 j=291\t252 i=0 j=292\t222 i=0 j=293\t1186 i=0 j=294\t888 i=0 j=295\t53 i=0 j=296\t27 i=0 j=297\t557 i=0 j=298\t937 i=0 j=299\t85 i=0 j=300\t102 i=0 j=301\t413 i=0 j=302\t320 i=0 j=303\t363 i=0 j=304\t686 i=0 j=305\t695 i=0 j=306\t412 i=0 j=307\t487 i=0 j=308\t703 i=0 j=309\t793 i=0 j=310\t539 i=0 j=311\t709 i=0 j=312\t23 i=0 j=313\t835 i=0 j=314\t900 i=0 j=315\t1121 i=0 j=316\t14 i=0 j=317\t974 i=0 j=318\t1127 i=0 j=319\t1147 i=0 j=320\t828 i=0 j=321\t1184 i=0 j=322\t399 i=0 j=323\t980 i=0 j=324\t145 i=0 j=325\t572 i=0 j=326\t1161 i=0 j=327\t956 i=0 j=328\t1160 i=0 j=329\t314 i=0 j=330\t1102 i=0 j=331\t239 i=0 j=332\t189 i=0 j=333\t32 i=0 j=334\t33 i=0 j=335\t168 i=0 j=336\t58 i=0 j=337\t1111 i=0 j=338\t584 i=0 j=339\t1080 i=0 j=340\t384 i=0 j=341\t863 i=0 j=342\t197 i=0 j=343\t69 i=0 j=344\t922 i=0 j=345\t706 i=0 j=346\t237 i=0 j=347\t327 i=0 j=348\t717 i=0 j=349\t329 i=0 j=350\t117 i=0 j=351\t471 i=0 j=352\t423 i=0 j=353\t789 i=0 j=354\t641 i=0 j=355\t225 i=0 j=356\t244 i=0 j=357\t234 i=0 j=358\t498 i=0 j=359\t542 i=0 j=360\t510 i=0 j=361\t494 i=0 j=362\t223 i=0 j=363\t505 i=0 j=364\t533 i=0 j=365\t560 i=0 j=366\t17 i=0 j=367\t653 i=0 j=368\t78 i=0 j=369\t514 i=0 j=370\t880 i=0 j=371\t807 i=0 j=372\t409 i=0 j=373\t948 i=0 j=374\t1202 i=0 j=375\t1046 i=0 j=376\t998 i=0 j=377\t456 i=0 j=378\t988 i=0 j=379\t891 i=0 j=380\t876 i=0 j=381\t288 i=0 j=382\t567 i=0 j=383\t950 i=0 j=384\t1045 i=0 j=385\t475 i=0 j=386\t46 i=0 j=387\t1178 i=0 j=388\t299 i=0 j=389\t594 i=0 j=390\t991 i=0 j=391\t985 i=0 j=392\t986 i=0 j=393\t1022 i=0 j=394\t87 i=0 j=395\t731 i=0 j=396\t153 i=0 j=397\t1150 i=0 j=398\t497 i=0 j=399\t851 i=0 j=400\t334 i=0 j=401\t864 i=0 j=402\t601 i=0 j=403\t226 i=0 j=404\t482 i=0 j=405\t535 i=0 j=406\t369 i=0 j=407\t199 i=0 j=408\t1175 i=0 j=409\t1077 i=0 j=410\t233 i=0 j=411\t716 i=0 j=412\t303 i=0 j=413\t773 i=0 j=414\t647 i=0 j=415\t245 i=0 j=416\t882 i=0 j=417\t276 i=0 j=418\t639 i=0 j=419\t916 i=0 j=420\t884 i=0 j=421\t183 i=0 j=422\t170 i=0 j=423\t95 i=0 j=424\t1174 i=0 j=425\t658 i=0 j=426\t881 i=0 j=427\t783 i=0 j=428\t585 i=0 j=429\t873 i=0 j=430\t838 i=0 j=431\t625 i=0 j=432\t720 i=0 j=433\t725 i=0 j=434\t1151 i=0 j=435\t582 i=0 j=436\t529 i=0 j=437\t955 i=0 j=438\t1204 i=0 j=439\t318 i=0 j=440\t769 i=0 j=441\t1106 i=0 j=442\t440 i=0 j=443\t1203 i=0 j=444\t1117 i=0 j=445\t729 i=0 j=446\t719 i=0 j=447\t932 i=0 j=448\t166 i=0 j=449\t620 i=0 j=450\t282 i=0 j=451\t930 i=0 j=452\t701 i=0 j=453\t315 i=0 j=454\t611 i=0 j=455\t979 i=0 j=456\t209 i=0 j=457\t416 i=0 j=458\t16 i=0 j=459\t446 i=0 j=460\t846 i=0 j=461\t375 i=0 j=462\t909 i=0 j=463\t699 i=0 j=464\t756 i=0 j=465\t195 i=0 j=466\t723 i=0 j=467\t129 i=0 j=468\t827 i=0 j=469\t968 i=0 j=470\t522 i=0 j=471\t119 i=0 j=472\t688 i=0 j=473\t681 i=0 j=474\t1006 i=0 j=475\t148 i=0 j=476\t182 i=0 j=477\t267 i=0 j=478\t433 i=0 j=479\t13 i=0 j=480\t1206 i=0 j=481\t118 i=0 j=482\t355 i=0 j=483\t358 i=0 j=484\t473 i=0 j=485\t1125 i=0 j=486\t1025 i=0 j=487\t259 i=0 j=488\t524 i=0 j=489\t576 i=0 j=490\t1013 i=0 j=491\t1097 i=0 j=492\t597 i=0 j=493\t474 i=0 j=494\t455 i=0 j=495\t565 i=0 j=496\t341 i=0 j=497\t1144 i=0 j=498\t855 i=0 j=499\t106 i=0 j=500\t372 i=0 j=501\t104 i=0 j=502\t782 i=0 j=503\t43 i=0 j=504\t816 i=0 j=505\t105 i=0 j=506\t66 i=0 j=507\t70 i=0 j=508\t825 i=0 j=509\t607 i=0 j=510\t1043 i=0 j=511\t110 i=0 j=512\t442 i=0 j=513\t959 i=0 j=514\t612 i=0 j=515\t834 i=0 j=516\t454 i=0 j=517\t837 i=0 j=518\t140 i=0 j=519\t203 i=0 j=520\t40 i=0 j=521\t1119 i=0 j=522\t215 i=0 j=523\t1090 i=0 j=524\t923 i=0 j=525\t279 i=0 j=526\t790 i=0 j=527\t122 i=0 j=528\t938 i=0 j=529\t1 i=0 j=530\t167 i=0 j=531\t121 i=0 j=532\t1181 i=0 j=533\t1048 i=0 j=534\t133 i=0 j=535\t427 i=0 j=536\t134 i=0 j=537\t198 i=0 j=538\t1027 i=0 j=539\t50 i=0 j=540\t913 i=0 j=541\t1023 i=0 j=542\t963 i=0 j=543\t810 i=0 j=544\t115 i=0 j=545\t483 i=0 j=546\t812 i=0 j=547\t1062 i=0 j=548\t180 i=0 j=549\t1159 i=0 j=550\t871 i=0 j=551\t36 i=0 j=552\t1067 i=0 j=553\t669 i=0 j=554\t44 i=0 j=555\t217 i=0 j=556\t480 i=0 j=557\t437 i=0 j=558\t278 i=0 j=559\t425 i=0 j=560\t491 i=0 j=561\t107 i=0 j=562\t989 i=0 j=563\t353 i=0 j=564\t656 i=0 j=565\t331 i=0 j=566\t280 i=0 j=567\t1143 i=0 j=568\t685 i=0 j=569\t364 i=0 j=570\t758 i=0 j=571\t806 i=0 j=572\t290 i=0 j=573\t553 i=0 j=574\t64 i=0 j=575\t1065 i=0 j=576\t795 i=0 j=577\t113 i=0 j=578\t194 i=0 j=579\t841 i=0 j=580\t28 i=0 j=581\t614 i=0 j=582\t1120 i=0 j=583\t525 i=0 j=584\t996 i=0 j=585\t1185 i=0 j=586\t615 i=0 j=587\t564 i=0 j=588\t1037 i=0 j=589\t325 i=0 j=590\t424 i=0 j=591\t630 i=0 j=592\t1095 i=0 j=593\t138 i=0 j=594\t604 i=0 j=595\t193 i=0 j=596\t349 i=0 j=597\t762 i=0 j=598\t1014 i=0 j=599\t832 i=0 j=600\t499 i=0 j=601\t844 i=0 j=602\t949 i=0 j=603\t1063 i=0 j=604\t513 i=0 j=605\t637 i=0 j=606\t543 i=0 j=607\t157 i=0 j=608\t231 i=0 j=609\t1193 i=0 j=610\t976 i=0 j=611\t751 i=0 j=612\t889 i=0 j=613\t200 i=0 j=614\t794 i=0 j=615\t1008 i=0 j=616\t467 i=0 j=617\t381 i=0 j=618\t718 i=0 j=619\t687 i=0 j=620\t444 i=0 j=621\t304 i=0 j=622\t661 i=0 j=623\t878 i=0 j=624\t392 i=0 j=625\t109 i=0 j=626\t1157 i=0 j=627\t853 i=0 j=628\t379 i=0 j=629\t836 i=0 j=630\t1071 i=0 j=631\t1154 i=0 j=632\t219 i=0 j=633\t447 i=0 j=634\t629 i=0 j=635\t156 i=0 j=636\t997 i=0 j=637\t649 i=0 j=638\t330 i=0 j=639\t322 i=0 j=640\t443 i=0 j=641\t1167 i=0 j=642\t618 i=0 j=643\t205 i=0 j=644\t265 i=0 j=645\t1135 i=0 j=646\t1192 i=0 j=647\t390 i=0 j=648\t357 i=0 j=649\t805 i=0 j=650\t468 i=0 j=651\t728 i=0 j=652\t457 i=0 j=653\t705 i=0 j=654\t936 i=0 j=655\t1061 i=0 j=656\t67 i=0 j=657\t935 i=0 j=658\t175 i=0 j=659\t432 i=0 j=660\t944 i=0 j=661\t722 i=0 j=662\t174 i=0 j=663\t919 i=0 j=664\t159 i=0 j=665\t103 i=0 j=666\t657 i=0 j=667\t479 i=0 j=668\t289 i=0 j=669\t738 i=0 j=670\t333 i=0 j=671\t1036 i=0 j=672\t822 i=0 j=673\t411 i=0 j=674\t61 i=0 j=675\t65 i=0 j=676\t445 i=0 j=677\t131 i=0 j=678\t1004 i=0 j=679\t126 i=0 j=680\t458 i=0 j=681\t339 i=0 j=682\t383 i=0 j=683\t761 i=0 j=684\t849 i=0 j=685\t377 i=0 j=686\t82 i=0 j=687\t83 i=0 j=688\t232 i=0 j=689\t1170 i=0 j=690\t1082 i=0 j=691\t1055 i=0 j=692\t1064 i=0 j=693\t544 i=0 j=694\t815 i=0 j=695\t373 i=0 j=696\t123 i=0 j=697\t365 i=0 j=698\t100 i=0 j=699\t191 i=0 j=700\t75 i=0 j=701\t521 i=0 j=702\t1195 i=0 j=703\t30 i=0 j=704\t171 i=0 j=705\t595 i=0 j=706\t748 i=0 j=707\t1003 i=0 j=708\t41 i=0 j=709\t306 i=0 j=710\t62 i=0 j=711\t60 i=0 j=712\t59 i=0 j=713\t438 i=0 j=714\t235 i=0 j=715\t293 i=0 j=716\t700 i=0 j=717\t436 i=0 j=718\t285 i=0 j=719\t435 i=0 j=720\t587 i=0 j=721\t753 i=0 j=722\t1009 i=0 j=723\t823 i=0 j=724\t546 i=0 j=725\t316 i=0 j=726\t778 i=0 j=727\t571 i=0 j=728\t144 i=0 j=729\t568 i=0 j=730\t1017 i=0 j=731\t48 i=0 j=732\t1033 i=0 j=733\t983 i=0 j=734\t1057 i=0 j=735\t588 i=0 j=736\t1007 i=0 j=737\t258 i=0 j=738\t666 i=0 j=739\t305 i=0 j=740\t336 i=0 j=741\t765 i=0 j=742\t366 i=0 j=743\t98 i=0 j=744\t248 i=0 j=745\t281 i=0 j=746\t1165 i=0 j=747\t260 i=0 j=748\t747 i=0 j=749\t410 i=0 j=750\t1105 i=0 j=751\t45 i=0 j=752\t896 i=0 j=753\t202 i=0 j=754\t120 i=0 j=755\t680 i=0 j=756\t741 i=0 j=757\t465 i=0 j=758\t162 i=0 j=759\t367 i=0 j=760\t404 i=0 j=761\t207 i=0 j=762\t509 i=0 j=763\t777 i=0 j=764\t772 i=0 j=765\t312 i=0 j=766\t21 i=0 j=767\t797 i=0 j=768\t1187 i=0 j=769\t398 i=0 j=770\t942 i=0 j=771\t469 i=0 j=772\t977 i=0 j=773\t81 i=0 j=774\t520 i=0 j=775\t495 i=0 j=776\t928 i=0 j=777\t759 i=0 j=778\t1081 i=0 j=779\t1060 i=0 j=780\t286 i=0 j=781\t135 i=0 j=782\t613 i=0 j=783\t885 i=0 j=784\t387 i=0 j=785\t204 i=0 j=786\t852 i=0 j=787\t934 i=0 j=788\t1140 i=0 j=789\t152 i=0 j=790\t515 i=0 j=791\t978 i=0 j=792\t655 i=0 j=793\t472 i=0 j=794\t787 i=0 j=795\t1104 i=0 j=796\t1072 i=0 j=797\t859 i=0 j=798\t214 i=0 j=799\t287 i=0 j=800\t760 i=0 j=801\t269 i=0 j=802\t164 i=0 j=803\t958 i=0 j=804\t73 i=0 j=805\t1183 i=0 j=806\t1208 i=0 j=807\t24 i=0 j=808\t439 i=0 j=809\t750 i=0 j=810\t5 i=0 j=811\t68 i=0 j=812\t1116 i=0 j=813\t536 i=0 j=814\t360 i=0 j=815\t1074 i=0 j=816\t130 i=0 j=817\t462 i=0 j=818\t150 i=0 j=819\t598 i=0 j=820\t111 i=0 j=821\t502 i=0 j=822\t394 i=0 j=823\t897 i=0 j=824\t302 i=0 j=825\t749 i=0 j=826\t1047 i=0 j=827\t1191 i=0 j=828\t964 i=0 j=829\t450 i=0 j=830\t532 i=0 j=831\t251 i=0 j=832\t274 i=0 j=833\t337 i=0 j=834\t561 i=0 j=835\t779 i=0 j=836\t406 i=0 j=837\t809 i=0 j=838\t566 i=0 j=839\t22 i=0 j=840\t549 i=0 j=841\t92 i=0 j=842\t298 i=0 j=843\t591 i=0 j=844\t635 i=0 j=845\t872 i=0 j=846\t538 i=0 j=847\t481 i=0 j=848\t294 i=0 j=849\t127 i=0 j=850\t785 i=0 j=851\t49 i=0 j=852\t813 i=0 j=853\t292 i=0 j=854\t1069 i=0 j=855\t904 i=0 j=856\t213 i=0 j=857\t556 i=0 j=858\t599 i=0 j=859\t1100 i=0 j=860\t662 i=0 j=861\t25 i=0 j=862\t957 i=0 j=863\t1030 i=0 j=864\t1169 i=0 j=865\t801 i=0 j=866\t736 i=0 j=867\t1032 i=0 j=868\t1034 i=0 j=869\t754 i=0 j=870\t668 i=0 j=871\t784 i=0 j=872\t907 i=0 j=873\t253 i=0 j=874\t583 i=0 j=875\t554 i=0 j=876\t319 i=0 j=877\t503 i=0 j=878\t230 i=0 j=879\t284 i=0 j=880\t526 i=0 j=881\t238 i=0 j=882\t326 i=0 j=883\t181 i=0 j=884\t229 i=0 j=885\t1201 i=0 j=886\t401 i=0 j=887\t775 i=0 j=888\t924 i=0 j=889\t967 i=0 j=890\t746 i=0 j=891\t453 i=0 j=892\t845 i=0 j=893\t894 i=0 j=894\t869 i=0 j=895\t1093 i=0 j=896\t90 i=0 j=897\t310 i=0 j=898\t903 i=0 j=899\t1010 i=0 j=900\t1084 i=0 j=901\t697 i=0 j=902\t1086 i=0 j=903\t345 i=0 j=904\t1182 i=0 j=905\t173 i=0 j=906\t921 i=0 j=907\t459 i=0 j=908\t124 i=0 j=909\t20 i=0 j=910\t664 i=0 j=911\t1115 i=0 j=912\t419 i=0 j=913\t370 i=0 j=914\t1113 i=0 j=915\t764 i=0 j=916\t987 i=0 j=917\t870 i=0 j=918\t898 i=0 j=919\t1011 i=0 j=920\t188 i=0 j=921\t354 i=0 j=922\t227 i=0 j=923\t236 i=0 j=924\t1020 i=0 j=925\t476 i=0 j=926\t356 i=0 j=927\t74 i=0 j=928\t1053 i=0 j=929\t347 i=0 j=930\t824 i=0 j=931\t771 i=0 j=932\t143 i=0 j=933\t63 i=0 j=934\t362 i=0 j=935\t786 i=0 j=936\t26 i=0 j=937\t1029 i=0 j=938\t420 i=0 j=939\t76 i=0 j=940\t518 i=0 j=941\t704 i=0 j=942\t137 i=0 j=943\t71 i=0 j=944\t946 i=0 j=945\t114 i=0 j=946\t332 i=0 j=947\t821 i=0 j=948\t1015 i=0 j=949\t429 i=0 j=950\t578 i=0 j=951\t646 i=0 j=952\t97 i=0 j=953\t1152 i=0 j=954\t247 i=0 j=955\t241 i=0 j=956\t1110 i=0 j=957\t867 i=0 j=958\t892 i=0 j=959\t610 i=0 j=960\t757 i=0 j=961\t808 i=0 j=962\t1028 i=0 j=963\t1049 i=0 j=964\t971 i=0 j=965\t914 i=0 j=966\t89 i=0 j=967\t1199 i=0 j=968\t726 i=0 j=969\t500 i=0 j=970\t562 i=0 j=971\t724 i=0 j=972\t623 i=0 j=973\t210 i=0 j=974\t1188 i=0 j=975\t56 i=0 j=976\t243 i=0 j=977\t862 i=0 j=978\t590 i=0 j=979\t417 i=0 j=980\t216 i=0 j=981\t79 i=0 j=982\t151 i=0 j=983\t707 i=0 j=984\t160 i=0 j=985\t763 i=0 j=986\t340 i=0 j=987\t7 i=0 j=988\t96 i=0 j=989\t295 i=0 j=990\t854 i=0 j=991\t396 i=0 j=992\t1177 i=0 j=993\t593 i=0 j=994\t508 i=0 j=995\t631 i=0 j=996\t737 i=0 j=997\t139 i=0 j=998\t632 i=0 j=999\t886 i=0 j=1000\t589 i=0 j=1001\t3 i=0 j=1002\t1092 i=0 j=1003\t2 i=0 j=1004\t1040 i=0 j=1005\t802 i=0 j=1006\t246 i=0 j=1007\t268 i=0 j=1008\t380 i=0 j=1009\t1112 i=0 j=1010\t575 i=0 j=1011\t901 i=0 j=1012\t1001 i=0 j=1013\t407 i=0 j=1014\t887 i=0 j=1015\t39 i=0 j=1016\t954 i=0 j=1017\t817 i=0 j=1018\t999 i=0 j=1019\t478 i=0 j=1020\t1136 i=0 j=1021\t1018 i=0 j=1022\t833 i=0 j=1023\t1141 i=0 j=1024\t460 i=0 j=1025\t1129 i=0 j=1026\t1138 i=0 j=1027\t860 i=0 j=1028\t352 i=0 j=1029\t961 i=0 j=1030\t91 i=0 j=1031\t307 i=0 j=1032\t840 i=0 j=1033\t348 i=0 j=1034\t975 i=0 j=1035\t184 i=0 j=1036\t250 i=0 j=1037\t52 i=0 j=1038\t186 i=0 j=1039\t1058 i=0 j=1040\t713 i=0 j=1041\t211 i=0 j=1042\t350 i=0 j=1043\t466 i=0 j=1044\t895 i=0 j=1045\t201 i=0 j=1046\t169 i=0 j=1047\t708 i=0 j=1048\t1118 i=0 j=1049\t516 i=0 j=1050\t504 i=0 j=1051\t1076 i=0 j=1052\t511 i=0 j=1053\t1099 i=0 j=1054\t883 i=0 j=1055\t910 i=0 j=1056\t744 i=0 j=1057\t642 i=0 j=1058\t951 i=0 j=1059\t1145 i=0 j=1060\t799 i=0 j=1061\t93 i=0 j=1062\t19 i=0 j=1063\t343 i=0 j=1064\t740 i=0 j=1065\t1173 i=0 j=1066\t1089 i=0 j=1067\t624 i=0 j=1068\t927 i=0 j=1069\t715 i=0 j=1070\t712 i=0 j=1071\t721 i=0 j=1072\t579 i=0 j=1073\t346 i=0 j=1074\t256 i=0 j=1075\t1098 i=0 j=1076\t970 i=0 j=1077\t947 i=0 j=1078\t389 i=0 j=1079\t912 i=0 j=1080\t600 i=0 j=1081\t1124 i=0 j=1082\t605 i=0 j=1083\t573 i=0 j=1084\t995 i=0 j=1085\t149 i=0 j=1086\t800 i=0 j=1087\t240 i=0 j=1088\t489 i=0 j=1089\t54 i=0 j=1090\t1172 i=0 j=1091\t877 i=0 j=1092\t161 i=0 j=1093\t1051 i=0 j=1094\t984 i=0 j=1095\t608 i=0 j=1096\t634 i=0 j=1097\t4 i=0 j=1098\t990 i=0 j=1099\t552 i=0 j=1100\t767 i=0 j=1101\t1044 i=0 j=1102\t733 i=0 j=1103\t393 i=0 j=1104\t902 i=0 j=1105\t663 i=0 j=1106\t324 i=0 j=1107\t1179 i=0 j=1108\t1114 i=0 j=1109\t418 i=0 j=1110\t875 i=0 j=1111\t38 i=0 j=1112\t402 i=0 j=1113\t1190 i=0 j=1114\t1123 i=0 j=1115\t993 i=0 j=1116\t528 i=0 j=1117\t540 i=0 j=1118\t547 i=0 j=1119\t698 i=0 j=1120\t952 i=0 j=1121\t918 i=0 j=1122\t1000 i=0 j=1123\t960 i=0 j=1124\t906 i=0 j=1125\t1155 i=0 j=1126\t386 i=0 j=1127\t8 i=0 j=1128\t163 i=0 j=1129\t132 i=0 j=1130\t1068 i=0 j=1131\t820 i=0 j=1132\t31 i=0 j=1133\t1180 i=0 j=1134\t826 i=0 j=1135\t80 i=0 j=1136\t1085 i=0 j=1137\t1158 i=0 j=1138\t408 i=0 j=1139\t196 i=0 j=1140\t550 i=0 j=1141\t559 i=0 j=1142\t1079 i=0 j=1143\t1162 i=0 j=1144\t1200 i=0 j=1145\t57 i=0 j=1146\t190 i=0 j=1147\t452 i=0 j=1148\t1142 i=0 j=1149\t1091 i=0 j=1150\t55 i=0 j=1151\t651 i=0 j=1152\t1130 i=0 j=1153\t617 i=0 j=1154\t1035 i=0 j=1155\t99 i=0 j=1156\t814 i=0 j=1157\t781 i=0 j=1158\t677 i=0 j=1159\t1096 i=0 j=1160\t255 i=0 j=1161\t616 i=0 j=1162\t633 i=0 j=1163\t640 i=0 j=1164\t648 i=0 j=1165\t51 i=0 j=1166\t492 i=0 j=1167\t1122 i=0 j=1168\t308 i=0 j=1169\t1019 i=0 j=1170\t1088 i=0 j=1171\t42 i=0 j=1172\t421 i=0 j=1173\t1016 i=0 j=1174\t426 i=0 j=1175\t1078 i=0 j=1176\t6 i=0 j=1177\t531 i=0 j=1178\t254 i=0 j=1179\t672 i=0 j=1180\t673 i=0 j=1181\t676 i=0 j=1182\t328 i=0 j=1183\t273 i=0 j=1184\t548 i=0 j=1185\t84 i=0 j=1186\t735 i=0 j=1187\t788 i=0 j=1188\t899 i=0 j=1189\t382 i=0 j=1190\t400 i=0 j=1191\t371 i=0 j=1192\t18 i=0 j=1193\t643 i=0 j=1194\t283 i=0 j=1195\t351 i=0 j=1196\t187 i=0 j=1197\t224 i=0 j=1198\t683 i=0 j=1199\t1026 i=0 j=1200\t1197 i=0 j=1201\t496 i=0 j=1202\t1012 i=1 j=0\t850 i=1 j=1\t86 i=1 j=2\t692 i=1 j=3\t537 i=1 j=4\t829 i=1 j=5\t943 i=1 j=6\t1171 i=1 j=7\t638 i=1 j=8\t702 i=1 j=9\t146 i=1 j=10\t228 i=1 j=11\t185 i=1 j=12\t266 i=1 j=13\t1126 i=1 j=14\t94 i=1 j=15\t742 i=1 j=16\t501 i=1 j=17\t147 i=1 j=18\t791 i=1 j=19\t1041 i=1 j=20\t1134 i=1 j=21\t890 i=1 j=22\t1066 i=1 j=23\t517 i=1 j=24\t1205 i=1 j=25\t586 i=1 j=26\t644 i=1 j=27\t441 i=1 j=28\t953 i=1 j=29\t1031 i=1 j=30\t321 i=1 j=31\t1166 i=1 j=32\t693 i=1 j=33\t1139 i=1 j=34\t47 i=1 j=35\t77 i=1 j=36\t275 i=1 j=37\t176 i=1 j=38\t933 i=1 j=39\t945 i=1 j=40\t622 i=1 j=41\t270 i=1 j=42\t660 i=1 j=43\t654 i=1 j=44\t969 i=1 j=45\t874 i=1 j=46\t743 i=1 j=47\t414 i=1 j=48\t527 i=1 j=49\t112 i=1 j=50\t206 i=1 j=51\t858 i=1 j=52\t1133 i=1 j=53\t843 i=1 j=54\t926 i=1 j=55\t857 i=1 j=56\t675 i=1 j=57\t981 i=1 j=58\t309 i=1 j=59\t994 i=1 j=60\t1075 i=1 j=61\t428 i=1 j=62\t671 i=1 j=63\t165 i=1 j=64\t323 i=1 j=65\t128 i=1 j=66\t461 i=1 j=67\t488 i=1 j=68\t674 i=1 j=69\t507 i=1 j=70\t774 i=1 j=71\t745 i=1 j=72\t569 i=1 j=73\t563 i=1 j=74\t1163 i=1 j=75\t262 i=1 j=76\t905 i=1 j=77\t242 i=1 j=78\t1189 i=1 j=79\t628 i=1 j=80\t395 i=1 j=81\t272 i=1 j=82\t908 i=1 j=83\t811 i=1 j=84\t1038 i=1 j=85\t422 i=1 j=86\t415 i=1 j=87\t732 i=1 j=88\t792 i=1 j=89\t1108 i=1 j=90\t88 i=1 j=91\t727 i=1 j=92\t931 i=1 j=93\t570 i=1 j=94\t689 i=1 j=95\t296 i=1 j=96\t690 i=1 j=97\t1101 i=1 j=98\t1153 i=1 j=99\t962 i=1 j=100\t581 i=1 j=101\t141 i=1 j=102\t1131 i=1 j=103\t1024 i=1 j=104\t192 i=1 j=105\t506 i=1 j=106\t136 i=1 j=107\t551 i=1 j=108\t842 i=1 j=109\t626 i=1 j=110\t650 i=1 j=111\t1042 i=1 j=112\t11 i=1 j=113\t1056 i=1 j=114\t1087 i=1 j=115\t972 i=1 j=116\t911 i=1 j=117\t1168 i=1 j=118\t1005 i=1 j=119\t941 i=1 j=120\t596 i=1 j=121\t619 i=1 j=122\t344 i=1 j=123\t803 i=1 j=124\t220 i=1 j=125\t1070 i=1 j=126\t493 i=1 j=127\t301 i=1 j=128\t178 i=1 j=129\t667 i=1 j=130\t865 i=1 j=131\t1039 i=1 j=132\t523 i=1 j=133\t490 i=1 j=134\t484 i=1 j=135\t15 i=1 j=136\t249 i=1 j=137\t519 i=1 j=138\t1050 i=1 j=139\t847 i=1 j=140\t212 i=1 j=141\t1054 i=1 j=142\t1083 i=1 j=143\t868 i=1 j=144\t179 i=1 j=145\t1156 i=1 j=146\t300 i=1 j=147\t116 i=1 j=148\t335 i=1 j=149\t739 i=1 j=150\t730 i=1 j=151\t264 i=1 j=152\t819 i=1 j=153\t172 i=1 j=154\t376 i=1 j=155\t391 i=1 j=156\t37 i=1 j=157\t541 i=1 j=158\t592 i=1 j=159\t684 i=1 j=160\t856 i=1 j=161\t378 i=1 j=162\t297 i=1 j=163\t711 i=1 j=164\t992 i=1 j=165\t534 i=1 j=166\t72 i=1 j=167\t920 i=1 j=168\t108 i=1 j=169\t682 i=1 j=170\t311 i=1 j=171\t558 i=1 j=172\t261 i=1 j=173\t866 i=1 j=174\t710 i=1 j=175\t848 i=1 j=176\t397 i=1 j=177\t755 i=1 j=178\t752 i=1 j=179\t1164 i=1 j=180\t659 i=1 j=181\t665 i=1 j=182\t1107 i=1 j=183\t839 i=1 j=184\t158 i=1 j=185\t545 i=1 j=186\t154 i=1 j=187\t770 i=1 j=188\t929 i=1 j=189\t627 i=1 j=190\t965 i=1 j=191\t1196 i=1 j=192\t917 i=1 j=193\t434 i=1 j=194\t125 i=1 j=195\t1073 i=1 j=196\t1094 i=1 j=197\t1002 i=1 j=198\t486 i=1 j=199\t221 i=1 j=200\t359 i=1 j=201\t313 i=1 j=202\t177 i=1 j=203\t973 i=1 j=204\t939 i=1 j=205\t830 i=1 j=206\t374 i=1 j=207\t818 i=1 j=208\t368 i=1 j=209\t1194 i=1 j=210\t1198 i=1 j=211\t678 i=1 j=212\t776 i=1 j=213\t879 i=1 j=214\t940 i=1 j=215\t670 i=1 j=216\t218 i=1 j=217\t1137 i=1 j=218\t1207 i=1 j=219\t831 i=1 j=220\t915 i=1 j=221\t271 i=1 j=222\t34 i=1 j=223\t1146 i=1 j=224\t431 i=1 j=225\t925 i=1 j=226\t645 i=1 j=227\t405 i=1 j=228\t485 i=1 j=229\t451 i=1 j=230\t606 i=1 j=231\t691 i=1 j=232\t621 i=1 j=233\t893 i=1 j=234\t403 i=1 j=235\t208 i=1 j=236\t982 i=1 j=237\t768 i=1 j=238\t1109 i=1 j=239\t1059 i=1 j=240\t361 i=1 j=241\t1128 i=1 j=242\t555 i=1 j=243\t1148 i=1 j=244\t388 i=1 j=245\t798 i=1 j=246\t477 i=1 j=247\t291 i=1 j=248\t142 i=1 j=249\t696 i=1 j=250\t449 i=1 j=251\t1132 i=1 j=252\t464 i=1 j=253\t530 i=1 j=254\t10 i=1 j=255\t342 i=1 j=256\t652 i=1 j=257\t448 i=1 j=258\t1176 i=1 j=259\t101 i=1 j=260\t29 i=1 j=261\t1149 i=1 j=262\t796 i=1 j=263\t385 i=1 j=264\t577 i=1 j=265\t603 i=1 j=266\t966 i=1 j=267\t602 i=1 j=268\t317 i=1 j=269\t155 i=1 j=270\t574 i=1 j=271\t1021 i=1 j=272\t609 i=1 j=273\t257 i=1 j=274\t35 i=1 j=275\t780 i=1 j=276\t679 i=1 j=277\t714 i=1 j=278\t636 i=1 j=279\t338 i=1 j=280\t766 i=1 j=281\t12 i=1 j=282\t277 i=1 j=283\t1103 i=1 j=284\t512 i=1 j=285\t470 i=1 j=286\t580 i=1 j=287\t734 i=1 j=288\t804 i=1 j=289\t263 i=1 j=290\t463 i=1 j=291\t252 i=1 j=292\t222 i=1 j=293\t1186 i=1 j=294\t888 i=1 j=295\t53 i=1 j=296\t27 i=1 j=297\t557 i=1 j=298\t937 i=1 j=299\t85 i=1 j=300\t102 i=1 j=301\t413 i=1 j=302\t320 i=1 j=303\t363 i=1 j=304\t686 i=1 j=305\t695 i=1 j=306\t412 i=1 j=307\t487 i=1 j=308\t703 i=1 j=309\t793 i=1 j=310\t539 i=1 j=311\t709 i=1 j=312\t23 i=1 j=313\t835 i=1 j=314\t900 i=1 j=315\t1121 i=1 j=316\t14 i=1 j=317\t974 i=1 j=318\t1127 i=1 j=319\t1147 i=1 j=320\t828 i=1 j=321\t1184 i=1 j=322\t399 i=1 j=323\t980 i=1 j=324\t145 i=1 j=325\t572 i=1 j=326\t1161 i=1 j=327\t956 i=1 j=328\t1160 i=1 j=329\t314 i=1 j=330\t1102 i=1 j=331\t239 i=1 j=332\t189 i=1 j=333\t32 i=1 j=334\t33 i=1 j=335\t168 i=1 j=336\t58 i=1 j=337\t1111 i=1 j=338\t584 i=1 j=339\t1080 i=1 j=340\t384 i=1 j=341\t863 i=1 j=342\t197 i=1 j=343\t69 i=1 j=344\t922 i=1 j=345\t706 i=1 j=346\t237 i=1 j=347\t327 i=1 j=348\t717 i=1 j=349\t329 i=1 j=350\t117 i=1 j=351\t471 i=1 j=352\t423 i=1 j=353\t789 i=1 j=354\t641 i=1 j=355\t225 i=1 j=356\t244 i=1 j=357\t234 i=1 j=358\t498 i=1 j=359\t542 i=1 j=360\t510 i=1 j=361\t494 i=1 j=362\t223 i=1 j=363\t505 i=1 j=364\t533 i=1 j=365\t560 i=1 j=366\t17 i=1 j=367\t653 i=1 j=368\t78 i=1 j=369\t514 i=1 j=370\t880 i=1 j=371\t807 i=1 j=372\t409 i=1 j=373\t948 i=1 j=374\t1202 i=1 j=375\t1046 i=1 j=376\t998 i=1 j=377\t456 i=1 j=378\t988 i=1 j=379\t891 i=1 j=380\t876 i=1 j=381\t288 i=1 j=382\t567 i=1 j=383\t950 i=1 j=384\t1045 i=1 j=385\t475 i=1 j=386\t46 i=1 j=387\t1178 i=1 j=388\t299 i=1 j=389\t594 i=1 j=390\t991 i=1 j=391\t985 i=1 j=392\t986 i=1 j=393\t1022 i=1 j=394\t87 i=1 j=395\t731 i=1 j=396\t153 i=1 j=397\t1150 i=1 j=398\t497 i=1 j=399\t851 i=1 j=400\t334 i=1 j=401\t864 i=1 j=402\t601 i=1 j=403\t226 i=1 j=404\t482 i=1 j=405\t535 i=1 j=406\t369 i=1 j=407\t199 i=1 j=408\t1175 i=1 j=409\t1077 i=1 j=410\t233 i=1 j=411\t716 i=1 j=412\t303 i=1 j=413\t773 i=1 j=414\t647 i=1 j=415\t245 i=1 j=416\t882 i=1 j=417\t276 i=1 j=418\t639 i=1 j=419\t916 i=1 j=420\t884 i=1 j=421\t183 i=1 j=422\t170 i=1 j=423\t95 i=1 j=424\t1174 i=1 j=425\t658 i=1 j=426\t881 i=1 j=427\t783 i=1 j=428\t585 i=1 j=429\t873 i=1 j=430\t838 i=1 j=431\t625 i=1 j=432\t720 i=1 j=433\t725 i=1 j=434\t1151 i=1 j=435\t582 i=1 j=436\t529 i=1 j=437\t955 i=1 j=438\t1204 i=1 j=439\t318 i=1 j=440\t769 i=1 j=441\t1106 i=1 j=442\t440 i=1 j=443\t1203 i=1 j=444\t1117 i=1 j=445\t729 i=1 j=446\t719 i=1 j=447\t932 i=1 j=448\t166 i=1 j=449\t620 i=1 j=450\t282 i=1 j=451\t930 i=1 j=452\t701 i=1 j=453\t315 i=1 j=454\t611 i=1 j=455\t979 i=1 j=456\t209 i=1 j=457\t416 i=1 j=458\t16 i=1 j=459\t446 i=1 j=460\t846 i=1 j=461\t375 i=1 j=462\t909 i=1 j=463\t699 i=1 j=464\t756 i=1 j=465\t195 i=1 j=466\t723 i=1 j=467\t129 i=1 j=468\t827 i=1 j=469\t968 i=1 j=470\t522 i=1 j=471\t119 i=1 j=472\t688 i=1 j=473\t681 i=1 j=474\t1006 i=1 j=475\t148 i=1 j=476\t182 i=1 j=477\t267 i=1 j=478\t433 i=1 j=479\t13 i=1 j=480\t1206 i=1 j=481\t118 i=1 j=482\t355 i=1 j=483\t358 i=1 j=484\t473 i=1 j=485\t1125 i=1 j=486\t1025 i=1 j=487\t259 i=1 j=488\t524 i=1 j=489\t576 i=1 j=490\t1013 i=1 j=491\t1097 i=1 j=492\t597 i=1 j=493\t474 i=1 j=494\t455 i=1 j=495\t565 i=1 j=496\t341 i=1 j=497\t1144 i=1 j=498\t855 i=1 j=499\t106 i=1 j=500\t372 i=1 j=501\t104 i=1 j=502\t782 i=1 j=503\t43 i=1 j=504\t816 i=1 j=505\t105 i=1 j=506\t66 i=1 j=507\t70 i=1 j=508\t825 i=1 j=509\t607 i=1 j=510\t1043 i=1 j=511\t110 i=1 j=512\t442 i=1 j=513\t959 i=1 j=514\t612 i=1 j=515\t834 i=1 j=516\t454 i=1 j=517\t837 i=1 j=518\t140 i=1 j=519\t203 i=1 j=520\t40 i=1 j=521\t1119 i=1 j=522\t215 i=1 j=523\t1090 i=1 j=524\t923 i=1 j=525\t279 i=1 j=526\t790 i=1 j=527\t122 i=1 j=528\t938 i=1 j=529\t1 i=1 j=530\t167 i=1 j=531\t121 i=1 j=532\t1181 i=1 j=533\t1048 i=1 j=534\t133 i=1 j=535\t427 i=1 j=536\t134 i=1 j=537\t198 i=1 j=538\t1027 i=1 j=539\t50 i=1 j=540\t913 i=1 j=541\t1023 i=1 j=542\t963 i=1 j=543\t810 i=1 j=544\t115 i=1 j=545\t483 i=1 j=546\t812 i=1 j=547\t1062 i=1 j=548\t180 i=1 j=549\t1159 i=1 j=550\t871 i=1 j=551\t36 i=1 j=552\t1067 i=1 j=553\t669 i=1 j=554\t44 i=1 j=555\t217 i=1 j=556\t480 i=1 j=557\t437 i=1 j=558\t278 i=1 j=559\t425 i=1 j=560\t491 i=1 j=561\t107 i=1 j=562\t989 i=1 j=563\t353 i=1 j=564\t656 i=1 j=565\t331 i=1 j=566\t280 i=1 j=567\t1143 i=1 j=568\t685 i=1 j=569\t364 i=1 j=570\t758 i=1 j=571\t806 i=1 j=572\t290 i=1 j=573\t553 i=1 j=574\t64 i=1 j=575\t1065 i=1 j=576\t795 i=1 j=577\t113 i=1 j=578\t194 i=1 j=579\t841 i=1 j=580\t28 i=1 j=581\t614 i=1 j=582\t1120 i=1 j=583\t525 i=1 j=584\t996 i=1 j=585\t1185 i=1 j=586\t615 i=1 j=587\t564 i=1 j=588\t1037 i=1 j=589\t325 i=1 j=590\t424 i=1 j=591\t630 i=1 j=592\t1095 i=1 j=593\t138 i=1 j=594\t604 i=1 j=595\t193 i=1 j=596\t349 i=1 j=597\t762 i=1 j=598\t1014 i=1 j=599\t832 i=1 j=600\t499 i=1 j=601\t844 i=1 j=602\t949 i=1 j=603\t1063 i=1 j=604\t513 i=1 j=605\t637 i=1 j=606\t543 i=1 j=607\t157 i=1 j=608\t231 i=1 j=609\t1193 i=1 j=610\t976 i=1 j=611\t751 i=1 j=612\t889 i=1 j=613\t200 i=1 j=614\t794 i=1 j=615\t1008 i=1 j=616\t467 i=1 j=617\t381 i=1 j=618\t718 i=1 j=619\t687 i=1 j=620\t444 i=1 j=621\t304 i=1 j=622\t661 i=1 j=623\t878 i=1 j=624\t392 i=1 j=625\t109 i=1 j=626\t1157 i=1 j=627\t853 i=1 j=628\t379 i=1 j=629\t836 i=1 j=630\t1071 i=1 j=631\t1154 i=1 j=632\t219 i=1 j=633\t447 i=1 j=634\t629 i=1 j=635\t156 i=1 j=636\t997 i=1 j=637\t649 i=1 j=638\t330 i=1 j=639\t322 i=1 j=640\t443 i=1 j=641\t1167 i=1 j=642\t618 i=1 j=643\t205 i=1 j=644\t265 i=1 j=645\t1135 i=1 j=646\t1192 i=1 j=647\t390 i=1 j=648\t357 i=1 j=649\t805 i=1 j=650\t468 i=1 j=651\t728 i=1 j=652\t457 i=1 j=653\t705 i=1 j=654\t936 i=1 j=655\t1061 i=1 j=656\t67 i=1 j=657\t935 i=1 j=658\t175 i=1 j=659\t432 i=1 j=660\t944 i=1 j=661\t722 i=1 j=662\t174 i=1 j=663\t919 i=1 j=664\t159 i=1 j=665\t103 i=1 j=666\t657 i=1 j=667\t479 i=1 j=668\t289 i=1 j=669\t738 i=1 j=670\t333 i=1 j=671\t1036 i=1 j=672\t822 i=1 j=673\t411 i=1 j=674\t61 i=1 j=675\t65 i=1 j=676\t445 i=1 j=677\t131 i=1 j=678\t1004 i=1 j=679\t126 i=1 j=680\t458 i=1 j=681\t339 i=1 j=682\t383 i=1 j=683\t761 i=1 j=684\t849 i=1 j=685\t377 i=1 j=686\t82 i=1 j=687\t83 i=1 j=688\t232 i=1 j=689\t1170 i=1 j=690\t1082 i=1 j=691\t1055 i=1 j=692\t1064 i=1 j=693\t544 i=1 j=694\t815 i=1 j=695\t373 i=1 j=696\t123 i=1 j=697\t365 i=1 j=698\t100 i=1 j=699\t191 i=1 j=700\t75 i=1 j=701\t521 i=1 j=702\t1195 i=1 j=703\t30 i=1 j=704\t171 i=1 j=705\t595 i=1 j=706\t748 i=1 j=707\t1003 i=1 j=708\t41 i=1 j=709\t306 i=1 j=710\t62 i=1 j=711\t60 i=1 j=712\t59 i=1 j=713\t438 i=1 j=714\t235 i=1 j=715\t293 i=1 j=716\t700 i=1 j=717\t436 i=1 j=718\t285 i=1 j=719\t435 i=1 j=720\t587 i=1 j=721\t753 i=1 j=722\t1009 i=1 j=723\t823 i=1 j=724\t546 i=1 j=725\t316 i=1 j=726\t778 i=1 j=727\t571 i=1 j=728\t144 i=1 j=729\t568 i=1 j=730\t1017 i=1 j=731\t48 i=1 j=732\t1033 i=1 j=733\t983 i=1 j=734\t1057 i=1 j=735\t588 i=1 j=736\t1007 i=1 j=737\t258 i=1 j=738\t666 i=1 j=739\t305 i=1 j=740\t336 i=1 j=741\t765 i=1 j=742\t366 i=1 j=743\t98 i=1 j=744\t248 i=1 j=745\t281 i=1 j=746\t1165 i=1 j=747\t260 i=1 j=748\t747 i=1 j=749\t410 i=1 j=750\t1105 i=1 j=751\t45 i=1 j=752\t896 i=1 j=753\t202 i=1 j=754\t120 i=1 j=755\t680 i=1 j=756\t741 i=1 j=757\t465 i=1 j=758\t162 i=1 j=759\t367 i=1 j=760\t404 i=1 j=761\t207 i=1 j=762\t509 i=1 j=763\t777 i=1 j=764\t772 i=1 j=765\t312 i=1 j=766\t21 i=1 j=767\t797 i=1 j=768\t1187 i=1 j=769\t398 i=1 j=770\t942 i=1 j=771\t469 i=1 j=772\t977 i=1 j=773\t81 i=1 j=774\t520 i=1 j=775\t495 i=1 j=776\t928 i=1 j=777\t759 i=1 j=778\t1081 i=1 j=779\t1060 i=1 j=780\t286 i=1 j=781\t135 i=1 j=782\t613 i=1 j=783\t885 i=1 j=784\t387 i=1 j=785\t204 i=1 j=786\t852 i=1 j=787\t934 i=1 j=788\t1140 i=1 j=789\t152 i=1 j=790\t515 i=1 j=791\t978 i=1 j=792\t655 i=1 j=793\t472 i=1 j=794\t787 i=1 j=795\t1104 i=1 j=796\t1072 i=1 j=797\t859 i=1 j=798\t214 i=1 j=799\t287 i=1 j=800\t760 i=1 j=801\t269 i=1 j=802\t164 i=1 j=803\t958 i=1 j=804\t73 i=1 j=805\t1183 i=1 j=806\t1208 i=1 j=807\t24 i=1 j=808\t439 i=1 j=809\t750 i=1 j=810\t5 i=1 j=811\t68 i=1 j=812\t1116 i=1 j=813\t536 i=1 j=814\t360 i=1 j=815\t1074 i=1 j=816\t130 i=1 j=817\t462 i=1 j=818\t150 i=1 j=819\t598 i=1 j=820\t111 i=1 j=821\t502 i=1 j=822\t394 i=1 j=823\t897 i=1 j=824\t302 i=1 j=825\t749 i=1 j=826\t1047 i=1 j=827\t1191 i=1 j=828\t964 i=1 j=829\t450 i=1 j=830\t532 i=1 j=831\t251 i=1 j=832\t274 i=1 j=833\t337 i=1 j=834\t561 i=1 j=835\t779 i=1 j=836\t406 i=1 j=837\t809 i=1 j=838\t566 i=1 j=839\t22 i=1 j=840\t549 i=1 j=841\t92 i=1 j=842\t298 i=1 j=843\t591 i=1 j=844\t635 i=1 j=845\t872 i=1 j=846\t538 i=1 j=847\t481 i=1 j=848\t294 i=1 j=849\t127 i=1 j=850\t785 i=1 j=851\t49 i=1 j=852\t813 i=1 j=853\t292 i=1 j=854\t1069 i=1 j=855\t904 i=1 j=856\t213 i=1 j=857\t556 i=1 j=858\t599 i=1 j=859\t1100 i=1 j=860\t662 i=1 j=861\t25 i=1 j=862\t957 i=1 j=863\t1030 i=1 j=864\t1169 i=1 j=865\t801 i=1 j=866\t736 i=1 j=867\t1032 i=1 j=868\t1034 i=1 j=869\t754 i=1 j=870\t668 i=1 j=871\t784 i=1 j=872\t907 i=1 j=873\t253 i=1 j=874\t583 i=1 j=875\t554 i=1 j=876\t319 i=1 j=877\t503 i=1 j=878\t230 i=1 j=879\t284 i=1 j=880\t526 i=1 j=881\t238 i=1 j=882\t326 i=1 j=883\t181 i=1 j=884\t229 i=1 j=885\t1201 i=1 j=886\t401 i=1 j=887\t775 i=1 j=888\t924 i=1 j=889\t967 i=1 j=890\t746 i=1 j=891\t453 i=1 j=892\t845 i=1 j=893\t894 i=1 j=894\t869 i=1 j=895\t1093 i=1 j=896\t90 i=1 j=897\t310 i=1 j=898\t903 i=1 j=899\t1010 i=1 j=900\t1084 i=1 j=901\t697 i=1 j=902\t1086 i=1 j=903\t345 i=1 j=904\t1182 i=1 j=905\t173 i=1 j=906\t921 i=1 j=907\t459 i=1 j=908\t124 i=1 j=909\t20 i=1 j=910\t664 i=1 j=911\t1115 i=1 j=912\t419 i=1 j=913\t370 i=1 j=914\t1113 i=1 j=915\t764 i=1 j=916\t987 i=1 j=917\t870 i=1 j=918\t898 i=1 j=919\t1011 i=1 j=920\t188 i=1 j=921\t354 i=1 j=922\t227 i=1 j=923\t236 i=1 j=924\t1020 i=1 j=925\t476 i=1 j=926\t356 i=1 j=927\t74 i=1 j=928\t1053 i=1 j=929\t347 i=1 j=930\t824 i=1 j=931\t771 i=1 j=932\t143 i=1 j=933\t63 i=1 j=934\t362 i=1 j=935\t786 i=1 j=936\t26 i=1 j=937\t1029 i=1 j=938\t420 i=1 j=939\t76 i=1 j=940\t518 i=1 j=941\t704 i=1 j=942\t137 i=1 j=943\t71 i=1 j=944\t946 i=1 j=945\t114 i=1 j=946\t332 i=1 j=947\t821 i=1 j=948\t1015 i=1 j=949\t429 i=1 j=950\t578 i=1 j=951\t646 i=1 j=952\t97 i=1 j=953\t1152 i=1 j=954\t247 i=1 j=955\t241 i=1 j=956\t1110 i=1 j=957\t867 i=1 j=958\t892 i=1 j=959\t610 i=1 j=960\t757 i=1 j=961\t808 i=1 j=962\t1028 i=1 j=963\t1049 i=1 j=964\t971 i=1 j=965\t914 i=1 j=966\t89 i=1 j=967\t1199 i=1 j=968\t726 i=1 j=969\t500 i=1 j=970\t562 i=1 j=971\t724 i=1 j=972\t623 i=1 j=973\t210 i=1 j=974\t1188 i=1 j=975\t56 i=1 j=976\t243 i=1 j=977\t862 i=1 j=978\t590 i=1 j=979\t417 i=1 j=980\t216 i=1 j=981\t79 i=1 j=982\t151 i=1 j=983\t707 i=1 j=984\t160 i=1 j=985\t763 i=1 j=986\t340 i=1 j=987\t7 i=1 j=988\t96 i=1 j=989\t295 i=1 j=990\t854 i=1 j=991\t396 i=1 j=992\t1177 i=1 j=993\t593 i=1 j=994\t508 i=1 j=995\t631 i=1 j=996\t737 i=1 j=997\t139 i=1 j=998\t632 i=1 j=999\t886 i=1 j=1000\t589 i=1 j=1001\t3 i=1 j=1002\t1092 i=1 j=1003\t2 i=1 j=1004\t1040 i=1 j=1005\t802 i=1 j=1006\t246 i=1 j=1007\t268 i=1 j=1008\t380 i=1 j=1009\t1112 i=1 j=1010\t575 i=1 j=1011\t901 i=1 j=1012\t1001 i=1 j=1013\t407 i=1 j=1014\t887 i=1 j=1015\t39 i=1 j=1016\t954 i=1 j=1017\t817 i=1 j=1018\t999 i=1 j=1019\t478 i=1 j=1020\t1136 i=1 j=1021\t1018 i=1 j=1022\t833 i=1 j=1023\t1141 i=1 j=1024\t460 i=1 j=1025\t1129 i=1 j=1026\t1138 i=1 j=1027\t860 i=1 j=1028\t352 i=1 j=1029\t961 i=1 j=1030\t91 i=1 j=1031\t307 i=1 j=1032\t840 i=1 j=1033\t348 i=1 j=1034\t975 i=1 j=1035\t184 i=1 j=1036\t250 i=1 j=1037\t52 i=1 j=1038\t186 i=1 j=1039\t1058 i=1 j=1040\t713 i=1 j=1041\t211 i=1 j=1042\t350 i=1 j=1043\t466 i=1 j=1044\t895 i=1 j=1045\t201 i=1 j=1046\t169 i=1 j=1047\t708 i=1 j=1048\t1118 i=1 j=1049\t516 i=1 j=1050\t504 i=1 j=1051\t1076 i=1 j=1052\t511 i=1 j=1053\t1099 i=1 j=1054\t883 i=1 j=1055\t910 i=1 j=1056\t744 i=1 j=1057\t642 i=1 j=1058\t951 i=1 j=1059\t1145 i=1 j=1060\t799 i=1 j=1061\t93 i=1 j=1062\t19 i=1 j=1063\t343 i=1 j=1064\t740 i=1 j=1065\t1173 i=1 j=1066\t1089 i=1 j=1067\t624 i=1 j=1068\t927 i=1 j=1069\t715 i=1 j=1070\t712 i=1 j=1071\t721 i=1 j=1072\t579 i=1 j=1073\t346 i=1 j=1074\t256 i=1 j=1075\t1098 i=1 j=1076\t970 i=1 j=1077\t947 i=1 j=1078\t389 i=1 j=1079\t912 i=1 j=1080\t600 i=1 j=1081\t1124 i=1 j=1082\t605 i=1 j=1083\t573 i=1 j=1084\t995 i=1 j=1085\t149 i=1 j=1086\t800 i=1 j=1087\t240 i=1 j=1088\t489 i=1 j=1089\t54 i=1 j=1090\t1172 i=1 j=1091\t877 i=1 j=1092\t161 i=1 j=1093\t1051 i=1 j=1094\t984 i=1 j=1095\t608 i=1 j=1096\t634 i=1 j=1097\t4 i=1 j=1098\t990 i=1 j=1099\t552 i=1 j=1100\t767 i=1 j=1101\t1044 i=1 j=1102\t733 i=1 j=1103\t393 i=1 j=1104\t902 i=1 j=1105\t663 i=1 j=1106\t324 i=1 j=1107\t1179 i=1 j=1108\t1114 i=1 j=1109\t418 i=1 j=1110\t875 i=1 j=1111\t38 i=1 j=1112\t402 i=1 j=1113\t1190 i=1 j=1114\t1123 i=1 j=1115\t993 i=1 j=1116\t528 i=1 j=1117\t540 i=1 j=1118\t547 i=1 j=1119\t698 i=1 j=1120\t952 i=1 j=1121\t918 i=1 j=1122\t1000 i=1 j=1123\t960 i=1 j=1124\t906 i=1 j=1125\t1155 i=1 j=1126\t386 i=1 j=1127\t8 i=1 j=1128\t163 i=1 j=1129\t132 i=1 j=1130\t1068 i=1 j=1131\t820 i=1 j=1132\t31 i=1 j=1133\t1180 i=1 j=1134\t826 i=1 j=1135\t80 i=1 j=1136\t1085 i=1 j=1137\t1158 i=1 j=1138\t408 i=1 j=1139\t196 i=1 j=1140\t550 i=1 j=1141\t559 i=1 j=1142\t1079 i=1 j=1143\t1162 i=1 j=1144\t1200 i=1 j=1145\t57 i=1 j=1146\t190 i=1 j=1147\t452 i=1 j=1148\t1142 i=1 j=1149\t1091 i=1 j=1150\t55 i=1 j=1151\t651 i=1 j=1152\t1130 i=1 j=1153\t617 i=1 j=1154\t1035 i=1 j=1155\t99 i=1 j=1156\t814 i=1 j=1157\t781 i=1 j=1158\t677 i=1 j=1159\t1096 i=1 j=1160\t255 i=1 j=1161\t616 i=1 j=1162\t633 i=1 j=1163\t640 i=1 j=1164\t648 i=1 j=1165\t51 i=1 j=1166\t492 i=1 j=1167\t1122 i=1 j=1168\t308 i=1 j=1169\t1019 i=1 j=1170\t1088 i=1 j=1171\t42 i=1 j=1172\t421 i=1 j=1173\t1016 i=1 j=1174\t426 i=1 j=1175\t1078 i=1 j=1176\t6 i=1 j=1177\t531 i=1 j=1178\t254 i=1 j=1179\t672 i=1 j=1180\t673 i=1 j=1181\t676 i=1 j=1182\t328 i=1 j=1183\t273 i=1 j=1184\t548 i=1 j=1185\t84 i=1 j=1186\t735 i=1 j=1187\t788 i=1 j=1188\t899 i=1 j=1189\t382 i=1 j=1190\t400 i=1 j=1191\t371 i=1 j=1192\t18 i=1 j=1193\t643 i=1 j=1194\t283 i=1 j=1195\t351 i=1 j=1196\t187 i=1 j=1197\t224 i=1 j=1198\t683 i=1 j=1199\t1026 i=1 j=1200\t1197 i=1 j=1201\t496 i=1 j=1202\t1012 i=2 j=0\t850 i=2 j=1\t86 i=2 j=2\t692 i=2 j=3\t537 i=2 j=4\t829 i=2 j=5\t943 i=2 j=6\t1171 i=2 j=7\t638 i=2 j=8\t702 i=2 j=9\t146 i=2 j=10\t228 i=2 j=11\t185 i=2 j=12\t266 i=2 j=13\t1126 i=2 j=14\t94 i=2 j=15\t742 i=2 j=16\t501 i=2 j=17\t147 i=2 j=18\t791 i=2 j=19\t1041 i=2 j=20\t1134 i=2 j=21\t890 i=2 j=22\t1066 i=2 j=23\t517 i=2 j=24\t1205 i=2 j=25\t586 i=2 j=26\t644 i=2 j=27\t441 i=2 j=28\t953 i=2 j=29\t1031 i=2 j=30\t321 i=2 j=31\t1166 i=2 j=32\t693 i=2 j=33\t1139 i=2 j=34\t47 i=2 j=35\t77 i=2 j=36\t275 i=2 j=37\t176 i=2 j=38\t933 i=2 j=39\t945 i=2 j=40\t622 i=2 j=41\t270 i=2 j=42\t660 i=2 j=43\t654 i=2 j=44\t969 i=2 j=45\t874 i=2 j=46\t743 i=2 j=47\t414 i=2 j=48\t527 i=2 j=49\t112 i=2 j=50\t206 i=2 j=51\t858 i=2 j=52\t1133 i=2 j=53\t843 i=2 j=54\t926 i=2 j=55\t857 i=2 j=56\t675 i=2 j=57\t981 i=2 j=58\t309 i=2 j=59\t994 i=2 j=60\t1075 i=2 j=61\t428 i=2 j=62\t671 i=2 j=63\t165 i=2 j=64\t323 i=2 j=65\t128 i=2 j=66\t461 i=2 j=67\t488 i=2 j=68\t674 i=2 j=69\t507 i=2 j=70\t774 i=2 j=71\t745 i=2 j=72\t569 i=2 j=73\t563 i=2 j=74\t1163 i=2 j=75\t262 i=2 j=76\t905 i=2 j=77\t242 i=2 j=78\t1189 i=2 j=79\t628 i=2 j=80\t395 i=2 j=81\t272 i=2 j=82\t908 i=2 j=83\t811 i=2 j=84\t1038 i=2 j=85\t422 i=2 j=86\t415 i=2 j=87\t732 i=2 j=88\t792 i=2 j=89\t1108 i=2 j=90\t88 i=2 j=91\t727 i=2 j=92\t931 i=2 j=93\t570 i=2 j=94\t689 i=2 j=95\t296 i=2 j=96\t690 i=2 j=97\t1101 i=2 j=98\t1153 i=2 j=99\t962 i=2 j=100\t581 i=2 j=101\t141 i=2 j=102\t1131 i=2 j=103\t1024 i=2 j=104\t192 i=2 j=105\t506 i=2 j=106\t136 i=2 j=107\t551 i=2 j=108\t842 i=2 j=109\t626 i=2 j=110\t650 i=2 j=111\t1042 i=2 j=112\t11 i=2 j=113\t1056 i=2 j=114\t1087 i=2 j=115\t972 i=2 j=116\t911 i=2 j=117\t1168 i=2 j=118\t1005 i=2 j=119\t941 i=2 j=120\t596 i=2 j=121\t619 i=2 j=122\t344 i=2 j=123\t803 i=2 j=124\t220 i=2 j=125\t1070 i=2 j=126\t493 i=2 j=127\t301 i=2 j=128\t178 i=2 j=129\t667 i=2 j=130\t865 i=2 j=131\t1039 i=2 j=132\t523 i=2 j=133\t490 i=2 j=134\t484 i=2 j=135\t15 i=2 j=136\t249 i=2 j=137\t519 i=2 j=138\t1050 i=2 j=139\t847 i=2 j=140\t212 i=2 j=141\t1054 i=2 j=142\t1083 i=2 j=143\t868 i=2 j=144\t179 i=2 j=145\t1156 i=2 j=146\t300 i=2 j=147\t116 i=2 j=148\t335 i=2 j=149\t739 i=2 j=150\t730 i=2 j=151\t264 i=2 j=152\t819 i=2 j=153\t172 i=2 j=154\t376 i=2 j=155\t391 i=2 j=156\t37 i=2 j=157\t541 i=2 j=158\t592 i=2 j=159\t684 i=2 j=160\t856 i=2 j=161\t378 i=2 j=162\t297 i=2 j=163\t711 i=2 j=164\t992 i=2 j=165\t534 i=2 j=166\t72 i=2 j=167\t920 i=2 j=168\t108 i=2 j=169\t682 i=2 j=170\t311 i=2 j=171\t558 i=2 j=172\t261 i=2 j=173\t866 i=2 j=174\t710 i=2 j=175\t848 i=2 j=176\t397 i=2 j=177\t755 i=2 j=178\t752 i=2 j=179\t1164 i=2 j=180\t659 i=2 j=181\t665 i=2 j=182\t1107 i=2 j=183\t839 i=2 j=184\t158 i=2 j=185\t545 i=2 j=186\t154 i=2 j=187\t770 i=2 j=188\t929 i=2 j=189\t627 i=2 j=190\t965 i=2 j=191\t1196 i=2 j=192\t917 i=2 j=193\t434 i=2 j=194\t125 i=2 j=195\t1073 i=2 j=196\t1094 i=2 j=197\t1002 i=2 j=198\t486 i=2 j=199\t221 i=2 j=200\t359 i=2 j=201\t313 i=2 j=202\t177 i=2 j=203\t973 i=2 j=204\t939 i=2 j=205\t830 i=2 j=206\t374 i=2 j=207\t818 i=2 j=208\t368 i=2 j=209\t1194 i=2 j=210\t1198 i=2 j=211\t678 i=2 j=212\t776 i=2 j=213\t879 i=2 j=214\t940 i=2 j=215\t670 i=2 j=216\t218 i=2 j=217\t1137 i=2 j=218\t1207 i=2 j=219\t831 i=2 j=220\t915 i=2 j=221\t271 i=2 j=222\t34 i=2 j=223\t1146 i=2 j=224\t431 i=2 j=225\t925 i=2 j=226\t645 i=2 j=227\t405 i=2 j=228\t485 i=2 j=229\t451 i=2 j=230\t606 i=2 j=231\t691 i=2 j=232\t621 i=2 j=233\t893 i=2 j=234\t403 i=2 j=235\t208 i=2 j=236\t982 i=2 j=237\t768 i=2 j=238\t1109 i=2 j=239\t1059 i=2 j=240\t361 i=2 j=241\t1128 i=2 j=242\t555 i=2 j=243\t1148 i=2 j=244\t388 i=2 j=245\t798 i=2 j=246\t477 i=2 j=247\t291 i=2 j=248\t142 i=2 j=249\t696 i=2 j=250\t449 i=2 j=251\t1132 i=2 j=252\t464 i=2 j=253\t530 i=2 j=254\t10 i=2 j=255\t342 i=2 j=256\t652 i=2 j=257\t448 i=2 j=258\t1176 i=2 j=259\t101 i=2 j=260\t29 i=2 j=261\t1149 i=2 j=262\t796 i=2 j=263\t385 i=2 j=264\t577 i=2 j=265\t603 i=2 j=266\t966 i=2 j=267\t602 i=2 j=268\t317 i=2 j=269\t155 i=2 j=270\t574 i=2 j=271\t1021 i=2 j=272\t609 i=2 j=273\t257 i=2 j=274\t35 i=2 j=275\t780 i=2 j=276\t679 i=2 j=277\t714 i=2 j=278\t636 i=2 j=279\t338 i=2 j=280\t766 i=2 j=281\t12 i=2 j=282\t277 i=2 j=283\t1103 i=2 j=284\t512 i=2 j=285\t470 i=2 j=286\t580 i=2 j=287\t734 i=2 j=288\t804 i=2 j=289\t263 i=2 j=290\t463 i=2 j=291\t252 i=2 j=292\t222 i=2 j=293\t1186 i=2 j=294\t888 i=2 j=295\t53 i=2 j=296\t27 i=2 j=297\t557 i=2 j=298\t937 i=2 j=299\t85 i=2 j=300\t102 i=2 j=301\t413 i=2 j=302\t320 i=2 j=303\t363 i=2 j=304\t686 i=2 j=305\t695 i=2 j=306\t412 i=2 j=307\t487 i=2 j=308\t703 i=2 j=309\t793 i=2 j=310\t539 i=2 j=311\t709 i=2 j=312\t23 i=2 j=313\t835 i=2 j=314\t900 i=2 j=315\t1121 i=2 j=316\t14 i=2 j=317\t974 i=2 j=318\t1127 i=2 j=319\t1147 i=2 j=320\t828 i=2 j=321\t1184 i=2 j=322\t399 i=2 j=323\t980 i=2 j=324\t145 i=2 j=325\t572 i=2 j=326\t1161 i=2 j=327\t956 i=2 j=328\t1160 i=2 j=329\t314 i=2 j=330\t1102 i=2 j=331\t239 i=2 j=332\t189 i=2 j=333\t32 i=2 j=334\t33 i=2 j=335\t168 i=2 j=336\t58 i=2 j=337\t1111 i=2 j=338\t584 i=2 j=339\t1080 i=2 j=340\t384 i=2 j=341\t863 i=2 j=342\t197 i=2 j=343\t69 i=2 j=344\t922 i=2 j=345\t706 i=2 j=346\t237 i=2 j=347\t327 i=2 j=348\t717 i=2 j=349\t329 i=2 j=350\t117 i=2 j=351\t471 i=2 j=352\t423 i=2 j=353\t789 i=2 j=354\t641 i=2 j=355\t225 i=2 j=356\t244 i=2 j=357\t234 i=2 j=358\t498 i=2 j=359\t542 i=2 j=360\t510 i=2 j=361\t494 i=2 j=362\t223 i=2 j=363\t505 i=2 j=364\t533 i=2 j=365\t560 i=2 j=366\t17 i=2 j=367\t653 i=2 j=368\t78 i=2 j=369\t514 i=2 j=370\t880 i=2 j=371\t807 i=2 j=372\t409 i=2 j=373\t948 i=2 j=374\t1202 i=2 j=375\t1046 i=2 j=376\t998 i=2 j=377\t456 i=2 j=378\t988 i=2 j=379\t891 i=2 j=380\t876 i=2 j=381\t288 i=2 j=382\t567 i=2 j=383\t950 i=2 j=384\t1045 i=2 j=385\t475 i=2 j=386\t46 i=2 j=387\t1178 i=2 j=388\t299 i=2 j=389\t594 i=2 j=390\t991 i=2 j=391\t985 i=2 j=392\t986 i=2 j=393\t1022 i=2 j=394\t87 i=2 j=395\t731 i=2 j=396\t153 i=2 j=397\t1150 i=2 j=398\t497 i=2 j=399\t851 i=2 j=400\t334 i=2 j=401\t864 i=2 j=402\t601 i=2 j=403\t226 i=2 j=404\t482 i=2 j=405\t535 i=2 j=406\t369 i=2 j=407\t199 i=2 j=408\t1175 i=2 j=409\t1077 i=2 j=410\t233 i=2 j=411\t716 i=2 j=412\t303 i=2 j=413\t773 i=2 j=414\t647 i=2 j=415\t245 i=2 j=416\t882 i=2 j=417\t276 i=2 j=418\t639 i=2 j=419\t916 i=2 j=420\t884 i=2 j=421\t183 i=2 j=422\t170 i=2 j=423\t95 i=2 j=424\t1174 i=2 j=425\t658 i=2 j=426\t881 i=2 j=427\t783 i=2 j=428\t585 i=2 j=429\t873 i=2 j=430\t838 i=2 j=431\t625 i=2 j=432\t720 i=2 j=433\t725 i=2 j=434\t1151 i=2 j=435\t582 i=2 j=436\t529 i=2 j=437\t955 i=2 j=438\t1204 i=2 j=439\t318 i=2 j=440\t769 i=2 j=441\t1106 i=2 j=442\t440 i=2 j=443\t1203 i=2 j=444\t1117 i=2 j=445\t729 i=2 j=446\t719 i=2 j=447\t932 i=2 j=448\t166 i=2 j=449\t620 i=2 j=450\t282 i=2 j=451\t930 i=2 j=452\t701 i=2 j=453\t315 i=2 j=454\t611 i=2 j=455\t979 i=2 j=456\t209 i=2 j=457\t416 i=2 j=458\t16 i=2 j=459\t446 i=2 j=460\t846 i=2 j=461\t375 i=2 j=462\t909 i=2 j=463\t699 i=2 j=464\t756 i=2 j=465\t195 i=2 j=466\t723 i=2 j=467\t129 i=2 j=468\t827 i=2 j=469\t968 i=2 j=470\t522 i=2 j=471\t119 i=2 j=472\t688 i=2 j=473\t681 i=2 j=474\t1006 i=2 j=475\t148 i=2 j=476\t182 i=2 j=477\t267 i=2 j=478\t433 i=2 j=479\t13 i=2 j=480\t1206 i=2 j=481\t118 i=2 j=482\t355 i=2 j=483\t358 i=2 j=484\t473 i=2 j=485\t1125 i=2 j=486\t1025 i=2 j=487\t259 i=2 j=488\t524 i=2 j=489\t576 i=2 j=490\t1013 i=2 j=491\t1097 i=2 j=492\t597 i=2 j=493\t474 i=2 j=494\t455 i=2 j=495\t565 i=2 j=496\t341 i=2 j=497\t1144 i=2 j=498\t855 i=2 j=499\t106 i=2 j=500\t372 i=2 j=501\t104 i=2 j=502\t782 i=2 j=503\t43 i=2 j=504\t816 i=2 j=505\t105 i=2 j=506\t66 i=2 j=507\t70 i=2 j=508\t825 i=2 j=509\t607 i=2 j=510\t1043 i=2 j=511\t110 i=2 j=512\t442 i=2 j=513\t959 i=2 j=514\t612 i=2 j=515\t834 i=2 j=516\t454 i=2 j=517\t837 i=2 j=518\t140 i=2 j=519\t203 i=2 j=520\t40 i=2 j=521\t1119 i=2 j=522\t215 i=2 j=523\t1090 i=2 j=524\t923 i=2 j=525\t279 i=2 j=526\t790 i=2 j=527\t122 i=2 j=528\t938 i=2 j=529\t1 i=2 j=530\t167 i=2 j=531\t121 i=2 j=532\t1181 i=2 j=533\t1048 i=2 j=534\t133 i=2 j=535\t427 i=2 j=536\t134 i=2 j=537\t198 i=2 j=538\t1027 i=2 j=539\t50 i=2 j=540\t913 i=2 j=541\t1023 i=2 j=542\t963 i=2 j=543\t810 i=2 j=544\t115 i=2 j=545\t483 i=2 j=546\t812 i=2 j=547\t1062 i=2 j=548\t180 i=2 j=549\t1159 i=2 j=550\t871 i=2 j=551\t36 i=2 j=552\t1067 i=2 j=553\t669 i=2 j=554\t44 i=2 j=555\t217 i=2 j=556\t480 i=2 j=557\t437 i=2 j=558\t278 i=2 j=559\t425 i=2 j=560\t491 i=2 j=561\t107 i=2 j=562\t989 i=2 j=563\t353 i=2 j=564\t656 i=2 j=565\t331 i=2 j=566\t280 i=2 j=567\t1143 i=2 j=568\t685 i=2 j=569\t364 i=2 j=570\t758 i=2 j=571\t806 i=2 j=572\t290 i=2 j=573\t553 i=2 j=574\t64 i=2 j=575\t1065 i=2 j=576\t795 i=2 j=577\t113 i=2 j=578\t194 i=2 j=579\t841 i=2 j=580\t28 i=2 j=581\t614 i=2 j=582\t1120 i=2 j=583\t525 i=2 j=584\t996 i=2 j=585\t1185 i=2 j=586\t615 i=2 j=587\t564 i=2 j=588\t1037 i=2 j=589\t325 i=2 j=590\t424 i=2 j=591\t630 i=2 j=592\t1095 i=2 j=593\t138 i=2 j=594\t604 i=2 j=595\t193 i=2 j=596\t349 i=2 j=597\t762 i=2 j=598\t1014 i=2 j=599\t832 i=2 j=600\t499 i=2 j=601\t844 i=2 j=602\t949 i=2 j=603\t1063 i=2 j=604\t513 i=2 j=605\t637 i=2 j=606\t543 i=2 j=607\t157 i=2 j=608\t231 i=2 j=609\t1193 i=2 j=610\t976 i=2 j=611\t751 i=2 j=612\t889 i=2 j=613\t200 i=2 j=614\t794 i=2 j=615\t1008 i=2 j=616\t467 i=2 j=617\t381 i=2 j=618\t718 i=2 j=619\t687 i=2 j=620\t444 i=2 j=621\t304 i=2 j=622\t661 i=2 j=623\t878 i=2 j=624\t392 i=2 j=625\t109 i=2 j=626\t1157 i=2 j=627\t853 i=2 j=628\t379 i=2 j=629\t836 i=2 j=630\t1071 i=2 j=631\t1154 i=2 j=632\t219 i=2 j=633\t447 i=2 j=634\t629 i=2 j=635\t156 i=2 j=636\t997 i=2 j=637\t649 i=2 j=638\t330 i=2 j=639\t322 i=2 j=640\t443 i=2 j=641\t1167 i=2 j=642\t618 i=2 j=643\t205 i=2 j=644\t265 i=2 j=645\t1135 i=2 j=646\t1192 i=2 j=647\t390 i=2 j=648\t357 i=2 j=649\t805 i=2 j=650\t468 i=2 j=651\t728 i=2 j=652\t457 i=2 j=653\t705 i=2 j=654\t936 i=2 j=655\t1061 i=2 j=656\t67 i=2 j=657\t935 i=2 j=658\t175 i=2 j=659\t432 i=2 j=660\t944 i=2 j=661\t722 i=2 j=662\t174 i=2 j=663\t919 i=2 j=664\t159 i=2 j=665\t103 i=2 j=666\t657 i=2 j=667\t479 i=2 j=668\t289 i=2 j=669\t738 i=2 j=670\t333 i=2 j=671\t1036 i=2 j=672\t822 i=2 j=673\t411 i=2 j=674\t61 i=2 j=675\t65 i=2 j=676\t445 i=2 j=677\t131 i=2 j=678\t1004 i=2 j=679\t126 i=2 j=680\t458 i=2 j=681\t339 i=2 j=682\t383 i=2 j=683\t761 i=2 j=684\t849 i=2 j=685\t377 i=2 j=686\t82 i=2 j=687\t83 i=2 j=688\t232 i=2 j=689\t1170 i=2 j=690\t1082 i=2 j=691\t1055 i=2 j=692\t1064 i=2 j=693\t544 i=2 j=694\t815 i=2 j=695\t373 i=2 j=696\t123 i=2 j=697\t365 i=2 j=698\t100 i=2 j=699\t191 i=2 j=700\t75 i=2 j=701\t521 i=2 j=702\t1195 i=2 j=703\t30 i=2 j=704\t171 i=2 j=705\t595 i=2 j=706\t748 i=2 j=707\t1003 i=2 j=708\t41 i=2 j=709\t306 i=2 j=710\t62 i=2 j=711\t60 i=2 j=712\t59 i=2 j=713\t438 i=2 j=714\t235 i=2 j=715\t293 i=2 j=716\t700 i=2 j=717\t436 i=2 j=718\t285 i=2 j=719\t435 i=2 j=720\t587 i=2 j=721\t753 i=2 j=722\t1009 i=2 j=723\t823 i=2 j=724\t546 i=2 j=725\t316 i=2 j=726\t778 i=2 j=727\t571 i=2 j=728\t144 i=2 j=729\t568 i=2 j=730\t1017 i=2 j=731\t48 i=2 j=732\t1033 i=2 j=733\t983 i=2 j=734\t1057 i=2 j=735\t588 i=2 j=736\t1007 i=2 j=737\t258 i=2 j=738\t666 i=2 j=739\t305 i=2 j=740\t336 i=2 j=741\t765 i=2 j=742\t366 i=2 j=743\t98 i=2 j=744\t248 i=2 j=745\t281 i=2 j=746\t1165 i=2 j=747\t260 i=2 j=748\t747 i=2 j=749\t410 i=2 j=750\t1105 i=2 j=751\t45 i=2 j=752\t896 i=2 j=753\t202 i=2 j=754\t120 i=2 j=755\t680 i=2 j=756\t741 i=2 j=757\t465 i=2 j=758\t162 i=2 j=759\t367 i=2 j=760\t404 i=2 j=761\t207 i=2 j=762\t509 i=2 j=763\t777 i=2 j=764\t772 i=2 j=765\t312 i=2 j=766\t21 i=2 j=767\t797 i=2 j=768\t1187 i=2 j=769\t398 i=2 j=770\t942 i=2 j=771\t469 i=2 j=772\t977 i=2 j=773\t81 i=2 j=774\t520 i=2 j=775\t495 i=2 j=776\t928 i=2 j=777\t759 i=2 j=778\t1081 i=2 j=779\t1060 i=2 j=780\t286 i=2 j=781\t135 i=2 j=782\t613 i=2 j=783\t885 i=2 j=784\t387 i=2 j=785\t204 i=2 j=786\t852 i=2 j=787\t934 i=2 j=788\t1140 i=2 j=789\t152 i=2 j=790\t515 i=2 j=791\t978 i=2 j=792\t655 i=2 j=793\t472 i=2 j=794\t787 i=2 j=795\t1104 i=2 j=796\t1072 i=2 j=797\t859 i=2 j=798\t214 i=2 j=799\t287 i=2 j=800\t760 i=2 j=801\t269 i=2 j=802\t164 i=2 j=803\t958 i=2 j=804\t73 i=2 j=805\t1183 i=2 j=806\t1208 i=2 j=807\t24 i=2 j=808\t439 i=2 j=809\t750 i=2 j=810\t5 i=2 j=811\t68 i=2 j=812\t1116 i=2 j=813\t536 i=2 j=814\t360 i=2 j=815\t1074 i=2 j=816\t130 i=2 j=817\t462 i=2 j=818\t150 i=2 j=819\t598 i=2 j=820\t111 i=2 j=821\t502 i=2 j=822\t394 i=2 j=823\t897 i=2 j=824\t302 i=2 j=825\t749 i=2 j=826\t1047 i=2 j=827\t1191 i=2 j=828\t964 i=2 j=829\t450 i=2 j=830\t532 i=2 j=831\t251 i=2 j=832\t274 i=2 j=833\t337 i=2 j=834\t561 i=2 j=835\t779 i=2 j=836\t406 i=2 j=837\t809 i=2 j=838\t566 i=2 j=839\t22 i=2 j=840\t549 i=2 j=841\t92 i=2 j=842\t298 i=2 j=843\t591 i=2 j=844\t635 i=2 j=845\t872 i=2 j=846\t538 i=2 j=847\t481 i=2 j=848\t294 i=2 j=849\t127 i=2 j=850\t785 i=2 j=851\t49 i=2 j=852\t813 i=2 j=853\t292 i=2 j=854\t1069 i=2 j=855\t904 i=2 j=856\t213 i=2 j=857\t556 i=2 j=858\t599 i=2 j=859\t1100 i=2 j=860\t662 i=2 j=861\t25 i=2 j=862\t957 i=2 j=863\t1030 i=2 j=864\t1169 i=2 j=865\t801 i=2 j=866\t736 i=2 j=867\t1032 i=2 j=868\t1034 i=2 j=869\t754 i=2 j=870\t668 i=2 j=871\t784 i=2 j=872\t907 i=2 j=873\t253 i=2 j=874\t583 i=2 j=875\t554 i=2 j=876\t319 i=2 j=877\t503 i=2 j=878\t230 i=2 j=879\t284 i=2 j=880\t526 i=2 j=881\t238 i=2 j=882\t326 i=2 j=883\t181 i=2 j=884\t229 i=2 j=885\t1201 i=2 j=886\t401 i=2 j=887\t775 i=2 j=888\t924 i=2 j=889\t967 i=2 j=890\t746 i=2 j=891\t453 i=2 j=892\t845 i=2 j=893\t894 i=2 j=894\t869 i=2 j=895\t1093 i=2 j=896\t90 i=2 j=897\t310 i=2 j=898\t903 i=2 j=899\t1010 i=2 j=900\t1084 i=2 j=901\t697 i=2 j=902\t1086 i=2 j=903\t345 i=2 j=904\t1182 i=2 j=905\t173 i=2 j=906\t921 i=2 j=907\t459 i=2 j=908\t124 i=2 j=909\t20 i=2 j=910\t664 i=2 j=911\t1115 i=2 j=912\t419 i=2 j=913\t370 i=2 j=914\t1113 i=2 j=915\t764 i=2 j=916\t987 i=2 j=917\t870 i=2 j=918\t898 i=2 j=919\t1011 i=2 j=920\t188 i=2 j=921\t354 i=2 j=922\t227 i=2 j=923\t236 i=2 j=924\t1020 i=2 j=925\t476 i=2 j=926\t356 i=2 j=927\t74 i=2 j=928\t1053 i=2 j=929\t347 i=2 j=930\t824 i=2 j=931\t771 i=2 j=932\t143 i=2 j=933\t63 i=2 j=934\t362 i=2 j=935\t786 i=2 j=936\t26 i=2 j=937\t1029 i=2 j=938\t420 i=2 j=939\t76 i=2 j=940\t518 i=2 j=941\t704 i=2 j=942\t137 i=2 j=943\t71 i=2 j=944\t946 i=2 j=945\t114 i=2 j=946\t332 i=2 j=947\t821 i=2 j=948\t1015 i=2 j=949\t429 i=2 j=950\t578 i=2 j=951\t646 i=2 j=952\t97 i=2 j=953\t1152 i=2 j=954\t247 i=2 j=955\t241 i=2 j=956\t1110 i=2 j=957\t867 i=2 j=958\t892 i=2 j=959\t610 i=2 j=960\t757 i=2 j=961\t808 i=2 j=962\t1028 i=2 j=963\t1049 i=2 j=964\t971 i=2 j=965\t914 i=2 j=966\t89 i=2 j=967\t1199 i=2 j=968\t726 i=2 j=969\t500 i=2 j=970\t562 i=2 j=971\t724 i=2 j=972\t623 i=2 j=973\t210 i=2 j=974\t1188 i=2 j=975\t56 i=2 j=976\t243 i=2 j=977\t862 i=2 j=978\t590 i=2 j=979\t417 i=2 j=980\t216 i=2 j=981\t79 i=2 j=982\t151 i=2 j=983\t707 i=2 j=984\t160 i=2 j=985\t763 i=2 j=986\t340 i=2 j=987\t7 i=2 j=988\t96 i=2 j=989\t295 i=2 j=990\t854 i=2 j=991\t396 i=2 j=992\t1177 i=2 j=993\t593 i=2 j=994\t508 i=2 j=995\t631 i=2 j=996\t737 i=2 j=997\t139 i=2 j=998\t632 i=2 j=999\t886 i=2 j=1000\t589 i=2 j=1001\t3 i=2 j=1002\t1092 i=2 j=1003\t2 i=2 j=1004\t1040 i=2 j=1005\t802 i=2 j=1006\t246 i=2 j=1007\t268 i=2 j=1008\t380 i=2 j=1009\t1112 i=2 j=1010\t575 i=2 j=1011\t901 i=2 j=1012\t1001 i=2 j=1013\t407 i=2 j=1014\t887 i=2 j=1015\t39 i=2 j=1016\t954 i=2 j=1017\t817 i=2 j=1018\t999 i=2 j=1019\t478 i=2 j=1020\t1136 i=2 j=1021\t1018 i=2 j=1022\t833 i=2 j=1023\t1141 i=2 j=1024\t460 i=2 j=1025\t1129 i=2 j=1026\t1138 i=2 j=1027\t860 i=2 j=1028\t352 i=2 j=1029\t961 i=2 j=1030\t91 i=2 j=1031\t307 i=2 j=1032\t840 i=2 j=1033\t348 i=2 j=1034\t975 i=2 j=1035\t184 i=2 j=1036\t250 i=2 j=1037\t52 i=2 j=1038\t186 i=2 j=1039\t1058 i=2 j=1040\t713 i=2 j=1041\t211 i=2 j=1042\t350 i=2 j=1043\t466 i=2 j=1044\t895 i=2 j=1045\t201 i=2 j=1046\t169 i=2 j=1047\t708 i=2 j=1048\t1118 i=2 j=1049\t516 i=2 j=1050\t504 i=2 j=1051\t1076 i=2 j=1052\t511 i=2 j=1053\t1099 i=2 j=1054\t883 i=2 j=1055\t910 i=2 j=1056\t744 i=2 j=1057\t642 i=2 j=1058\t951 i=2 j=1059\t1145 i=2 j=1060\t799 i=2 j=1061\t93 i=2 j=1062\t19 i=2 j=1063\t343 i=2 j=1064\t740 i=2 j=1065\t1173 i=2 j=1066\t1089 i=2 j=1067\t624 i=2 j=1068\t927 i=2 j=1069\t715 i=2 j=1070\t712 i=2 j=1071\t721 i=2 j=1072\t579 i=2 j=1073\t346 i=2 j=1074\t256 i=2 j=1075\t1098 i=2 j=1076\t970 i=2 j=1077\t947 i=2 j=1078\t389 i=2 j=1079\t912 i=2 j=1080\t600 i=2 j=1081\t1124 i=2 j=1082\t605 i=2 j=1083\t573 i=2 j=1084\t995 i=2 j=1085\t149 i=2 j=1086\t800 i=2 j=1087\t240 i=2 j=1088\t489 i=2 j=1089\t54 i=2 j=1090\t1172 i=2 j=1091\t877 i=2 j=1092\t161 i=2 j=1093\t1051 i=2 j=1094\t984 i=2 j=1095\t608 i=2 j=1096\t634 i=2 j=1097\t4 i=2 j=1098\t990 i=2 j=1099\t552 i=2 j=1100\t767 i=2 j=1101\t1044 i=2 j=1102\t733 i=2 j=1103\t393 i=2 j=1104\t902 i=2 j=1105\t663 i=2 j=1106\t324 i=2 j=1107\t1179 i=2 j=1108\t1114 i=2 j=1109\t418 i=2 j=1110\t875 i=2 j=1111\t38 i=2 j=1112\t402 i=2 j=1113\t1190 i=2 j=1114\t1123 i=2 j=1115\t993 i=2 j=1116\t528 i=2 j=1117\t540 i=2 j=1118\t547 i=2 j=1119\t698 i=2 j=1120\t952 i=2 j=1121\t918 i=2 j=1122\t1000 i=2 j=1123\t960 i=2 j=1124\t906 i=2 j=1125\t1155 i=2 j=1126\t386 i=2 j=1127\t8 i=2 j=1128\t163 i=2 j=1129\t132 i=2 j=1130\t1068 i=2 j=1131\t820 i=2 j=1132\t31 i=2 j=1133\t1180 i=2 j=1134\t826 i=2 j=1135\t80 i=2 j=1136\t1085 i=2 j=1137\t1158 i=2 j=1138\t408 i=2 j=1139\t196 i=2 j=1140\t550 i=2 j=1141\t559 i=2 j=1142\t1079 i=2 j=1143\t1162 i=2 j=1144\t1200 i=2 j=1145\t57 i=2 j=1146\t190 i=2 j=1147\t452 i=2 j=1148\t1142 i=2 j=1149\t1091 i=2 j=1150\t55 i=2 j=1151\t651 i=2 j=1152\t1130 i=2 j=1153\t617 i=2 j=1154\t1035 i=2 j=1155\t99 i=2 j=1156\t814 i=2 j=1157\t781 i=2 j=1158\t677 i=2 j=1159\t1096 i=2 j=1160\t255 i=2 j=1161\t616 i=2 j=1162\t633 i=2 j=1163\t640 i=2 j=1164\t648 i=2 j=1165\t51 i=2 j=1166\t492 i=2 j=1167\t1122 i=2 j=1168\t308 i=2 j=1169\t1019 i=2 j=1170\t1088 i=2 j=1171\t42 i=2 j=1172\t421 i=2 j=1173\t1016 i=2 j=1174\t426 i=2 j=1175\t1078 i=2 j=1176\t6 i=2 j=1177\t531 i=2 j=1178\t254 i=2 j=1179\t672 i=2 j=1180\t673 i=2 j=1181\t676 i=2 j=1182\t328 i=2 j=1183\t273 i=2 j=1184\t548 i=2 j=1185\t84 i=2 j=1186\t735 i=2 j=1187\t788 i=2 j=1188\t899 i=2 j=1189\t382 i=2 j=1190\t400 i=2 j=1191\t371 i=2 j=1192\t18 i=2 j=1193\t643 i=2 j=1194\t283 i=2 j=1195\t351 i=2 j=1196\t187 i=2 j=1197\t224 i=2 j=1198\t683 i=2 j=1199\t1026 i=2 j=1200\t1197 i=2 j=1201\t496 i=2 j=1202\t1012 i=3 j=0\t850 i=3 j=1\t86 i=3 j=2\t692 i=3 j=3\t537 i=3 j=4\t829 i=3 j=5\t943 i=3 j=6\t1171 i=3 j=7\t638 i=3 j=8\t702 i=3 j=9\t146 i=3 j=10\t228 i=3 j=11\t185 i=3 j=12\t266 i=3 j=13\t1126 i=3 j=14\t94 i=3 j=15\t742 i=3 j=16\t501 i=3 j=17\t147 i=3 j=18\t791 i=3 j=19\t1041 i=3 j=20\t1134 i=3 j=21\t890 i=3 j=22\t1066 i=3 j=23\t517 i=3 j=24\t1205 i=3 j=25\t586 i=3 j=26\t644 i=3 j=27\t441 i=3 j=28\t953 i=3 j=29\t1031 i=3 j=30\t321 i=3 j=31\t1166 i=3 j=32\t693 i=3 j=33\t1139 i=3 j=34\t47 i=3 j=35\t77 i=3 j=36\t275 i=3 j=37\t176 i=3 j=38\t933 i=3 j=39\t945 i=3 j=40\t622 i=3 j=41\t270 i=3 j=42\t660 i=3 j=43\t654 i=3 j=44\t969 i=3 j=45\t874 i=3 j=46\t743 i=3 j=47\t414 i=3 j=48\t527 i=3 j=49\t112 i=3 j=50\t206 i=3 j=51\t858 i=3 j=52\t1133 i=3 j=53\t843 i=3 j=54\t926 i=3 j=55\t857 i=3 j=56\t675 i=3 j=57\t981 i=3 j=58\t309 i=3 j=59\t994 i=3 j=60\t1075 i=3 j=61\t428 i=3 j=62\t671 i=3 j=63\t165 i=3 j=64\t323 i=3 j=65\t128 i=3 j=66\t461 i=3 j=67\t488 i=3 j=68\t674 i=3 j=69\t507 i=3 j=70\t774 i=3 j=71\t745 i=3 j=72\t569 i=3 j=73\t563 i=3 j=74\t1163 i=3 j=75\t262 i=3 j=76\t905 i=3 j=77\t242 i=3 j=78\t1189 i=3 j=79\t628 i=3 j=80\t395 i=3 j=81\t272 i=3 j=82\t908 i=3 j=83\t811 i=3 j=84\t1038 i=3 j=85\t422 i=3 j=86\t415 i=3 j=87\t732 i=3 j=88\t792 i=3 j=89\t1108 i=3 j=90\t88 i=3 j=91\t727 i=3 j=92\t931 i=3 j=93\t570 i=3 j=94\t689 i=3 j=95\t296 i=3 j=96\t690 i=3 j=97\t1101 i=3 j=98\t1153 i=3 j=99\t962 i=3 j=100\t581 i=3 j=101\t141 i=3 j=102\t1131 i=3 j=103\t1024 i=3 j=104\t192 i=3 j=105\t506 i=3 j=106\t136 i=3 j=107\t551 i=3 j=108\t842 i=3 j=109\t626 i=3 j=110\t650 i=3 j=111\t1042 i=3 j=112\t11 i=3 j=113\t1056 i=3 j=114\t1087 i=3 j=115\t972 i=3 j=116\t911 i=3 j=117\t1168 i=3 j=118\t1005 i=3 j=119\t941 i=3 j=120\t596 i=3 j=121\t619 i=3 j=122\t344 i=3 j=123\t803 i=3 j=124\t220 i=3 j=125\t1070 i=3 j=126\t493 i=3 j=127\t301 i=3 j=128\t178 i=3 j=129\t667 i=3 j=130\t865 i=3 j=131\t1039 i=3 j=132\t523 i=3 j=133\t490 i=3 j=134\t484 i=3 j=135\t15 i=3 j=136\t249 i=3 j=137\t519 i=3 j=138\t1050 i=3 j=139\t847 i=3 j=140\t212 i=3 j=141\t1054 i=3 j=142\t1083 i=3 j=143\t868 i=3 j=144\t179 i=3 j=145\t1156 i=3 j=146\t300 i=3 j=147\t116 i=3 j=148\t335 i=3 j=149\t739 i=3 j=150\t730 i=3 j=151\t264 i=3 j=152\t819 i=3 j=153\t172 i=3 j=154\t376 i=3 j=155\t391 i=3 j=156\t37 i=3 j=157\t541 i=3 j=158\t592 i=3 j=159\t684 i=3 j=160\t856 i=3 j=161\t378 i=3 j=162\t297 i=3 j=163\t711 i=3 j=164\t992 i=3 j=165\t534 i=3 j=166\t72 i=3 j=167\t920 i=3 j=168\t108 i=3 j=169\t682 i=3 j=170\t311 i=3 j=171\t558 i=3 j=172\t261 i=3 j=173\t866 i=3 j=174\t710 i=3 j=175\t848 i=3 j=176\t397 i=3 j=177\t755 i=3 j=178\t752 i=3 j=179\t1164 i=3 j=180\t659 i=3 j=181\t665 i=3 j=182\t1107 i=3 j=183\t839 i=3 j=184\t158 i=3 j=185\t545 i=3 j=186\t154 i=3 j=187\t770 i=3 j=188\t929 i=3 j=189\t627 i=3 j=190\t965 i=3 j=191\t1196 i=3 j=192\t917 i=3 j=193\t434 i=3 j=194\t125 i=3 j=195\t1073 i=3 j=196\t1094 i=3 j=197\t1002 i=3 j=198\t486 i=3 j=199\t221 i=3 j=200\t359 i=3 j=201\t313 i=3 j=202\t177 i=3 j=203\t973 i=3 j=204\t939 i=3 j=205\t830 i=3 j=206\t374 i=3 j=207\t818 i=3 j=208\t368 i=3 j=209\t1194 i=3 j=210\t1198 i=3 j=211\t678 i=3 j=212\t776 i=3 j=213\t879 i=3 j=214\t940 i=3 j=215\t670 i=3 j=216\t218 i=3 j=217\t1137 i=3 j=218\t1207 i=3 j=219\t831 i=3 j=220\t915 i=3 j=221\t271 i=3 j=222\t34 i=3 j=223\t1146 i=3 j=224\t431 i=3 j=225\t925 i=3 j=226\t645 i=3 j=227\t405 i=3 j=228\t485 i=3 j=229\t451 i=3 j=230\t606 i=3 j=231\t691 i=3 j=232\t621 i=3 j=233\t893 i=3 j=234\t403 i=3 j=235\t208 i=3 j=236\t982 i=3 j=237\t768 i=3 j=238\t1109 i=3 j=239\t1059 i=3 j=240\t361 i=3 j=241\t1128 i=3 j=242\t555 i=3 j=243\t1148 i=3 j=244\t388 i=3 j=245\t798 i=3 j=246\t477 i=3 j=247\t291 i=3 j=248\t142 i=3 j=249\t696 i=3 j=250\t449 i=3 j=251\t1132 i=3 j=252\t464 i=3 j=253\t530 i=3 j=254\t10 i=3 j=255\t342 i=3 j=256\t652 i=3 j=257\t448 i=3 j=258\t1176 i=3 j=259\t101 i=3 j=260\t29 i=3 j=261\t1149 i=3 j=262\t796 i=3 j=263\t385 i=3 j=264\t577 i=3 j=265\t603 i=3 j=266\t966 i=3 j=267\t602 i=3 j=268\t317 i=3 j=269\t155 i=3 j=270\t574 i=3 j=271\t1021 i=3 j=272\t609 i=3 j=273\t257 i=3 j=274\t35 i=3 j=275\t780 i=3 j=276\t679 i=3 j=277\t714 i=3 j=278\t636 i=3 j=279\t338 i=3 j=280\t766 i=3 j=281\t12 i=3 j=282\t277 i=3 j=283\t1103 i=3 j=284\t512 i=3 j=285\t470 i=3 j=286\t580 i=3 j=287\t734 i=3 j=288\t804 i=3 j=289\t263 i=3 j=290\t463 i=3 j=291\t252 i=3 j=292\t222 i=3 j=293\t1186 i=3 j=294\t888 i=3 j=295\t53 i=3 j=296\t27 i=3 j=297\t557 i=3 j=298\t937 i=3 j=299\t85 i=3 j=300\t102 i=3 j=301\t413 i=3 j=302\t320 i=3 j=303\t363 i=3 j=304\t686 i=3 j=305\t695 i=3 j=306\t412 i=3 j=307\t487 i=3 j=308\t703 i=3 j=309\t793 i=3 j=310\t539 i=3 j=311\t709 i=3 j=312\t23 i=3 j=313\t835 i=3 j=314\t900 i=3 j=315\t1121 i=3 j=316\t14 i=3 j=317\t974 i=3 j=318\t1127 i=3 j=319\t1147 i=3 j=320\t828 i=3 j=321\t1184 i=3 j=322\t399 i=3 j=323\t980 i=3 j=324\t145 i=3 j=325\t572 i=3 j=326\t1161 i=3 j=327\t956 i=3 j=328\t1160 i=3 j=329\t314 i=3 j=330\t1102 i=3 j=331\t239 i=3 j=332\t189 i=3 j=333\t32 i=3 j=334\t33 i=3 j=335\t168 i=3 j=336\t58 i=3 j=337\t1111 i=3 j=338\t584 i=3 j=339\t1080 i=3 j=340\t384 i=3 j=341\t863 i=3 j=342\t197 i=3 j=343\t69 i=3 j=344\t922 i=3 j=345\t706 i=3 j=346\t237 i=3 j=347\t327 i=3 j=348\t717 i=3 j=349\t329 i=3 j=350\t117 i=3 j=351\t471 i=3 j=352\t423 i=3 j=353\t789 i=3 j=354\t641 i=3 j=355\t225 i=3 j=356\t244 i=3 j=357\t234 i=3 j=358\t498 i=3 j=359\t542 i=3 j=360\t510 i=3 j=361\t494 i=3 j=362\t223 i=3 j=363\t505 i=3 j=364\t533 i=3 j=365\t560 i=3 j=366\t17 i=3 j=367\t653 i=3 j=368\t78 i=3 j=369\t514 i=3 j=370\t880 i=3 j=371\t807 i=3 j=372\t409 i=3 j=373\t948 i=3 j=374\t1202 i=3 j=375\t1046 i=3 j=376\t998 i=3 j=377\t456 i=3 j=378\t988 i=3 j=379\t891 i=3 j=380\t876 i=3 j=381\t288 i=3 j=382\t567 i=3 j=383\t950 i=3 j=384\t1045 i=3 j=385\t475 i=3 j=386\t46 i=3 j=387\t1178 i=3 j=388\t299 i=3 j=389\t594 i=3 j=390\t991 i=3 j=391\t985 i=3 j=392\t986 i=3 j=393\t1022 i=3 j=394\t87 i=3 j=395\t731 i=3 j=396\t153 i=3 j=397\t1150 i=3 j=398\t497 i=3 j=399\t851 i=3 j=400\t334 i=3 j=401\t864 i=3 j=402\t601 i=3 j=403\t226 i=3 j=404\t482 i=3 j=405\t535 i=3 j=406\t369 i=3 j=407\t199 i=3 j=408\t1175 i=3 j=409\t1077 i=3 j=410\t233 i=3 j=411\t716 i=3 j=412\t303 i=3 j=413\t773 i=3 j=414\t647 i=3 j=415\t245 i=3 j=416\t882 i=3 j=417\t276 i=3 j=418\t639 i=3 j=419\t916 i=3 j=420\t884 i=3 j=421\t183 i=3 j=422\t170 i=3 j=423\t95 i=3 j=424\t1174 i=3 j=425\t658 i=3 j=426\t881 i=3 j=427\t783 i=3 j=428\t585 i=3 j=429\t873 i=3 j=430\t838 i=3 j=431\t625 i=3 j=432\t720 i=3 j=433\t725 i=3 j=434\t1151 i=3 j=435\t582 i=3 j=436\t529 i=3 j=437\t955 i=3 j=438\t1204 i=3 j=439\t318 i=3 j=440\t769 i=3 j=441\t1106 i=3 j=442\t440 i=3 j=443\t1203 i=3 j=444\t1117 i=3 j=445\t729 i=3 j=446\t719 i=3 j=447\t932 i=3 j=448\t166 i=3 j=449\t620 i=3 j=450\t282 i=3 j=451\t930 i=3 j=452\t701 i=3 j=453\t315 i=3 j=454\t611 i=3 j=455\t979 i=3 j=456\t209 i=3 j=457\t416 i=3 j=458\t16 i=3 j=459\t446 i=3 j=460\t846 i=3 j=461\t375 i=3 j=462\t909 i=3 j=463\t699 i=3 j=464\t756 i=3 j=465\t195 i=3 j=466\t723 i=3 j=467\t129 i=3 j=468\t827 i=3 j=469\t968 i=3 j=470\t522 i=3 j=471\t119 i=3 j=472\t688 i=3 j=473\t681 i=3 j=474\t1006 i=3 j=475\t148 i=3 j=476\t182 i=3 j=477\t267 i=3 j=478\t433 i=3 j=479\t13 i=3 j=480\t1206 i=3 j=481\t118 i=3 j=482\t355 i=3 j=483\t358 i=3 j=484\t473 i=3 j=485\t1125 i=3 j=486\t1025 i=3 j=487\t259 i=3 j=488\t524 i=3 j=489\t576 i=3 j=490\t1013 i=3 j=491\t1097 i=3 j=492\t597 i=3 j=493\t474 i=3 j=494\t455 i=3 j=495\t565 i=3 j=496\t341 i=3 j=497\t1144 i=3 j=498\t855 i=3 j=499\t106 i=3 j=500\t372 i=3 j=501\t104 i=3 j=502\t782 i=3 j=503\t43 i=3 j=504\t816 i=3 j=505\t105 i=3 j=506\t66 i=3 j=507\t70 i=3 j=508\t825 i=3 j=509\t607 i=3 j=510\t1043 i=3 j=511\t110 i=3 j=512\t442 i=3 j=513\t959 i=3 j=514\t612 i=3 j=515\t834 i=3 j=516\t454 i=3 j=517\t837 i=3 j=518\t140 i=3 j=519\t203 i=3 j=520\t40 i=3 j=521\t1119 i=3 j=522\t215 i=3 j=523\t1090 i=3 j=524\t923 i=3 j=525\t279 i=3 j=526\t790 i=3 j=527\t122 i=3 j=528\t938 i=3 j=529\t1 i=3 j=530\t167 i=3 j=531\t121 i=3 j=532\t1181 i=3 j=533\t1048 i=3 j=534\t133 i=3 j=535\t427 i=3 j=536\t134 i=3 j=537\t198 i=3 j=538\t1027 i=3 j=539\t50 i=3 j=540\t913 i=3 j=541\t1023 i=3 j=542\t963 i=3 j=543\t810 i=3 j=544\t115 i=3 j=545\t483 i=3 j=546\t812 i=3 j=547\t1062 i=3 j=548\t180 i=3 j=549\t1159 i=3 j=550\t871 i=3 j=551\t36 i=3 j=552\t1067 i=3 j=553\t669 i=3 j=554\t44 i=3 j=555\t217 i=3 j=556\t480 i=3 j=557\t437 i=3 j=558\t278 i=3 j=559\t425 i=3 j=560\t491 i=3 j=561\t107 i=3 j=562\t989 i=3 j=563\t353 i=3 j=564\t656 i=3 j=565\t331 i=3 j=566\t280 i=3 j=567\t1143 i=3 j=568\t685 i=3 j=569\t364 i=3 j=570\t758 i=3 j=571\t806 i=3 j=572\t290 i=3 j=573\t553 i=3 j=574\t64 i=3 j=575\t1065 i=3 j=576\t795 i=3 j=577\t113 i=3 j=578\t194 i=3 j=579\t841 i=3 j=580\t28 i=3 j=581\t614 i=3 j=582\t1120 i=3 j=583\t525 i=3 j=584\t996 i=3 j=585\t1185 i=3 j=586\t615 i=3 j=587\t564 i=3 j=588\t1037 i=3 j=589\t325 i=3 j=590\t424 i=3 j=591\t630 i=3 j=592\t1095 i=3 j=593\t138 i=3 j=594\t604 i=3 j=595\t193 i=3 j=596\t349 i=3 j=597\t762 i=3 j=598\t1014 i=3 j=599\t832 i=3 j=600\t499 i=3 j=601\t844 i=3 j=602\t949 i=3 j=603\t1063 i=3 j=604\t513 i=3 j=605\t637 i=3 j=606\t543 i=3 j=607\t157 i=3 j=608\t231 i=3 j=609\t1193 i=3 j=610\t976 i=3 j=611\t751 i=3 j=612\t889 i=3 j=613\t200 i=3 j=614\t794 i=3 j=615\t1008 i=3 j=616\t467 i=3 j=617\t381 i=3 j=618\t718 i=3 j=619\t687 i=3 j=620\t444 i=3 j=621\t304 i=3 j=622\t661 i=3 j=623\t878 i=3 j=624\t392 i=3 j=625\t109 i=3 j=626\t1157 i=3 j=627\t853 i=3 j=628\t379 i=3 j=629\t836 i=3 j=630\t1071 i=3 j=631\t1154 i=3 j=632\t219 i=3 j=633\t447 i=3 j=634\t629 i=3 j=635\t156 i=3 j=636\t997 i=3 j=637\t649 i=3 j=638\t330 i=3 j=639\t322 i=3 j=640\t443 i=3 j=641\t1167 i=3 j=642\t618 i=3 j=643\t205 i=3 j=644\t265 i=3 j=645\t1135 i=3 j=646\t1192 i=3 j=647\t390 i=3 j=648\t357 i=3 j=649\t805 i=3 j=650\t468 i=3 j=651\t728 i=3 j=652\t457 i=3 j=653\t705 i=3 j=654\t936 i=3 j=655\t1061 i=3 j=656\t67 i=3 j=657\t935 i=3 j=658\t175 i=3 j=659\t432 i=3 j=660\t944 i=3 j=661\t722 i=3 j=662\t174 i=3 j=663\t919 i=3 j=664\t159 i=3 j=665\t103 i=3 j=666\t657 i=3 j=667\t479 i=3 j=668\t289 i=3 j=669\t738 i=3 j=670\t333 i=3 j=671\t1036 i=3 j=672\t822 i=3 j=673\t411 i=3 j=674\t61 i=3 j=675\t65 i=3 j=676\t445 i=3 j=677\t131 i=3 j=678\t1004 i=3 j=679\t126 i=3 j=680\t458 i=3 j=681\t339 i=3 j=682\t383 i=3 j=683\t761 i=3 j=684\t849 i=3 j=685\t377 i=3 j=686\t82 i=3 j=687\t83 i=3 j=688\t232 i=3 j=689\t1170 i=3 j=690\t1082 i=3 j=691\t1055 i=3 j=692\t1064 i=3 j=693\t544 i=3 j=694\t815 i=3 j=695\t373 i=3 j=696\t123 i=3 j=697\t365 i=3 j=698\t100 i=3 j=699\t191 i=3 j=700\t75 i=3 j=701\t521 i=3 j=702\t1195 i=3 j=703\t30 i=3 j=704\t171 i=3 j=705\t595 i=3 j=706\t748 i=3 j=707\t1003 i=3 j=708\t41 i=3 j=709\t306 i=3 j=710\t62 i=3 j=711\t60 i=3 j=712\t59 i=3 j=713\t438 i=3 j=714\t235 i=3 j=715\t293 i=3 j=716\t700 i=3 j=717\t436 i=3 j=718\t285 i=3 j=719\t435 i=3 j=720\t587 i=3 j=721\t753 i=3 j=722\t1009 i=3 j=723\t823 i=3 j=724\t546 i=3 j=725\t316 i=3 j=726\t778 i=3 j=727\t571 i=3 j=728\t144 i=3 j=729\t568 i=3 j=730\t1017 i=3 j=731\t48 i=3 j=732\t1033 i=3 j=733\t983 i=3 j=734\t1057 i=3 j=735\t588 i=3 j=736\t1007 i=3 j=737\t258 i=3 j=738\t666 i=3 j=739\t305 i=3 j=740\t336 i=3 j=741\t765 i=3 j=742\t366 i=3 j=743\t98 i=3 j=744\t248 i=3 j=745\t281 i=3 j=746\t1165 i=3 j=747\t260 i=3 j=748\t747 i=3 j=749\t410 i=3 j=750\t1105 i=3 j=751\t45 i=3 j=752\t896 i=3 j=753\t202 i=3 j=754\t120 i=3 j=755\t680 i=3 j=756\t741 i=3 j=757\t465 i=3 j=758\t162 i=3 j=759\t367 i=3 j=760\t404 i=3 j=761\t207 i=3 j=762\t509 i=3 j=763\t777 i=3 j=764\t772 i=3 j=765\t312 i=3 j=766\t21 i=3 j=767\t797 i=3 j=768\t1187 i=3 j=769\t398 i=3 j=770\t942 i=3 j=771\t469 i=3 j=772\t977 i=3 j=773\t81 i=3 j=774\t520 i=3 j=775\t495 i=3 j=776\t928 i=3 j=777\t759 i=3 j=778\t1081 i=3 j=779\t1060 i=3 j=780\t286 i=3 j=781\t135 i=3 j=782\t613 i=3 j=783\t885 i=3 j=784\t387 i=3 j=785\t204 i=3 j=786\t852 i=3 j=787\t934 i=3 j=788\t1140 i=3 j=789\t152 i=3 j=790\t515 i=3 j=791\t978 i=3 j=792\t655 i=3 j=793\t472 i=3 j=794\t787 i=3 j=795\t1104 i=3 j=796\t1072 i=3 j=797\t859 i=3 j=798\t214 i=3 j=799\t287 i=3 j=800\t760 i=3 j=801\t269 i=3 j=802\t164 i=3 j=803\t958 i=3 j=804\t73 i=3 j=805\t1183 i=3 j=806\t1208 i=3 j=807\t24 i=3 j=808\t439 i=3 j=809\t750 i=3 j=810\t5 i=3 j=811\t68 i=3 j=812\t1116 i=3 j=813\t536 i=3 j=814\t360 i=3 j=815\t1074 i=3 j=816\t130 i=3 j=817\t462 i=3 j=818\t150 i=3 j=819\t598 i=3 j=820\t111 i=3 j=821\t502 i=3 j=822\t394 i=3 j=823\t897 i=3 j=824\t302 i=3 j=825\t749 i=3 j=826\t1047 i=3 j=827\t1191 i=3 j=828\t964 i=3 j=829\t450 i=3 j=830\t532 i=3 j=831\t251 i=3 j=832\t274 i=3 j=833\t337 i=3 j=834\t561 i=3 j=835\t779 i=3 j=836\t406 i=3 j=837\t809 i=3 j=838\t566 i=3 j=839\t22 i=3 j=840\t549 i=3 j=841\t92 i=3 j=842\t298 i=3 j=843\t591 i=3 j=844\t635 i=3 j=845\t872 i=3 j=846\t538 i=3 j=847\t481 i=3 j=848\t294 i=3 j=849\t127 i=3 j=850\t785 i=3 j=851\t49 i=3 j=852\t813 i=3 j=853\t292 i=3 j=854\t1069 i=3 j=855\t904 i=3 j=856\t213 i=3 j=857\t556 i=3 j=858\t599 i=3 j=859\t1100 i=3 j=860\t662 i=3 j=861\t25 i=3 j=862\t957 i=3 j=863\t1030 i=3 j=864\t1169 i=3 j=865\t801 i=3 j=866\t736 i=3 j=867\t1032 i=3 j=868\t1034 i=3 j=869\t754 i=3 j=870\t668 i=3 j=871\t784 i=3 j=872\t907 i=3 j=873\t253 i=3 j=874\t583 i=3 j=875\t554 i=3 j=876\t319 i=3 j=877\t503 i=3 j=878\t230 i=3 j=879\t284 i=3 j=880\t526 i=3 j=881\t238 i=3 j=882\t326 i=3 j=883\t181 i=3 j=884\t229 i=3 j=885\t1201 i=3 j=886\t401 i=3 j=887\t775 i=3 j=888\t924 i=3 j=889\t967 i=3 j=890\t746 i=3 j=891\t453 i=3 j=892\t845 i=3 j=893\t894 i=3 j=894\t869 i=3 j=895\t1093 i=3 j=896\t90 i=3 j=897\t310 i=3 j=898\t903 i=3 j=899\t1010 i=3 j=900\t1084 i=3 j=901\t697 i=3 j=902\t1086 i=3 j=903\t345 i=3 j=904\t1182 i=3 j=905\t173 i=3 j=906\t921 i=3 j=907\t459 i=3 j=908\t124 i=3 j=909\t20 i=3 j=910\t664 i=3 j=911\t1115 i=3 j=912\t419 i=3 j=913\t370 i=3 j=914\t1113 i=3 j=915\t764 i=3 j=916\t987 i=3 j=917\t870 i=3 j=918\t898 i=3 j=919\t1011 i=3 j=920\t188 i=3 j=921\t354 i=3 j=922\t227 i=3 j=923\t236 i=3 j=924\t1020 i=3 j=925\t476 i=3 j=926\t356 i=3 j=927\t74 i=3 j=928\t1053 i=3 j=929\t347 i=3 j=930\t824 i=3 j=931\t771 i=3 j=932\t143 i=3 j=933\t63 i=3 j=934\t362 i=3 j=935\t786 i=3 j=936\t26 i=3 j=937\t1029 i=3 j=938\t420 i=3 j=939\t76 i=3 j=940\t518 i=3 j=941\t704 i=3 j=942\t137 i=3 j=943\t71 i=3 j=944\t946 i=3 j=945\t114 i=3 j=946\t332 i=3 j=947\t821 i=3 j=948\t1015 i=3 j=949\t429 i=3 j=950\t578 i=3 j=951\t646 i=3 j=952\t97 i=3 j=953\t1152 i=3 j=954\t247 i=3 j=955\t241 i=3 j=956\t1110 i=3 j=957\t867 i=3 j=958\t892 i=3 j=959\t610 i=3 j=960\t757 i=3 j=961\t808 i=3 j=962\t1028 i=3 j=963\t1049 i=3 j=964\t971 i=3 j=965\t914 i=3 j=966\t89 i=3 j=967\t1199 i=3 j=968\t726 i=3 j=969\t500 i=3 j=970\t562 i=3 j=971\t724 i=3 j=972\t623 i=3 j=973\t210 i=3 j=974\t1188 i=3 j=975\t56 i=3 j=976\t243 i=3 j=977\t862 i=3 j=978\t590 i=3 j=979\t417 i=3 j=980\t216 i=3 j=981\t79 i=3 j=982\t151 i=3 j=983\t707 i=3 j=984\t160 i=3 j=985\t763 i=3 j=986\t340 i=3 j=987\t7 i=3 j=988\t96 i=3 j=989\t295 i=3 j=990\t854 i=3 j=991\t396 i=3 j=992\t1177 i=3 j=993\t593 i=3 j=994\t508 i=3 j=995\t631 i=3 j=996\t737 i=3 j=997\t139 i=3 j=998\t632 i=3 j=999\t886 i=3 j=1000\t589 i=3 j=1001\t3 i=3 j=1002\t1092 i=3 j=1003\t2 i=3 j=1004\t1040 i=3 j=1005\t802 i=3 j=1006\t246 i=3 j=1007\t268 i=3 j=1008\t380 i=3 j=1009\t1112 i=3 j=1010\t575 i=3 j=1011\t901 i=3 j=1012\t1001 i=3 j=1013\t407 i=3 j=1014\t887 i=3 j=1015\t39 i=3 j=1016\t954 i=3 j=1017\t817 i=3 j=1018\t999 i=3 j=1019\t478 i=3 j=1020\t1136 i=3 j=1021\t1018 i=3 j=1022\t833 i=3 j=1023\t1141 i=3 j=1024\t460 i=3 j=1025\t1129 i=3 j=1026\t1138 i=3 j=1027\t860 i=3 j=1028\t352 i=3 j=1029\t961 i=3 j=1030\t91 i=3 j=1031\t307 i=3 j=1032\t840 i=3 j=1033\t348 i=3 j=1034\t975 i=3 j=1035\t184 i=3 j=1036\t250 i=3 j=1037\t52 i=3 j=1038\t186 i=3 j=1039\t1058 i=3 j=1040\t713 i=3 j=1041\t211 i=3 j=1042\t350 i=3 j=1043\t466 i=3 j=1044\t895 i=3 j=1045\t201 i=3 j=1046\t169 i=3 j=1047\t708 i=3 j=1048\t1118 i=3 j=1049\t516 i=3 j=1050\t504 i=3 j=1051\t1076 i=3 j=1052\t511 i=3 j=1053\t1099 i=3 j=1054\t883 i=3 j=1055\t910 i=3 j=1056\t744 i=3 j=1057\t642 i=3 j=1058\t951 i=3 j=1059\t1145 i=3 j=1060\t799 i=3 j=1061\t93 i=3 j=1062\t19 i=3 j=1063\t343 i=3 j=1064\t740 i=3 j=1065\t1173 i=3 j=1066\t1089 i=3 j=1067\t624 i=3 j=1068\t927 i=3 j=1069\t715 i=3 j=1070\t712 i=3 j=1071\t721 i=3 j=1072\t579 i=3 j=1073\t346 i=3 j=1074\t256 i=3 j=1075\t1098 i=3 j=1076\t970 i=3 j=1077\t947 i=3 j=1078\t389 i=3 j=1079\t912 i=3 j=1080\t600 i=3 j=1081\t1124 i=3 j=1082\t605 i=3 j=1083\t573 i=3 j=1084\t995 i=3 j=1085\t149 i=3 j=1086\t800 i=3 j=1087\t240 i=3 j=1088\t489 i=3 j=1089\t54 i=3 j=1090\t1172 i=3 j=1091\t877 i=3 j=1092\t161 i=3 j=1093\t1051 i=3 j=1094\t984 i=3 j=1095\t608 i=3 j=1096\t634 i=3 j=1097\t4 i=3 j=1098\t990 i=3 j=1099\t552 i=3 j=1100\t767 i=3 j=1101\t1044 i=3 j=1102\t733 i=3 j=1103\t393 i=3 j=1104\t902 i=3 j=1105\t663 i=3 j=1106\t324 i=3 j=1107\t1179 i=3 j=1108\t1114 i=3 j=1109\t418 i=3 j=1110\t875 i=3 j=1111\t38 i=3 j=1112\t402 i=3 j=1113\t1190 i=3 j=1114\t1123 i=3 j=1115\t993 i=3 j=1116\t528 i=3 j=1117\t540 i=3 j=1118\t547 i=3 j=1119\t698 i=3 j=1120\t952 i=3 j=1121\t918 i=3 j=1122\t1000 i=3 j=1123\t960 i=3 j=1124\t906 i=3 j=1125\t1155 i=3 j=1126\t386 i=3 j=1127\t8 i=3 j=1128\t163 i=3 j=1129\t132 i=3 j=1130\t1068 i=3 j=1131\t820 i=3 j=1132\t31 i=3 j=1133\t1180 i=3 j=1134\t826 i=3 j=1135\t80 i=3 j=1136\t1085 i=3 j=1137\t1158 i=3 j=1138\t408 i=3 j=1139\t196 i=3 j=1140\t550 i=3 j=1141\t559 i=3 j=1142\t1079 i=3 j=1143\t1162 i=3 j=1144\t1200 i=3 j=1145\t57 i=3 j=1146\t190 i=3 j=1147\t452 i=3 j=1148\t1142 i=3 j=1149\t1091 i=3 j=1150\t55 i=3 j=1151\t651 i=3 j=1152\t1130 i=3 j=1153\t617 i=3 j=1154\t1035 i=3 j=1155\t99 i=3 j=1156\t814 i=3 j=1157\t781 i=3 j=1158\t677 i=3 j=1159\t1096 i=3 j=1160\t255 i=3 j=1161\t616 i=3 j=1162\t633 i=3 j=1163\t640 i=3 j=1164\t648 i=3 j=1165\t51 i=3 j=1166\t492 i=3 j=1167\t1122 i=3 j=1168\t308 i=3 j=1169\t1019 i=3 j=1170\t1088 i=3 j=1171\t42 i=3 j=1172\t421 i=3 j=1173\t1016 i=3 j=1174\t426 i=3 j=1175\t1078 i=3 j=1176\t6 i=3 j=1177\t531 i=3 j=1178\t254 i=3 j=1179\t672 i=3 j=1180\t673 i=3 j=1181\t676 i=3 j=1182\t328 i=3 j=1183\t273 i=3 j=1184\t548 i=3 j=1185\t84 i=3 j=1186\t735 i=3 j=1187\t788 i=3 j=1188\t899 i=3 j=1189\t382 i=3 j=1190\t400 i=3 j=1191\t371 i=3 j=1192\t18 i=3 j=1193\t643 i=3 j=1194\t283 i=3 j=1195\t351 i=3 j=1196\t187 i=3 j=1197\t224 i=3 j=1198\t683 i=3 j=1199\t1026 i=3 j=1200\t1197 i=3 j=1201\t496 i=3 j=1202\t1012 i=4 j=0\t850 i=4 j=1\t86 i=4 j=2\t692 i=4 j=3\t537 i=4 j=4\t829 i=4 j=5\t943 i=4 j=6\t1171 i=4 j=7\t638 i=4 j=8\t702 i=4 j=9\t146 i=4 j=10\t228 i=4 j=11\t185 i=4 j=12\t266 i=4 j=13\t1126 i=4 j=14\t94 i=4 j=15\t742 i=4 j=16\t501 i=4 j=17\t147 i=4 j=18\t791 i=4 j=19\t1041 i=4 j=20\t1134 i=4 j=21\t890 i=4 j=22\t1066 i=4 j=23\t517 i=4 j=24\t1205 i=4 j=25\t586 i=4 j=26\t644 i=4 j=27\t441 i=4 j=28\t953 i=4 j=29\t1031 i=4 j=30\t321 i=4 j=31\t1166 i=4 j=32\t693 i=4 j=33\t1139 i=4 j=34\t47 i=4 j=35\t77 i=4 j=36\t275 i=4 j=37\t176 i=4 j=38\t933 i=4 j=39\t945 i=4 j=40\t622 i=4 j=41\t270 i=4 j=42\t660 i=4 j=43\t654 i=4 j=44\t969 i=4 j=45\t874 i=4 j=46\t743 i=4 j=47\t414 i=4 j=48\t527 i=4 j=49\t112 i=4 j=50\t206 i=4 j=51\t858 i=4 j=52\t1133 i=4 j=53\t843 i=4 j=54\t926 i=4 j=55\t857 i=4 j=56\t675 i=4 j=57\t981 i=4 j=58\t309 i=4 j=59\t994 i=4 j=60\t1075 i=4 j=61\t428 i=4 j=62\t671 i=4 j=63\t165 i=4 j=64\t323 i=4 j=65\t128 i=4 j=66\t461 i=4 j=67\t488 i=4 j=68\t674 i=4 j=69\t507 i=4 j=70\t774 i=4 j=71\t745 i=4 j=72\t569 i=4 j=73\t563 i=4 j=74\t1163 i=4 j=75\t262 i=4 j=76\t905 i=4 j=77\t242 i=4 j=78\t1189 i=4 j=79\t628 i=4 j=80\t395 i=4 j=81\t272 i=4 j=82\t908 i=4 j=83\t811 i=4 j=84\t1038 i=4 j=85\t422 i=4 j=86\t415 i=4 j=87\t732 i=4 j=88\t792 i=4 j=89\t1108 i=4 j=90\t88 i=4 j=91\t727 i=4 j=92\t931 i=4 j=93\t570 i=4 j=94\t689 i=4 j=95\t296 i=4 j=96\t690 i=4 j=97\t1101 i=4 j=98\t1153 i=4 j=99\t962 i=4 j=100\t581 i=4 j=101\t141 i=4 j=102\t1131 i=4 j=103\t1024 i=4 j=104\t192 i=4 j=105\t506 i=4 j=106\t136 i=4 j=107\t551 i=4 j=108\t842 i=4 j=109\t626 i=4 j=110\t650 i=4 j=111\t1042 i=4 j=112\t11 i=4 j=113\t1056 i=4 j=114\t1087 i=4 j=115\t972 i=4 j=116\t911 i=4 j=117\t1168 i=4 j=118\t1005 i=4 j=119\t941 i=4 j=120\t596 i=4 j=121\t619 i=4 j=122\t344 i=4 j=123\t803 i=4 j=124\t220 i=4 j=125\t1070 i=4 j=126\t493 i=4 j=127\t301 i=4 j=128\t178 i=4 j=129\t667 i=4 j=130\t865 i=4 j=131\t1039 i=4 j=132\t523 i=4 j=133\t490 i=4 j=134\t484 i=4 j=135\t15 i=4 j=136\t249 i=4 j=137\t519 i=4 j=138\t1050 i=4 j=139\t847 i=4 j=140\t212 i=4 j=141\t1054 i=4 j=142\t1083 i=4 j=143\t868 i=4 j=144\t179 i=4 j=145\t1156 i=4 j=146\t300 i=4 j=147\t116 i=4 j=148\t335 i=4 j=149\t739 i=4 j=150\t730 i=4 j=151\t264 i=4 j=152\t819 i=4 j=153\t172 i=4 j=154\t376 i=4 j=155\t391 i=4 j=156\t37 i=4 j=157\t541 i=4 j=158\t592 i=4 j=159\t684 i=4 j=160\t856 i=4 j=161\t378 i=4 j=162\t297 i=4 j=163\t711 i=4 j=164\t992 i=4 j=165\t534 i=4 j=166\t72 i=4 j=167\t920 i=4 j=168\t108 i=4 j=169\t682 i=4 j=170\t311 i=4 j=171\t558 i=4 j=172\t261 i=4 j=173\t866 i=4 j=174\t710 i=4 j=175\t848 i=4 j=176\t397 i=4 j=177\t755 i=4 j=178\t752 i=4 j=179\t1164 i=4 j=180\t659 i=4 j=181\t665 i=4 j=182\t1107 i=4 j=183\t839 i=4 j=184\t158 i=4 j=185\t545 i=4 j=186\t154 i=4 j=187\t770 i=4 j=188\t929 i=4 j=189\t627 i=4 j=190\t965 i=4 j=191\t1196 i=4 j=192\t917 i=4 j=193\t434 i=4 j=194\t125 i=4 j=195\t1073 i=4 j=196\t1094 i=4 j=197\t1002 i=4 j=198\t486 i=4 j=199\t221 i=4 j=200\t359 i=4 j=201\t313 i=4 j=202\t177 i=4 j=203\t973 i=4 j=204\t939 i=4 j=205\t830 i=4 j=206\t374 i=4 j=207\t818 i=4 j=208\t368 i=4 j=209\t1194 i=4 j=210\t1198 i=4 j=211\t678 i=4 j=212\t776 i=4 j=213\t879 i=4 j=214\t940 i=4 j=215\t670 i=4 j=216\t218 i=4 j=217\t1137 i=4 j=218\t1207 i=4 j=219\t831 i=4 j=220\t915 i=4 j=221\t271 i=4 j=222\t34 i=4 j=223\t1146 i=4 j=224\t431 i=4 j=225\t925 i=4 j=226\t645 i=4 j=227\t405 i=4 j=228\t485 i=4 j=229\t451 i=4 j=230\t606 i=4 j=231\t691 i=4 j=232\t621 i=4 j=233\t893 i=4 j=234\t403 i=4 j=235\t208 i=4 j=236\t982 i=4 j=237\t768 i=4 j=238\t1109 i=4 j=239\t1059 i=4 j=240\t361 i=4 j=241\t1128 i=4 j=242\t555 i=4 j=243\t1148 i=4 j=244\t388 i=4 j=245\t798 i=4 j=246\t477 i=4 j=247\t291 i=4 j=248\t142 i=4 j=249\t696 i=4 j=250\t449 i=4 j=251\t1132 i=4 j=252\t464 i=4 j=253\t530 i=4 j=254\t10 i=4 j=255\t342 i=4 j=256\t652 i=4 j=257\t448 i=4 j=258\t1176 i=4 j=259\t101 i=4 j=260\t29 i=4 j=261\t1149 i=4 j=262\t796 i=4 j=263\t385 i=4 j=264\t577 i=4 j=265\t603 i=4 j=266\t966 i=4 j=267\t602 i=4 j=268\t317 i=4 j=269\t155 i=4 j=270\t574 i=4 j=271\t1021 i=4 j=272\t609 i=4 j=273\t257 i=4 j=274\t35 i=4 j=275\t780 i=4 j=276\t679 i=4 j=277\t714 i=4 j=278\t636 i=4 j=279\t338 i=4 j=280\t766 i=4 j=281\t12 i=4 j=282\t277 i=4 j=283\t1103 i=4 j=284\t512 i=4 j=285\t470 i=4 j=286\t580 i=4 j=287\t734 i=4 j=288\t804 i=4 j=289\t263 i=4 j=290\t463 i=4 j=291\t252 i=4 j=292\t222 i=4 j=293\t1186 i=4 j=294\t888 i=4 j=295\t53 i=4 j=296\t27 i=4 j=297\t557 i=4 j=298\t937 i=4 j=299\t85 i=4 j=300\t102 i=4 j=301\t413 i=4 j=302\t320 i=4 j=303\t363 i=4 j=304\t686 i=4 j=305\t695 i=4 j=306\t412 i=4 j=307\t487 i=4 j=308\t703 i=4 j=309\t793 i=4 j=310\t539 i=4 j=311\t709 i=4 j=312\t23 i=4 j=313\t835 i=4 j=314\t900 i=4 j=315\t1121 i=4 j=316\t14 i=4 j=317\t974 i=4 j=318\t1127 i=4 j=319\t1147 i=4 j=320\t828 i=4 j=321\t1184 i=4 j=322\t399 i=4 j=323\t980 i=4 j=324\t145 i=4 j=325\t572 i=4 j=326\t1161 i=4 j=327\t956 i=4 j=328\t1160 i=4 j=329\t314 i=4 j=330\t1102 i=4 j=331\t239 i=4 j=332\t189 i=4 j=333\t32 i=4 j=334\t33 i=4 j=335\t168 i=4 j=336\t58 i=4 j=337\t1111 i=4 j=338\t584 i=4 j=339\t1080 i=4 j=340\t384 i=4 j=341\t863 i=4 j=342\t197 i=4 j=343\t69 i=4 j=344\t922 i=4 j=345\t706 i=4 j=346\t237 i=4 j=347\t327 i=4 j=348\t717 i=4 j=349\t329 i=4 j=350\t117 i=4 j=351\t471 i=4 j=352\t423 i=4 j=353\t789 i=4 j=354\t641 i=4 j=355\t225 i=4 j=356\t244 i=4 j=357\t234 i=4 j=358\t498 i=4 j=359\t542 i=4 j=360\t510 i=4 j=361\t494 i=4 j=362\t223 i=4 j=363\t505 i=4 j=364\t533 i=4 j=365\t560 i=4 j=366\t17 i=4 j=367\t653 i=4 j=368\t78 i=4 j=369\t514 i=4 j=370\t880 i=4 j=371\t807 i=4 j=372\t409 i=4 j=373\t948 i=4 j=374\t1202 i=4 j=375\t1046 i=4 j=376\t998 i=4 j=377\t456 i=4 j=378\t988 i=4 j=379\t891 i=4 j=380\t876 i=4 j=381\t288 i=4 j=382\t567 i=4 j=383\t950 i=4 j=384\t1045 i=4 j=385\t475 i=4 j=386\t46 i=4 j=387\t1178 i=4 j=388\t299 i=4 j=389\t594 i=4 j=390\t991 i=4 j=391\t985 i=4 j=392\t986 i=4 j=393\t1022 i=4 j=394\t87 i=4 j=395\t731 i=4 j=396\t153 i=4 j=397\t1150 i=4 j=398\t497 i=4 j=399\t851 i=4 j=400\t334 i=4 j=401\t864 i=4 j=402\t601 i=4 j=403\t226 i=4 j=404\t482 i=4 j=405\t535 i=4 j=406\t369 i=4 j=407\t199 i=4 j=408\t1175 i=4 j=409\t1077 i=4 j=410\t233 i=4 j=411\t716 i=4 j=412\t303 i=4 j=413\t773 i=4 j=414\t647 i=4 j=415\t245 i=4 j=416\t882 i=4 j=417\t276 i=4 j=418\t639 i=4 j=419\t916 i=4 j=420\t884 i=4 j=421\t183 i=4 j=422\t170 i=4 j=423\t95 i=4 j=424\t1174 i=4 j=425\t658 i=4 j=426\t881 i=4 j=427\t783 i=4 j=428\t585 i=4 j=429\t873 i=4 j=430\t838 i=4 j=431\t625 i=4 j=432\t720 i=4 j=433\t725 i=4 j=434\t1151 i=4 j=435\t582 i=4 j=436\t529 i=4 j=437\t955 i=4 j=438\t1204 i=4 j=439\t318 i=4 j=440\t769 i=4 j=441\t1106 i=4 j=442\t440 i=4 j=443\t1203 i=4 j=444\t1117 i=4 j=445\t729 i=4 j=446\t719 i=4 j=447\t932 i=4 j=448\t166 i=4 j=449\t620 i=4 j=450\t282 i=4 j=451\t930 i=4 j=452\t701 i=4 j=453\t315 i=4 j=454\t611 i=4 j=455\t979 i=4 j=456\t209 i=4 j=457\t416 i=4 j=458\t16 i=4 j=459\t446 i=4 j=460\t846 i=4 j=461\t375 i=4 j=462\t909 i=4 j=463\t699 i=4 j=464\t756 i=4 j=465\t195 i=4 j=466\t723 i=4 j=467\t129 i=4 j=468\t827 i=4 j=469\t968 i=4 j=470\t522 i=4 j=471\t119 i=4 j=472\t688 i=4 j=473\t681 i=4 j=474\t1006 i=4 j=475\t148 i=4 j=476\t182 i=4 j=477\t267 i=4 j=478\t433 i=4 j=479\t13 i=4 j=480\t1206 i=4 j=481\t118 i=4 j=482\t355 i=4 j=483\t358 i=4 j=484\t473 i=4 j=485\t1125 i=4 j=486\t1025 i=4 j=487\t259 i=4 j=488\t524 i=4 j=489\t576 i=4 j=490\t1013 i=4 j=491\t1097 i=4 j=492\t597 i=4 j=493\t474 i=4 j=494\t455 i=4 j=495\t565 i=4 j=496\t341 i=4 j=497\t1144 i=4 j=498\t855 i=4 j=499\t106 i=4 j=500\t372 i=4 j=501\t104 i=4 j=502\t782 i=4 j=503\t43 i=4 j=504\t816 i=4 j=505\t105 i=4 j=506\t66 i=4 j=507\t70 i=4 j=508\t825 i=4 j=509\t607 i=4 j=510\t1043 i=4 j=511\t110 i=4 j=512\t442 i=4 j=513\t959 i=4 j=514\t612 i=4 j=515\t834 i=4 j=516\t454 i=4 j=517\t837 i=4 j=518\t140 i=4 j=519\t203 i=4 j=520\t40 i=4 j=521\t1119 i=4 j=522\t215 i=4 j=523\t1090 i=4 j=524\t923 i=4 j=525\t279 i=4 j=526\t790 i=4 j=527\t122 i=4 j=528\t938 i=4 j=529\t1 i=4 j=530\t167 i=4 j=531\t121 i=4 j=532\t1181 i=4 j=533\t1048 i=4 j=534\t133 i=4 j=535\t427 i=4 j=536\t134 i=4 j=537\t198 i=4 j=538\t1027 i=4 j=539\t50 i=4 j=540\t913 i=4 j=541\t1023 i=4 j=542\t963 i=4 j=543\t810 i=4 j=544\t115 i=4 j=545\t483 i=4 j=546\t812 i=4 j=547\t1062 i=4 j=548\t180 i=4 j=549\t1159 i=4 j=550\t871 i=4 j=551\t36 i=4 j=552\t1067 i=4 j=553\t669 i=4 j=554\t44 i=4 j=555\t217 i=4 j=556\t480 i=4 j=557\t437 i=4 j=558\t278 i=4 j=559\t425 i=4 j=560\t491 i=4 j=561\t107 i=4 j=562\t989 i=4 j=563\t353 i=4 j=564\t656 i=4 j=565\t331 i=4 j=566\t280 i=4 j=567\t1143 i=4 j=568\t685 i=4 j=569\t364 i=4 j=570\t758 i=4 j=571\t806 i=4 j=572\t290 i=4 j=573\t553 i=4 j=574\t64 i=4 j=575\t1065 i=4 j=576\t795 i=4 j=577\t113 i=4 j=578\t194 i=4 j=579\t841 i=4 j=580\t28 i=4 j=581\t614 i=4 j=582\t1120 i=4 j=583\t525 i=4 j=584\t996 i=4 j=585\t1185 i=4 j=586\t615 i=4 j=587\t564 i=4 j=588\t1037 i=4 j=589\t325 i=4 j=590\t424 i=4 j=591\t630 i=4 j=592\t1095 i=4 j=593\t138 i=4 j=594\t604 i=4 j=595\t193 i=4 j=596\t349 i=4 j=597\t762 i=4 j=598\t1014 i=4 j=599\t832 i=4 j=600\t499 i=4 j=601\t844 i=4 j=602\t949 i=4 j=603\t1063 i=4 j=604\t513 i=4 j=605\t637 i=4 j=606\t543 i=4 j=607\t157 i=4 j=608\t231 i=4 j=609\t1193 i=4 j=610\t976 i=4 j=611\t751 i=4 j=612\t889 i=4 j=613\t200 i=4 j=614\t794 i=4 j=615\t1008 i=4 j=616\t467 i=4 j=617\t381 i=4 j=618\t718 i=4 j=619\t687 i=4 j=620\t444 i=4 j=621\t304 i=4 j=622\t661 i=4 j=623\t878 i=4 j=624\t392 i=4 j=625\t109 i=4 j=626\t1157 i=4 j=627\t853 i=4 j=628\t379 i=4 j=629\t836 i=4 j=630\t1071 i=4 j=631\t1154 i=4 j=632\t219 i=4 j=633\t447 i=4 j=634\t629 i=4 j=635\t156 i=4 j=636\t997 i=4 j=637\t649 i=4 j=638\t330 i=4 j=639\t322 i=4 j=640\t443 i=4 j=641\t1167 i=4 j=642\t618 i=4 j=643\t205 i=4 j=644\t265 i=4 j=645\t1135 i=4 j=646\t1192 i=4 j=647\t390 i=4 j=648\t357 i=4 j=649\t805 i=4 j=650\t468 i=4 j=651\t728 i=4 j=652\t457 i=4 j=653\t705 i=4 j=654\t936 i=4 j=655\t1061 i=4 j=656\t67 i=4 j=657\t935 i=4 j=658\t175 i=4 j=659\t432 i=4 j=660\t944 i=4 j=661\t722 i=4 j=662\t174 i=4 j=663\t919 i=4 j=664\t159 i=4 j=665\t103 i=4 j=666\t657 i=4 j=667\t479 i=4 j=668\t289 i=4 j=669\t738 i=4 j=670\t333 i=4 j=671\t1036 i=4 j=672\t822 i=4 j=673\t411 i=4 j=674\t61 i=4 j=675\t65 i=4 j=676\t445 i=4 j=677\t131 i=4 j=678\t1004 i=4 j=679\t126 i=4 j=680\t458 i=4 j=681\t339 i=4 j=682\t383 i=4 j=683\t761 i=4 j=684\t849 i=4 j=685\t377 i=4 j=686\t82 i=4 j=687\t83 i=4 j=688\t232 i=4 j=689\t1170 i=4 j=690\t1082 i=4 j=691\t1055 i=4 j=692\t1064 i=4 j=693\t544 i=4 j=694\t815 i=4 j=695\t373 i=4 j=696\t123 i=4 j=697\t365 i=4 j=698\t100 i=4 j=699\t191 i=4 j=700\t75 i=4 j=701\t521 i=4 j=702\t1195 i=4 j=703\t30 i=4 j=704\t171 i=4 j=705\t595 i=4 j=706\t748 i=4 j=707\t1003 i=4 j=708\t41 i=4 j=709\t306 i=4 j=710\t62 i=4 j=711\t60 i=4 j=712\t59 i=4 j=713\t438 i=4 j=714\t235 i=4 j=715\t293 i=4 j=716\t700 i=4 j=717\t436 i=4 j=718\t285 i=4 j=719\t435 i=4 j=720\t587 i=4 j=721\t753 i=4 j=722\t1009 i=4 j=723\t823 i=4 j=724\t546 i=4 j=725\t316 i=4 j=726\t778 i=4 j=727\t571 i=4 j=728\t144 i=4 j=729\t568 i=4 j=730\t1017 i=4 j=731\t48 i=4 j=732\t1033 i=4 j=733\t983 i=4 j=734\t1057 i=4 j=735\t588 i=4 j=736\t1007 i=4 j=737\t258 i=4 j=738\t666 i=4 j=739\t305 i=4 j=740\t336 i=4 j=741\t765 i=4 j=742\t366 i=4 j=743\t98 i=4 j=744\t248 i=4 j=745\t281 i=4 j=746\t1165 i=4 j=747\t260 i=4 j=748\t747 i=4 j=749\t410 i=4 j=750\t1105 i=4 j=751\t45 i=4 j=752\t896 i=4 j=753\t202 i=4 j=754\t120 i=4 j=755\t680 i=4 j=756\t741 i=4 j=757\t465 i=4 j=758\t162 i=4 j=759\t367 i=4 j=760\t404 i=4 j=761\t207 i=4 j=762\t509 i=4 j=763\t777 i=4 j=764\t772 i=4 j=765\t312 i=4 j=766\t21 i=4 j=767\t797 i=4 j=768\t1187 i=4 j=769\t398 i=4 j=770\t942 i=4 j=771\t469 i=4 j=772\t977 i=4 j=773\t81 i=4 j=774\t520 i=4 j=775\t495 i=4 j=776\t928 i=4 j=777\t759 i=4 j=778\t1081 i=4 j=779\t1060 i=4 j=780\t286 i=4 j=781\t135 i=4 j=782\t613 i=4 j=783\t885 i=4 j=784\t387 i=4 j=785\t204 i=4 j=786\t852 i=4 j=787\t934 i=4 j=788\t1140 i=4 j=789\t152 i=4 j=790\t515 i=4 j=791\t978 i=4 j=792\t655 i=4 j=793\t472 i=4 j=794\t787 i=4 j=795\t1104 i=4 j=796\t1072 i=4 j=797\t859 i=4 j=798\t214 i=4 j=799\t287 i=4 j=800\t760 i=4 j=801\t269 i=4 j=802\t164 i=4 j=803\t958 i=4 j=804\t73 i=4 j=805\t1183 i=4 j=806\t1208 i=4 j=807\t24 i=4 j=808\t439 i=4 j=809\t750 i=4 j=810\t5 i=4 j=811\t68 i=4 j=812\t1116 i=4 j=813\t536 i=4 j=814\t360 i=4 j=815\t1074 i=4 j=816\t130 i=4 j=817\t462 i=4 j=818\t150 i=4 j=819\t598 i=4 j=820\t111 i=4 j=821\t502 i=4 j=822\t394 i=4 j=823\t897 i=4 j=824\t302 i=4 j=825\t749 i=4 j=826\t1047 i=4 j=827\t1191 i=4 j=828\t964 i=4 j=829\t450 i=4 j=830\t532 i=4 j=831\t251 i=4 j=832\t274 i=4 j=833\t337 i=4 j=834\t561 i=4 j=835\t779 i=4 j=836\t406 i=4 j=837\t809 i=4 j=838\t566 i=4 j=839\t22 i=4 j=840\t549 i=4 j=841\t92 i=4 j=842\t298 i=4 j=843\t591 i=4 j=844\t635 i=4 j=845\t872 i=4 j=846\t538 i=4 j=847\t481 i=4 j=848\t294 i=4 j=849\t127 i=4 j=850\t785 i=4 j=851\t49 i=4 j=852\t813 i=4 j=853\t292 i=4 j=854\t1069 i=4 j=855\t904 i=4 j=856\t213 i=4 j=857\t556 i=4 j=858\t599 i=4 j=859\t1100 i=4 j=860\t662 i=4 j=861\t25 i=4 j=862\t957 i=4 j=863\t1030 i=4 j=864\t1169 i=4 j=865\t801 i=4 j=866\t736 i=4 j=867\t1032 i=4 j=868\t1034 i=4 j=869\t754 i=4 j=870\t668 i=4 j=871\t784 i=4 j=872\t907 i=4 j=873\t253 i=4 j=874\t583 i=4 j=875\t554 i=4 j=876\t319 i=4 j=877\t503 i=4 j=878\t230 i=4 j=879\t284 i=4 j=880\t526 i=4 j=881\t238 i=4 j=882\t326 i=4 j=883\t181 i=4 j=884\t229 i=4 j=885\t1201 i=4 j=886\t401 i=4 j=887\t775 i=4 j=888\t924 i=4 j=889\t967 i=4 j=890\t746 i=4 j=891\t453 i=4 j=892\t845 i=4 j=893\t894 i=4 j=894\t869 i=4 j=895\t1093 i=4 j=896\t90 i=4 j=897\t310 i=4 j=898\t903 i=4 j=899\t1010 i=4 j=900\t1084 i=4 j=901\t697 i=4 j=902\t1086 i=4 j=903\t345 i=4 j=904\t1182 i=4 j=905\t173 i=4 j=906\t921 i=4 j=907\t459 i=4 j=908\t124 i=4 j=909\t20 i=4 j=910\t664 i=4 j=911\t1115 i=4 j=912\t419 i=4 j=913\t370 i=4 j=914\t1113 i=4 j=915\t764 i=4 j=916\t987 i=4 j=917\t870 i=4 j=918\t898 i=4 j=919\t1011 i=4 j=920\t188 i=4 j=921\t354 i=4 j=922\t227 i=4 j=923\t236 i=4 j=924\t1020 i=4 j=925\t476 i=4 j=926\t356 i=4 j=927\t74 i=4 j=928\t1053 i=4 j=929\t347 i=4 j=930\t824 i=4 j=931\t771 i=4 j=932\t143 i=4 j=933\t63 i=4 j=934\t362 i=4 j=935\t786 i=4 j=936\t26 i=4 j=937\t1029 i=4 j=938\t420 i=4 j=939\t76 i=4 j=940\t518 i=4 j=941\t704 i=4 j=942\t137 i=4 j=943\t71 i=4 j=944\t946 i=4 j=945\t114 i=4 j=946\t332 i=4 j=947\t821 i=4 j=948\t1015 i=4 j=949\t429 i=4 j=950\t578 i=4 j=951\t646 i=4 j=952\t97 i=4 j=953\t1152 i=4 j=954\t247 i=4 j=955\t241 i=4 j=956\t1110 i=4 j=957\t867 i=4 j=958\t892 i=4 j=959\t610 i=4 j=960\t757 i=4 j=961\t808 i=4 j=962\t1028 i=4 j=963\t1049 i=4 j=964\t971 i=4 j=965\t914 i=4 j=966\t89 i=4 j=967\t1199 i=4 j=968\t726 i=4 j=969\t500 i=4 j=970\t562 i=4 j=971\t724 i=4 j=972\t623 i=4 j=973\t210 i=4 j=974\t1188 i=4 j=975\t56 i=4 j=976\t243 i=4 j=977\t862 i=4 j=978\t590 i=4 j=979\t417 i=4 j=980\t216 i=4 j=981\t79 i=4 j=982\t151 i=4 j=983\t707 i=4 j=984\t160 i=4 j=985\t763 i=4 j=986\t340 i=4 j=987\t7 i=4 j=988\t96 i=4 j=989\t295 i=4 j=990\t854 i=4 j=991\t396 i=4 j=992\t1177 i=4 j=993\t593 i=4 j=994\t508 i=4 j=995\t631 i=4 j=996\t737 i=4 j=997\t139 i=4 j=998\t632 i=4 j=999\t886 i=4 j=1000\t589 i=4 j=1001\t3 i=4 j=1002\t1092 i=4 j=1003\t2 i=4 j=1004\t1040 i=4 j=1005\t802 i=4 j=1006\t246 i=4 j=1007\t268 i=4 j=1008\t380 i=4 j=1009\t1112 i=4 j=1010\t575 i=4 j=1011\t901 i=4 j=1012\t1001 i=4 j=1013\t407 i=4 j=1014\t887 i=4 j=1015\t39 i=4 j=1016\t954 i=4 j=1017\t817 i=4 j=1018\t999 i=4 j=1019\t478 i=4 j=1020\t1136 i=4 j=1021\t1018 i=4 j=1022\t833 i=4 j=1023\t1141 i=4 j=1024\t460 i=4 j=1025\t1129 i=4 j=1026\t1138 i=4 j=1027\t860 i=4 j=1028\t352 i=4 j=1029\t961 i=4 j=1030\t91 i=4 j=1031\t307 i=4 j=1032\t840 i=4 j=1033\t348 i=4 j=1034\t975 i=4 j=1035\t184 i=4 j=1036\t250 i=4 j=1037\t52 i=4 j=1038\t186 i=4 j=1039\t1058 i=4 j=1040\t713 i=4 j=1041\t211 i=4 j=1042\t350 i=4 j=1043\t466 i=4 j=1044\t895 i=4 j=1045\t201 i=4 j=1046\t169 i=4 j=1047\t708 i=4 j=1048\t1118 i=4 j=1049\t516 i=4 j=1050\t504 i=4 j=1051\t1076 i=4 j=1052\t511 i=4 j=1053\t1099 i=4 j=1054\t883 i=4 j=1055\t910 i=4 j=1056\t744 i=4 j=1057\t642 i=4 j=1058\t951 i=4 j=1059\t1145 i=4 j=1060\t799 i=4 j=1061\t93 i=4 j=1062\t19 i=4 j=1063\t343 i=4 j=1064\t740 i=4 j=1065\t1173 i=4 j=1066\t1089 i=4 j=1067\t624 i=4 j=1068\t927 i=4 j=1069\t715 i=4 j=1070\t712 i=4 j=1071\t721 i=4 j=1072\t579 i=4 j=1073\t346 i=4 j=1074\t256 i=4 j=1075\t1098 i=4 j=1076\t970 i=4 j=1077\t947 i=4 j=1078\t389 i=4 j=1079\t912 i=4 j=1080\t600 i=4 j=1081\t1124 i=4 j=1082\t605 i=4 j=1083\t573 i=4 j=1084\t995 i=4 j=1085\t149 i=4 j=1086\t800 i=4 j=1087\t240 i=4 j=1088\t489 i=4 j=1089\t54 i=4 j=1090\t1172 i=4 j=1091\t877 i=4 j=1092\t161 i=4 j=1093\t1051 i=4 j=1094\t984 i=4 j=1095\t608 i=4 j=1096\t634 i=4 j=1097\t4 i=4 j=1098\t990 i=4 j=1099\t552 i=4 j=1100\t767 i=4 j=1101\t1044 i=4 j=1102\t733 i=4 j=1103\t393 i=4 j=1104\t902 i=4 j=1105\t663 i=4 j=1106\t324 i=4 j=1107\t1179 i=4 j=1108\t1114 i=4 j=1109\t418 i=4 j=1110\t875 i=4 j=1111\t38 i=4 j=1112\t402 i=4 j=1113\t1190 i=4 j=1114\t1123 i=4 j=1115\t993 i=4 j=1116\t528 i=4 j=1117\t540 i=4 j=1118\t547 i=4 j=1119\t698 i=4 j=1120\t952 i=4 j=1121\t918 i=4 j=1122\t1000 i=4 j=1123\t960 i=4 j=1124\t906 i=4 j=1125\t1155 i=4 j=1126\t386 i=4 j=1127\t8 i=4 j=1128\t163 i=4 j=1129\t132 i=4 j=1130\t1068 i=4 j=1131\t820 i=4 j=1132\t31 i=4 j=1133\t1180 i=4 j=1134\t826 i=4 j=1135\t80 i=4 j=1136\t1085 i=4 j=1137\t1158 i=4 j=1138\t408 i=4 j=1139\t196 i=4 j=1140\t550 i=4 j=1141\t559 i=4 j=1142\t1079 i=4 j=1143\t1162 i=4 j=1144\t1200 i=4 j=1145\t57 i=4 j=1146\t190 i=4 j=1147\t452 i=4 j=1148\t1142 i=4 j=1149\t1091 i=4 j=1150\t55 i=4 j=1151\t651 i=4 j=1152\t1130 i=4 j=1153\t617 i=4 j=1154\t1035 i=4 j=1155\t99 i=4 j=1156\t814 i=4 j=1157\t781 i=4 j=1158\t677 i=4 j=1159\t1096 i=4 j=1160\t255 i=4 j=1161\t616 i=4 j=1162\t633 i=4 j=1163\t640 i=4 j=1164\t648 i=4 j=1165\t51 i=4 j=1166\t492 i=4 j=1167\t1122 i=4 j=1168\t308 i=4 j=1169\t1019 i=4 j=1170\t1088 i=4 j=1171\t42 i=4 j=1172\t421 i=4 j=1173\t1016 i=4 j=1174\t426 i=4 j=1175\t1078 i=4 j=1176\t6 i=4 j=1177\t531 i=4 j=1178\t254 i=4 j=1179\t672 i=4 j=1180\t673 i=4 j=1181\t676 i=4 j=1182\t328 i=4 j=1183\t273 i=4 j=1184\t548 i=4 j=1185\t84 i=4 j=1186\t735 i=4 j=1187\t788 i=4 j=1188\t899 i=4 j=1189\t382 i=4 j=1190\t400 i=4 j=1191\t371 i=4 j=1192\t18 i=4 j=1193\t643 i=4 j=1194\t283 i=4 j=1195\t351 i=4 j=1196\t187 i=4 j=1197\t224 i=4 j=1198\t683 i=4 j=1199\t1026 i=4 j=1200\t1197 i=4 j=1201\t496 i=4 j=1202\t1012 i=5 j=0\t850 i=5 j=1\t86 i=5 j=2\t692 i=5 j=3\t537 i=5 j=4\t829 i=5 j=5\t943 i=5 j=6\t1171 i=5 j=7\t638 i=5 j=8\t702 i=5 j=9\t146 i=5 j=10\t228 i=5 j=11\t185 i=5 j=12\t266 i=5 j=13\t1126 i=5 j=14\t94 i=5 j=15\t742 i=5 j=16\t501 i=5 j=17\t147 i=5 j=18\t791 i=5 j=19\t1041 i=5 j=20\t1134 i=5 j=21\t890 i=5 j=22\t1066 i=5 j=23\t517 i=5 j=24\t1205 i=5 j=25\t586 i=5 j=26\t644 i=5 j=27\t441 i=5 j=28\t953 i=5 j=29\t1031 i=5 j=30\t321 i=5 j=31\t1166 i=5 j=32\t693 i=5 j=33\t1139 i=5 j=34\t47 i=5 j=35\t77 i=5 j=36\t275 i=5 j=37\t176 i=5 j=38\t933 i=5 j=39\t945 i=5 j=40\t622 i=5 j=41\t270 i=5 j=42\t660 i=5 j=43\t654 i=5 j=44\t969 i=5 j=45\t874 i=5 j=46\t743 i=5 j=47\t414 i=5 j=48\t527 i=5 j=49\t112 i=5 j=50\t206 i=5 j=51\t858 i=5 j=52\t1133 i=5 j=53\t843 i=5 j=54\t926 i=5 j=55\t857 i=5 j=56\t675 i=5 j=57\t981 i=5 j=58\t309 i=5 j=59\t994 i=5 j=60\t1075 i=5 j=61\t428 i=5 j=62\t671 i=5 j=63\t165 i=5 j=64\t323 i=5 j=65\t128 i=5 j=66\t461 i=5 j=67\t488 i=5 j=68\t674 i=5 j=69\t507 i=5 j=70\t774 i=5 j=71\t745 i=5 j=72\t569 i=5 j=73\t563 i=5 j=74\t1163 i=5 j=75\t262 i=5 j=76\t905 i=5 j=77\t242 i=5 j=78\t1189 i=5 j=79\t628 i=5 j=80\t395 i=5 j=81\t272 i=5 j=82\t908 i=5 j=83\t811 i=5 j=84\t1038 i=5 j=85\t422 i=5 j=86\t415 i=5 j=87\t732 i=5 j=88\t792 i=5 j=89\t1108 i=5 j=90\t88 i=5 j=91\t727 i=5 j=92\t931 i=5 j=93\t570 i=5 j=94\t689 i=5 j=95\t296 i=5 j=96\t690 i=5 j=97\t1101 i=5 j=98\t1153 i=5 j=99\t962 i=5 j=100\t581 i=5 j=101\t141 i=5 j=102\t1131 i=5 j=103\t1024 i=5 j=104\t192 i=5 j=105\t506 i=5 j=106\t136 i=5 j=107\t551 i=5 j=108\t842 i=5 j=109\t626 i=5 j=110\t650 i=5 j=111\t1042 i=5 j=112\t11 i=5 j=113\t1056 i=5 j=114\t1087 i=5 j=115\t972 i=5 j=116\t911 i=5 j=117\t1168 i=5 j=118\t1005 i=5 j=119\t941 i=5 j=120\t596 i=5 j=121\t619 i=5 j=122\t344 i=5 j=123\t803 i=5 j=124\t220 i=5 j=125\t1070 i=5 j=126\t493 i=5 j=127\t301 i=5 j=128\t178 i=5 j=129\t667 i=5 j=130\t865 i=5 j=131\t1039 i=5 j=132\t523 i=5 j=133\t490 i=5 j=134\t484 i=5 j=135\t15 i=5 j=136\t249 i=5 j=137\t519 i=5 j=138\t1050 i=5 j=139\t847 i=5 j=140\t212 i=5 j=141\t1054 i=5 j=142\t1083 i=5 j=143\t868 i=5 j=144\t179 i=5 j=145\t1156 i=5 j=146\t300 i=5 j=147\t116 i=5 j=148\t335 i=5 j=149\t739 i=5 j=150\t730 i=5 j=151\t264 i=5 j=152\t819 i=5 j=153\t172 i=5 j=154\t376 i=5 j=155\t391 i=5 j=156\t37 i=5 j=157\t541 i=5 j=158\t592 i=5 j=159\t684 i=5 j=160\t856 i=5 j=161\t378 i=5 j=162\t297 i=5 j=163\t711 i=5 j=164\t992 i=5 j=165\t534 i=5 j=166\t72 i=5 j=167\t920 i=5 j=168\t108 i=5 j=169\t682 i=5 j=170\t311 i=5 j=171\t558 i=5 j=172\t261 i=5 j=173\t866 i=5 j=174\t710 i=5 j=175\t848 i=5 j=176\t397 i=5 j=177\t755 i=5 j=178\t752 i=5 j=179\t1164 i=5 j=180\t659 i=5 j=181\t665 i=5 j=182\t1107 i=5 j=183\t839 i=5 j=184\t158 i=5 j=185\t545 i=5 j=186\t154 i=5 j=187\t770 i=5 j=188\t929 i=5 j=189\t627 i=5 j=190\t965 i=5 j=191\t1196 i=5 j=192\t917 i=5 j=193\t434 i=5 j=194\t125 i=5 j=195\t1073 i=5 j=196\t1094 i=5 j=197\t1002 i=5 j=198\t486 i=5 j=199\t221 i=5 j=200\t359 i=5 j=201\t313 i=5 j=202\t177 i=5 j=203\t973 i=5 j=204\t939 i=5 j=205\t830 i=5 j=206\t374 i=5 j=207\t818 i=5 j=208\t368 i=5 j=209\t1194 i=5 j=210\t1198 i=5 j=211\t678 i=5 j=212\t776 i=5 j=213\t879 i=5 j=214\t940 i=5 j=215\t670 i=5 j=216\t218 i=5 j=217\t1137 i=5 j=218\t1207 i=5 j=219\t831 i=5 j=220\t915 i=5 j=221\t271 i=5 j=222\t34 i=5 j=223\t1146 i=5 j=224\t431 i=5 j=225\t925 i=5 j=226\t645 i=5 j=227\t405 i=5 j=228\t485 i=5 j=229\t451 i=5 j=230\t606 i=5 j=231\t691 i=5 j=232\t621 i=5 j=233\t893 i=5 j=234\t403 i=5 j=235\t208 i=5 j=236\t982 i=5 j=237\t768 i=5 j=238\t1109 i=5 j=239\t1059 i=5 j=240\t361 i=5 j=241\t1128 i=5 j=242\t555 i=5 j=243\t1148 i=5 j=244\t388 i=5 j=245\t798 i=5 j=246\t477 i=5 j=247\t291 i=5 j=248\t142 i=5 j=249\t696 i=5 j=250\t449 i=5 j=251\t1132 i=5 j=252\t464 i=5 j=253\t530 i=5 j=254\t10 i=5 j=255\t342 i=5 j=256\t652 i=5 j=257\t448 i=5 j=258\t1176 i=5 j=259\t101 i=5 j=260\t29 i=5 j=261\t1149 i=5 j=262\t796 i=5 j=263\t385 i=5 j=264\t577 i=5 j=265\t603 i=5 j=266\t966 i=5 j=267\t602 i=5 j=268\t317 i=5 j=269\t155 i=5 j=270\t574 i=5 j=271\t1021 i=5 j=272\t609 i=5 j=273\t257 i=5 j=274\t35 i=5 j=275\t780 i=5 j=276\t679 i=5 j=277\t714 i=5 j=278\t636 i=5 j=279\t338 i=5 j=280\t766 i=5 j=281\t12 i=5 j=282\t277 i=5 j=283\t1103 i=5 j=284\t512 i=5 j=285\t470 i=5 j=286\t580 i=5 j=287\t734 i=5 j=288\t804 i=5 j=289\t263 i=5 j=290\t463 i=5 j=291\t252 i=5 j=292\t222 i=5 j=293\t1186 i=5 j=294\t888 i=5 j=295\t53 i=5 j=296\t27 i=5 j=297\t557 i=5 j=298\t937 i=5 j=299\t85 i=5 j=300\t102 i=5 j=301\t413 i=5 j=302\t320 i=5 j=303\t363 i=5 j=304\t686 i=5 j=305\t695 i=5 j=306\t412 i=5 j=307\t487 i=5 j=308\t703 i=5 j=309\t793 i=5 j=310\t539 i=5 j=311\t709 i=5 j=312\t23 i=5 j=313\t835 i=5 j=314\t900 i=5 j=315\t1121 i=5 j=316\t14 i=5 j=317\t974 i=5 j=318\t1127 i=5 j=319\t1147 i=5 j=320\t828 i=5 j=321\t1184 i=5 j=322\t399 i=5 j=323\t980 i=5 j=324\t145 i=5 j=325\t572 i=5 j=326\t1161 i=5 j=327\t956 i=5 j=328\t1160 i=5 j=329\t314 i=5 j=330\t1102 i=5 j=331\t239 i=5 j=332\t189 i=5 j=333\t32 i=5 j=334\t33 i=5 j=335\t168 i=5 j=336\t58 i=5 j=337\t1111 i=5 j=338\t584 i=5 j=339\t1080 i=5 j=340\t384 i=5 j=341\t863 i=5 j=342\t197 i=5 j=343\t69 i=5 j=344\t922 i=5 j=345\t706 i=5 j=346\t237 i=5 j=347\t327 i=5 j=348\t717 i=5 j=349\t329 i=5 j=350\t117 i=5 j=351\t471 i=5 j=352\t423 i=5 j=353\t789 i=5 j=354\t641 i=5 j=355\t225 i=5 j=356\t244 i=5 j=357\t234 i=5 j=358\t498 i=5 j=359\t542 i=5 j=360\t510 i=5 j=361\t494 i=5 j=362\t223 i=5 j=363\t505 i=5 j=364\t533 i=5 j=365\t560 i=5 j=366\t17 i=5 j=367\t653 i=5 j=368\t78 i=5 j=369\t514 i=5 j=370\t880 i=5 j=371\t807 i=5 j=372\t409 i=5 j=373\t948 i=5 j=374\t1202 i=5 j=375\t1046 i=5 j=376\t998 i=5 j=377\t456 i=5 j=378\t988 i=5 j=379\t891 i=5 j=380\t876 i=5 j=381\t288 i=5 j=382\t567 i=5 j=383\t950 i=5 j=384\t1045 i=5 j=385\t475 i=5 j=386\t46 i=5 j=387\t1178 i=5 j=388\t299 i=5 j=389\t594 i=5 j=390\t991 i=5 j=391\t985 i=5 j=392\t986 i=5 j=393\t1022 i=5 j=394\t87 i=5 j=395\t731 i=5 j=396\t153 i=5 j=397\t1150 i=5 j=398\t497 i=5 j=399\t851 i=5 j=400\t334 i=5 j=401\t864 i=5 j=402\t601 i=5 j=403\t226 i=5 j=404\t482 i=5 j=405\t535 i=5 j=406\t369 i=5 j=407\t199 i=5 j=408\t1175 i=5 j=409\t1077 i=5 j=410\t233 i=5 j=411\t716 i=5 j=412\t303 i=5 j=413\t773 i=5 j=414\t647 i=5 j=415\t245 i=5 j=416\t882 i=5 j=417\t276 i=5 j=418\t639 i=5 j=419\t916 i=5 j=420\t884 i=5 j=421\t183 i=5 j=422\t170 i=5 j=423\t95 i=5 j=424\t1174 i=5 j=425\t658 i=5 j=426\t881 i=5 j=427\t783 i=5 j=428\t585 i=5 j=429\t873 i=5 j=430\t838 i=5 j=431\t625 i=5 j=432\t720 i=5 j=433\t725 i=5 j=434\t1151 i=5 j=435\t582 i=5 j=436\t529 i=5 j=437\t955 i=5 j=438\t1204 i=5 j=439\t318 i=5 j=440\t769 i=5 j=441\t1106 i=5 j=442\t440 i=5 j=443\t1203 i=5 j=444\t1117 i=5 j=445\t729 i=5 j=446\t719 i=5 j=447\t932 i=5 j=448\t166 i=5 j=449\t620 i=5 j=450\t282 i=5 j=451\t930 i=5 j=452\t701 i=5 j=453\t315 i=5 j=454\t611 i=5 j=455\t979 i=5 j=456\t209 i=5 j=457\t416 i=5 j=458\t16 i=5 j=459\t446 i=5 j=460\t846 i=5 j=461\t375 i=5 j=462\t909 i=5 j=463\t699 i=5 j=464\t756 i=5 j=465\t195 i=5 j=466\t723 i=5 j=467\t129 i=5 j=468\t827 i=5 j=469\t968 i=5 j=470\t522 i=5 j=471\t119 i=5 j=472\t688 i=5 j=473\t681 i=5 j=474\t1006 i=5 j=475\t148 i=5 j=476\t182 i=5 j=477\t267 i=5 j=478\t433 i=5 j=479\t13 i=5 j=480\t1206 i=5 j=481\t118 i=5 j=482\t355 i=5 j=483\t358 i=5 j=484\t473 i=5 j=485\t1125 i=5 j=486\t1025 i=5 j=487\t259 i=5 j=488\t524 i=5 j=489\t576 i=5 j=490\t1013 i=5 j=491\t1097 i=5 j=492\t597 i=5 j=493\t474 i=5 j=494\t455 i=5 j=495\t565 i=5 j=496\t341 i=5 j=497\t1144 i=5 j=498\t855 i=5 j=499\t106 i=5 j=500\t372 i=5 j=501\t104 i=5 j=502\t782 i=5 j=503\t43 i=5 j=504\t816 i=5 j=505\t105 i=5 j=506\t66 i=5 j=507\t70 i=5 j=508\t825 i=5 j=509\t607 i=5 j=510\t1043 i=5 j=511\t110 i=5 j=512\t442 i=5 j=513\t959 i=5 j=514\t612 i=5 j=515\t834 i=5 j=516\t454 i=5 j=517\t837 i=5 j=518\t140 i=5 j=519\t203 i=5 j=520\t40 i=5 j=521\t1119 i=5 j=522\t215 i=5 j=523\t1090 i=5 j=524\t923 i=5 j=525\t279 i=5 j=526\t790 i=5 j=527\t122 i=5 j=528\t938 i=5 j=529\t1 i=5 j=530\t167 i=5 j=531\t121 i=5 j=532\t1181 i=5 j=533\t1048 i=5 j=534\t133 i=5 j=535\t427 i=5 j=536\t134 i=5 j=537\t198 i=5 j=538\t1027 i=5 j=539\t50 i=5 j=540\t913 i=5 j=541\t1023 i=5 j=542\t963 i=5 j=543\t810 i=5 j=544\t115 i=5 j=545\t483 i=5 j=546\t812 i=5 j=547\t1062 i=5 j=548\t180 i=5 j=549\t1159 i=5 j=550\t871 i=5 j=551\t36 i=5 j=552\t1067 i=5 j=553\t669 i=5 j=554\t44 i=5 j=555\t217 i=5 j=556\t480 i=5 j=557\t437 i=5 j=558\t278 i=5 j=559\t425 i=5 j=560\t491 i=5 j=561\t107 i=5 j=562\t989 i=5 j=563\t353 i=5 j=564\t656 i=5 j=565\t331 i=5 j=566\t280 i=5 j=567\t1143 i=5 j=568\t685 i=5 j=569\t364 i=5 j=570\t758 i=5 j=571\t806 i=5 j=572\t290 i=5 j=573\t553 i=5 j=574\t64 i=5 j=575\t1065 i=5 j=576\t795 i=5 j=577\t113 i=5 j=578\t194 i=5 j=579\t841 i=5 j=580\t28 i=5 j=581\t614 i=5 j=582\t1120 i=5 j=583\t525 i=5 j=584\t996 i=5 j=585\t1185 i=5 j=586\t615 i=5 j=587\t564 i=5 j=588\t1037 i=5 j=589\t325 i=5 j=590\t424 i=5 j=591\t630 i=5 j=592\t1095 i=5 j=593\t138 i=5 j=594\t604 i=5 j=595\t193 i=5 j=596\t349 i=5 j=597\t762 i=5 j=598\t1014 i=5 j=599\t832 i=5 j=600\t499 i=5 j=601\t844 i=5 j=602\t949 i=5 j=603\t1063 i=5 j=604\t513 i=5 j=605\t637 i=5 j=606\t543 i=5 j=607\t157 i=5 j=608\t231 i=5 j=609\t1193 i=5 j=610\t976 i=5 j=611\t751 i=5 j=612\t889 i=5 j=613\t200 i=5 j=614\t794 i=5 j=615\t1008 i=5 j=616\t467 i=5 j=617\t381 i=5 j=618\t718 i=5 j=619\t687 i=5 j=620\t444 i=5 j=621\t304 i=5 j=622\t661 i=5 j=623\t878 i=5 j=624\t392 i=5 j=625\t109 i=5 j=626\t1157 i=5 j=627\t853 i=5 j=628\t379 i=5 j=629\t836 i=5 j=630\t1071 i=5 j=631\t1154 i=5 j=632\t219 i=5 j=633\t447 i=5 j=634\t629 i=5 j=635\t156 i=5 j=636\t997 i=5 j=637\t649 i=5 j=638\t330 i=5 j=639\t322 i=5 j=640\t443 i=5 j=641\t1167 i=5 j=642\t618 i=5 j=643\t205 i=5 j=644\t265 i=5 j=645\t1135 i=5 j=646\t1192 i=5 j=647\t390 i=5 j=648\t357 i=5 j=649\t805 i=5 j=650\t468 i=5 j=651\t728 i=5 j=652\t457 i=5 j=653\t705 i=5 j=654\t936 i=5 j=655\t1061 i=5 j=656\t67 i=5 j=657\t935 i=5 j=658\t175 i=5 j=659\t432 i=5 j=660\t944 i=5 j=661\t722 i=5 j=662\t174 i=5 j=663\t919 i=5 j=664\t159 i=5 j=665\t103 i=5 j=666\t657 i=5 j=667\t479 i=5 j=668\t289 i=5 j=669\t738 i=5 j=670\t333 i=5 j=671\t1036 i=5 j=672\t822 i=5 j=673\t411 i=5 j=674\t61 i=5 j=675\t65 i=5 j=676\t445 i=5 j=677\t131 i=5 j=678\t1004 i=5 j=679\t126 i=5 j=680\t458 i=5 j=681\t339 i=5 j=682\t383 i=5 j=683\t761 i=5 j=684\t849 i=5 j=685\t377 i=5 j=686\t82 i=5 j=687\t83 i=5 j=688\t232 i=5 j=689\t1170 i=5 j=690\t1082 i=5 j=691\t1055 i=5 j=692\t1064 i=5 j=693\t544 i=5 j=694\t815 i=5 j=695\t373 i=5 j=696\t123 i=5 j=697\t365 i=5 j=698\t100 i=5 j=699\t191 i=5 j=700\t75 i=5 j=701\t521 i=5 j=702\t1195 i=5 j=703\t30 i=5 j=704\t171 i=5 j=705\t595 i=5 j=706\t748 i=5 j=707\t1003 i=5 j=708\t41 i=5 j=709\t306 i=5 j=710\t62 i=5 j=711\t60 i=5 j=712\t59 i=5 j=713\t438 i=5 j=714\t235 i=5 j=715\t293 i=5 j=716\t700 i=5 j=717\t436 i=5 j=718\t285 i=5 j=719\t435 i=5 j=720\t587 i=5 j=721\t753 i=5 j=722\t1009 i=5 j=723\t823 i=5 j=724\t546 i=5 j=725\t316 i=5 j=726\t778 i=5 j=727\t571 i=5 j=728\t144 i=5 j=729\t568 i=5 j=730\t1017 i=5 j=731\t48 i=5 j=732\t1033 i=5 j=733\t983 i=5 j=734\t1057 i=5 j=735\t588 i=5 j=736\t1007 i=5 j=737\t258 i=5 j=738\t666 i=5 j=739\t305 i=5 j=740\t336 i=5 j=741\t765 i=5 j=742\t366 i=5 j=743\t98 i=5 j=744\t248 i=5 j=745\t281 i=5 j=746\t1165 i=5 j=747\t260 i=5 j=748\t747 i=5 j=749\t410 i=5 j=750\t1105 i=5 j=751\t45 i=5 j=752\t896 i=5 j=753\t202 i=5 j=754\t120 i=5 j=755\t680 i=5 j=756\t741 i=5 j=757\t465 i=5 j=758\t162 i=5 j=759\t367 i=5 j=760\t404 i=5 j=761\t207 i=5 j=762\t509 i=5 j=763\t777 i=5 j=764\t772 i=5 j=765\t312 i=5 j=766\t21 i=5 j=767\t797 i=5 j=768\t1187 i=5 j=769\t398 i=5 j=770\t942 i=5 j=771\t469 i=5 j=772\t977 i=5 j=773\t81 i=5 j=774\t520 i=5 j=775\t495 i=5 j=776\t928 i=5 j=777\t759 i=5 j=778\t1081 i=5 j=779\t1060 i=5 j=780\t286 i=5 j=781\t135 i=5 j=782\t613 i=5 j=783\t885 i=5 j=784\t387 i=5 j=785\t204 i=5 j=786\t852 i=5 j=787\t934 i=5 j=788\t1140 i=5 j=789\t152 i=5 j=790\t515 i=5 j=791\t978 i=5 j=792\t655 i=5 j=793\t472 i=5 j=794\t787 i=5 j=795\t1104 i=5 j=796\t1072 i=5 j=797\t859 i=5 j=798\t214 i=5 j=799\t287 i=5 j=800\t760 i=5 j=801\t269 i=5 j=802\t164 i=5 j=803\t958 i=5 j=804\t73 i=5 j=805\t1183 i=5 j=806\t1208 i=5 j=807\t24 i=5 j=808\t439 i=5 j=809\t750 i=5 j=810\t5 i=5 j=811\t68 i=5 j=812\t1116 i=5 j=813\t536 i=5 j=814\t360 i=5 j=815\t1074 i=5 j=816\t130 i=5 j=817\t462 i=5 j=818\t150 i=5 j=819\t598 i=5 j=820\t111 i=5 j=821\t502 i=5 j=822\t394 i=5 j=823\t897 i=5 j=824\t302 i=5 j=825\t749 i=5 j=826\t1047 i=5 j=827\t1191 i=5 j=828\t964 i=5 j=829\t450 i=5 j=830\t532 i=5 j=831\t251 i=5 j=832\t274 i=5 j=833\t337 i=5 j=834\t561 i=5 j=835\t779 i=5 j=836\t406 i=5 j=837\t809 i=5 j=838\t566 i=5 j=839\t22 i=5 j=840\t549 i=5 j=841\t92 i=5 j=842\t298 i=5 j=843\t591 i=5 j=844\t635 i=5 j=845\t872 i=5 j=846\t538 i=5 j=847\t481 i=5 j=848\t294 i=5 j=849\t127 i=5 j=850\t785 i=5 j=851\t49 i=5 j=852\t813 i=5 j=853\t292 i=5 j=854\t1069 i=5 j=855\t904 i=5 j=856\t213 i=5 j=857\t556 i=5 j=858\t599 i=5 j=859\t1100 i=5 j=860\t662 i=5 j=861\t25 i=5 j=862\t957 i=5 j=863\t1030 i=5 j=864\t1169 i=5 j=865\t801 i=5 j=866\t736 i=5 j=867\t1032 i=5 j=868\t1034 i=5 j=869\t754 i=5 j=870\t668 i=5 j=871\t784 i=5 j=872\t907 i=5 j=873\t253 i=5 j=874\t583 i=5 j=875\t554 i=5 j=876\t319 i=5 j=877\t503 i=5 j=878\t230 i=5 j=879\t284 i=5 j=880\t526 i=5 j=881\t238 i=5 j=882\t326 i=5 j=883\t181 i=5 j=884\t229 i=5 j=885\t1201 i=5 j=886\t401 i=5 j=887\t775 i=5 j=888\t924 i=5 j=889\t967 i=5 j=890\t746 i=5 j=891\t453 i=5 j=892\t845 i=5 j=893\t894 i=5 j=894\t869 i=5 j=895\t1093 i=5 j=896\t90 i=5 j=897\t310 i=5 j=898\t903 i=5 j=899\t1010 i=5 j=900\t1084 i=5 j=901\t697 i=5 j=902\t1086 i=5 j=903\t345 i=5 j=904\t1182 i=5 j=905\t173 i=5 j=906\t921 i=5 j=907\t459 i=5 j=908\t124 i=5 j=909\t20 i=5 j=910\t664 i=5 j=911\t1115 i=5 j=912\t419 i=5 j=913\t370 i=5 j=914\t1113 i=5 j=915\t764 i=5 j=916\t987 i=5 j=917\t870 i=5 j=918\t898 i=5 j=919\t1011 i=5 j=920\t188 i=5 j=921\t354 i=5 j=922\t227 i=5 j=923\t236 i=5 j=924\t1020 i=5 j=925\t476 i=5 j=926\t356 i=5 j=927\t74 i=5 j=928\t1053 i=5 j=929\t347 i=5 j=930\t824 i=5 j=931\t771 i=5 j=932\t143 i=5 j=933\t63 i=5 j=934\t362 i=5 j=935\t786 i=5 j=936\t26 i=5 j=937\t1029 i=5 j=938\t420 i=5 j=939\t76 i=5 j=940\t518 i=5 j=941\t704 i=5 j=942\t137 i=5 j=943\t71 i=5 j=944\t946 i=5 j=945\t114 i=5 j=946\t332 i=5 j=947\t821 i=5 j=948\t1015 i=5 j=949\t429 i=5 j=950\t578 i=5 j=951\t646 i=5 j=952\t97 i=5 j=953\t1152 i=5 j=954\t247 i=5 j=955\t241 i=5 j=956\t1110 i=5 j=957\t867 i=5 j=958\t892 i=5 j=959\t610 i=5 j=960\t757 i=5 j=961\t808 i=5 j=962\t1028 i=5 j=963\t1049 i=5 j=964\t971 i=5 j=965\t914 i=5 j=966\t89 i=5 j=967\t1199 i=5 j=968\t726 i=5 j=969\t500 i=5 j=970\t562 i=5 j=971\t724 i=5 j=972\t623 i=5 j=973\t210 i=5 j=974\t1188 i=5 j=975\t56 i=5 j=976\t243 i=5 j=977\t862 i=5 j=978\t590 i=5 j=979\t417 i=5 j=980\t216 i=5 j=981\t79 i=5 j=982\t151 i=5 j=983\t707 i=5 j=984\t160 i=5 j=985\t763 i=5 j=986\t340 i=5 j=987\t7 i=5 j=988\t96 i=5 j=989\t295 i=5 j=990\t854 i=5 j=991\t396 i=5 j=992\t1177 i=5 j=993\t593 i=5 j=994\t508 i=5 j=995\t631 i=5 j=996\t737 i=5 j=997\t139 i=5 j=998\t632 i=5 j=999\t886 i=5 j=1000\t589 i=5 j=1001\t3 i=5 j=1002\t1092 i=5 j=1003\t2 i=5 j=1004\t1040 i=5 j=1005\t802 i=5 j=1006\t246 i=5 j=1007\t268 i=5 j=1008\t380 i=5 j=1009\t1112 i=5 j=1010\t575 i=5 j=1011\t901 i=5 j=1012\t1001 i=5 j=1013\t407 i=5 j=1014\t887 i=5 j=1015\t39 i=5 j=1016\t954 i=5 j=1017\t817 i=5 j=1018\t999 i=5 j=1019\t478 i=5 j=1020\t1136 i=5 j=1021\t1018 i=5 j=1022\t833 i=5 j=1023\t1141 i=5 j=1024\t460 i=5 j=1025\t1129 i=5 j=1026\t1138 i=5 j=1027\t860 i=5 j=1028\t352 i=5 j=1029\t961 i=5 j=1030\t91 i=5 j=1031\t307 i=5 j=1032\t840 i=5 j=1033\t348 i=5 j=1034\t975 i=5 j=1035\t184 i=5 j=1036\t250 i=5 j=1037\t52 i=5 j=1038\t186 i=5 j=1039\t1058 i=5 j=1040\t713 i=5 j=1041\t211 i=5 j=1042\t350 i=5 j=1043\t466 i=5 j=1044\t895 i=5 j=1045\t201 i=5 j=1046\t169 i=5 j=1047\t708 i=5 j=1048\t1118 i=5 j=1049\t516 i=5 j=1050\t504 i=5 j=1051\t1076 i=5 j=1052\t511 i=5 j=1053\t1099 i=5 j=1054\t883 i=5 j=1055\t910 i=5 j=1056\t744 i=5 j=1057\t642 i=5 j=1058\t951 i=5 j=1059\t1145 i=5 j=1060\t799 i=5 j=1061\t93 i=5 j=1062\t19 i=5 j=1063\t343 i=5 j=1064\t740 i=5 j=1065\t1173 i=5 j=1066\t1089 i=5 j=1067\t624 i=5 j=1068\t927 i=5 j=1069\t715 i=5 j=1070\t712 i=5 j=1071\t721 i=5 j=1072\t579 i=5 j=1073\t346 i=5 j=1074\t256 i=5 j=1075\t1098 i=5 j=1076\t970 i=5 j=1077\t947 i=5 j=1078\t389 i=5 j=1079\t912 i=5 j=1080\t600 i=5 j=1081\t1124 i=5 j=1082\t605 i=5 j=1083\t573 i=5 j=1084\t995 i=5 j=1085\t149 i=5 j=1086\t800 i=5 j=1087\t240 i=5 j=1088\t489 i=5 j=1089\t54 i=5 j=1090\t1172 i=5 j=1091\t877 i=5 j=1092\t161 i=5 j=1093\t1051 i=5 j=1094\t984 i=5 j=1095\t608 i=5 j=1096\t634 i=5 j=1097\t4 i=5 j=1098\t990 i=5 j=1099\t552 i=5 j=1100\t767 i=5 j=1101\t1044 i=5 j=1102\t733 i=5 j=1103\t393 i=5 j=1104\t902 i=5 j=1105\t663 i=5 j=1106\t324 i=5 j=1107\t1179 i=5 j=1108\t1114 i=5 j=1109\t418 i=5 j=1110\t875 i=5 j=1111\t38 i=5 j=1112\t402 i=5 j=1113\t1190 i=5 j=1114\t1123 i=5 j=1115\t993 i=5 j=1116\t528 i=5 j=1117\t540 i=5 j=1118\t547 i=5 j=1119\t698 i=5 j=1120\t952 i=5 j=1121\t918 i=5 j=1122\t1000 i=5 j=1123\t960 i=5 j=1124\t906 i=5 j=1125\t1155 i=5 j=1126\t386 i=5 j=1127\t8 i=5 j=1128\t163 i=5 j=1129\t132 i=5 j=1130\t1068 i=5 j=1131\t820 i=5 j=1132\t31 i=5 j=1133\t1180 i=5 j=1134\t826 i=5 j=1135\t80 i=5 j=1136\t1085 i=5 j=1137\t1158 i=5 j=1138\t408 i=5 j=1139\t196 i=5 j=1140\t550 i=5 j=1141\t559 i=5 j=1142\t1079 i=5 j=1143\t1162 i=5 j=1144\t1200 i=5 j=1145\t57 i=5 j=1146\t190 i=5 j=1147\t452 i=5 j=1148\t1142 i=5 j=1149\t1091 i=5 j=1150\t55 i=5 j=1151\t651 i=5 j=1152\t1130 i=5 j=1153\t617 i=5 j=1154\t1035 i=5 j=1155\t99 i=5 j=1156\t814 i=5 j=1157\t781 i=5 j=1158\t677 i=5 j=1159\t1096 i=5 j=1160\t255 i=5 j=1161\t616 i=5 j=1162\t633 i=5 j=1163\t640 i=5 j=1164\t648 i=5 j=1165\t51 i=5 j=1166\t492 i=5 j=1167\t1122 i=5 j=1168\t308 i=5 j=1169\t1019 i=5 j=1170\t1088 i=5 j=1171\t42 i=5 j=1172\t421 i=5 j=1173\t1016 i=5 j=1174\t426 i=5 j=1175\t1078 i=5 j=1176\t6 i=5 j=1177\t531 i=5 j=1178\t254 i=5 j=1179\t672 i=5 j=1180\t673 i=5 j=1181\t676 i=5 j=1182\t328 i=5 j=1183\t273 i=5 j=1184\t548 i=5 j=1185\t84 i=5 j=1186\t735 i=5 j=1187\t788 i=5 j=1188\t899 i=5 j=1189\t382 i=5 j=1190\t400 i=5 j=1191\t371 i=5 j=1192\t18 i=5 j=1193\t643 i=5 j=1194\t283 i=5 j=1195\t351 i=5 j=1196\t187 i=5 j=1197\t224 i=5 j=1198\t683 i=5 j=1199\t1026 i=5 j=1200\t1197 i=5 j=1201\t496 i=5 j=1202\t1012 i=6 j=0\t850 i=6 j=1\t86 i=6 j=2\t692 i=6 j=3\t537 i=6 j=4\t829 i=6 j=5\t943 i=6 j=6\t1171 i=6 j=7\t638 i=6 j=8\t702 i=6 j=9\t146 i=6 j=10\t228 i=6 j=11\t185 i=6 j=12\t266 i=6 j=13\t1126 i=6 j=14\t94 i=6 j=15\t742 i=6 j=16\t501 i=6 j=17\t147 i=6 j=18\t791 i=6 j=19\t1041 i=6 j=20\t1134 i=6 j=21\t890 i=6 j=22\t1066 i=6 j=23\t517 i=6 j=24\t1205 i=6 j=25\t586 i=6 j=26\t644 i=6 j=27\t441 i=6 j=28\t953 i=6 j=29\t1031 i=6 j=30\t321 i=6 j=31\t1166 i=6 j=32\t693 i=6 j=33\t1139 i=6 j=34\t47 i=6 j=35\t77 i=6 j=36\t275 i=6 j=37\t176 i=6 j=38\t933 i=6 j=39\t945 i=6 j=40\t622 i=6 j=41\t270 i=6 j=42\t660 i=6 j=43\t654 i=6 j=44\t969 i=6 j=45\t874 i=6 j=46\t743 i=6 j=47\t414 i=6 j=48\t527 i=6 j=49\t112 i=6 j=50\t206 i=6 j=51\t858 i=6 j=52\t1133 i=6 j=53\t843 i=6 j=54\t926 i=6 j=55\t857 i=6 j=56\t675 i=6 j=57\t981 i=6 j=58\t309 i=6 j=59\t994 i=6 j=60\t1075 i=6 j=61\t428 i=6 j=62\t671 i=6 j=63\t165 i=6 j=64\t323 i=6 j=65\t128 i=6 j=66\t461 i=6 j=67\t488 i=6 j=68\t674 i=6 j=69\t507 i=6 j=70\t774 i=6 j=71\t745 i=6 j=72\t569 i=6 j=73\t563 i=6 j=74\t1163 i=6 j=75\t262 i=6 j=76\t905 i=6 j=77\t242 i=6 j=78\t1189 i=6 j=79\t628 i=6 j=80\t395 i=6 j=81\t272 i=6 j=82\t908 i=6 j=83\t811 i=6 j=84\t1038 i=6 j=85\t422 i=6 j=86\t415 i=6 j=87\t732 i=6 j=88\t792 i=6 j=89\t1108 i=6 j=90\t88 i=6 j=91\t727 i=6 j=92\t931 i=6 j=93\t570 i=6 j=94\t689 i=6 j=95\t296 i=6 j=96\t690 i=6 j=97\t1101 i=6 j=98\t1153 i=6 j=99\t962 i=6 j=100\t581 i=6 j=101\t141 i=6 j=102\t1131 i=6 j=103\t1024 i=6 j=104\t192 i=6 j=105\t506 i=6 j=106\t136 i=6 j=107\t551 i=6 j=108\t842 i=6 j=109\t626 i=6 j=110\t650 i=6 j=111\t1042 i=6 j=112\t11 i=6 j=113\t1056 i=6 j=114\t1087 i=6 j=115\t972 i=6 j=116\t911 i=6 j=117\t1168 i=6 j=118\t1005 i=6 j=119\t941 i=6 j=120\t596 i=6 j=121\t619 i=6 j=122\t344 i=6 j=123\t803 i=6 j=124\t220 i=6 j=125\t1070 i=6 j=126\t493 i=6 j=127\t301 i=6 j=128\t178 i=6 j=129\t667 i=6 j=130\t865 i=6 j=131\t1039 i=6 j=132\t523 i=6 j=133\t490 i=6 j=134\t484 i=6 j=135\t15 i=6 j=136\t249 i=6 j=137\t519 i=6 j=138\t1050 i=6 j=139\t847 i=6 j=140\t212 i=6 j=141\t1054 i=6 j=142\t1083 i=6 j=143\t868 i=6 j=144\t179 i=6 j=145\t1156 i=6 j=146\t300 i=6 j=147\t116 i=6 j=148\t335 i=6 j=149\t739 i=6 j=150\t730 i=6 j=151\t264 i=6 j=152\t819 i=6 j=153\t172 i=6 j=154\t376 i=6 j=155\t391 i=6 j=156\t37 i=6 j=157\t541 i=6 j=158\t592 i=6 j=159\t684 i=6 j=160\t856 i=6 j=161\t378 i=6 j=162\t297 i=6 j=163\t711 i=6 j=164\t992 i=6 j=165\t534 i=6 j=166\t72 i=6 j=167\t920 i=6 j=168\t108 i=6 j=169\t682 i=6 j=170\t311 i=6 j=171\t558 i=6 j=172\t261 i=6 j=173\t866 i=6 j=174\t710 i=6 j=175\t848 i=6 j=176\t397 i=6 j=177\t755 i=6 j=178\t752 i=6 j=179\t1164 i=6 j=180\t659 i=6 j=181\t665 i=6 j=182\t1107 i=6 j=183\t839 i=6 j=184\t158 i=6 j=185\t545 i=6 j=186\t154 i=6 j=187\t770 i=6 j=188\t929 i=6 j=189\t627 i=6 j=190\t965 i=6 j=191\t1196 i=6 j=192\t917 i=6 j=193\t434 i=6 j=194\t125 i=6 j=195\t1073 i=6 j=196\t1094 i=6 j=197\t1002 i=6 j=198\t486 i=6 j=199\t221 i=6 j=200\t359 i=6 j=201\t313 i=6 j=202\t177 i=6 j=203\t973 i=6 j=204\t939 i=6 j=205\t830 i=6 j=206\t374 i=6 j=207\t818 i=6 j=208\t368 i=6 j=209\t1194 i=6 j=210\t1198 i=6 j=211\t678 i=6 j=212\t776 i=6 j=213\t879 i=6 j=214\t940 i=6 j=215\t670 i=6 j=216\t218 i=6 j=217\t1137 i=6 j=218\t1207 i=6 j=219\t831 i=6 j=220\t915 i=6 j=221\t271 i=6 j=222\t34 i=6 j=223\t1146 i=6 j=224\t431 i=6 j=225\t925 i=6 j=226\t645 i=6 j=227\t405 i=6 j=228\t485 i=6 j=229\t451 i=6 j=230\t606 i=6 j=231\t691 i=6 j=232\t621 i=6 j=233\t893 i=6 j=234\t403 i=6 j=235\t208 i=6 j=236\t982 i=6 j=237\t768 i=6 j=238\t1109 i=6 j=239\t1059 i=6 j=240\t361 i=6 j=241\t1128 i=6 j=242\t555 i=6 j=243\t1148 i=6 j=244\t388 i=6 j=245\t798 i=6 j=246\t477 i=6 j=247\t291 i=6 j=248\t142 i=6 j=249\t696 i=6 j=250\t449 i=6 j=251\t1132 i=6 j=252\t464 i=6 j=253\t530 i=6 j=254\t10 i=6 j=255\t342 i=6 j=256\t652 i=6 j=257\t448 i=6 j=258\t1176 i=6 j=259\t101 i=6 j=260\t29 i=6 j=261\t1149 i=6 j=262\t796 i=6 j=263\t385 i=6 j=264\t577 i=6 j=265\t603 i=6 j=266\t966 i=6 j=267\t602 i=6 j=268\t317 i=6 j=269\t155 i=6 j=270\t574 i=6 j=271\t1021 i=6 j=272\t609 i=6 j=273\t257 i=6 j=274\t35 i=6 j=275\t780 i=6 j=276\t679 i=6 j=277\t714 i=6 j=278\t636 i=6 j=279\t338 i=6 j=280\t766 i=6 j=281\t12 i=6 j=282\t277 i=6 j=283\t1103 i=6 j=284\t512 i=6 j=285\t470 i=6 j=286\t580 i=6 j=287\t734 i=6 j=288\t804 i=6 j=289\t263 i=6 j=290\t463 i=6 j=291\t252 i=6 j=292\t222 i=6 j=293\t1186 i=6 j=294\t888 i=6 j=295\t53 i=6 j=296\t27 i=6 j=297\t557 i=6 j=298\t937 i=6 j=299\t85 i=6 j=300\t102 i=6 j=301\t413 i=6 j=302\t320 i=6 j=303\t363 i=6 j=304\t686 i=6 j=305\t695 i=6 j=306\t412 i=6 j=307\t487 i=6 j=308\t703 i=6 j=309\t793 i=6 j=310\t539 i=6 j=311\t709 i=6 j=312\t23 i=6 j=313\t835 i=6 j=314\t900 i=6 j=315\t1121 i=6 j=316\t14 i=6 j=317\t974 i=6 j=318\t1127 i=6 j=319\t1147 i=6 j=320\t828 i=6 j=321\t1184 i=6 j=322\t399 i=6 j=323\t980 i=6 j=324\t145 i=6 j=325\t572 i=6 j=326\t1161 i=6 j=327\t956 i=6 j=328\t1160 i=6 j=329\t314 i=6 j=330\t1102 i=6 j=331\t239 i=6 j=332\t189 i=6 j=333\t32 i=6 j=334\t33 i=6 j=335\t168 i=6 j=336\t58 i=6 j=337\t1111 i=6 j=338\t584 i=6 j=339\t1080 i=6 j=340\t384 i=6 j=341\t863 i=6 j=342\t197 i=6 j=343\t69 i=6 j=344\t922 i=6 j=345\t706 i=6 j=346\t237 i=6 j=347\t327 i=6 j=348\t717 i=6 j=349\t329 i=6 j=350\t117 i=6 j=351\t471 i=6 j=352\t423 i=6 j=353\t789 i=6 j=354\t641 i=6 j=355\t225 i=6 j=356\t244 i=6 j=357\t234 i=6 j=358\t498 i=6 j=359\t542 i=6 j=360\t510 i=6 j=361\t494 i=6 j=362\t223 i=6 j=363\t505 i=6 j=364\t533 i=6 j=365\t560 i=6 j=366\t17 i=6 j=367\t653 i=6 j=368\t78 i=6 j=369\t514 i=6 j=370\t880 i=6 j=371\t807 i=6 j=372\t409 i=6 j=373\t948 i=6 j=374\t1202 i=6 j=375\t1046 i=6 j=376\t998 i=6 j=377\t456 i=6 j=378\t988 i=6 j=379\t891 i=6 j=380\t876 i=6 j=381\t288 i=6 j=382\t567 i=6 j=383\t950 i=6 j=384\t1045 i=6 j=385\t475 i=6 j=386\t46 i=6 j=387\t1178 i=6 j=388\t299 i=6 j=389\t594 i=6 j=390\t991 i=6 j=391\t985 i=6 j=392\t986 i=6 j=393\t1022 i=6 j=394\t87 i=6 j=395\t731 i=6 j=396\t153 i=6 j=397\t1150 i=6 j=398\t497 i=6 j=399\t851 i=6 j=400\t334 i=6 j=401\t864 i=6 j=402\t601 i=6 j=403\t226 i=6 j=404\t482 i=6 j=405\t535 i=6 j=406\t369 i=6 j=407\t199 i=6 j=408\t1175 i=6 j=409\t1077 i=6 j=410\t233 i=6 j=411\t716 i=6 j=412\t303 i=6 j=413\t773 i=6 j=414\t647 i=6 j=415\t245 i=6 j=416\t882 i=6 j=417\t276 i=6 j=418\t639 i=6 j=419\t916 i=6 j=420\t884 i=6 j=421\t183 i=6 j=422\t170 i=6 j=423\t95 i=6 j=424\t1174 i=6 j=425\t658 i=6 j=426\t881 i=6 j=427\t783 i=6 j=428\t585 i=6 j=429\t873 i=6 j=430\t838 i=6 j=431\t625 i=6 j=432\t720 i=6 j=433\t725 i=6 j=434\t1151 i=6 j=435\t582 i=6 j=436\t529 i=6 j=437\t955 i=6 j=438\t1204 i=6 j=439\t318 i=6 j=440\t769 i=6 j=441\t1106 i=6 j=442\t440 i=6 j=443\t1203 i=6 j=444\t1117 i=6 j=445\t729 i=6 j=446\t719 i=6 j=447\t932 i=6 j=448\t166 i=6 j=449\t620 i=6 j=450\t282 i=6 j=451\t930 i=6 j=452\t701 i=6 j=453\t315 i=6 j=454\t611 i=6 j=455\t979 i=6 j=456\t209 i=6 j=457\t416 i=6 j=458\t16 i=6 j=459\t446 i=6 j=460\t846 i=6 j=461\t375 i=6 j=462\t909 i=6 j=463\t699 i=6 j=464\t756 i=6 j=465\t195 i=6 j=466\t723 i=6 j=467\t129 i=6 j=468\t827 i=6 j=469\t968 i=6 j=470\t522 i=6 j=471\t119 i=6 j=472\t688 i=6 j=473\t681 i=6 j=474\t1006 i=6 j=475\t148 i=6 j=476\t182 i=6 j=477\t267 i=6 j=478\t433 i=6 j=479\t13 i=6 j=480\t1206 i=6 j=481\t118 i=6 j=482\t355 i=6 j=483\t358 i=6 j=484\t473 i=6 j=485\t1125 i=6 j=486\t1025 i=6 j=487\t259 i=6 j=488\t524 i=6 j=489\t576 i=6 j=490\t1013 i=6 j=491\t1097 i=6 j=492\t597 i=6 j=493\t474 i=6 j=494\t455 i=6 j=495\t565 i=6 j=496\t341 i=6 j=497\t1144 i=6 j=498\t855 i=6 j=499\t106 i=6 j=500\t372 i=6 j=501\t104 i=6 j=502\t782 i=6 j=503\t43 i=6 j=504\t816 i=6 j=505\t105 i=6 j=506\t66 i=6 j=507\t70 i=6 j=508\t825 i=6 j=509\t607 i=6 j=510\t1043 i=6 j=511\t110 i=6 j=512\t442 i=6 j=513\t959 i=6 j=514\t612 i=6 j=515\t834 i=6 j=516\t454 i=6 j=517\t837 i=6 j=518\t140 i=6 j=519\t203 i=6 j=520\t40 i=6 j=521\t1119 i=6 j=522\t215 i=6 j=523\t1090 i=6 j=524\t923 i=6 j=525\t279 i=6 j=526\t790 i=6 j=527\t122 i=6 j=528\t938 i=6 j=529\t1 i=6 j=530\t167 i=6 j=531\t121 i=6 j=532\t1181 i=6 j=533\t1048 i=6 j=534\t133 i=6 j=535\t427 i=6 j=536\t134 i=6 j=537\t198 i=6 j=538\t1027 i=6 j=539\t50 i=6 j=540\t913 i=6 j=541\t1023 i=6 j=542\t963 i=6 j=543\t810 i=6 j=544\t115 i=6 j=545\t483 i=6 j=546\t812 i=6 j=547\t1062 i=6 j=548\t180 i=6 j=549\t1159 i=6 j=550\t871 i=6 j=551\t36 i=6 j=552\t1067 i=6 j=553\t669 i=6 j=554\t44 i=6 j=555\t217 i=6 j=556\t480 i=6 j=557\t437 i=6 j=558\t278 i=6 j=559\t425 i=6 j=560\t491 i=6 j=561\t107 i=6 j=562\t989 i=6 j=563\t353 i=6 j=564\t656 i=6 j=565\t331 i=6 j=566\t280 i=6 j=567\t1143 i=6 j=568\t685 i=6 j=569\t364 i=6 j=570\t758 i=6 j=571\t806 i=6 j=572\t290 i=6 j=573\t553 i=6 j=574\t64 i=6 j=575\t1065 i=6 j=576\t795 i=6 j=577\t113 i=6 j=578\t194 i=6 j=579\t841 i=6 j=580\t28 i=6 j=581\t614 i=6 j=582\t1120 i=6 j=583\t525 i=6 j=584\t996 i=6 j=585\t1185 i=6 j=586\t615 i=6 j=587\t564 i=6 j=588\t1037 i=6 j=589\t325 i=6 j=590\t424 i=6 j=591\t630 i=6 j=592\t1095 i=6 j=593\t138 i=6 j=594\t604 i=6 j=595\t193 i=6 j=596\t349 i=6 j=597\t762 i=6 j=598\t1014 i=6 j=599\t832 i=6 j=600\t499 i=6 j=601\t844 i=6 j=602\t949 i=6 j=603\t1063 i=6 j=604\t513 i=6 j=605\t637 i=6 j=606\t543 i=6 j=607\t157 i=6 j=608\t231 i=6 j=609\t1193 i=6 j=610\t976 i=6 j=611\t751 i=6 j=612\t889 i=6 j=613\t200 i=6 j=614\t794 i=6 j=615\t1008 i=6 j=616\t467 i=6 j=617\t381 i=6 j=618\t718 i=6 j=619\t687 i=6 j=620\t444 i=6 j=621\t304 i=6 j=622\t661 i=6 j=623\t878 i=6 j=624\t392 i=6 j=625\t109 i=6 j=626\t1157 i=6 j=627\t853 i=6 j=628\t379 i=6 j=629\t836 i=6 j=630\t1071 i=6 j=631\t1154 i=6 j=632\t219 i=6 j=633\t447 i=6 j=634\t629 i=6 j=635\t156 i=6 j=636\t997 i=6 j=637\t649 i=6 j=638\t330 i=6 j=639\t322 i=6 j=640\t443 i=6 j=641\t1167 i=6 j=642\t618 i=6 j=643\t205 i=6 j=644\t265 i=6 j=645\t1135 i=6 j=646\t1192 i=6 j=647\t390 i=6 j=648\t357 i=6 j=649\t805 i=6 j=650\t468 i=6 j=651\t728 i=6 j=652\t457 i=6 j=653\t705 i=6 j=654\t936 i=6 j=655\t1061 i=6 j=656\t67 i=6 j=657\t935 i=6 j=658\t175 i=6 j=659\t432 i=6 j=660\t944 i=6 j=661\t722 i=6 j=662\t174 i=6 j=663\t919 i=6 j=664\t159 i=6 j=665\t103 i=6 j=666\t657 i=6 j=667\t479 i=6 j=668\t289 i=6 j=669\t738 i=6 j=670\t333 i=6 j=671\t1036 i=6 j=672\t822 i=6 j=673\t411 i=6 j=674\t61 i=6 j=675\t65 i=6 j=676\t445 i=6 j=677\t131 i=6 j=678\t1004 i=6 j=679\t126 i=6 j=680\t458 i=6 j=681\t339 i=6 j=682\t383 i=6 j=683\t761 i=6 j=684\t849 i=6 j=685\t377 i=6 j=686\t82 i=6 j=687\t83 i=6 j=688\t232 i=6 j=689\t1170 i=6 j=690\t1082 i=6 j=691\t1055 i=6 j=692\t1064 i=6 j=693\t544 i=6 j=694\t815 i=6 j=695\t373 i=6 j=696\t123 i=6 j=697\t365 i=6 j=698\t100 i=6 j=699\t191 i=6 j=700\t75 i=6 j=701\t521 i=6 j=702\t1195 i=6 j=703\t30 i=6 j=704\t171 i=6 j=705\t595 i=6 j=706\t748 i=6 j=707\t1003 i=6 j=708\t41 i=6 j=709\t306 i=6 j=710\t62 i=6 j=711\t60 i=6 j=712\t59 i=6 j=713\t438 i=6 j=714\t235 i=6 j=715\t293 i=6 j=716\t700 i=6 j=717\t436 i=6 j=718\t285 i=6 j=719\t435 i=6 j=720\t587 i=6 j=721\t753 i=6 j=722\t1009 i=6 j=723\t823 i=6 j=724\t546 i=6 j=725\t316 i=6 j=726\t778 i=6 j=727\t571 i=6 j=728\t144 i=6 j=729\t568 i=6 j=730\t1017 i=6 j=731\t48 i=6 j=732\t1033 i=6 j=733\t983 i=6 j=734\t1057 i=6 j=735\t588 i=6 j=736\t1007 i=6 j=737\t258 i=6 j=738\t666 i=6 j=739\t305 i=6 j=740\t336 i=6 j=741\t765 i=6 j=742\t366 i=6 j=743\t98 i=6 j=744\t248 i=6 j=745\t281 i=6 j=746\t1165 i=6 j=747\t260 i=6 j=748\t747 i=6 j=749\t410 i=6 j=750\t1105 i=6 j=751\t45 i=6 j=752\t896 i=6 j=753\t202 i=6 j=754\t120 i=6 j=755\t680 i=6 j=756\t741 i=6 j=757\t465 i=6 j=758\t162 i=6 j=759\t367 i=6 j=760\t404 i=6 j=761\t207 i=6 j=762\t509 i=6 j=763\t777 i=6 j=764\t772 i=6 j=765\t312 i=6 j=766\t21 i=6 j=767\t797 i=6 j=768\t1187 i=6 j=769\t398 i=6 j=770\t942 i=6 j=771\t469 i=6 j=772\t977 i=6 j=773\t81 i=6 j=774\t520 i=6 j=775\t495 i=6 j=776\t928 i=6 j=777\t759 i=6 j=778\t1081 i=6 j=779\t1060 i=6 j=780\t286 i=6 j=781\t135 i=6 j=782\t613 i=6 j=783\t885 i=6 j=784\t387 i=6 j=785\t204 i=6 j=786\t852 i=6 j=787\t934 i=6 j=788\t1140 i=6 j=789\t152 i=6 j=790\t515 i=6 j=791\t978 i=6 j=792\t655 i=6 j=793\t472 i=6 j=794\t787 i=6 j=795\t1104 i=6 j=796\t1072 i=6 j=797\t859 i=6 j=798\t214 i=6 j=799\t287 i=6 j=800\t760 i=6 j=801\t269 i=6 j=802\t164 i=6 j=803\t958 i=6 j=804\t73 i=6 j=805\t1183 i=6 j=806\t1208 i=6 j=807\t24 i=6 j=808\t439 i=6 j=809\t750 i=6 j=810\t5 i=6 j=811\t68 i=6 j=812\t1116 i=6 j=813\t536 i=6 j=814\t360 i=6 j=815\t1074 i=6 j=816\t130 i=6 j=817\t462 i=6 j=818\t150 i=6 j=819\t598 i=6 j=820\t111 i=6 j=821\t502 i=6 j=822\t394 i=6 j=823\t897 i=6 j=824\t302 i=6 j=825\t749 i=6 j=826\t1047 i=6 j=827\t1191 i=6 j=828\t964 i=6 j=829\t450 i=6 j=830\t532 i=6 j=831\t251 i=6 j=832\t274 i=6 j=833\t337 i=6 j=834\t561 i=6 j=835\t779 i=6 j=836\t406 i=6 j=837\t809 i=6 j=838\t566 i=6 j=839\t22 i=6 j=840\t549 i=6 j=841\t92 i=6 j=842\t298 i=6 j=843\t591 i=6 j=844\t635 i=6 j=845\t872 i=6 j=846\t538 i=6 j=847\t481 i=6 j=848\t294 i=6 j=849\t127 i=6 j=850\t785 i=6 j=851\t49 i=6 j=852\t813 i=6 j=853\t292 i=6 j=854\t1069 i=6 j=855\t904 i=6 j=856\t213 i=6 j=857\t556 i=6 j=858\t599 i=6 j=859\t1100 i=6 j=860\t662 i=6 j=861\t25 i=6 j=862\t957 i=6 j=863\t1030 i=6 j=864\t1169 i=6 j=865\t801 i=6 j=866\t736 i=6 j=867\t1032 i=6 j=868\t1034 i=6 j=869\t754 i=6 j=870\t668 i=6 j=871\t784 i=6 j=872\t907 i=6 j=873\t253 i=6 j=874\t583 i=6 j=875\t554 i=6 j=876\t319 i=6 j=877\t503 i=6 j=878\t230 i=6 j=879\t284 i=6 j=880\t526 i=6 j=881\t238 i=6 j=882\t326 i=6 j=883\t181 i=6 j=884\t229 i=6 j=885\t1201 i=6 j=886\t401 i=6 j=887\t775 i=6 j=888\t924 i=6 j=889\t967 i=6 j=890\t746 i=6 j=891\t453 i=6 j=892\t845 i=6 j=893\t894 i=6 j=894\t869 i=6 j=895\t1093 i=6 j=896\t90 i=6 j=897\t310 i=6 j=898\t903 i=6 j=899\t1010 i=6 j=900\t1084 i=6 j=901\t697 i=6 j=902\t1086 i=6 j=903\t345 i=6 j=904\t1182 i=6 j=905\t173 i=6 j=906\t921 i=6 j=907\t459 i=6 j=908\t124 i=6 j=909\t20 i=6 j=910\t664 i=6 j=911\t1115 i=6 j=912\t419 i=6 j=913\t370 i=6 j=914\t1113 i=6 j=915\t764 i=6 j=916\t987 i=6 j=917\t870 i=6 j=918\t898 i=6 j=919\t1011 i=6 j=920\t188 i=6 j=921\t354 i=6 j=922\t227 i=6 j=923\t236 i=6 j=924\t1020 i=6 j=925\t476 i=6 j=926\t356 i=6 j=927\t74 i=6 j=928\t1053 i=6 j=929\t347 i=6 j=930\t824 i=6 j=931\t771 i=6 j=932\t143 i=6 j=933\t63 i=6 j=934\t362 i=6 j=935\t786 i=6 j=936\t26 i=6 j=937\t1029 i=6 j=938\t420 i=6 j=939\t76 i=6 j=940\t518 i=6 j=941\t704 i=6 j=942\t137 i=6 j=943\t71 i=6 j=944\t946 i=6 j=945\t114 i=6 j=946\t332 i=6 j=947\t821 i=6 j=948\t1015 i=6 j=949\t429 i=6 j=950\t578 i=6 j=951\t646 i=6 j=952\t97 i=6 j=953\t1152 i=6 j=954\t247 i=6 j=955\t241 i=6 j=956\t1110 i=6 j=957\t867 i=6 j=958\t892 i=6 j=959\t610 i=6 j=960\t757 i=6 j=961\t808 i=6 j=962\t1028 i=6 j=963\t1049 i=6 j=964\t971 i=6 j=965\t914 i=6 j=966\t89 i=6 j=967\t1199 i=6 j=968\t726 i=6 j=969\t500 i=6 j=970\t562 i=6 j=971\t724 i=6 j=972\t623 i=6 j=973\t210 i=6 j=974\t1188 i=6 j=975\t56 i=6 j=976\t243 i=6 j=977\t862 i=6 j=978\t590 i=6 j=979\t417 i=6 j=980\t216 i=6 j=981\t79 i=6 j=982\t151 i=6 j=983\t707 i=6 j=984\t160 i=6 j=985\t763 i=6 j=986\t340 i=6 j=987\t7 i=6 j=988\t96 i=6 j=989\t295 i=6 j=990\t854 i=6 j=991\t396 i=6 j=992\t1177 i=6 j=993\t593 i=6 j=994\t508 i=6 j=995\t631 i=6 j=996\t737 i=6 j=997\t139 i=6 j=998\t632 i=6 j=999\t886 i=6 j=1000\t589 i=6 j=1001\t3 i=6 j=1002\t1092 i=6 j=1003\t2 i=6 j=1004\t1040 i=6 j=1005\t802 i=6 j=1006\t246 i=6 j=1007\t268 i=6 j=1008\t380 i=6 j=1009\t1112 i=6 j=1010\t575 i=6 j=1011\t901 i=6 j=1012\t1001 i=6 j=1013\t407 i=6 j=1014\t887 i=6 j=1015\t39 i=6 j=1016\t954 i=6 j=1017\t817 i=6 j=1018\t999 i=6 j=1019\t478 i=6 j=1020\t1136 i=6 j=1021\t1018 i=6 j=1022\t833 i=6 j=1023\t1141 i=6 j=1024\t460 i=6 j=1025\t1129 i=6 j=1026\t1138 i=6 j=1027\t860 i=6 j=1028\t352 i=6 j=1029\t961 i=6 j=1030\t91 i=6 j=1031\t307 i=6 j=1032\t840 i=6 j=1033\t348 i=6 j=1034\t975 i=6 j=1035\t184 i=6 j=1036\t250 i=6 j=1037\t52 i=6 j=1038\t186 i=6 j=1039\t1058 i=6 j=1040\t713 i=6 j=1041\t211 i=6 j=1042\t350 i=6 j=1043\t466 i=6 j=1044\t895 i=6 j=1045\t201 i=6 j=1046\t169 i=6 j=1047\t708 i=6 j=1048\t1118 i=6 j=1049\t516 i=6 j=1050\t504 i=6 j=1051\t1076 i=6 j=1052\t511 i=6 j=1053\t1099 i=6 j=1054\t883 i=6 j=1055\t910 i=6 j=1056\t744 i=6 j=1057\t642 i=6 j=1058\t951 i=6 j=1059\t1145 i=6 j=1060\t799 i=6 j=1061\t93 i=6 j=1062\t19 i=6 j=1063\t343 i=6 j=1064\t740 i=6 j=1065\t1173 i=6 j=1066\t1089 i=6 j=1067\t624 i=6 j=1068\t927 i=6 j=1069\t715 i=6 j=1070\t712 i=6 j=1071\t721 i=6 j=1072\t579 i=6 j=1073\t346 i=6 j=1074\t256 i=6 j=1075\t1098 i=6 j=1076\t970 i=6 j=1077\t947 i=6 j=1078\t389 i=6 j=1079\t912 i=6 j=1080\t600 i=6 j=1081\t1124 i=6 j=1082\t605 i=6 j=1083\t573 i=6 j=1084\t995 i=6 j=1085\t149 i=6 j=1086\t800 i=6 j=1087\t240 i=6 j=1088\t489 i=6 j=1089\t54 i=6 j=1090\t1172 i=6 j=1091\t877 i=6 j=1092\t161 i=6 j=1093\t1051 i=6 j=1094\t984 i=6 j=1095\t608 i=6 j=1096\t634 i=6 j=1097\t4 i=6 j=1098\t990 i=6 j=1099\t552 i=6 j=1100\t767 i=6 j=1101\t1044 i=6 j=1102\t733 i=6 j=1103\t393 i=6 j=1104\t902 i=6 j=1105\t663 i=6 j=1106\t324 i=6 j=1107\t1179 i=6 j=1108\t1114 i=6 j=1109\t418 i=6 j=1110\t875 i=6 j=1111\t38 i=6 j=1112\t402 i=6 j=1113\t1190 i=6 j=1114\t1123 i=6 j=1115\t993 i=6 j=1116\t528 i=6 j=1117\t540 i=6 j=1118\t547 i=6 j=1119\t698 i=6 j=1120\t952 i=6 j=1121\t918 i=6 j=1122\t1000 i=6 j=1123\t960 i=6 j=1124\t906 i=6 j=1125\t1155 i=6 j=1126\t386 i=6 j=1127\t8 i=6 j=1128\t163 i=6 j=1129\t132 i=6 j=1130\t1068 i=6 j=1131\t820 i=6 j=1132\t31 i=6 j=1133\t1180 i=6 j=1134\t826 i=6 j=1135\t80 i=6 j=1136\t1085 i=6 j=1137\t1158 i=6 j=1138\t408 i=6 j=1139\t196 i=6 j=1140\t550 i=6 j=1141\t559 i=6 j=1142\t1079 i=6 j=1143\t1162 i=6 j=1144\t1200 i=6 j=1145\t57 i=6 j=1146\t190 i=6 j=1147\t452 i=6 j=1148\t1142 i=6 j=1149\t1091 i=6 j=1150\t55 i=6 j=1151\t651 i=6 j=1152\t1130 i=6 j=1153\t617 i=6 j=1154\t1035 i=6 j=1155\t99 i=6 j=1156\t814 i=6 j=1157\t781 i=6 j=1158\t677 i=6 j=1159\t1096 i=6 j=1160\t255 i=6 j=1161\t616 i=6 j=1162\t633 i=6 j=1163\t640 i=6 j=1164\t648 i=6 j=1165\t51 i=6 j=1166\t492 i=6 j=1167\t1122 i=6 j=1168\t308 i=6 j=1169\t1019 i=6 j=1170\t1088 i=6 j=1171\t42 i=6 j=1172\t421 i=6 j=1173\t1016 i=6 j=1174\t426 i=6 j=1175\t1078 i=6 j=1176\t6 i=6 j=1177\t531 i=6 j=1178\t254 i=6 j=1179\t672 i=6 j=1180\t673 i=6 j=1181\t676 i=6 j=1182\t328 i=6 j=1183\t273 i=6 j=1184\t548 i=6 j=1185\t84 i=6 j=1186\t735 i=6 j=1187\t788 i=6 j=1188\t899 i=6 j=1189\t382 i=6 j=1190\t400 i=6 j=1191\t371 i=6 j=1192\t18 i=6 j=1193\t643 i=6 j=1194\t283 i=6 j=1195\t351 i=6 j=1196\t187 i=6 j=1197\t224 i=6 j=1198\t683 i=6 j=1199\t1026 i=6 j=1200\t1197 i=6 j=1201\t496 i=6 j=1202\t1012 i=7 j=0\t850 i=7 j=1\t86 i=7 j=2\t692 i=7 j=3\t537 i=7 j=4\t829 i=7 j=5\t943 i=7 j=6\t1171 i=7 j=7\t638 i=7 j=8\t702 i=7 j=9\t146 i=7 j=10\t228 i=7 j=11\t185 i=7 j=12\t266 i=7 j=13\t1126 i=7 j=14\t94 i=7 j=15\t742 i=7 j=16\t501 i=7 j=17\t147 i=7 j=18\t791 i=7 j=19\t1041 i=7 j=20\t1134 i=7 j=21\t890 i=7 j=22\t1066 i=7 j=23\t517 i=7 j=24\t1205 i=7 j=25\t586 i=7 j=26\t644 i=7 j=27\t441 i=7 j=28\t953 i=7 j=29\t1031 i=7 j=30\t321 i=7 j=31\t1166 i=7 j=32\t693 i=7 j=33\t1139 i=7 j=34\t47 i=7 j=35\t77 i=7 j=36\t275 i=7 j=37\t176 i=7 j=38\t933 i=7 j=39\t945 i=7 j=40\t622 i=7 j=41\t270 i=7 j=42\t660 i=7 j=43\t654 i=7 j=44\t969 i=7 j=45\t874 i=7 j=46\t743 i=7 j=47\t414 i=7 j=48\t527 i=7 j=49\t112 i=7 j=50\t206 i=7 j=51\t858 i=7 j=52\t1133 i=7 j=53\t843 i=7 j=54\t926 i=7 j=55\t857 i=7 j=56\t675 i=7 j=57\t981 i=7 j=58\t309 i=7 j=59\t994 i=7 j=60\t1075 i=7 j=61\t428 i=7 j=62\t671 i=7 j=63\t165 i=7 j=64\t323 i=7 j=65\t128 i=7 j=66\t461 i=7 j=67\t488 i=7 j=68\t674 i=7 j=69\t507 i=7 j=70\t774 i=7 j=71\t745 i=7 j=72\t569 i=7 j=73\t563 i=7 j=74\t1163 i=7 j=75\t262 i=7 j=76\t905 i=7 j=77\t242 i=7 j=78\t1189 i=7 j=79\t628 i=7 j=80\t395 i=7 j=81\t272 i=7 j=82\t908 i=7 j=83\t811 i=7 j=84\t1038 i=7 j=85\t422 i=7 j=86\t415 i=7 j=87\t732 i=7 j=88\t792 i=7 j=89\t1108 i=7 j=90\t88 i=7 j=91\t727 i=7 j=92\t931 i=7 j=93\t570 i=7 j=94\t689 i=7 j=95\t296 i=7 j=96\t690 i=7 j=97\t1101 i=7 j=98\t1153 i=7 j=99\t962 i=7 j=100\t581 i=7 j=101\t141 i=7 j=102\t1131 i=7 j=103\t1024 i=7 j=104\t192 i=7 j=105\t506 i=7 j=106\t136 i=7 j=107\t551 i=7 j=108\t842 i=7 j=109\t626 i=7 j=110\t650 i=7 j=111\t1042 i=7 j=112\t11 i=7 j=113\t1056 i=7 j=114\t1087 i=7 j=115\t972 i=7 j=116\t911 i=7 j=117\t1168 i=7 j=118\t1005 i=7 j=119\t941 i=7 j=120\t596 i=7 j=121\t619 i=7 j=122\t344 i=7 j=123\t803 i=7 j=124\t220 i=7 j=125\t1070 i=7 j=126\t493 i=7 j=127\t301 i=7 j=128\t178 i=7 j=129\t667 i=7 j=130\t865 i=7 j=131\t1039 i=7 j=132\t523 i=7 j=133\t490 i=7 j=134\t484 i=7 j=135\t15 i=7 j=136\t249 i=7 j=137\t519 i=7 j=138\t1050 i=7 j=139\t847 i=7 j=140\t212 i=7 j=141\t1054 i=7 j=142\t1083 i=7 j=143\t868 i=7 j=144\t179 i=7 j=145\t1156 i=7 j=146\t300 i=7 j=147\t116 i=7 j=148\t335 i=7 j=149\t739 i=7 j=150\t730 i=7 j=151\t264 i=7 j=152\t819 i=7 j=153\t172 i=7 j=154\t376 i=7 j=155\t391 i=7 j=156\t37 i=7 j=157\t541 i=7 j=158\t592 i=7 j=159\t684 i=7 j=160\t856 i=7 j=161\t378 i=7 j=162\t297 i=7 j=163\t711 i=7 j=164\t992 i=7 j=165\t534 i=7 j=166\t72 i=7 j=167\t920 i=7 j=168\t108 i=7 j=169\t682 i=7 j=170\t311 i=7 j=171\t558 i=7 j=172\t261 i=7 j=173\t866 i=7 j=174\t710 i=7 j=175\t848 i=7 j=176\t397 i=7 j=177\t755 i=7 j=178\t752 i=7 j=179\t1164 i=7 j=180\t659 i=7 j=181\t665 i=7 j=182\t1107 i=7 j=183\t839 i=7 j=184\t158 i=7 j=185\t545 i=7 j=186\t154 i=7 j=187\t770 i=7 j=188\t929 i=7 j=189\t627 i=7 j=190\t965 i=7 j=191\t1196 i=7 j=192\t917 i=7 j=193\t434 i=7 j=194\t125 i=7 j=195\t1073 i=7 j=196\t1094 i=7 j=197\t1002 i=7 j=198\t486 i=7 j=199\t221 i=7 j=200\t359 i=7 j=201\t313 i=7 j=202\t177 i=7 j=203\t973 i=7 j=204\t939 i=7 j=205\t830 i=7 j=206\t374 i=7 j=207\t818 i=7 j=208\t368 i=7 j=209\t1194 i=7 j=210\t1198 i=7 j=211\t678 i=7 j=212\t776 i=7 j=213\t879 i=7 j=214\t940 i=7 j=215\t670 i=7 j=216\t218 i=7 j=217\t1137 i=7 j=218\t1207 i=7 j=219\t831 i=7 j=220\t915 i=7 j=221\t271 i=7 j=222\t34 i=7 j=223\t1146 i=7 j=224\t431 i=7 j=225\t925 i=7 j=226\t645 i=7 j=227\t405 i=7 j=228\t485 i=7 j=229\t451 i=7 j=230\t606 i=7 j=231\t691 i=7 j=232\t621 i=7 j=233\t893 i=7 j=234\t403 i=7 j=235\t208 i=7 j=236\t982 i=7 j=237\t768 i=7 j=238\t1109 i=7 j=239\t1059 i=7 j=240\t361 i=7 j=241\t1128 i=7 j=242\t555 i=7 j=243\t1148 i=7 j=244\t388 i=7 j=245\t798 i=7 j=246\t477 i=7 j=247\t291 i=7 j=248\t142 i=7 j=249\t696 i=7 j=250\t449 i=7 j=251\t1132 i=7 j=252\t464 i=7 j=253\t530 i=7 j=254\t10 i=7 j=255\t342 i=7 j=256\t652 i=7 j=257\t448 i=7 j=258\t1176 i=7 j=259\t101 i=7 j=260\t29 i=7 j=261\t1149 i=7 j=262\t796 i=7 j=263\t385 i=7 j=264\t577 i=7 j=265\t603 i=7 j=266\t966 i=7 j=267\t602 i=7 j=268\t317 i=7 j=269\t155 i=7 j=270\t574 i=7 j=271\t1021 i=7 j=272\t609 i=7 j=273\t257 i=7 j=274\t35 i=7 j=275\t780 i=7 j=276\t679 i=7 j=277\t714 i=7 j=278\t636 i=7 j=279\t338 i=7 j=280\t766 i=7 j=281\t12 i=7 j=282\t277 i=7 j=283\t1103 i=7 j=284\t512 i=7 j=285\t470 i=7 j=286\t580 i=7 j=287\t734 i=7 j=288\t804 i=7 j=289\t263 i=7 j=290\t463 i=7 j=291\t252 i=7 j=292\t222 i=7 j=293\t1186 i=7 j=294\t888 i=7 j=295\t53 i=7 j=296\t27 i=7 j=297\t557 i=7 j=298\t937 i=7 j=299\t85 i=7 j=300\t102 i=7 j=301\t413 i=7 j=302\t320 i=7 j=303\t363 i=7 j=304\t686 i=7 j=305\t695 i=7 j=306\t412 i=7 j=307\t487 i=7 j=308\t703 i=7 j=309\t793 i=7 j=310\t539 i=7 j=311\t709 i=7 j=312\t23 i=7 j=313\t835 i=7 j=314\t900 i=7 j=315\t1121 i=7 j=316\t14 i=7 j=317\t974 i=7 j=318\t1127 i=7 j=319\t1147 i=7 j=320\t828 i=7 j=321\t1184 i=7 j=322\t399 i=7 j=323\t980 i=7 j=324\t145 i=7 j=325\t572 i=7 j=326\t1161 i=7 j=327\t956 i=7 j=328\t1160 i=7 j=329\t314 i=7 j=330\t1102 i=7 j=331\t239 i=7 j=332\t189 i=7 j=333\t32 i=7 j=334\t33 i=7 j=335\t168 i=7 j=336\t58 i=7 j=337\t1111 i=7 j=338\t584 i=7 j=339\t1080 i=7 j=340\t384 i=7 j=341\t863 i=7 j=342\t197 i=7 j=343\t69 i=7 j=344\t922 i=7 j=345\t706 i=7 j=346\t237 i=7 j=347\t327 i=7 j=348\t717 i=7 j=349\t329 i=7 j=350\t117 i=7 j=351\t471 i=7 j=352\t423 i=7 j=353\t789 i=7 j=354\t641 i=7 j=355\t225 i=7 j=356\t244 i=7 j=357\t234 i=7 j=358\t498 i=7 j=359\t542 i=7 j=360\t510 i=7 j=361\t494 i=7 j=362\t223 i=7 j=363\t505 i=7 j=364\t533 i=7 j=365\t560 i=7 j=366\t17 i=7 j=367\t653 i=7 j=368\t78 i=7 j=369\t514 i=7 j=370\t880 i=7 j=371\t807 i=7 j=372\t409 i=7 j=373\t948 i=7 j=374\t1202 i=7 j=375\t1046 i=7 j=376\t998 i=7 j=377\t456 i=7 j=378\t988 i=7 j=379\t891 i=7 j=380\t876 i=7 j=381\t288 i=7 j=382\t567 i=7 j=383\t950 i=7 j=384\t1045 i=7 j=385\t475 i=7 j=386\t46 i=7 j=387\t1178 i=7 j=388\t299 i=7 j=389\t594 i=7 j=390\t991 i=7 j=391\t985 i=7 j=392\t986 i=7 j=393\t1022 i=7 j=394\t87 i=7 j=395\t731 i=7 j=396\t153 i=7 j=397\t1150 i=7 j=398\t497 i=7 j=399\t851 i=7 j=400\t334 i=7 j=401\t864 i=7 j=402\t601 i=7 j=403\t226 i=7 j=404\t482 i=7 j=405\t535 i=7 j=406\t369 i=7 j=407\t199 i=7 j=408\t1175 i=7 j=409\t1077 i=7 j=410\t233 i=7 j=411\t716 i=7 j=412\t303 i=7 j=413\t773 i=7 j=414\t647 i=7 j=415\t245 i=7 j=416\t882 i=7 j=417\t276 i=7 j=418\t639 i=7 j=419\t916 i=7 j=420\t884 i=7 j=421\t183 i=7 j=422\t170 i=7 j=423\t95 i=7 j=424\t1174 i=7 j=425\t658 i=7 j=426\t881 i=7 j=427\t783 i=7 j=428\t585 i=7 j=429\t873 i=7 j=430\t838 i=7 j=431\t625 i=7 j=432\t720 i=7 j=433\t725 i=7 j=434\t1151 i=7 j=435\t582 i=7 j=436\t529 i=7 j=437\t955 i=7 j=438\t1204 i=7 j=439\t318 i=7 j=440\t769 i=7 j=441\t1106 i=7 j=442\t440 i=7 j=443\t1203 i=7 j=444\t1117 i=7 j=445\t729 i=7 j=446\t719 i=7 j=447\t932 i=7 j=448\t166 i=7 j=449\t620 i=7 j=450\t282 i=7 j=451\t930 i=7 j=452\t701 i=7 j=453\t315 i=7 j=454\t611 i=7 j=455\t979 i=7 j=456\t209 i=7 j=457\t416 i=7 j=458\t16 i=7 j=459\t446 i=7 j=460\t846 i=7 j=461\t375 i=7 j=462\t909 i=7 j=463\t699 i=7 j=464\t756 i=7 j=465\t195 i=7 j=466\t723 i=7 j=467\t129 i=7 j=468\t827 i=7 j=469\t968 i=7 j=470\t522 i=7 j=471\t119 i=7 j=472\t688 i=7 j=473\t681 i=7 j=474\t1006 i=7 j=475\t148 i=7 j=476\t182 i=7 j=477\t267 i=7 j=478\t433 i=7 j=479\t13 i=7 j=480\t1206 i=7 j=481\t118 i=7 j=482\t355 i=7 j=483\t358 i=7 j=484\t473 i=7 j=485\t1125 i=7 j=486\t1025 i=7 j=487\t259 i=7 j=488\t524 i=7 j=489\t576 i=7 j=490\t1013 i=7 j=491\t1097 i=7 j=492\t597 i=7 j=493\t474 i=7 j=494\t455 i=7 j=495\t565 i=7 j=496\t341 i=7 j=497\t1144 i=7 j=498\t855 i=7 j=499\t106 i=7 j=500\t372 i=7 j=501\t104 i=7 j=502\t782 i=7 j=503\t43 i=7 j=504\t816 i=7 j=505\t105 i=7 j=506\t66 i=7 j=507\t70 i=7 j=508\t825 i=7 j=509\t607 i=7 j=510\t1043 i=7 j=511\t110 i=7 j=512\t442 i=7 j=513\t959 i=7 j=514\t612 i=7 j=515\t834 i=7 j=516\t454 i=7 j=517\t837 i=7 j=518\t140 i=7 j=519\t203 i=7 j=520\t40 i=7 j=521\t1119 i=7 j=522\t215 i=7 j=523\t1090 i=7 j=524\t923 i=7 j=525\t279 i=7 j=526\t790 i=7 j=527\t122 i=7 j=528\t938 i=7 j=529\t1 i=7 j=530\t167 i=7 j=531\t121 i=7 j=532\t1181 i=7 j=533\t1048 i=7 j=534\t133 i=7 j=535\t427 i=7 j=536\t134 i=7 j=537\t198 i=7 j=538\t1027 i=7 j=539\t50 i=7 j=540\t913 i=7 j=541\t1023 i=7 j=542\t963 i=7 j=543\t810 i=7 j=544\t115 i=7 j=545\t483 i=7 j=546\t812 i=7 j=547\t1062 i=7 j=548\t180 i=7 j=549\t1159 i=7 j=550\t871 i=7 j=551\t36 i=7 j=552\t1067 i=7 j=553\t669 i=7 j=554\t44 i=7 j=555\t217 i=7 j=556\t480 i=7 j=557\t437 i=7 j=558\t278 i=7 j=559\t425 i=7 j=560\t491 i=7 j=561\t107 i=7 j=562\t989 i=7 j=563\t353 i=7 j=564\t656 i=7 j=565\t331 i=7 j=566\t280 i=7 j=567\t1143 i=7 j=568\t685 i=7 j=569\t364 i=7 j=570\t758 i=7 j=571\t806 i=7 j=572\t290 i=7 j=573\t553 i=7 j=574\t64 i=7 j=575\t1065 i=7 j=576\t795 i=7 j=577\t113 i=7 j=578\t194 i=7 j=579\t841 i=7 j=580\t28 i=7 j=581\t614 i=7 j=582\t1120 i=7 j=583\t525 i=7 j=584\t996 i=7 j=585\t1185 i=7 j=586\t615 i=7 j=587\t564 i=7 j=588\t1037 i=7 j=589\t325 i=7 j=590\t424 i=7 j=591\t630 i=7 j=592\t1095 i=7 j=593\t138 i=7 j=594\t604 i=7 j=595\t193 i=7 j=596\t349 i=7 j=597\t762 i=7 j=598\t1014 i=7 j=599\t832 i=7 j=600\t499 i=7 j=601\t844 i=7 j=602\t949 i=7 j=603\t1063 i=7 j=604\t513 i=7 j=605\t637 i=7 j=606\t543 i=7 j=607\t157 i=7 j=608\t231 i=7 j=609\t1193 i=7 j=610\t976 i=7 j=611\t751 i=7 j=612\t889 i=7 j=613\t200 i=7 j=614\t794 i=7 j=615\t1008 i=7 j=616\t467 i=7 j=617\t381 i=7 j=618\t718 i=7 j=619\t687 i=7 j=620\t444 i=7 j=621\t304 i=7 j=622\t661 i=7 j=623\t878 i=7 j=624\t392 i=7 j=625\t109 i=7 j=626\t1157 i=7 j=627\t853 i=7 j=628\t379 i=7 j=629\t836 i=7 j=630\t1071 i=7 j=631\t1154 i=7 j=632\t219 i=7 j=633\t447 i=7 j=634\t629 i=7 j=635\t156 i=7 j=636\t997 i=7 j=637\t649 i=7 j=638\t330 i=7 j=639\t322 i=7 j=640\t443 i=7 j=641\t1167 i=7 j=642\t618 i=7 j=643\t205 i=7 j=644\t265 i=7 j=645\t1135 i=7 j=646\t1192 i=7 j=647\t390 i=7 j=648\t357 i=7 j=649\t805 i=7 j=650\t468 i=7 j=651\t728 i=7 j=652\t457 i=7 j=653\t705 i=7 j=654\t936 i=7 j=655\t1061 i=7 j=656\t67 i=7 j=657\t935 i=7 j=658\t175 i=7 j=659\t432 i=7 j=660\t944 i=7 j=661\t722 i=7 j=662\t174 i=7 j=663\t919 i=7 j=664\t159 i=7 j=665\t103 i=7 j=666\t657 i=7 j=667\t479 i=7 j=668\t289 i=7 j=669\t738 i=7 j=670\t333 i=7 j=671\t1036 i=7 j=672\t822 i=7 j=673\t411 i=7 j=674\t61 i=7 j=675\t65 i=7 j=676\t445 i=7 j=677\t131 i=7 j=678\t1004 i=7 j=679\t126 i=7 j=680\t458 i=7 j=681\t339 i=7 j=682\t383 i=7 j=683\t761 i=7 j=684\t849 i=7 j=685\t377 i=7 j=686\t82 i=7 j=687\t83 i=7 j=688\t232 i=7 j=689\t1170 i=7 j=690\t1082 i=7 j=691\t1055 i=7 j=692\t1064 i=7 j=693\t544 i=7 j=694\t815 i=7 j=695\t373 i=7 j=696\t123 i=7 j=697\t365 i=7 j=698\t100 i=7 j=699\t191 i=7 j=700\t75 i=7 j=701\t521 i=7 j=702\t1195 i=7 j=703\t30 i=7 j=704\t171 i=7 j=705\t595 i=7 j=706\t748 i=7 j=707\t1003 i=7 j=708\t41 i=7 j=709\t306 i=7 j=710\t62 i=7 j=711\t60 i=7 j=712\t59 i=7 j=713\t438 i=7 j=714\t235 i=7 j=715\t293 i=7 j=716\t700 i=7 j=717\t436 i=7 j=718\t285 i=7 j=719\t435 i=7 j=720\t587 i=7 j=721\t753 i=7 j=722\t1009 i=7 j=723\t823 i=7 j=724\t546 i=7 j=725\t316 i=7 j=726\t778 i=7 j=727\t571 i=7 j=728\t144 i=7 j=729\t568 i=7 j=730\t1017 i=7 j=731\t48 i=7 j=732\t1033 i=7 j=733\t983 i=7 j=734\t1057 i=7 j=735\t588 i=7 j=736\t1007 i=7 j=737\t258 i=7 j=738\t666 i=7 j=739\t305 i=7 j=740\t336 i=7 j=741\t765 i=7 j=742\t366 i=7 j=743\t98 i=7 j=744\t248 i=7 j=745\t281 i=7 j=746\t1165 i=7 j=747\t260 i=7 j=748\t747 i=7 j=749\t410 i=7 j=750\t1105 i=7 j=751\t45 i=7 j=752\t896 i=7 j=753\t202 i=7 j=754\t120 i=7 j=755\t680 i=7 j=756\t741 i=7 j=757\t465 i=7 j=758\t162 i=7 j=759\t367 i=7 j=760\t404 i=7 j=761\t207 i=7 j=762\t509 i=7 j=763\t777 i=7 j=764\t772 i=7 j=765\t312 i=7 j=766\t21 i=7 j=767\t797 i=7 j=768\t1187 i=7 j=769\t398 i=7 j=770\t942 i=7 j=771\t469 i=7 j=772\t977 i=7 j=773\t81 i=7 j=774\t520 i=7 j=775\t495 i=7 j=776\t928 i=7 j=777\t759 i=7 j=778\t1081 i=7 j=779\t1060 i=7 j=780\t286 i=7 j=781\t135 i=7 j=782\t613 i=7 j=783\t885 i=7 j=784\t387 i=7 j=785\t204 i=7 j=786\t852 i=7 j=787\t934 i=7 j=788\t1140 i=7 j=789\t152 i=7 j=790\t515 i=7 j=791\t978 i=7 j=792\t655 i=7 j=793\t472 i=7 j=794\t787 i=7 j=795\t1104 i=7 j=796\t1072 i=7 j=797\t859 i=7 j=798\t214 i=7 j=799\t287 i=7 j=800\t760 i=7 j=801\t269 i=7 j=802\t164 i=7 j=803\t958 i=7 j=804\t73 i=7 j=805\t1183 i=7 j=806\t1208 i=7 j=807\t24 i=7 j=808\t439 i=7 j=809\t750 i=7 j=810\t5 i=7 j=811\t68 i=7 j=812\t1116 i=7 j=813\t536 i=7 j=814\t360 i=7 j=815\t1074 i=7 j=816\t130 i=7 j=817\t462 i=7 j=818\t150 i=7 j=819\t598 i=7 j=820\t111 i=7 j=821\t502 i=7 j=822\t394 i=7 j=823\t897 i=7 j=824\t302 i=7 j=825\t749 i=7 j=826\t1047 i=7 j=827\t1191 i=7 j=828\t964 i=7 j=829\t450 i=7 j=830\t532 i=7 j=831\t251 i=7 j=832\t274 i=7 j=833\t337 i=7 j=834\t561 i=7 j=835\t779 i=7 j=836\t406 i=7 j=837\t809 i=7 j=838\t566 i=7 j=839\t22 i=7 j=840\t549 i=7 j=841\t92 i=7 j=842\t298 i=7 j=843\t591 i=7 j=844\t635 i=7 j=845\t872 i=7 j=846\t538 i=7 j=847\t481 i=7 j=848\t294 i=7 j=849\t127 i=7 j=850\t785 i=7 j=851\t49 i=7 j=852\t813 i=7 j=853\t292 i=7 j=854\t1069 i=7 j=855\t904 i=7 j=856\t213 i=7 j=857\t556 i=7 j=858\t599 i=7 j=859\t1100 i=7 j=860\t662 i=7 j=861\t25 i=7 j=862\t957 i=7 j=863\t1030 i=7 j=864\t1169 i=7 j=865\t801 i=7 j=866\t736 i=7 j=867\t1032 i=7 j=868\t1034 i=7 j=869\t754 i=7 j=870\t668 i=7 j=871\t784 i=7 j=872\t907 i=7 j=873\t253 i=7 j=874\t583 i=7 j=875\t554 i=7 j=876\t319 i=7 j=877\t503 i=7 j=878\t230 i=7 j=879\t284 i=7 j=880\t526 i=7 j=881\t238 i=7 j=882\t326 i=7 j=883\t181 i=7 j=884\t229 i=7 j=885\t1201 i=7 j=886\t401 i=7 j=887\t775 i=7 j=888\t924 i=7 j=889\t967 i=7 j=890\t746 i=7 j=891\t453 i=7 j=892\t845 i=7 j=893\t894 i=7 j=894\t869 i=7 j=895\t1093 i=7 j=896\t90 i=7 j=897\t310 i=7 j=898\t903 i=7 j=899\t1010 i=7 j=900\t1084 i=7 j=901\t697 i=7 j=902\t1086 i=7 j=903\t345 i=7 j=904\t1182 i=7 j=905\t173 i=7 j=906\t921 i=7 j=907\t459 i=7 j=908\t124 i=7 j=909\t20 i=7 j=910\t664 i=7 j=911\t1115 i=7 j=912\t419 i=7 j=913\t370 i=7 j=914\t1113 i=7 j=915\t764 i=7 j=916\t987 i=7 j=917\t870 i=7 j=918\t898 i=7 j=919\t1011 i=7 j=920\t188 i=7 j=921\t354 i=7 j=922\t227 i=7 j=923\t236 i=7 j=924\t1020 i=7 j=925\t476 i=7 j=926\t356 i=7 j=927\t74 i=7 j=928\t1053 i=7 j=929\t347 i=7 j=930\t824 i=7 j=931\t771 i=7 j=932\t143 i=7 j=933\t63 i=7 j=934\t362 i=7 j=935\t786 i=7 j=936\t26 i=7 j=937\t1029 i=7 j=938\t420 i=7 j=939\t76 i=7 j=940\t518 i=7 j=941\t704 i=7 j=942\t137 i=7 j=943\t71 i=7 j=944\t946 i=7 j=945\t114 i=7 j=946\t332 i=7 j=947\t821 i=7 j=948\t1015 i=7 j=949\t429 i=7 j=950\t578 i=7 j=951\t646 i=7 j=952\t97 i=7 j=953\t1152 i=7 j=954\t247 i=7 j=955\t241 i=7 j=956\t1110 i=7 j=957\t867 i=7 j=958\t892 i=7 j=959\t610 i=7 j=960\t757 i=7 j=961\t808 i=7 j=962\t1028 i=7 j=963\t1049 i=7 j=964\t971 i=7 j=965\t914 i=7 j=966\t89 i=7 j=967\t1199 i=7 j=968\t726 i=7 j=969\t500 i=7 j=970\t562 i=7 j=971\t724 i=7 j=972\t623 i=7 j=973\t210 i=7 j=974\t1188 i=7 j=975\t56 i=7 j=976\t243 i=7 j=977\t862 i=7 j=978\t590 i=7 j=979\t417 i=7 j=980\t216 i=7 j=981\t79 i=7 j=982\t151 i=7 j=983\t707 i=7 j=984\t160 i=7 j=985\t763 i=7 j=986\t340 i=7 j=987\t7 i=7 j=988\t96 i=7 j=989\t295 i=7 j=990\t854 i=7 j=991\t396 i=7 j=992\t1177 i=7 j=993\t593 i=7 j=994\t508 i=7 j=995\t631 i=7 j=996\t737 i=7 j=997\t139 i=7 j=998\t632 i=7 j=999\t886 i=7 j=1000\t589 i=7 j=1001\t3 i=7 j=1002\t1092 i=7 j=1003\t2 i=7 j=1004\t1040 i=7 j=1005\t802 i=7 j=1006\t246 i=7 j=1007\t268 i=7 j=1008\t380 i=7 j=1009\t1112 i=7 j=1010\t575 i=7 j=1011\t901 i=7 j=1012\t1001 i=7 j=1013\t407 i=7 j=1014\t887 i=7 j=1015\t39 i=7 j=1016\t954 i=7 j=1017\t817 i=7 j=1018\t999 i=7 j=1019\t478 i=7 j=1020\t1136 i=7 j=1021\t1018 i=7 j=1022\t833 i=7 j=1023\t1141 i=7 j=1024\t460 i=7 j=1025\t1129 i=7 j=1026\t1138 i=7 j=1027\t860 i=7 j=1028\t352 i=7 j=1029\t961 i=7 j=1030\t91 i=7 j=1031\t307 i=7 j=1032\t840 i=7 j=1033\t348 i=7 j=1034\t975 i=7 j=1035\t184 i=7 j=1036\t250 i=7 j=1037\t52 i=7 j=1038\t186 i=7 j=1039\t1058 i=7 j=1040\t713 i=7 j=1041\t211 i=7 j=1042\t350 i=7 j=1043\t466 i=7 j=1044\t895 i=7 j=1045\t201 i=7 j=1046\t169 i=7 j=1047\t708 i=7 j=1048\t1118 i=7 j=1049\t516 i=7 j=1050\t504 i=7 j=1051\t1076 i=7 j=1052\t511 i=7 j=1053\t1099 i=7 j=1054\t883 i=7 j=1055\t910 i=7 j=1056\t744 i=7 j=1057\t642 i=7 j=1058\t951 i=7 j=1059\t1145 i=7 j=1060\t799 i=7 j=1061\t93 i=7 j=1062\t19 i=7 j=1063\t343 i=7 j=1064\t740 i=7 j=1065\t1173 i=7 j=1066\t1089 i=7 j=1067\t624 i=7 j=1068\t927 i=7 j=1069\t715 i=7 j=1070\t712 i=7 j=1071\t721 i=7 j=1072\t579 i=7 j=1073\t346 i=7 j=1074\t256 i=7 j=1075\t1098 i=7 j=1076\t970 i=7 j=1077\t947 i=7 j=1078\t389 i=7 j=1079\t912 i=7 j=1080\t600 i=7 j=1081\t1124 i=7 j=1082\t605 i=7 j=1083\t573 i=7 j=1084\t995 i=7 j=1085\t149 i=7 j=1086\t800 i=7 j=1087\t240 i=7 j=1088\t489 i=7 j=1089\t54 i=7 j=1090\t1172 i=7 j=1091\t877 i=7 j=1092\t161 i=7 j=1093\t1051 i=7 j=1094\t984 i=7 j=1095\t608 i=7 j=1096\t634 i=7 j=1097\t4 i=7 j=1098\t990 i=7 j=1099\t552 i=7 j=1100\t767 i=7 j=1101\t1044 i=7 j=1102\t733 i=7 j=1103\t393 i=7 j=1104\t902 i=7 j=1105\t663 i=7 j=1106\t324 i=7 j=1107\t1179 i=7 j=1108\t1114 i=7 j=1109\t418 i=7 j=1110\t875 i=7 j=1111\t38 i=7 j=1112\t402 i=7 j=1113\t1190 i=7 j=1114\t1123 i=7 j=1115\t993 i=7 j=1116\t528 i=7 j=1117\t540 i=7 j=1118\t547 i=7 j=1119\t698 i=7 j=1120\t952 i=7 j=1121\t918 i=7 j=1122\t1000 i=7 j=1123\t960 i=7 j=1124\t906 i=7 j=1125\t1155 i=7 j=1126\t386 i=7 j=1127\t8 i=7 j=1128\t163 i=7 j=1129\t132 i=7 j=1130\t1068 i=7 j=1131\t820 i=7 j=1132\t31 i=7 j=1133\t1180 i=7 j=1134\t826 i=7 j=1135\t80 i=7 j=1136\t1085 i=7 j=1137\t1158 i=7 j=1138\t408 i=7 j=1139\t196 i=7 j=1140\t550 i=7 j=1141\t559 i=7 j=1142\t1079 i=7 j=1143\t1162 i=7 j=1144\t1200 i=7 j=1145\t57 i=7 j=1146\t190 i=7 j=1147\t452 i=7 j=1148\t1142 i=7 j=1149\t1091 i=7 j=1150\t55 i=7 j=1151\t651 i=7 j=1152\t1130 i=7 j=1153\t617 i=7 j=1154\t1035 i=7 j=1155\t99 i=7 j=1156\t814 i=7 j=1157\t781 i=7 j=1158\t677 i=7 j=1159\t1096 i=7 j=1160\t255 i=7 j=1161\t616 i=7 j=1162\t633 i=7 j=1163\t640 i=7 j=1164\t648 i=7 j=1165\t51 i=7 j=1166\t492 i=7 j=1167\t1122 i=7 j=1168\t308 i=7 j=1169\t1019 i=7 j=1170\t1088 i=7 j=1171\t42 i=7 j=1172\t421 i=7 j=1173\t1016 i=7 j=1174\t426 i=7 j=1175\t1078 i=7 j=1176\t6 i=7 j=1177\t531 i=7 j=1178\t254 i=7 j=1179\t672 i=7 j=1180\t673 i=7 j=1181\t676 i=7 j=1182\t328 i=7 j=1183\t273 i=7 j=1184\t548 i=7 j=1185\t84 i=7 j=1186\t735 i=7 j=1187\t788 i=7 j=1188\t899 i=7 j=1189\t382 i=7 j=1190\t400 i=7 j=1191\t371 i=7 j=1192\t18 i=7 j=1193\t643 i=7 j=1194\t283 i=7 j=1195\t351 i=7 j=1196\t187 i=7 j=1197\t224 i=7 j=1198\t683 i=7 j=1199\t1026 i=7 j=1200\t1197 i=7 j=1201\t496 i=7 j=1202\t1012 i=8 j=0\t850 i=8 j=1\t86 i=8 j=2\t692 i=8 j=3\t537 i=8 j=4\t829 i=8 j=5\t943 i=8 j=6\t1171 i=8 j=7\t638 i=8 j=8\t702 i=8 j=9\t146 i=8 j=10\t228 i=8 j=11\t185 i=8 j=12\t266 i=8 j=13\t1126 i=8 j=14\t94 i=8 j=15\t742 i=8 j=16\t501 i=8 j=17\t147 i=8 j=18\t791 i=8 j=19\t1041 i=8 j=20\t1134 i=8 j=21\t890 i=8 j=22\t1066 i=8 j=23\t517 i=8 j=24\t1205 i=8 j=25\t586 i=8 j=26\t644 i=8 j=27\t441 i=8 j=28\t953 i=8 j=29\t1031 i=8 j=30\t321 i=8 j=31\t1166 i=8 j=32\t693 i=8 j=33\t1139 i=8 j=34\t47 i=8 j=35\t77 i=8 j=36\t275 i=8 j=37\t176 i=8 j=38\t933 i=8 j=39\t945 i=8 j=40\t622 i=8 j=41\t270 i=8 j=42\t660 i=8 j=43\t654 i=8 j=44\t969 i=8 j=45\t874 i=8 j=46\t743 i=8 j=47\t414 i=8 j=48\t527 i=8 j=49\t112 i=8 j=50\t206 i=8 j=51\t858 i=8 j=52\t1133 i=8 j=53\t843 i=8 j=54\t926 i=8 j=55\t857 i=8 j=56\t675 i=8 j=57\t981 i=8 j=58\t309 i=8 j=59\t994 i=8 j=60\t1075 i=8 j=61\t428 i=8 j=62\t671 i=8 j=63\t165 i=8 j=64\t323 i=8 j=65\t128 i=8 j=66\t461 i=8 j=67\t488 i=8 j=68\t674 i=8 j=69\t507 i=8 j=70\t774 i=8 j=71\t745 i=8 j=72\t569 i=8 j=73\t563 i=8 j=74\t1163 i=8 j=75\t262 i=8 j=76\t905 i=8 j=77\t242 i=8 j=78\t1189 i=8 j=79\t628 i=8 j=80\t395 i=8 j=81\t272 i=8 j=82\t908 i=8 j=83\t811 i=8 j=84\t1038 i=8 j=85\t422 i=8 j=86\t415 i=8 j=87\t732 i=8 j=88\t792 i=8 j=89\t1108 i=8 j=90\t88 i=8 j=91\t727 i=8 j=92\t931 i=8 j=93\t570 i=8 j=94\t689 i=8 j=95\t296 i=8 j=96\t690 i=8 j=97\t1101 i=8 j=98\t1153 i=8 j=99\t962 i=8 j=100\t581 i=8 j=101\t141 i=8 j=102\t1131 i=8 j=103\t1024 i=8 j=104\t192 i=8 j=105\t506 i=8 j=106\t136 i=8 j=107\t551 i=8 j=108\t842 i=8 j=109\t626 i=8 j=110\t650 i=8 j=111\t1042 i=8 j=112\t11 i=8 j=113\t1056 i=8 j=114\t1087 i=8 j=115\t972 i=8 j=116\t911 i=8 j=117\t1168 i=8 j=118\t1005 i=8 j=119\t941 i=8 j=120\t596 i=8 j=121\t619 i=8 j=122\t344 i=8 j=123\t803 i=8 j=124\t220 i=8 j=125\t1070 i=8 j=126\t493 i=8 j=127\t301 i=8 j=128\t178 i=8 j=129\t667 i=8 j=130\t865 i=8 j=131\t1039 i=8 j=132\t523 i=8 j=133\t490 i=8 j=134\t484 i=8 j=135\t15 i=8 j=136\t249 i=8 j=137\t519 i=8 j=138\t1050 i=8 j=139\t847 i=8 j=140\t212 i=8 j=141\t1054 i=8 j=142\t1083 i=8 j=143\t868 i=8 j=144\t179 i=8 j=145\t1156 i=8 j=146\t300 i=8 j=147\t116 i=8 j=148\t335 i=8 j=149\t739 i=8 j=150\t730 i=8 j=151\t264 i=8 j=152\t819 i=8 j=153\t172 i=8 j=154\t376 i=8 j=155\t391 i=8 j=156\t37 i=8 j=157\t541 i=8 j=158\t592 i=8 j=159\t684 i=8 j=160\t856 i=8 j=161\t378 i=8 j=162\t297 i=8 j=163\t711 i=8 j=164\t992 i=8 j=165\t534 i=8 j=166\t72 i=8 j=167\t920 i=8 j=168\t108 i=8 j=169\t682 i=8 j=170\t311 i=8 j=171\t558 i=8 j=172\t261 i=8 j=173\t866 i=8 j=174\t710 i=8 j=175\t848 i=8 j=176\t397 i=8 j=177\t755 i=8 j=178\t752 i=8 j=179\t1164 i=8 j=180\t659 i=8 j=181\t665 i=8 j=182\t1107 i=8 j=183\t839 i=8 j=184\t158 i=8 j=185\t545 i=8 j=186\t154 i=8 j=187\t770 i=8 j=188\t929 i=8 j=189\t627 i=8 j=190\t965 i=8 j=191\t1196 i=8 j=192\t917 i=8 j=193\t434 i=8 j=194\t125 i=8 j=195\t1073 i=8 j=196\t1094 i=8 j=197\t1002 i=8 j=198\t486 i=8 j=199\t221 i=8 j=200\t359 i=8 j=201\t313 i=8 j=202\t177 i=8 j=203\t973 i=8 j=204\t939 i=8 j=205\t830 i=8 j=206\t374 i=8 j=207\t818 i=8 j=208\t368 i=8 j=209\t1194 i=8 j=210\t1198 i=8 j=211\t678 i=8 j=212\t776 i=8 j=213\t879 i=8 j=214\t940 i=8 j=215\t670 i=8 j=216\t218 i=8 j=217\t1137 i=8 j=218\t1207 i=8 j=219\t831 i=8 j=220\t915 i=8 j=221\t271 i=8 j=222\t34 i=8 j=223\t1146 i=8 j=224\t431 i=8 j=225\t925 i=8 j=226\t645 i=8 j=227\t405 i=8 j=228\t485 i=8 j=229\t451 i=8 j=230\t606 i=8 j=231\t691 i=8 j=232\t621 i=8 j=233\t893 i=8 j=234\t403 i=8 j=235\t208 i=8 j=236\t982 i=8 j=237\t768 i=8 j=238\t1109 i=8 j=239\t1059 i=8 j=240\t361 i=8 j=241\t1128 i=8 j=242\t555 i=8 j=243\t1148 i=8 j=244\t388 i=8 j=245\t798 i=8 j=246\t477 i=8 j=247\t291 i=8 j=248\t142 i=8 j=249\t696 i=8 j=250\t449 i=8 j=251\t1132 i=8 j=252\t464 i=8 j=253\t530 i=8 j=254\t10 i=8 j=255\t342 i=8 j=256\t652 i=8 j=257\t448 i=8 j=258\t1176 i=8 j=259\t101 i=8 j=260\t29 i=8 j=261\t1149 i=8 j=262\t796 i=8 j=263\t385 i=8 j=264\t577 i=8 j=265\t603 i=8 j=266\t966 i=8 j=267\t602 i=8 j=268\t317 i=8 j=269\t155 i=8 j=270\t574 i=8 j=271\t1021 i=8 j=272\t609 i=8 j=273\t257 i=8 j=274\t35 i=8 j=275\t780 i=8 j=276\t679 i=8 j=277\t714 i=8 j=278\t636 i=8 j=279\t338 i=8 j=280\t766 i=8 j=281\t12 i=8 j=282\t277 i=8 j=283\t1103 i=8 j=284\t512 i=8 j=285\t470 i=8 j=286\t580 i=8 j=287\t734 i=8 j=288\t804 i=8 j=289\t263 i=8 j=290\t463 i=8 j=291\t252 i=8 j=292\t222 i=8 j=293\t1186 i=8 j=294\t888 i=8 j=295\t53 i=8 j=296\t27 i=8 j=297\t557 i=8 j=298\t937 i=8 j=299\t85 i=8 j=300\t102 i=8 j=301\t413 i=8 j=302\t320 i=8 j=303\t363 i=8 j=304\t686 i=8 j=305\t695 i=8 j=306\t412 i=8 j=307\t487 i=8 j=308\t703 i=8 j=309\t793 i=8 j=310\t539 i=8 j=311\t709 i=8 j=312\t23 i=8 j=313\t835 i=8 j=314\t900 i=8 j=315\t1121 i=8 j=316\t14 i=8 j=317\t974 i=8 j=318\t1127 i=8 j=319\t1147 i=8 j=320\t828 i=8 j=321\t1184 i=8 j=322\t399 i=8 j=323\t980 i=8 j=324\t145 i=8 j=325\t572 i=8 j=326\t1161 i=8 j=327\t956 i=8 j=328\t1160 i=8 j=329\t314 i=8 j=330\t1102 i=8 j=331\t239 i=8 j=332\t189 i=8 j=333\t32 i=8 j=334\t33 i=8 j=335\t168 i=8 j=336\t58 i=8 j=337\t1111 i=8 j=338\t584 i=8 j=339\t1080 i=8 j=340\t384 i=8 j=341\t863 i=8 j=342\t197 i=8 j=343\t69 i=8 j=344\t922 i=8 j=345\t706 i=8 j=346\t237 i=8 j=347\t327 i=8 j=348\t717 i=8 j=349\t329 i=8 j=350\t117 i=8 j=351\t471 i=8 j=352\t423 i=8 j=353\t789 i=8 j=354\t641 i=8 j=355\t225 i=8 j=356\t244 i=8 j=357\t234 i=8 j=358\t498 i=8 j=359\t542 i=8 j=360\t510 i=8 j=361\t494 i=8 j=362\t223 i=8 j=363\t505 i=8 j=364\t533 i=8 j=365\t560 i=8 j=366\t17 i=8 j=367\t653 i=8 j=368\t78 i=8 j=369\t514 i=8 j=370\t880 i=8 j=371\t807 i=8 j=372\t409 i=8 j=373\t948 i=8 j=374\t1202 i=8 j=375\t1046 i=8 j=376\t998 i=8 j=377\t456 i=8 j=378\t988 i=8 j=379\t891 i=8 j=380\t876 i=8 j=381\t288 i=8 j=382\t567 i=8 j=383\t950 i=8 j=384\t1045 i=8 j=385\t475 i=8 j=386\t46 i=8 j=387\t1178 i=8 j=388\t299 i=8 j=389\t594 i=8 j=390\t991 i=8 j=391\t985 i=8 j=392\t986 i=8 j=393\t1022 i=8 j=394\t87 i=8 j=395\t731 i=8 j=396\t153 i=8 j=397\t1150 i=8 j=398\t497 i=8 j=399\t851 i=8 j=400\t334 i=8 j=401\t864 i=8 j=402\t601 i=8 j=403\t226 i=8 j=404\t482 i=8 j=405\t535 i=8 j=406\t369 i=8 j=407\t199 i=8 j=408\t1175 i=8 j=409\t1077 i=8 j=410\t233 i=8 j=411\t716 i=8 j=412\t303 i=8 j=413\t773 i=8 j=414\t647 i=8 j=415\t245 i=8 j=416\t882 i=8 j=417\t276 i=8 j=418\t639 i=8 j=419\t916 i=8 j=420\t884 i=8 j=421\t183 i=8 j=422\t170 i=8 j=423\t95 i=8 j=424\t1174 i=8 j=425\t658 i=8 j=426\t881 i=8 j=427\t783 i=8 j=428\t585 i=8 j=429\t873 i=8 j=430\t838 i=8 j=431\t625 i=8 j=432\t720 i=8 j=433\t725 i=8 j=434\t1151 i=8 j=435\t582 i=8 j=436\t529 i=8 j=437\t955 i=8 j=438\t1204 i=8 j=439\t318 i=8 j=440\t769 i=8 j=441\t1106 i=8 j=442\t440 i=8 j=443\t1203 i=8 j=444\t1117 i=8 j=445\t729 i=8 j=446\t719 i=8 j=447\t932 i=8 j=448\t166 i=8 j=449\t620 i=8 j=450\t282 i=8 j=451\t930 i=8 j=452\t701 i=8 j=453\t315 i=8 j=454\t611 i=8 j=455\t979 i=8 j=456\t209 i=8 j=457\t416 i=8 j=458\t16 i=8 j=459\t446 i=8 j=460\t846 i=8 j=461\t375 i=8 j=462\t909 i=8 j=463\t699 i=8 j=464\t756 i=8 j=465\t195 i=8 j=466\t723 i=8 j=467\t129 i=8 j=468\t827 i=8 j=469\t968 i=8 j=470\t522 i=8 j=471\t119 i=8 j=472\t688 i=8 j=473\t681 i=8 j=474\t1006 i=8 j=475\t148 i=8 j=476\t182 i=8 j=477\t267 i=8 j=478\t433 i=8 j=479\t13 i=8 j=480\t1206 i=8 j=481\t118 i=8 j=482\t355 i=8 j=483\t358 i=8 j=484\t473 i=8 j=485\t1125 i=8 j=486\t1025 i=8 j=487\t259 i=8 j=488\t524 i=8 j=489\t576 i=8 j=490\t1013 i=8 j=491\t1097 i=8 j=492\t597 i=8 j=493\t474 i=8 j=494\t455 i=8 j=495\t565 i=8 j=496\t341 i=8 j=497\t1144 i=8 j=498\t855 i=8 j=499\t106 i=8 j=500\t372 i=8 j=501\t104 i=8 j=502\t782 i=8 j=503\t43 i=8 j=504\t816 i=8 j=505\t105 i=8 j=506\t66 i=8 j=507\t70 i=8 j=508\t825 i=8 j=509\t607 i=8 j=510\t1043 i=8 j=511\t110 i=8 j=512\t442 i=8 j=513\t959 i=8 j=514\t612 i=8 j=515\t834 i=8 j=516\t454 i=8 j=517\t837 i=8 j=518\t140 i=8 j=519\t203 i=8 j=520\t40 i=8 j=521\t1119 i=8 j=522\t215 i=8 j=523\t1090 i=8 j=524\t923 i=8 j=525\t279 i=8 j=526\t790 i=8 j=527\t122 i=8 j=528\t938 i=8 j=529\t1 i=8 j=530\t167 i=8 j=531\t121 i=8 j=532\t1181 i=8 j=533\t1048 i=8 j=534\t133 i=8 j=535\t427 i=8 j=536\t134 i=8 j=537\t198 i=8 j=538\t1027 i=8 j=539\t50 i=8 j=540\t913 i=8 j=541\t1023 i=8 j=542\t963 i=8 j=543\t810 i=8 j=544\t115 i=8 j=545\t483 i=8 j=546\t812 i=8 j=547\t1062 i=8 j=548\t180 i=8 j=549\t1159 i=8 j=550\t871 i=8 j=551\t36 i=8 j=552\t1067 i=8 j=553\t669 i=8 j=554\t44 i=8 j=555\t217 i=8 j=556\t480 i=8 j=557\t437 i=8 j=558\t278 i=8 j=559\t425 i=8 j=560\t491 i=8 j=561\t107 i=8 j=562\t989 i=8 j=563\t353 i=8 j=564\t656 i=8 j=565\t331 i=8 j=566\t280 i=8 j=567\t1143 i=8 j=568\t685 i=8 j=569\t364 i=8 j=570\t758 i=8 j=571\t806 i=8 j=572\t290 i=8 j=573\t553 i=8 j=574\t64 i=8 j=575\t1065 i=8 j=576\t795 i=8 j=577\t113 i=8 j=578\t194 i=8 j=579\t841 i=8 j=580\t28 i=8 j=581\t614 i=8 j=582\t1120 i=8 j=583\t525 i=8 j=584\t996 i=8 j=585\t1185 i=8 j=586\t615 i=8 j=587\t564 i=8 j=588\t1037 i=8 j=589\t325 i=8 j=590\t424 i=8 j=591\t630 i=8 j=592\t1095 i=8 j=593\t138 i=8 j=594\t604 i=8 j=595\t193 i=8 j=596\t349 i=8 j=597\t762 i=8 j=598\t1014 i=8 j=599\t832 i=8 j=600\t499 i=8 j=601\t844 i=8 j=602\t949 i=8 j=603\t1063 i=8 j=604\t513 i=8 j=605\t637 i=8 j=606\t543 i=8 j=607\t157 i=8 j=608\t231 i=8 j=609\t1193 i=8 j=610\t976 i=8 j=611\t751 i=8 j=612\t889 i=8 j=613\t200 i=8 j=614\t794 i=8 j=615\t1008 i=8 j=616\t467 i=8 j=617\t381 i=8 j=618\t718 i=8 j=619\t687 i=8 j=620\t444 i=8 j=621\t304 i=8 j=622\t661 i=8 j=623\t878 i=8 j=624\t392 i=8 j=625\t109 i=8 j=626\t1157 i=8 j=627\t853 i=8 j=628\t379 i=8 j=629\t836 i=8 j=630\t1071 i=8 j=631\t1154 i=8 j=632\t219 i=8 j=633\t447 i=8 j=634\t629 i=8 j=635\t156 i=8 j=636\t997 i=8 j=637\t649 i=8 j=638\t330 i=8 j=639\t322 i=8 j=640\t443 i=8 j=641\t1167 i=8 j=642\t618 i=8 j=643\t205 i=8 j=644\t265 i=8 j=645\t1135 i=8 j=646\t1192 i=8 j=647\t390 i=8 j=648\t357 i=8 j=649\t805 i=8 j=650\t468 i=8 j=651\t728 i=8 j=652\t457 i=8 j=653\t705 i=8 j=654\t936 i=8 j=655\t1061 i=8 j=656\t67 i=8 j=657\t935 i=8 j=658\t175 i=8 j=659\t432 i=8 j=660\t944 i=8 j=661\t722 i=8 j=662\t174 i=8 j=663\t919 i=8 j=664\t159 i=8 j=665\t103 i=8 j=666\t657 i=8 j=667\t479 i=8 j=668\t289 i=8 j=669\t738 i=8 j=670\t333 i=8 j=671\t1036 i=8 j=672\t822 i=8 j=673\t411 i=8 j=674\t61 i=8 j=675\t65 i=8 j=676\t445 i=8 j=677\t131 i=8 j=678\t1004 i=8 j=679\t126 i=8 j=680\t458 i=8 j=681\t339 i=8 j=682\t383 i=8 j=683\t761 i=8 j=684\t849 i=8 j=685\t377 i=8 j=686\t82 i=8 j=687\t83 i=8 j=688\t232 i=8 j=689\t1170 i=8 j=690\t1082 i=8 j=691\t1055 i=8 j=692\t1064 i=8 j=693\t544 i=8 j=694\t815 i=8 j=695\t373 i=8 j=696\t123 i=8 j=697\t365 i=8 j=698\t100 i=8 j=699\t191 i=8 j=700\t75 i=8 j=701\t521 i=8 j=702\t1195 i=8 j=703\t30 i=8 j=704\t171 i=8 j=705\t595 i=8 j=706\t748 i=8 j=707\t1003 i=8 j=708\t41 i=8 j=709\t306 i=8 j=710\t62 i=8 j=711\t60 i=8 j=712\t59 i=8 j=713\t438 i=8 j=714\t235 i=8 j=715\t293 i=8 j=716\t700 i=8 j=717\t436 i=8 j=718\t285 i=8 j=719\t435 i=8 j=720\t587 i=8 j=721\t753 i=8 j=722\t1009 i=8 j=723\t823 i=8 j=724\t546 i=8 j=725\t316 i=8 j=726\t778 i=8 j=727\t571 i=8 j=728\t144 i=8 j=729\t568 i=8 j=730\t1017 i=8 j=731\t48 i=8 j=732\t1033 i=8 j=733\t983 i=8 j=734\t1057 i=8 j=735\t588 i=8 j=736\t1007 i=8 j=737\t258 i=8 j=738\t666 i=8 j=739\t305 i=8 j=740\t336 i=8 j=741\t765 i=8 j=742\t366 i=8 j=743\t98 i=8 j=744\t248 i=8 j=745\t281 i=8 j=746\t1165 i=8 j=747\t260 i=8 j=748\t747 i=8 j=749\t410 i=8 j=750\t1105 i=8 j=751\t45 i=8 j=752\t896 i=8 j=753\t202 i=8 j=754\t120 i=8 j=755\t680 i=8 j=756\t741 i=8 j=757\t465 i=8 j=758\t162 i=8 j=759\t367 i=8 j=760\t404 i=8 j=761\t207 i=8 j=762\t509 i=8 j=763\t777 i=8 j=764\t772 i=8 j=765\t312 i=8 j=766\t21 i=8 j=767\t797 i=8 j=768\t1187 i=8 j=769\t398 i=8 j=770\t942 i=8 j=771\t469 i=8 j=772\t977 i=8 j=773\t81 i=8 j=774\t520 i=8 j=775\t495 i=8 j=776\t928 i=8 j=777\t759 i=8 j=778\t1081 i=8 j=779\t1060 i=8 j=780\t286 i=8 j=781\t135 i=8 j=782\t613 i=8 j=783\t885 i=8 j=784\t387 i=8 j=785\t204 i=8 j=786\t852 i=8 j=787\t934 i=8 j=788\t1140 i=8 j=789\t152 i=8 j=790\t515 i=8 j=791\t978 i=8 j=792\t655 i=8 j=793\t472 i=8 j=794\t787 i=8 j=795\t1104 i=8 j=796\t1072 i=8 j=797\t859 i=8 j=798\t214 i=8 j=799\t287 i=8 j=800\t760 i=8 j=801\t269 i=8 j=802\t164 i=8 j=803\t958 i=8 j=804\t73 i=8 j=805\t1183 i=8 j=806\t1208 i=8 j=807\t24 i=8 j=808\t439 i=8 j=809\t750 i=8 j=810\t5 i=8 j=811\t68 i=8 j=812\t1116 i=8 j=813\t536 i=8 j=814\t360 i=8 j=815\t1074 i=8 j=816\t130 i=8 j=817\t462 i=8 j=818\t150 i=8 j=819\t598 i=8 j=820\t111 i=8 j=821\t502 i=8 j=822\t394 i=8 j=823\t897 i=8 j=824\t302 i=8 j=825\t749 i=8 j=826\t1047 i=8 j=827\t1191 i=8 j=828\t964 i=8 j=829\t450 i=8 j=830\t532 i=8 j=831\t251 i=8 j=832\t274 i=8 j=833\t337 i=8 j=834\t561 i=8 j=835\t779 i=8 j=836\t406 i=8 j=837\t809 i=8 j=838\t566 i=8 j=839\t22 i=8 j=840\t549 i=8 j=841\t92 i=8 j=842\t298 i=8 j=843\t591 i=8 j=844\t635 i=8 j=845\t872 i=8 j=846\t538 i=8 j=847\t481 i=8 j=848\t294 i=8 j=849\t127 i=8 j=850\t785 i=8 j=851\t49 i=8 j=852\t813 i=8 j=853\t292 i=8 j=854\t1069 i=8 j=855\t904 i=8 j=856\t213 i=8 j=857\t556 i=8 j=858\t599 i=8 j=859\t1100 i=8 j=860\t662 i=8 j=861\t25 i=8 j=862\t957 i=8 j=863\t1030 i=8 j=864\t1169 i=8 j=865\t801 i=8 j=866\t736 i=8 j=867\t1032 i=8 j=868\t1034 i=8 j=869\t754 i=8 j=870\t668 i=8 j=871\t784 i=8 j=872\t907 i=8 j=873\t253 i=8 j=874\t583 i=8 j=875\t554 i=8 j=876\t319 i=8 j=877\t503 i=8 j=878\t230 i=8 j=879\t284 i=8 j=880\t526 i=8 j=881\t238 i=8 j=882\t326 i=8 j=883\t181 i=8 j=884\t229 i=8 j=885\t1201 i=8 j=886\t401 i=8 j=887\t775 i=8 j=888\t924 i=8 j=889\t967 i=8 j=890\t746 i=8 j=891\t453 i=8 j=892\t845 i=8 j=893\t894 i=8 j=894\t869 i=8 j=895\t1093 i=8 j=896\t90 i=8 j=897\t310 i=8 j=898\t903 i=8 j=899\t1010 i=8 j=900\t1084 i=8 j=901\t697 i=8 j=902\t1086 i=8 j=903\t345 i=8 j=904\t1182 i=8 j=905\t173 i=8 j=906\t921 i=8 j=907\t459 i=8 j=908\t124 i=8 j=909\t20 i=8 j=910\t664 i=8 j=911\t1115 i=8 j=912\t419 i=8 j=913\t370 i=8 j=914\t1113 i=8 j=915\t764 i=8 j=916\t987 i=8 j=917\t870 i=8 j=918\t898 i=8 j=919\t1011 i=8 j=920\t188 i=8 j=921\t354 i=8 j=922\t227 i=8 j=923\t236 i=8 j=924\t1020 i=8 j=925\t476 i=8 j=926\t356 i=8 j=927\t74 i=8 j=928\t1053 i=8 j=929\t347 i=8 j=930\t824 i=8 j=931\t771 i=8 j=932\t143 i=8 j=933\t63 i=8 j=934\t362 i=8 j=935\t786 i=8 j=936\t26 i=8 j=937\t1029 i=8 j=938\t420 i=8 j=939\t76 i=8 j=940\t518 i=8 j=941\t704 i=8 j=942\t137 i=8 j=943\t71 i=8 j=944\t946 i=8 j=945\t114 i=8 j=946\t332 i=8 j=947\t821 i=8 j=948\t1015 i=8 j=949\t429 i=8 j=950\t578 i=8 j=951\t646 i=8 j=952\t97 i=8 j=953\t1152 i=8 j=954\t247 i=8 j=955\t241 i=8 j=956\t1110 i=8 j=957\t867 i=8 j=958\t892 i=8 j=959\t610 i=8 j=960\t757 i=8 j=961\t808 i=8 j=962\t1028 i=8 j=963\t1049 i=8 j=964\t971 i=8 j=965\t914 i=8 j=966\t89 i=8 j=967\t1199 i=8 j=968\t726 i=8 j=969\t500 i=8 j=970\t562 i=8 j=971\t724 i=8 j=972\t623 i=8 j=973\t210 i=8 j=974\t1188 i=8 j=975\t56 i=8 j=976\t243 i=8 j=977\t862 i=8 j=978\t590 i=8 j=979\t417 i=8 j=980\t216 i=8 j=981\t79 i=8 j=982\t151 i=8 j=983\t707 i=8 j=984\t160 i=8 j=985\t763 i=8 j=986\t340 i=8 j=987\t7 i=8 j=988\t96 i=8 j=989\t295 i=8 j=990\t854 i=8 j=991\t396 i=8 j=992\t1177 i=8 j=993\t593 i=8 j=994\t508 i=8 j=995\t631 i=8 j=996\t737 i=8 j=997\t139 i=8 j=998\t632 i=8 j=999\t886 i=8 j=1000\t589 i=8 j=1001\t3 i=8 j=1002\t1092 i=8 j=1003\t2 i=8 j=1004\t1040 i=8 j=1005\t802 i=8 j=1006\t246 i=8 j=1007\t268 i=8 j=1008\t380 i=8 j=1009\t1112 i=8 j=1010\t575 i=8 j=1011\t901 i=8 j=1012\t1001 i=8 j=1013\t407 i=8 j=1014\t887 i=8 j=1015\t39 i=8 j=1016\t954 i=8 j=1017\t817 i=8 j=1018\t999 i=8 j=1019\t478 i=8 j=1020\t1136 i=8 j=1021\t1018 i=8 j=1022\t833 i=8 j=1023\t1141 i=8 j=1024\t460 i=8 j=1025\t1129 i=8 j=1026\t1138 i=8 j=1027\t860 i=8 j=1028\t352 i=8 j=1029\t961 i=8 j=1030\t91 i=8 j=1031\t307 i=8 j=1032\t840 i=8 j=1033\t348 i=8 j=1034\t975 i=8 j=1035\t184 i=8 j=1036\t250 i=8 j=1037\t52 i=8 j=1038\t186 i=8 j=1039\t1058 i=8 j=1040\t713 i=8 j=1041\t211 i=8 j=1042\t350 i=8 j=1043\t466 i=8 j=1044\t895 i=8 j=1045\t201 i=8 j=1046\t169 i=8 j=1047\t708 i=8 j=1048\t1118 i=8 j=1049\t516 i=8 j=1050\t504 i=8 j=1051\t1076 i=8 j=1052\t511 i=8 j=1053\t1099 i=8 j=1054\t883 i=8 j=1055\t910 i=8 j=1056\t744 i=8 j=1057\t642 i=8 j=1058\t951 i=8 j=1059\t1145 i=8 j=1060\t799 i=8 j=1061\t93 i=8 j=1062\t19 i=8 j=1063\t343 i=8 j=1064\t740 i=8 j=1065\t1173 i=8 j=1066\t1089 i=8 j=1067\t624 i=8 j=1068\t927 i=8 j=1069\t715 i=8 j=1070\t712 i=8 j=1071\t721 i=8 j=1072\t579 i=8 j=1073\t346 i=8 j=1074\t256 i=8 j=1075\t1098 i=8 j=1076\t970 i=8 j=1077\t947 i=8 j=1078\t389 i=8 j=1079\t912 i=8 j=1080\t600 i=8 j=1081\t1124 i=8 j=1082\t605 i=8 j=1083\t573 i=8 j=1084\t995 i=8 j=1085\t149 i=8 j=1086\t800 i=8 j=1087\t240 i=8 j=1088\t489 i=8 j=1089\t54 i=8 j=1090\t1172 i=8 j=1091\t877 i=8 j=1092\t161 i=8 j=1093\t1051 i=8 j=1094\t984 i=8 j=1095\t608 i=8 j=1096\t634 i=8 j=1097\t4 i=8 j=1098\t990 i=8 j=1099\t552 i=8 j=1100\t767 i=8 j=1101\t1044 i=8 j=1102\t733 i=8 j=1103\t393 i=8 j=1104\t902 i=8 j=1105\t663 i=8 j=1106\t324 i=8 j=1107\t1179 i=8 j=1108\t1114 i=8 j=1109\t418 i=8 j=1110\t875 i=8 j=1111\t38 i=8 j=1112\t402 i=8 j=1113\t1190 i=8 j=1114\t1123 i=8 j=1115\t993 i=8 j=1116\t528 i=8 j=1117\t540 i=8 j=1118\t547 i=8 j=1119\t698 i=8 j=1120\t952 i=8 j=1121\t918 i=8 j=1122\t1000 i=8 j=1123\t960 i=8 j=1124\t906 i=8 j=1125\t1155 i=8 j=1126\t386 i=8 j=1127\t8 i=8 j=1128\t163 i=8 j=1129\t132 i=8 j=1130\t1068 i=8 j=1131\t820 i=8 j=1132\t31 i=8 j=1133\t1180 i=8 j=1134\t826 i=8 j=1135\t80 i=8 j=1136\t1085 i=8 j=1137\t1158 i=8 j=1138\t408 i=8 j=1139\t196 i=8 j=1140\t550 i=8 j=1141\t559 i=8 j=1142\t1079 i=8 j=1143\t1162 i=8 j=1144\t1200 i=8 j=1145\t57 i=8 j=1146\t190 i=8 j=1147\t452 i=8 j=1148\t1142 i=8 j=1149\t1091 i=8 j=1150\t55 i=8 j=1151\t651 i=8 j=1152\t1130 i=8 j=1153\t617 i=8 j=1154\t1035 i=8 j=1155\t99 i=8 j=1156\t814 i=8 j=1157\t781 i=8 j=1158\t677 i=8 j=1159\t1096 i=8 j=1160\t255 i=8 j=1161\t616 i=8 j=1162\t633 i=8 j=1163\t640 i=8 j=1164\t648 i=8 j=1165\t51 i=8 j=1166\t492 i=8 j=1167\t1122 i=8 j=1168\t308 i=8 j=1169\t1019 i=8 j=1170\t1088 i=8 j=1171\t42 i=8 j=1172\t421 i=8 j=1173\t1016 i=8 j=1174\t426 i=8 j=1175\t1078 i=8 j=1176\t6 i=8 j=1177\t531 i=8 j=1178\t254 i=8 j=1179\t672 i=8 j=1180\t673 i=8 j=1181\t676 i=8 j=1182\t328 i=8 j=1183\t273 i=8 j=1184\t548 i=8 j=1185\t84 i=8 j=1186\t735 i=8 j=1187\t788 i=8 j=1188\t899 i=8 j=1189\t382 i=8 j=1190\t400 i=8 j=1191\t371 i=8 j=1192\t18 i=8 j=1193\t643 i=8 j=1194\t283 i=8 j=1195\t351 i=8 j=1196\t187 i=8 j=1197\t224 i=8 j=1198\t683 i=8 j=1199\t1026 i=8 j=1200\t1197 i=8 j=1201\t496 i=8 j=1202\t1012 i=9 j=0\t850 i=9 j=1\t86 i=9 j=2\t692 i=9 j=3\t537 i=9 j=4\t829 i=9 j=5\t943 i=9 j=6\t1171 i=9 j=7\t638 i=9 j=8\t702 i=9 j=9\t146 i=9 j=10\t228 i=9 j=11\t185 i=9 j=12\t266 i=9 j=13\t1126 i=9 j=14\t94 i=9 j=15\t742 i=9 j=16\t501 i=9 j=17\t147 i=9 j=18\t791 i=9 j=19\t1041 i=9 j=20\t1134 i=9 j=21\t890 i=9 j=22\t1066 i=9 j=23\t517 i=9 j=24\t1205 i=9 j=25\t586 i=9 j=26\t644 i=9 j=27\t441 i=9 j=28\t953 i=9 j=29\t1031 i=9 j=30\t321 i=9 j=31\t1166 i=9 j=32\t693 i=9 j=33\t1139 i=9 j=34\t47 i=9 j=35\t77 i=9 j=36\t275 i=9 j=37\t176 i=9 j=38\t933 i=9 j=39\t945 i=9 j=40\t622 i=9 j=41\t270 i=9 j=42\t660 i=9 j=43\t654 i=9 j=44\t969 i=9 j=45\t874 i=9 j=46\t743 i=9 j=47\t414 i=9 j=48\t527 i=9 j=49\t112 i=9 j=50\t206 i=9 j=51\t858 i=9 j=52\t1133 i=9 j=53\t843 i=9 j=54\t926 i=9 j=55\t857 i=9 j=56\t675 i=9 j=57\t981 i=9 j=58\t309 i=9 j=59\t994 i=9 j=60\t1075 i=9 j=61\t428 i=9 j=62\t671 i=9 j=63\t165 i=9 j=64\t323 i=9 j=65\t128 i=9 j=66\t461 i=9 j=67\t488 i=9 j=68\t674 i=9 j=69\t507 i=9 j=70\t774 i=9 j=71\t745 i=9 j=72\t569 i=9 j=73\t563 i=9 j=74\t1163 i=9 j=75\t262 i=9 j=76\t905 i=9 j=77\t242 i=9 j=78\t1189 i=9 j=79\t628 i=9 j=80\t395 i=9 j=81\t272 i=9 j=82\t908 i=9 j=83\t811 i=9 j=84\t1038 i=9 j=85\t422 i=9 j=86\t415 i=9 j=87\t732 i=9 j=88\t792 i=9 j=89\t1108 i=9 j=90\t88 i=9 j=91\t727 i=9 j=92\t931 i=9 j=93\t570 i=9 j=94\t689 i=9 j=95\t296 i=9 j=96\t690 i=9 j=97\t1101 i=9 j=98\t1153 i=9 j=99\t962 i=9 j=100\t581 i=9 j=101\t141 i=9 j=102\t1131 i=9 j=103\t1024 i=9 j=104\t192 i=9 j=105\t506 i=9 j=106\t136 i=9 j=107\t551 i=9 j=108\t842 i=9 j=109\t626 i=9 j=110\t650 i=9 j=111\t1042 i=9 j=112\t11 i=9 j=113\t1056 i=9 j=114\t1087 i=9 j=115\t972 i=9 j=116\t911 i=9 j=117\t1168 i=9 j=118\t1005 i=9 j=119\t941 i=9 j=120\t596 i=9 j=121\t619 i=9 j=122\t344 i=9 j=123\t803 i=9 j=124\t220 i=9 j=125\t1070 i=9 j=126\t493 i=9 j=127\t301 i=9 j=128\t178 i=9 j=129\t667 i=9 j=130\t865 i=9 j=131\t1039 i=9 j=132\t523 i=9 j=133\t490 i=9 j=134\t484 i=9 j=135\t15 i=9 j=136\t249 i=9 j=137\t519 i=9 j=138\t1050 i=9 j=139\t847 i=9 j=140\t212 i=9 j=141\t1054 i=9 j=142\t1083 i=9 j=143\t868 i=9 j=144\t179 i=9 j=145\t1156 i=9 j=146\t300 i=9 j=147\t116 i=9 j=148\t335 i=9 j=149\t739 i=9 j=150\t730 i=9 j=151\t264 i=9 j=152\t819 i=9 j=153\t172 i=9 j=154\t376 i=9 j=155\t391 i=9 j=156\t37 i=9 j=157\t541 i=9 j=158\t592 i=9 j=159\t684 i=9 j=160\t856 i=9 j=161\t378 i=9 j=162\t297 i=9 j=163\t711 i=9 j=164\t992 i=9 j=165\t534 i=9 j=166\t72 i=9 j=167\t920 i=9 j=168\t108 i=9 j=169\t682 i=9 j=170\t311 i=9 j=171\t558 i=9 j=172\t261 i=9 j=173\t866 i=9 j=174\t710 i=9 j=175\t848 i=9 j=176\t397 i=9 j=177\t755 i=9 j=178\t752 i=9 j=179\t1164 i=9 j=180\t659 i=9 j=181\t665 i=9 j=182\t1107 i=9 j=183\t839 i=9 j=184\t158 i=9 j=185\t545 i=9 j=186\t154 i=9 j=187\t770 i=9 j=188\t929 i=9 j=189\t627 i=9 j=190\t965 i=9 j=191\t1196 i=9 j=192\t917 i=9 j=193\t434 i=9 j=194\t125 i=9 j=195\t1073 i=9 j=196\t1094 i=9 j=197\t1002 i=9 j=198\t486 i=9 j=199\t221 i=9 j=200\t359 i=9 j=201\t313 i=9 j=202\t177 i=9 j=203\t973 i=9 j=204\t939 i=9 j=205\t830 i=9 j=206\t374 i=9 j=207\t818 i=9 j=208\t368 i=9 j=209\t1194 i=9 j=210\t1198 i=9 j=211\t678 i=9 j=212\t776 i=9 j=213\t879 i=9 j=214\t940 i=9 j=215\t670 i=9 j=216\t218 i=9 j=217\t1137 i=9 j=218\t1207 i=9 j=219\t831 i=9 j=220\t915 i=9 j=221\t271 i=9 j=222\t34 i=9 j=223\t1146 i=9 j=224\t431 i=9 j=225\t925 i=9 j=226\t645 i=9 j=227\t405 i=9 j=228\t485 i=9 j=229\t451 i=9 j=230\t606 i=9 j=231\t691 i=9 j=232\t621 i=9 j=233\t893 i=9 j=234\t403 i=9 j=235\t208 i=9 j=236\t982 i=9 j=237\t768 i=9 j=238\t1109 i=9 j=239\t1059 i=9 j=240\t361 i=9 j=241\t1128 i=9 j=242\t555 i=9 j=243\t1148 i=9 j=244\t388 i=9 j=245\t798 i=9 j=246\t477 i=9 j=247\t291 i=9 j=248\t142 i=9 j=249\t696 i=9 j=250\t449 i=9 j=251\t1132 i=9 j=252\t464 i=9 j=253\t530 i=9 j=254\t10 i=9 j=255\t342 i=9 j=256\t652 i=9 j=257\t448 i=9 j=258\t1176 i=9 j=259\t101 i=9 j=260\t29 i=9 j=261\t1149 i=9 j=262\t796 i=9 j=263\t385 i=9 j=264\t577 i=9 j=265\t603 i=9 j=266\t966 i=9 j=267\t602 i=9 j=268\t317 i=9 j=269\t155 i=9 j=270\t574 i=9 j=271\t1021 i=9 j=272\t609 i=9 j=273\t257 i=9 j=274\t35 i=9 j=275\t780 i=9 j=276\t679 i=9 j=277\t714 i=9 j=278\t636 i=9 j=279\t338 i=9 j=280\t766 i=9 j=281\t12 i=9 j=282\t277 i=9 j=283\t1103 i=9 j=284\t512 i=9 j=285\t470 i=9 j=286\t580 i=9 j=287\t734 i=9 j=288\t804 i=9 j=289\t263 i=9 j=290\t463 i=9 j=291\t252 i=9 j=292\t222 i=9 j=293\t1186 i=9 j=294\t888 i=9 j=295\t53 i=9 j=296\t27 i=9 j=297\t557 i=9 j=298\t937 i=9 j=299\t85 i=9 j=300\t102 i=9 j=301\t413 i=9 j=302\t320 i=9 j=303\t363 i=9 j=304\t686 i=9 j=305\t695 i=9 j=306\t412 i=9 j=307\t487 i=9 j=308\t703 i=9 j=309\t793 i=9 j=310\t539 i=9 j=311\t709 i=9 j=312\t23 i=9 j=313\t835 i=9 j=314\t900 i=9 j=315\t1121 i=9 j=316\t14 i=9 j=317\t974 i=9 j=318\t1127 i=9 j=319\t1147 i=9 j=320\t828 i=9 j=321\t1184 i=9 j=322\t399 i=9 j=323\t980 i=9 j=324\t145 i=9 j=325\t572 i=9 j=326\t1161 i=9 j=327\t956 i=9 j=328\t1160 i=9 j=329\t314 i=9 j=330\t1102 i=9 j=331\t239 i=9 j=332\t189 i=9 j=333\t32 i=9 j=334\t33 i=9 j=335\t168 i=9 j=336\t58 i=9 j=337\t1111 i=9 j=338\t584 i=9 j=339\t1080 i=9 j=340\t384 i=9 j=341\t863 i=9 j=342\t197 i=9 j=343\t69 i=9 j=344\t922 i=9 j=345\t706 i=9 j=346\t237 i=9 j=347\t327 i=9 j=348\t717 i=9 j=349\t329 i=9 j=350\t117 i=9 j=351\t471 i=9 j=352\t423 i=9 j=353\t789 i=9 j=354\t641 i=9 j=355\t225 i=9 j=356\t244 i=9 j=357\t234 i=9 j=358\t498 i=9 j=359\t542 i=9 j=360\t510 i=9 j=361\t494 i=9 j=362\t223 i=9 j=363\t505 i=9 j=364\t533 i=9 j=365\t560 i=9 j=366\t17 i=9 j=367\t653 i=9 j=368\t78 i=9 j=369\t514 i=9 j=370\t880 i=9 j=371\t807 i=9 j=372\t409 i=9 j=373\t948 i=9 j=374\t1202 i=9 j=375\t1046 i=9 j=376\t998 i=9 j=377\t456 i=9 j=378\t988 i=9 j=379\t891 i=9 j=380\t876 i=9 j=381\t288 i=9 j=382\t567 i=9 j=383\t950 i=9 j=384\t1045 i=9 j=385\t475 i=9 j=386\t46 i=9 j=387\t1178 i=9 j=388\t299 i=9 j=389\t594 i=9 j=390\t991 i=9 j=391\t985 i=9 j=392\t986 i=9 j=393\t1022 i=9 j=394\t87 i=9 j=395\t731 i=9 j=396\t153 i=9 j=397\t1150 i=9 j=398\t497 i=9 j=399\t851 i=9 j=400\t334 i=9 j=401\t864 i=9 j=402\t601 i=9 j=403\t226 i=9 j=404\t482 i=9 j=405\t535 i=9 j=406\t369 i=9 j=407\t199 i=9 j=408\t1175 i=9 j=409\t1077 i=9 j=410\t233 i=9 j=411\t716 i=9 j=412\t303 i=9 j=413\t773 i=9 j=414\t647 i=9 j=415\t245 i=9 j=416\t882 i=9 j=417\t276 i=9 j=418\t639 i=9 j=419\t916 i=9 j=420\t884 i=9 j=421\t183 i=9 j=422\t170 i=9 j=423\t95 i=9 j=424\t1174 i=9 j=425\t658 i=9 j=426\t881 i=9 j=427\t783 i=9 j=428\t585 i=9 j=429\t873 i=9 j=430\t838 i=9 j=431\t625 i=9 j=432\t720 i=9 j=433\t725 i=9 j=434\t1151 i=9 j=435\t582 i=9 j=436\t529 i=9 j=437\t955 i=9 j=438\t1204 i=9 j=439\t318 i=9 j=440\t769 i=9 j=441\t1106 i=9 j=442\t440 i=9 j=443\t1203 i=9 j=444\t1117 i=9 j=445\t729 i=9 j=446\t719 i=9 j=447\t932 i=9 j=448\t166 i=9 j=449\t620 i=9 j=450\t282 i=9 j=451\t930 i=9 j=452\t701 i=9 j=453\t315 i=9 j=454\t611 i=9 j=455\t979 i=9 j=456\t209 i=9 j=457\t416 i=9 j=458\t16 i=9 j=459\t446 i=9 j=460\t846 i=9 j=461\t375 i=9 j=462\t909 i=9 j=463\t699 i=9 j=464\t756 i=9 j=465\t195 i=9 j=466\t723 i=9 j=467\t129 i=9 j=468\t827 i=9 j=469\t968 i=9 j=470\t522 i=9 j=471\t119 i=9 j=472\t688 i=9 j=473\t681 i=9 j=474\t1006 i=9 j=475\t148 i=9 j=476\t182 i=9 j=477\t267 i=9 j=478\t433 i=9 j=479\t13 i=9 j=480\t1206 i=9 j=481\t118 i=9 j=482\t355 i=9 j=483\t358 i=9 j=484\t473 i=9 j=485\t1125 i=9 j=486\t1025 i=9 j=487\t259 i=9 j=488\t524 i=9 j=489\t576 i=9 j=490\t1013 i=9 j=491\t1097 i=9 j=492\t597 i=9 j=493\t474 i=9 j=494\t455 i=9 j=495\t565 i=9 j=496\t341 i=9 j=497\t1144 i=9 j=498\t855 i=9 j=499\t106 i=9 j=500\t372 i=9 j=501\t104 i=9 j=502\t782 i=9 j=503\t43 i=9 j=504\t816 i=9 j=505\t105 i=9 j=506\t66 i=9 j=507\t70 i=9 j=508\t825 i=9 j=509\t607 i=9 j=510\t1043 i=9 j=511\t110 i=9 j=512\t442 i=9 j=513\t959 i=9 j=514\t612 i=9 j=515\t834 i=9 j=516\t454 i=9 j=517\t837 i=9 j=518\t140 i=9 j=519\t203 i=9 j=520\t40 i=9 j=521\t1119 i=9 j=522\t215 i=9 j=523\t1090 i=9 j=524\t923 i=9 j=525\t279 i=9 j=526\t790 i=9 j=527\t122 i=9 j=528\t938 i=9 j=529\t1 i=9 j=530\t167 i=9 j=531\t121 i=9 j=532\t1181 i=9 j=533\t1048 i=9 j=534\t133 i=9 j=535\t427 i=9 j=536\t134 i=9 j=537\t198 i=9 j=538\t1027 i=9 j=539\t50 i=9 j=540\t913 i=9 j=541\t1023 i=9 j=542\t963 i=9 j=543\t810 i=9 j=544\t115 i=9 j=545\t483 i=9 j=546\t812 i=9 j=547\t1062 i=9 j=548\t180 i=9 j=549\t1159 i=9 j=550\t871 i=9 j=551\t36 i=9 j=552\t1067 i=9 j=553\t669 i=9 j=554\t44 i=9 j=555\t217 i=9 j=556\t480 i=9 j=557\t437 i=9 j=558\t278 i=9 j=559\t425 i=9 j=560\t491 i=9 j=561\t107 i=9 j=562\t989 i=9 j=563\t353 i=9 j=564\t656 i=9 j=565\t331 i=9 j=566\t280 i=9 j=567\t1143 i=9 j=568\t685 i=9 j=569\t364 i=9 j=570\t758 i=9 j=571\t806 i=9 j=572\t290 i=9 j=573\t553 i=9 j=574\t64 i=9 j=575\t1065 i=9 j=576\t795 i=9 j=577\t113 i=9 j=578\t194 i=9 j=579\t841 i=9 j=580\t28 i=9 j=581\t614 i=9 j=582\t1120 i=9 j=583\t525 i=9 j=584\t996 i=9 j=585\t1185 i=9 j=586\t615 i=9 j=587\t564 i=9 j=588\t1037 i=9 j=589\t325 i=9 j=590\t424 i=9 j=591\t630 i=9 j=592\t1095 i=9 j=593\t138 i=9 j=594\t604 i=9 j=595\t193 i=9 j=596\t349 i=9 j=597\t762 i=9 j=598\t1014 i=9 j=599\t832 i=9 j=600\t499 i=9 j=601\t844 i=9 j=602\t949 i=9 j=603\t1063 i=9 j=604\t513 i=9 j=605\t637 i=9 j=606\t543 i=9 j=607\t157 i=9 j=608\t231 i=9 j=609\t1193 i=9 j=610\t976 i=9 j=611\t751 i=9 j=612\t889 i=9 j=613\t200 i=9 j=614\t794 i=9 j=615\t1008 i=9 j=616\t467 i=9 j=617\t381 i=9 j=618\t718 i=9 j=619\t687 i=9 j=620\t444 i=9 j=621\t304 i=9 j=622\t661 i=9 j=623\t878 i=9 j=624\t392 i=9 j=625\t109 i=9 j=626\t1157 i=9 j=627\t853 i=9 j=628\t379 i=9 j=629\t836 i=9 j=630\t1071 i=9 j=631\t1154 i=9 j=632\t219 i=9 j=633\t447 i=9 j=634\t629 i=9 j=635\t156 i=9 j=636\t997 i=9 j=637\t649 i=9 j=638\t330 i=9 j=639\t322 i=9 j=640\t443 i=9 j=641\t1167 i=9 j=642\t618 i=9 j=643\t205 i=9 j=644\t265 i=9 j=645\t1135 i=9 j=646\t1192 i=9 j=647\t390 i=9 j=648\t357 i=9 j=649\t805 i=9 j=650\t468 i=9 j=651\t728 i=9 j=652\t457 i=9 j=653\t705 i=9 j=654\t936 i=9 j=655\t1061 i=9 j=656\t67 i=9 j=657\t935 i=9 j=658\t175 i=9 j=659\t432 i=9 j=660\t944 i=9 j=661\t722 i=9 j=662\t174 i=9 j=663\t919 i=9 j=664\t159 i=9 j=665\t103 i=9 j=666\t657 i=9 j=667\t479 i=9 j=668\t289 i=9 j=669\t738 i=9 j=670\t333 i=9 j=671\t1036 i=9 j=672\t822 i=9 j=673\t411 i=9 j=674\t61 i=9 j=675\t65 i=9 j=676\t445 i=9 j=677\t131 i=9 j=678\t1004 i=9 j=679\t126 i=9 j=680\t458 i=9 j=681\t339 i=9 j=682\t383 i=9 j=683\t761 i=9 j=684\t849 i=9 j=685\t377 i=9 j=686\t82 i=9 j=687\t83 i=9 j=688\t232 i=9 j=689\t1170 i=9 j=690\t1082 i=9 j=691\t1055 i=9 j=692\t1064 i=9 j=693\t544 i=9 j=694\t815 i=9 j=695\t373 i=9 j=696\t123 i=9 j=697\t365 i=9 j=698\t100 i=9 j=699\t191 i=9 j=700\t75 i=9 j=701\t521 i=9 j=702\t1195 i=9 j=703\t30 i=9 j=704\t171 i=9 j=705\t595 i=9 j=706\t748 i=9 j=707\t1003 i=9 j=708\t41 i=9 j=709\t306 i=9 j=710\t62 i=9 j=711\t60 i=9 j=712\t59 i=9 j=713\t438 i=9 j=714\t235 i=9 j=715\t293 i=9 j=716\t700 i=9 j=717\t436 i=9 j=718\t285 i=9 j=719\t435 i=9 j=720\t587 i=9 j=721\t753 i=9 j=722\t1009 i=9 j=723\t823 i=9 j=724\t546 i=9 j=725\t316 i=9 j=726\t778 i=9 j=727\t571 i=9 j=728\t144 i=9 j=729\t568 i=9 j=730\t1017 i=9 j=731\t48 i=9 j=732\t1033 i=9 j=733\t983 i=9 j=734\t1057 i=9 j=735\t588 i=9 j=736\t1007 i=9 j=737\t258 i=9 j=738\t666 i=9 j=739\t305 i=9 j=740\t336 i=9 j=741\t765 i=9 j=742\t366 i=9 j=743\t98 i=9 j=744\t248 i=9 j=745\t281 i=9 j=746\t1165 i=9 j=747\t260 i=9 j=748\t747 i=9 j=749\t410 i=9 j=750\t1105 i=9 j=751\t45 i=9 j=752\t896 i=9 j=753\t202 i=9 j=754\t120 i=9 j=755\t680 i=9 j=756\t741 i=9 j=757\t465 i=9 j=758\t162 i=9 j=759\t367 i=9 j=760\t404 i=9 j=761\t207 i=9 j=762\t509 i=9 j=763\t777 i=9 j=764\t772 i=9 j=765\t312 i=9 j=766\t21 i=9 j=767\t797 i=9 j=768\t1187 i=9 j=769\t398 i=9 j=770\t942 i=9 j=771\t469 i=9 j=772\t977 i=9 j=773\t81 i=9 j=774\t520 i=9 j=775\t495 i=9 j=776\t928 i=9 j=777\t759 i=9 j=778\t1081 i=9 j=779\t1060 i=9 j=780\t286 i=9 j=781\t135 i=9 j=782\t613 i=9 j=783\t885 i=9 j=784\t387 i=9 j=785\t204 i=9 j=786\t852 i=9 j=787\t934 i=9 j=788\t1140 i=9 j=789\t152 i=9 j=790\t515 i=9 j=791\t978 i=9 j=792\t655 i=9 j=793\t472 i=9 j=794\t787 i=9 j=795\t1104 i=9 j=796\t1072 i=9 j=797\t859 i=9 j=798\t214 i=9 j=799\t287 i=9 j=800\t760 i=9 j=801\t269 i=9 j=802\t164 i=9 j=803\t958 i=9 j=804\t73 i=9 j=805\t1183 i=9 j=806\t1208 i=9 j=807\t24 i=9 j=808\t439 i=9 j=809\t750 i=9 j=810\t5 i=9 j=811\t68 i=9 j=812\t1116 i=9 j=813\t536 i=9 j=814\t360 i=9 j=815\t1074 i=9 j=816\t130 i=9 j=817\t462 i=9 j=818\t150 i=9 j=819\t598 i=9 j=820\t111 i=9 j=821\t502 i=9 j=822\t394 i=9 j=823\t897 i=9 j=824\t302 i=9 j=825\t749 i=9 j=826\t1047 i=9 j=827\t1191 i=9 j=828\t964 i=9 j=829\t450 i=9 j=830\t532 i=9 j=831\t251 i=9 j=832\t274 i=9 j=833\t337 i=9 j=834\t561 i=9 j=835\t779 i=9 j=836\t406 i=9 j=837\t809 i=9 j=838\t566 i=9 j=839\t22 i=9 j=840\t549 i=9 j=841\t92 i=9 j=842\t298 i=9 j=843\t591 i=9 j=844\t635 i=9 j=845\t872 i=9 j=846\t538 i=9 j=847\t481 i=9 j=848\t294 i=9 j=849\t127 i=9 j=850\t785 i=9 j=851\t49 i=9 j=852\t813 i=9 j=853\t292 i=9 j=854\t1069 i=9 j=855\t904 i=9 j=856\t213 i=9 j=857\t556 i=9 j=858\t599 i=9 j=859\t1100 i=9 j=860\t662 i=9 j=861\t25 i=9 j=862\t957 i=9 j=863\t1030 i=9 j=864\t1169 i=9 j=865\t801 i=9 j=866\t736 i=9 j=867\t1032 i=9 j=868\t1034 i=9 j=869\t754 i=9 j=870\t668 i=9 j=871\t784 i=9 j=872\t907 i=9 j=873\t253 i=9 j=874\t583 i=9 j=875\t554 i=9 j=876\t319 i=9 j=877\t503 i=9 j=878\t230 i=9 j=879\t284 i=9 j=880\t526 i=9 j=881\t238 i=9 j=882\t326 i=9 j=883\t181 i=9 j=884\t229 i=9 j=885\t1201 i=9 j=886\t401 i=9 j=887\t775 i=9 j=888\t924 i=9 j=889\t967 i=9 j=890\t746 i=9 j=891\t453 i=9 j=892\t845 i=9 j=893\t894 i=9 j=894\t869 i=9 j=895\t1093 i=9 j=896\t90 i=9 j=897\t310 i=9 j=898\t903 i=9 j=899\t1010 i=9 j=900\t1084 i=9 j=901\t697 i=9 j=902\t1086 i=9 j=903\t345 i=9 j=904\t1182 i=9 j=905\t173 i=9 j=906\t921 i=9 j=907\t459 i=9 j=908\t124 i=9 j=909\t20 i=9 j=910\t664 i=9 j=911\t1115 i=9 j=912\t419 i=9 j=913\t370 i=9 j=914\t1113 i=9 j=915\t764 i=9 j=916\t987 i=9 j=917\t870 i=9 j=918\t898 i=9 j=919\t1011 i=9 j=920\t188 i=9 j=921\t354 i=9 j=922\t227 i=9 j=923\t236 i=9 j=924\t1020 i=9 j=925\t476 i=9 j=926\t356 i=9 j=927\t74 i=9 j=928\t1053 i=9 j=929\t347 i=9 j=930\t824 i=9 j=931\t771 i=9 j=932\t143 i=9 j=933\t63 i=9 j=934\t362 i=9 j=935\t786 i=9 j=936\t26 i=9 j=937\t1029 i=9 j=938\t420 i=9 j=939\t76 i=9 j=940\t518 i=9 j=941\t704 i=9 j=942\t137 i=9 j=943\t71 i=9 j=944\t946 i=9 j=945\t114 i=9 j=946\t332 i=9 j=947\t821 i=9 j=948\t1015 i=9 j=949\t429 i=9 j=950\t578 i=9 j=951\t646 i=9 j=952\t97 i=9 j=953\t1152 i=9 j=954\t247 i=9 j=955\t241 i=9 j=956\t1110 i=9 j=957\t867 i=9 j=958\t892 i=9 j=959\t610 i=9 j=960\t757 i=9 j=961\t808 i=9 j=962\t1028 i=9 j=963\t1049 i=9 j=964\t971 i=9 j=965\t914 i=9 j=966\t89 i=9 j=967\t1199 i=9 j=968\t726 i=9 j=969\t500 i=9 j=970\t562 i=9 j=971\t724 i=9 j=972\t623 i=9 j=973\t210 i=9 j=974\t1188 i=9 j=975\t56 i=9 j=976\t243 i=9 j=977\t862 i=9 j=978\t590 i=9 j=979\t417 i=9 j=980\t216 i=9 j=981\t79 i=9 j=982\t151 i=9 j=983\t707 i=9 j=984\t160 i=9 j=985\t763 i=9 j=986\t340 i=9 j=987\t7 i=9 j=988\t96 i=9 j=989\t295 i=9 j=990\t854 i=9 j=991\t396 i=9 j=992\t1177 i=9 j=993\t593 i=9 j=994\t508 i=9 j=995\t631 i=9 j=996\t737 i=9 j=997\t139 i=9 j=998\t632 i=9 j=999\t886 i=9 j=1000\t589 i=9 j=1001\t3 i=9 j=1002\t1092 i=9 j=1003\t2 i=9 j=1004\t1040 i=9 j=1005\t802 i=9 j=1006\t246 i=9 j=1007\t268 i=9 j=1008\t380 i=9 j=1009\t1112 i=9 j=1010\t575 i=9 j=1011\t901 i=9 j=1012\t1001 i=9 j=1013\t407 i=9 j=1014\t887 i=9 j=1015\t39 i=9 j=1016\t954 i=9 j=1017\t817 i=9 j=1018\t999 i=9 j=1019\t478 i=9 j=1020\t1136 i=9 j=1021\t1018 i=9 j=1022\t833 i=9 j=1023\t1141 i=9 j=1024\t460 i=9 j=1025\t1129 i=9 j=1026\t1138 i=9 j=1027\t860 i=9 j=1028\t352 i=9 j=1029\t961 i=9 j=1030\t91 i=9 j=1031\t307 i=9 j=1032\t840 i=9 j=1033\t348 i=9 j=1034\t975 i=9 j=1035\t184 i=9 j=1036\t250 i=9 j=1037\t52 i=9 j=1038\t186 i=9 j=1039\t1058 i=9 j=1040\t713 i=9 j=1041\t211 i=9 j=1042\t350 i=9 j=1043\t466 i=9 j=1044\t895 i=9 j=1045\t201 i=9 j=1046\t169 i=9 j=1047\t708 i=9 j=1048\t1118 i=9 j=1049\t516 i=9 j=1050\t504 i=9 j=1051\t1076 i=9 j=1052\t511 i=9 j=1053\t1099 i=9 j=1054\t883 i=9 j=1055\t910 i=9 j=1056\t744 i=9 j=1057\t642 i=9 j=1058\t951 i=9 j=1059\t1145 i=9 j=1060\t799 i=9 j=1061\t93 i=9 j=1062\t19 i=9 j=1063\t343 i=9 j=1064\t740 i=9 j=1065\t1173 i=9 j=1066\t1089 i=9 j=1067\t624 i=9 j=1068\t927 i=9 j=1069\t715 i=9 j=1070\t712 i=9 j=1071\t721 i=9 j=1072\t579 i=9 j=1073\t346 i=9 j=1074\t256 i=9 j=1075\t1098 i=9 j=1076\t970 i=9 j=1077\t947 i=9 j=1078\t389 i=9 j=1079\t912 i=9 j=1080\t600 i=9 j=1081\t1124 i=9 j=1082\t605 i=9 j=1083\t573 i=9 j=1084\t995 i=9 j=1085\t149 i=9 j=1086\t800 i=9 j=1087\t240 i=9 j=1088\t489 i=9 j=1089\t54 i=9 j=1090\t1172 i=9 j=1091\t877 i=9 j=1092\t161 i=9 j=1093\t1051 i=9 j=1094\t984 i=9 j=1095\t608 i=9 j=1096\t634 i=9 j=1097\t4 i=9 j=1098\t990 i=9 j=1099\t552 i=9 j=1100\t767 i=9 j=1101\t1044 i=9 j=1102\t733 i=9 j=1103\t393 i=9 j=1104\t902 i=9 j=1105\t663 i=9 j=1106\t324 i=9 j=1107\t1179 i=9 j=1108\t1114 i=9 j=1109\t418 i=9 j=1110\t875 i=9 j=1111\t38 i=9 j=1112\t402 i=9 j=1113\t1190 i=9 j=1114\t1123 i=9 j=1115\t993 i=9 j=1116\t528 i=9 j=1117\t540 i=9 j=1118\t547 i=9 j=1119\t698 i=9 j=1120\t952 i=9 j=1121\t918 i=9 j=1122\t1000 i=9 j=1123\t960 i=9 j=1124\t906 i=9 j=1125\t1155 i=9 j=1126\t386 i=9 j=1127\t8 i=9 j=1128\t163 i=9 j=1129\t132 i=9 j=1130\t1068 i=9 j=1131\t820 i=9 j=1132\t31 i=9 j=1133\t1180 i=9 j=1134\t826 i=9 j=1135\t80 i=9 j=1136\t1085 i=9 j=1137\t1158 i=9 j=1138\t408 i=9 j=1139\t196 i=9 j=1140\t550 i=9 j=1141\t559 i=9 j=1142\t1079 i=9 j=1143\t1162 i=9 j=1144\t1200 i=9 j=1145\t57 i=9 j=1146\t190 i=9 j=1147\t452 i=9 j=1148\t1142 i=9 j=1149\t1091 i=9 j=1150\t55 i=9 j=1151\t651 i=9 j=1152\t1130 i=9 j=1153\t617 i=9 j=1154\t1035 i=9 j=1155\t99 i=9 j=1156\t814 i=9 j=1157\t781 i=9 j=1158\t677 i=9 j=1159\t1096 i=9 j=1160\t255 i=9 j=1161\t616 i=9 j=1162\t633 i=9 j=1163\t640 i=9 j=1164\t648 i=9 j=1165\t51 i=9 j=1166\t492 i=9 j=1167\t1122 i=9 j=1168\t308 i=9 j=1169\t1019 i=9 j=1170\t1088 i=9 j=1171\t42 i=9 j=1172\t421 i=9 j=1173\t1016 i=9 j=1174\t426 i=9 j=1175\t1078 i=9 j=1176\t6 i=9 j=1177\t531 i=9 j=1178\t254 i=9 j=1179\t672 i=9 j=1180\t673 i=9 j=1181\t676 i=9 j=1182\t328 i=9 j=1183\t273 i=9 j=1184\t548 i=9 j=1185\t84 i=9 j=1186\t735 i=9 j=1187\t788 i=9 j=1188\t899 i=9 j=1189\t382 i=9 j=1190\t400 i=9 j=1191\t371 i=9 j=1192\t18 i=9 j=1193\t643 i=9 j=1194\t283 i=9 j=1195\t351 i=9 j=1196\t187 i=9 j=1197\t224 i=9 j=1198\t683 i=9 j=1199\t1026 i=9 j=1200\t1197 i=9 j=1201\t496 i=9 j=1202\t"
     ]
    }
   ],
   "source": [
    "for i in range(len(document_word_embeddings)):\n",
    "    for j in range(len(words)):\n",
    "        token = tokenizer.word_index[words[j]]\n",
    "        print(f\"{token} i={i} j={j}\", end=\"\\t\")\n",
    "#         embedding_vector = embedding_matrix[token]\n",
    "#         tfidf_vector = tfidf_vectors[i][j]\n",
    "        #document_embeddings[i] += embedding_matrix[tokenizer.word_index[words[j]]] * tfidf_vectors[i][j]"
   ]
  },
  {
   "cell_type": "markdown",
   "metadata": {},
   "source": [
    "# Using BERT for Similarity Calculation"
   ]
  },
  {
   "cell_type": "code",
   "execution_count": 14,
   "metadata": {},
   "outputs": [],
   "source": [
    "from sentence_transformers import SentenceTransformer\n",
    "sbert_model = SentenceTransformer('bert-base-nli-mean-tokens')"
   ]
  },
  {
   "cell_type": "code",
   "execution_count": 173,
   "metadata": {
    "collapsed": true,
    "jupyter": {
     "outputs_hidden": true
    }
   },
   "outputs": [
    {
     "name": "stdout",
     "output_type": "stream",
     "text": [
      "SentenceTransformer(\n",
      "  (0): Transformer(\n",
      "    (auto_model): BertModel(\n",
      "      (embeddings): BertEmbeddings(\n",
      "        (word_embeddings): Embedding(30522, 768, padding_idx=0)\n",
      "        (position_embeddings): Embedding(512, 768)\n",
      "        (token_type_embeddings): Embedding(2, 768)\n",
      "        (LayerNorm): LayerNorm((768,), eps=1e-12, elementwise_affine=True)\n",
      "        (dropout): Dropout(p=0.1, inplace=False)\n",
      "      )\n",
      "      (encoder): BertEncoder(\n",
      "        (layer): ModuleList(\n",
      "          (0): BertLayer(\n",
      "            (attention): BertAttention(\n",
      "              (self): BertSelfAttention(\n",
      "                (query): Linear(in_features=768, out_features=768, bias=True)\n",
      "                (key): Linear(in_features=768, out_features=768, bias=True)\n",
      "                (value): Linear(in_features=768, out_features=768, bias=True)\n",
      "                (dropout): Dropout(p=0.1, inplace=False)\n",
      "              )\n",
      "              (output): BertSelfOutput(\n",
      "                (dense): Linear(in_features=768, out_features=768, bias=True)\n",
      "                (LayerNorm): LayerNorm((768,), eps=1e-12, elementwise_affine=True)\n",
      "                (dropout): Dropout(p=0.1, inplace=False)\n",
      "              )\n",
      "            )\n",
      "            (intermediate): BertIntermediate(\n",
      "              (dense): Linear(in_features=768, out_features=3072, bias=True)\n",
      "            )\n",
      "            (output): BertOutput(\n",
      "              (dense): Linear(in_features=3072, out_features=768, bias=True)\n",
      "              (LayerNorm): LayerNorm((768,), eps=1e-12, elementwise_affine=True)\n",
      "              (dropout): Dropout(p=0.1, inplace=False)\n",
      "            )\n",
      "          )\n",
      "          (1): BertLayer(\n",
      "            (attention): BertAttention(\n",
      "              (self): BertSelfAttention(\n",
      "                (query): Linear(in_features=768, out_features=768, bias=True)\n",
      "                (key): Linear(in_features=768, out_features=768, bias=True)\n",
      "                (value): Linear(in_features=768, out_features=768, bias=True)\n",
      "                (dropout): Dropout(p=0.1, inplace=False)\n",
      "              )\n",
      "              (output): BertSelfOutput(\n",
      "                (dense): Linear(in_features=768, out_features=768, bias=True)\n",
      "                (LayerNorm): LayerNorm((768,), eps=1e-12, elementwise_affine=True)\n",
      "                (dropout): Dropout(p=0.1, inplace=False)\n",
      "              )\n",
      "            )\n",
      "            (intermediate): BertIntermediate(\n",
      "              (dense): Linear(in_features=768, out_features=3072, bias=True)\n",
      "            )\n",
      "            (output): BertOutput(\n",
      "              (dense): Linear(in_features=3072, out_features=768, bias=True)\n",
      "              (LayerNorm): LayerNorm((768,), eps=1e-12, elementwise_affine=True)\n",
      "              (dropout): Dropout(p=0.1, inplace=False)\n",
      "            )\n",
      "          )\n",
      "          (2): BertLayer(\n",
      "            (attention): BertAttention(\n",
      "              (self): BertSelfAttention(\n",
      "                (query): Linear(in_features=768, out_features=768, bias=True)\n",
      "                (key): Linear(in_features=768, out_features=768, bias=True)\n",
      "                (value): Linear(in_features=768, out_features=768, bias=True)\n",
      "                (dropout): Dropout(p=0.1, inplace=False)\n",
      "              )\n",
      "              (output): BertSelfOutput(\n",
      "                (dense): Linear(in_features=768, out_features=768, bias=True)\n",
      "                (LayerNorm): LayerNorm((768,), eps=1e-12, elementwise_affine=True)\n",
      "                (dropout): Dropout(p=0.1, inplace=False)\n",
      "              )\n",
      "            )\n",
      "            (intermediate): BertIntermediate(\n",
      "              (dense): Linear(in_features=768, out_features=3072, bias=True)\n",
      "            )\n",
      "            (output): BertOutput(\n",
      "              (dense): Linear(in_features=3072, out_features=768, bias=True)\n",
      "              (LayerNorm): LayerNorm((768,), eps=1e-12, elementwise_affine=True)\n",
      "              (dropout): Dropout(p=0.1, inplace=False)\n",
      "            )\n",
      "          )\n",
      "          (3): BertLayer(\n",
      "            (attention): BertAttention(\n",
      "              (self): BertSelfAttention(\n",
      "                (query): Linear(in_features=768, out_features=768, bias=True)\n",
      "                (key): Linear(in_features=768, out_features=768, bias=True)\n",
      "                (value): Linear(in_features=768, out_features=768, bias=True)\n",
      "                (dropout): Dropout(p=0.1, inplace=False)\n",
      "              )\n",
      "              (output): BertSelfOutput(\n",
      "                (dense): Linear(in_features=768, out_features=768, bias=True)\n",
      "                (LayerNorm): LayerNorm((768,), eps=1e-12, elementwise_affine=True)\n",
      "                (dropout): Dropout(p=0.1, inplace=False)\n",
      "              )\n",
      "            )\n",
      "            (intermediate): BertIntermediate(\n",
      "              (dense): Linear(in_features=768, out_features=3072, bias=True)\n",
      "            )\n",
      "            (output): BertOutput(\n",
      "              (dense): Linear(in_features=3072, out_features=768, bias=True)\n",
      "              (LayerNorm): LayerNorm((768,), eps=1e-12, elementwise_affine=True)\n",
      "              (dropout): Dropout(p=0.1, inplace=False)\n",
      "            )\n",
      "          )\n",
      "          (4): BertLayer(\n",
      "            (attention): BertAttention(\n",
      "              (self): BertSelfAttention(\n",
      "                (query): Linear(in_features=768, out_features=768, bias=True)\n",
      "                (key): Linear(in_features=768, out_features=768, bias=True)\n",
      "                (value): Linear(in_features=768, out_features=768, bias=True)\n",
      "                (dropout): Dropout(p=0.1, inplace=False)\n",
      "              )\n",
      "              (output): BertSelfOutput(\n",
      "                (dense): Linear(in_features=768, out_features=768, bias=True)\n",
      "                (LayerNorm): LayerNorm((768,), eps=1e-12, elementwise_affine=True)\n",
      "                (dropout): Dropout(p=0.1, inplace=False)\n",
      "              )\n",
      "            )\n",
      "            (intermediate): BertIntermediate(\n",
      "              (dense): Linear(in_features=768, out_features=3072, bias=True)\n",
      "            )\n",
      "            (output): BertOutput(\n",
      "              (dense): Linear(in_features=3072, out_features=768, bias=True)\n",
      "              (LayerNorm): LayerNorm((768,), eps=1e-12, elementwise_affine=True)\n",
      "              (dropout): Dropout(p=0.1, inplace=False)\n",
      "            )\n",
      "          )\n",
      "          (5): BertLayer(\n",
      "            (attention): BertAttention(\n",
      "              (self): BertSelfAttention(\n",
      "                (query): Linear(in_features=768, out_features=768, bias=True)\n",
      "                (key): Linear(in_features=768, out_features=768, bias=True)\n",
      "                (value): Linear(in_features=768, out_features=768, bias=True)\n",
      "                (dropout): Dropout(p=0.1, inplace=False)\n",
      "              )\n",
      "              (output): BertSelfOutput(\n",
      "                (dense): Linear(in_features=768, out_features=768, bias=True)\n",
      "                (LayerNorm): LayerNorm((768,), eps=1e-12, elementwise_affine=True)\n",
      "                (dropout): Dropout(p=0.1, inplace=False)\n",
      "              )\n",
      "            )\n",
      "            (intermediate): BertIntermediate(\n",
      "              (dense): Linear(in_features=768, out_features=3072, bias=True)\n",
      "            )\n",
      "            (output): BertOutput(\n",
      "              (dense): Linear(in_features=3072, out_features=768, bias=True)\n",
      "              (LayerNorm): LayerNorm((768,), eps=1e-12, elementwise_affine=True)\n",
      "              (dropout): Dropout(p=0.1, inplace=False)\n",
      "            )\n",
      "          )\n",
      "          (6): BertLayer(\n",
      "            (attention): BertAttention(\n",
      "              (self): BertSelfAttention(\n",
      "                (query): Linear(in_features=768, out_features=768, bias=True)\n",
      "                (key): Linear(in_features=768, out_features=768, bias=True)\n",
      "                (value): Linear(in_features=768, out_features=768, bias=True)\n",
      "                (dropout): Dropout(p=0.1, inplace=False)\n",
      "              )\n",
      "              (output): BertSelfOutput(\n",
      "                (dense): Linear(in_features=768, out_features=768, bias=True)\n",
      "                (LayerNorm): LayerNorm((768,), eps=1e-12, elementwise_affine=True)\n",
      "                (dropout): Dropout(p=0.1, inplace=False)\n",
      "              )\n",
      "            )\n",
      "            (intermediate): BertIntermediate(\n",
      "              (dense): Linear(in_features=768, out_features=3072, bias=True)\n",
      "            )\n",
      "            (output): BertOutput(\n",
      "              (dense): Linear(in_features=3072, out_features=768, bias=True)\n",
      "              (LayerNorm): LayerNorm((768,), eps=1e-12, elementwise_affine=True)\n",
      "              (dropout): Dropout(p=0.1, inplace=False)\n",
      "            )\n",
      "          )\n",
      "          (7): BertLayer(\n",
      "            (attention): BertAttention(\n",
      "              (self): BertSelfAttention(\n",
      "                (query): Linear(in_features=768, out_features=768, bias=True)\n",
      "                (key): Linear(in_features=768, out_features=768, bias=True)\n",
      "                (value): Linear(in_features=768, out_features=768, bias=True)\n",
      "                (dropout): Dropout(p=0.1, inplace=False)\n",
      "              )\n",
      "              (output): BertSelfOutput(\n",
      "                (dense): Linear(in_features=768, out_features=768, bias=True)\n",
      "                (LayerNorm): LayerNorm((768,), eps=1e-12, elementwise_affine=True)\n",
      "                (dropout): Dropout(p=0.1, inplace=False)\n",
      "              )\n",
      "            )\n",
      "            (intermediate): BertIntermediate(\n",
      "              (dense): Linear(in_features=768, out_features=3072, bias=True)\n",
      "            )\n",
      "            (output): BertOutput(\n",
      "              (dense): Linear(in_features=3072, out_features=768, bias=True)\n",
      "              (LayerNorm): LayerNorm((768,), eps=1e-12, elementwise_affine=True)\n",
      "              (dropout): Dropout(p=0.1, inplace=False)\n",
      "            )\n",
      "          )\n",
      "          (8): BertLayer(\n",
      "            (attention): BertAttention(\n",
      "              (self): BertSelfAttention(\n",
      "                (query): Linear(in_features=768, out_features=768, bias=True)\n",
      "                (key): Linear(in_features=768, out_features=768, bias=True)\n",
      "                (value): Linear(in_features=768, out_features=768, bias=True)\n",
      "                (dropout): Dropout(p=0.1, inplace=False)\n",
      "              )\n",
      "              (output): BertSelfOutput(\n",
      "                (dense): Linear(in_features=768, out_features=768, bias=True)\n",
      "                (LayerNorm): LayerNorm((768,), eps=1e-12, elementwise_affine=True)\n",
      "                (dropout): Dropout(p=0.1, inplace=False)\n",
      "              )\n",
      "            )\n",
      "            (intermediate): BertIntermediate(\n",
      "              (dense): Linear(in_features=768, out_features=3072, bias=True)\n",
      "            )\n",
      "            (output): BertOutput(\n",
      "              (dense): Linear(in_features=3072, out_features=768, bias=True)\n",
      "              (LayerNorm): LayerNorm((768,), eps=1e-12, elementwise_affine=True)\n",
      "              (dropout): Dropout(p=0.1, inplace=False)\n",
      "            )\n",
      "          )\n",
      "          (9): BertLayer(\n",
      "            (attention): BertAttention(\n",
      "              (self): BertSelfAttention(\n",
      "                (query): Linear(in_features=768, out_features=768, bias=True)\n",
      "                (key): Linear(in_features=768, out_features=768, bias=True)\n",
      "                (value): Linear(in_features=768, out_features=768, bias=True)\n",
      "                (dropout): Dropout(p=0.1, inplace=False)\n",
      "              )\n",
      "              (output): BertSelfOutput(\n",
      "                (dense): Linear(in_features=768, out_features=768, bias=True)\n",
      "                (LayerNorm): LayerNorm((768,), eps=1e-12, elementwise_affine=True)\n",
      "                (dropout): Dropout(p=0.1, inplace=False)\n",
      "              )\n",
      "            )\n",
      "            (intermediate): BertIntermediate(\n",
      "              (dense): Linear(in_features=768, out_features=3072, bias=True)\n",
      "            )\n",
      "            (output): BertOutput(\n",
      "              (dense): Linear(in_features=3072, out_features=768, bias=True)\n",
      "              (LayerNorm): LayerNorm((768,), eps=1e-12, elementwise_affine=True)\n",
      "              (dropout): Dropout(p=0.1, inplace=False)\n",
      "            )\n",
      "          )\n",
      "          (10): BertLayer(\n",
      "            (attention): BertAttention(\n",
      "              (self): BertSelfAttention(\n",
      "                (query): Linear(in_features=768, out_features=768, bias=True)\n",
      "                (key): Linear(in_features=768, out_features=768, bias=True)\n",
      "                (value): Linear(in_features=768, out_features=768, bias=True)\n",
      "                (dropout): Dropout(p=0.1, inplace=False)\n",
      "              )\n",
      "              (output): BertSelfOutput(\n",
      "                (dense): Linear(in_features=768, out_features=768, bias=True)\n",
      "                (LayerNorm): LayerNorm((768,), eps=1e-12, elementwise_affine=True)\n",
      "                (dropout): Dropout(p=0.1, inplace=False)\n",
      "              )\n",
      "            )\n",
      "            (intermediate): BertIntermediate(\n",
      "              (dense): Linear(in_features=768, out_features=3072, bias=True)\n",
      "            )\n",
      "            (output): BertOutput(\n",
      "              (dense): Linear(in_features=3072, out_features=768, bias=True)\n",
      "              (LayerNorm): LayerNorm((768,), eps=1e-12, elementwise_affine=True)\n",
      "              (dropout): Dropout(p=0.1, inplace=False)\n",
      "            )\n",
      "          )\n",
      "          (11): BertLayer(\n",
      "            (attention): BertAttention(\n",
      "              (self): BertSelfAttention(\n",
      "                (query): Linear(in_features=768, out_features=768, bias=True)\n",
      "                (key): Linear(in_features=768, out_features=768, bias=True)\n",
      "                (value): Linear(in_features=768, out_features=768, bias=True)\n",
      "                (dropout): Dropout(p=0.1, inplace=False)\n",
      "              )\n",
      "              (output): BertSelfOutput(\n",
      "                (dense): Linear(in_features=768, out_features=768, bias=True)\n",
      "                (LayerNorm): LayerNorm((768,), eps=1e-12, elementwise_affine=True)\n",
      "                (dropout): Dropout(p=0.1, inplace=False)\n",
      "              )\n",
      "            )\n",
      "            (intermediate): BertIntermediate(\n",
      "              (dense): Linear(in_features=768, out_features=3072, bias=True)\n",
      "            )\n",
      "            (output): BertOutput(\n",
      "              (dense): Linear(in_features=3072, out_features=768, bias=True)\n",
      "              (LayerNorm): LayerNorm((768,), eps=1e-12, elementwise_affine=True)\n",
      "              (dropout): Dropout(p=0.1, inplace=False)\n",
      "            )\n",
      "          )\n",
      "        )\n",
      "      )\n",
      "      (pooler): BertPooler(\n",
      "        (dense): Linear(in_features=768, out_features=768, bias=True)\n",
      "        (activation): Tanh()\n",
      "      )\n",
      "    )\n",
      "  )\n",
      "  (1): Pooling()\n",
      ")\n"
     ]
    }
   ],
   "source": [
    "print(sbert_model)"
   ]
  },
  {
   "cell_type": "code",
   "execution_count": 69,
   "metadata": {},
   "outputs": [],
   "source": [
    "all_abstracts = [[a.name[:-4], a.read_text()] for a in abstracts]"
   ]
  },
  {
   "cell_type": "code",
   "execution_count": 70,
   "metadata": {},
   "outputs": [
    {
     "data": {
      "text/plain": [
       "['yq942qc7340',\n",
       " \"Metaverses are virtual worlds where users create the entire world: all objects, their models and behavior, are user-generated. Rich, large-scale metaverses have been imagined in the realm of fiction for decades. Such worlds, however, present significant technical challenges due to the limitations of network and graphics resources. Since the world is user-generated, the content has to be stored in a shared, networked resource such as the cloud. Since they contain hundreds of thousands of 3D objects, it is too expensive for a graphics card to render them at interactive frame rates. Finally, due to their dynamic, user-generated nature, we cannot rely on hand-crafted or pre-computed levels of detail. Combined, these factors necessitate a dynamic and automatic approach to aggregate and simplify 3D content. This dissertation describes a simplification pipeline for displaying large metaverses. The basic approach is to group objects into simplified aggregates, and then display a small subset of objects and aggregates that complete the view of the world. Building on this approach, the key contributions are a set of algorithms that optimize this approach for low download and rendering cost. These algorithms are based on the insight that metaverses generally possess a high degree of spatial coherence: similar and even identical objects are often placed closely together. Using a technique called instancing, such a group of identical objects can be efficiently represented as one object and a set of transformations to create its duplicates. The dissertation describes three main algorithms. First, it presents an algorithm to group visually similar objects into aggregates, reducing the download cost of virtual worlds by up to 25%. Second, it presents a technique to deduplicate highly similar objects within each aggregate, which further increases instancing and reduces download cost. Third, it proposes a new instance-aware algorithm for simplifying these aggregates' models. On highly instanced models, this algorithm results in simplified versions that are orders of magnitude smaller compared to existing simplification algorithms. Compared to existing techniques, these algorithms decrease the network transfer cost of displaying large metaverses by up to 80%. Furthermore, they reduce the rendering cost of displaying the metaverses by up to 23%. Combined with texture atlasing, an implementation detail crucial for rendering performance, this makes it possible to display these metaverses at interactive frame rates. Finally, we validate our results using a large, distributed metaverse rendered at interactive frame rates over a wide area network.\"]"
      ]
     },
     "execution_count": 70,
     "metadata": {},
     "output_type": "execute_result"
    }
   ],
   "source": [
    "all_abstracts[0]"
   ]
  },
  {
   "cell_type": "code",
   "execution_count": 71,
   "metadata": {},
   "outputs": [],
   "source": [
    "abstracts_df = pd.DataFrame(all_abstracts, columns=[\"druids\", \"abstracts\"])"
   ]
  },
  {
   "cell_type": "code",
   "execution_count": 72,
   "metadata": {},
   "outputs": [
    {
     "name": "stdout",
     "output_type": "stream",
     "text": [
      "<class 'pandas.core.frame.DataFrame'>\n",
      "RangeIndex: 6284 entries, 0 to 6283\n",
      "Data columns (total 2 columns):\n",
      " #   Column     Non-Null Count  Dtype \n",
      "---  ------     --------------  ----- \n",
      " 0   druids     6284 non-null   object\n",
      " 1   abstracts  6284 non-null   object\n",
      "dtypes: object(2)\n",
      "memory usage: 98.3+ KB\n"
     ]
    }
   ],
   "source": [
    "abstracts_df.info()"
   ]
  },
  {
   "cell_type": "code",
   "execution_count": 73,
   "metadata": {},
   "outputs": [],
   "source": [
    "abstracts_df[\"abstracts_cleaned\"] = abstracts_df.abstracts.apply(cleanup)"
   ]
  },
  {
   "cell_type": "code",
   "execution_count": 149,
   "metadata": {},
   "outputs": [
    {
     "data": {
      "text/html": [
       "<div>\n",
       "<style scoped>\n",
       "    .dataframe tbody tr th:only-of-type {\n",
       "        vertical-align: middle;\n",
       "    }\n",
       "\n",
       "    .dataframe tbody tr th {\n",
       "        vertical-align: top;\n",
       "    }\n",
       "\n",
       "    .dataframe thead th {\n",
       "        text-align: right;\n",
       "    }\n",
       "</style>\n",
       "<table border=\"1\" class=\"dataframe\">\n",
       "  <thead>\n",
       "    <tr style=\"text-align: right;\">\n",
       "      <th></th>\n",
       "      <th>druids</th>\n",
       "      <th>abstracts</th>\n",
       "      <th>abstracts_cleaned</th>\n",
       "    </tr>\n",
       "  </thead>\n",
       "  <tbody>\n",
       "    <tr>\n",
       "      <th>0</th>\n",
       "      <td>yq942qc7340</td>\n",
       "      <td>Metaverses are virtual worlds where users crea...</td>\n",
       "      <td>metaverses virtual worlds users create entire ...</td>\n",
       "    </tr>\n",
       "    <tr>\n",
       "      <th>1</th>\n",
       "      <td>yx753dx0216</td>\n",
       "      <td>In this dissertation, I use two novel test sco...</td>\n",
       "      <td>dissertation  use two novel test score data se...</td>\n",
       "    </tr>\n",
       "    <tr>\n",
       "      <th>2</th>\n",
       "      <td>yd874rr2274</td>\n",
       "      <td>A 20-minute documentary film was created to ac...</td>\n",
       "      <td>minute documentary film created accelerate ...</td>\n",
       "    </tr>\n",
       "    <tr>\n",
       "      <th>3</th>\n",
       "      <td>sh260yn9550</td>\n",
       "      <td>The usage of hydrogen as an alternative energy...</td>\n",
       "      <td>usage hydrogen alternative energy carrier beco...</td>\n",
       "    </tr>\n",
       "    <tr>\n",
       "      <th>4</th>\n",
       "      <td>nk877ng0918</td>\n",
       "      <td>High-order methods in Computational Fluid Dyna...</td>\n",
       "      <td>high order methods computational fluid dynamic...</td>\n",
       "    </tr>\n",
       "  </tbody>\n",
       "</table>\n",
       "</div>"
      ],
      "text/plain": [
       "        druids                                          abstracts  \\\n",
       "0  yq942qc7340  Metaverses are virtual worlds where users crea...   \n",
       "1  yx753dx0216  In this dissertation, I use two novel test sco...   \n",
       "2  yd874rr2274  A 20-minute documentary film was created to ac...   \n",
       "3  sh260yn9550  The usage of hydrogen as an alternative energy...   \n",
       "4  nk877ng0918  High-order methods in Computational Fluid Dyna...   \n",
       "\n",
       "                                   abstracts_cleaned  \n",
       "0  metaverses virtual worlds users create entire ...  \n",
       "1  dissertation  use two novel test score data se...  \n",
       "2     minute documentary film created accelerate ...  \n",
       "3  usage hydrogen alternative energy carrier beco...  \n",
       "4  high order methods computational fluid dynamic...  "
      ]
     },
     "execution_count": 149,
     "metadata": {},
     "output_type": "execute_result"
    }
   ],
   "source": [
    "abstracts_df.head()"
   ]
  },
  {
   "cell_type": "code",
   "execution_count": 169,
   "metadata": {},
   "outputs": [
    {
     "data": {
      "text/html": [
       "<div>\n",
       "<style scoped>\n",
       "    .dataframe tbody tr th:only-of-type {\n",
       "        vertical-align: middle;\n",
       "    }\n",
       "\n",
       "    .dataframe tbody tr th {\n",
       "        vertical-align: top;\n",
       "    }\n",
       "\n",
       "    .dataframe thead th {\n",
       "        text-align: right;\n",
       "    }\n",
       "</style>\n",
       "<table border=\"1\" class=\"dataframe\">\n",
       "  <thead>\n",
       "    <tr style=\"text-align: right;\">\n",
       "      <th></th>\n",
       "      <th>druids</th>\n",
       "      <th>abstracts</th>\n",
       "      <th>abstracts_cleaned</th>\n",
       "    </tr>\n",
       "  </thead>\n",
       "  <tbody>\n",
       "    <tr>\n",
       "      <th>5739</th>\n",
       "      <td>hd079tz5862</td>\n",
       "      <td>Changes in climate as a result of greenhouse g...</td>\n",
       "      <td>changes climate result greenhouse gas emission...</td>\n",
       "    </tr>\n",
       "    <tr>\n",
       "      <th>1019</th>\n",
       "      <td>kn505pc4734</td>\n",
       "      <td>Conservation laws with uncertain initial and b...</td>\n",
       "      <td>conservation laws uncertain initial boundary c...</td>\n",
       "    </tr>\n",
       "    <tr>\n",
       "      <th>3833</th>\n",
       "      <td>cj266zb2151</td>\n",
       "      <td>This dissertation consists of three separate c...</td>\n",
       "      <td>dissertation consists three separate contribut...</td>\n",
       "    </tr>\n",
       "    <tr>\n",
       "      <th>6169</th>\n",
       "      <td>jh098qh8729</td>\n",
       "      <td>Complex organisms contain many individual cell...</td>\n",
       "      <td>complex organisms contain many individual cell...</td>\n",
       "    </tr>\n",
       "    <tr>\n",
       "      <th>2456</th>\n",
       "      <td>sq206hm7780</td>\n",
       "      <td>I developed hydrogel platforms mimicking physi...</td>\n",
       "      <td>developed hydrogel platforms mimicking physica...</td>\n",
       "    </tr>\n",
       "    <tr>\n",
       "      <th>5490</th>\n",
       "      <td>fv413qq1661</td>\n",
       "      <td>In this thesis we establish a full h-principle...</td>\n",
       "      <td>thesis establish full h principle simplificati...</td>\n",
       "    </tr>\n",
       "    <tr>\n",
       "      <th>4668</th>\n",
       "      <td>fv654tp9350</td>\n",
       "      <td>High-speed communication systems, such as the ...</td>\n",
       "      <td>high speed communication systems     gb s ethe...</td>\n",
       "    </tr>\n",
       "    <tr>\n",
       "      <th>772</th>\n",
       "      <td>jn221tz2943</td>\n",
       "      <td>This thesis develops an information-seeking co...</td>\n",
       "      <td>thesis develops information seeking controller...</td>\n",
       "    </tr>\n",
       "    <tr>\n",
       "      <th>4578</th>\n",
       "      <td>mn535mm5645</td>\n",
       "      <td>Cloud computing promises high performance, cos...</td>\n",
       "      <td>cloud computing promises high performance  cos...</td>\n",
       "    </tr>\n",
       "    <tr>\n",
       "      <th>3622</th>\n",
       "      <td>sg616ck3060</td>\n",
       "      <td>This thesis describes the use of inorganic nan...</td>\n",
       "      <td>thesis describes use inorganic nanomaterials s...</td>\n",
       "    </tr>\n",
       "  </tbody>\n",
       "</table>\n",
       "</div>"
      ],
      "text/plain": [
       "           druids                                          abstracts  \\\n",
       "5739  hd079tz5862  Changes in climate as a result of greenhouse g...   \n",
       "1019  kn505pc4734  Conservation laws with uncertain initial and b...   \n",
       "3833  cj266zb2151  This dissertation consists of three separate c...   \n",
       "6169  jh098qh8729  Complex organisms contain many individual cell...   \n",
       "2456  sq206hm7780  I developed hydrogel platforms mimicking physi...   \n",
       "5490  fv413qq1661  In this thesis we establish a full h-principle...   \n",
       "4668  fv654tp9350  High-speed communication systems, such as the ...   \n",
       "772   jn221tz2943  This thesis develops an information-seeking co...   \n",
       "4578  mn535mm5645  Cloud computing promises high performance, cos...   \n",
       "3622  sg616ck3060  This thesis describes the use of inorganic nan...   \n",
       "\n",
       "                                      abstracts_cleaned  \n",
       "5739  changes climate result greenhouse gas emission...  \n",
       "1019  conservation laws uncertain initial boundary c...  \n",
       "3833  dissertation consists three separate contribut...  \n",
       "6169  complex organisms contain many individual cell...  \n",
       "2456  developed hydrogel platforms mimicking physica...  \n",
       "5490  thesis establish full h principle simplificati...  \n",
       "4668  high speed communication systems     gb s ethe...  \n",
       "772   thesis develops information seeking controller...  \n",
       "4578  cloud computing promises high performance  cos...  \n",
       "3622  thesis describes use inorganic nanomaterials s...  "
      ]
     },
     "execution_count": 169,
     "metadata": {},
     "output_type": "execute_result"
    }
   ],
   "source": [
    "abstracts_df.sample(10)"
   ]
  },
  {
   "cell_type": "code",
   "execution_count": 171,
   "metadata": {},
   "outputs": [],
   "source": [
    "abstracts_df.to_pickle(\"./data/abstracts.pkl\")"
   ]
  },
  {
   "cell_type": "code",
   "execution_count": 172,
   "metadata": {},
   "outputs": [
    {
     "name": "stdout",
     "output_type": "stream",
     "text": [
      "<class 'pandas.core.frame.DataFrame'>\n",
      "RangeIndex: 6284 entries, 0 to 6283\n",
      "Data columns (total 3 columns):\n",
      " #   Column             Non-Null Count  Dtype \n",
      "---  ------             --------------  ----- \n",
      " 0   druids             6284 non-null   object\n",
      " 1   abstracts          6284 non-null   object\n",
      " 2   abstracts_cleaned  6284 non-null   object\n",
      "dtypes: object(3)\n",
      "memory usage: 147.4+ KB\n"
     ]
    }
   ],
   "source": [
    "abstracts_df.info()"
   ]
  },
  {
   "cell_type": "code",
   "execution_count": 166,
   "metadata": {},
   "outputs": [],
   "source": [
    "# From https://365datascience.com/k-means-clustering/\n",
    "wcss = []\n",
    "for i in range(1,50):\n",
    "    kmeans = KMeans(n_clusters=i, init = 'k-means++', random_state=42)\n",
    "    kmeans.fit(abstracts_embeddings)\n",
    "    wcss.append(kmeans.inertia_)"
   ]
  },
  {
   "cell_type": "code",
   "execution_count": 176,
   "metadata": {},
   "outputs": [],
   "source": [
    "with open(\"./data/wcss.pkl\", \"wb+\") as fo:\n",
    "    pickle.dump(wcss, fo)"
   ]
  },
  {
   "cell_type": "code",
   "execution_count": 163,
   "metadata": {},
   "outputs": [],
   "source": [
    "import matplotlib.pyplot as plt "
   ]
  },
  {
   "cell_type": "code",
   "execution_count": 167,
   "metadata": {},
   "outputs": [
    {
     "data": {
      "image/png": "[encoded data removed]",
      "text/plain": [
       "<Figure size 720x576 with 1 Axes>"
      ]
     },
     "metadata": {
      "needs_background": "light"
     },
     "output_type": "display_data"
    }
   ],
   "source": [
    "plt.figure(figsize=(10,8))\n",
    "plt.plot(range(1,50), wcss, marker = 'o', linestyle='--')\n",
    "plt.xlabel('Number of clusters')\n",
    "plt.ylabel('WCSS')\n",
    "plt.title('K-means Clustering')\n",
    "plt.show()"
   ]
  },
  {
   "cell_type": "code",
   "execution_count": 154,
   "metadata": {},
   "outputs": [],
   "source": [
    "abstracts_embeddings = sbert_model.encode(abstracts_df['abstracts_cleaned'])"
   ]
  },
  {
   "cell_type": "code",
   "execution_count": 174,
   "metadata": {},
   "outputs": [],
   "source": [
    "import pickle\n",
    "\n",
    "with open(\"./data/abstracts-bert-embeddings.pkl\", \"wb+\") as fo:\n",
    "    pickle.dump(abstracts_embeddings, fo)"
   ]
  },
  {
   "cell_type": "code",
   "execution_count": 76,
   "metadata": {},
   "outputs": [],
   "source": [
    "from sklearn.cluster import KMeans"
   ]
  },
  {
   "cell_type": "code",
   "execution_count": 131,
   "metadata": {},
   "outputs": [],
   "source": [
    "clustering_model = KMeans(n_clusters=30)"
   ]
  },
  {
   "cell_type": "code",
   "execution_count": 132,
   "metadata": {},
   "outputs": [],
   "source": [
    "clustering_model.fit(abtracts_embeddings)\n",
    "cluster_assignment = clustering_model.labels_"
   ]
  },
  {
   "cell_type": "code",
   "execution_count": 133,
   "metadata": {},
   "outputs": [],
   "source": [
    "clustered_sentences = [[] for i in range(30)]\n",
    "for abstract_id, cluster_id in enumerate(cluster_assignment):\n",
    "    clustered_sentences[cluster_id].append({ 'abstract': abstracts_df.iloc[abstract_id]['abstracts'], \n",
    "                                             'druid': abstracts_df.iloc[abstract_id]['druids'] })"
   ]
  },
  {
   "cell_type": "code",
   "execution_count": 134,
   "metadata": {},
   "outputs": [
    {
     "name": "stdout",
     "output_type": "stream",
     "text": [
      "Cluster 0 size 114\n",
      "Cluster 1 size 169\n",
      "Cluster 2 size 197\n",
      "Cluster 3 size 186\n",
      "Cluster 4 size 248\n",
      "Cluster 5 size 210\n",
      "Cluster 6 size 129\n",
      "Cluster 7 size 113\n",
      "Cluster 8 size 270\n",
      "Cluster 9 size 247\n",
      "Cluster 10 size 197\n",
      "Cluster 11 size 112\n",
      "Cluster 12 size 249\n",
      "Cluster 13 size 163\n",
      "Cluster 14 size 258\n",
      "Cluster 15 size 170\n",
      "Cluster 16 size 264\n",
      "Cluster 17 size 285\n",
      "Cluster 18 size 270\n",
      "Cluster 19 size 247\n",
      "Cluster 20 size 225\n",
      "Cluster 21 size 309\n",
      "Cluster 22 size 190\n",
      "Cluster 23 size 277\n",
      "Cluster 24 size 235\n",
      "Cluster 25 size 199\n",
      "Cluster 26 size 126\n",
      "Cluster 27 size 203\n",
      "Cluster 28 size 207\n",
      "Cluster 29 size 215\n"
     ]
    }
   ],
   "source": [
    "for i,row in enumerate(clustered_sentences):\n",
    "    print(f\"Cluster {i} size {len(row)}\")"
   ]
  },
  {
   "cell_type": "code",
   "execution_count": 138,
   "metadata": {},
   "outputs": [
    {
     "name": "stdout",
     "output_type": "stream",
     "text": [
      "{'abstract': \"Biological research is highly visual, as advances in imaging technologies over the last few decades have enabled biologists to discern increasingly specific structures using fluorescence microscopy. However, two obstacles limit the amount of information that can be extracted from images. The first is the diffraction limit, the fundamental limit that dictates how small of an object can be resolved by light waves. The second challenge is the necessity to efficiently and objectively process the large numbers of images that today's technology can acquire. Current research in the fields of image processing and computer vision is not directly applicable to biological images, because it focuses primarily on extracting information from natural images with strong features. This dissertation leverages some of these engineering techniques to create two tools to address the challenges of visual biological research in the context of neuronal transport. These tools incorporate techniques from image processing and machine learning to effectively extract information about various molecules associated with neuronal transport, including structures ten times smaller than the diffraction limit. With the computational methods described in this dissertation, biologists can quantify various biological phenomena rapidly and robustly, and in turn, accelerate neuroscience research.\", 'druid': 'zp173ys6001'}\n",
      "Last abstract\n",
      "{'abstract': 'Most human variation lies outside of coding regions, where molecular functions are more difficult to determine than for variants in coding regions. As most disease-associated variants lie in non-coding regions, characterizing the role of regulatory variation is crucial to understanding the molecular mechanisms of these diseases and methods to do so are currently limited. Recently, a number of research efforts, including the ENCODE project, have produced a wealth of data on transcription factor binding sites and other regulatory information, in addition to increasingly available whole genome sequence and transcriptomics data. These data will crucial to understanding the molecular basis of many diseases, but their scale and disparate nature, as well as high levels of noise, require clever informatics methods to integrate and properly apply this information. In this thesis, I describe methods to address some of the major informatics challenges to characterize the role of regulatory variants in phenotypes and disease. In particular, I have shown that I can (1) detect cooperativity among transcription factors using human variation data, (2) associate transcription factors to functional modules and thus discover new TF interactions and disease associations, (3) provide molecular mechanisms for disease-associated non-coding variants, and (4) explore regulatory functional mechanisms using long-range interactions in the human genome.', 'druid': 'mn672mc9828'}\n"
     ]
    }
   ],
   "source": [
    "print(clustered_sentences[17][0])\n",
    "print(f\"Last abstract\")\n",
    "print(clustered_sentences[17][-1])"
   ]
  },
  {
   "cell_type": "code",
   "execution_count": 102,
   "metadata": {},
   "outputs": [],
   "source": [
    "pairwise_similarities=cosine_similarity(abtracts_embeddings)"
   ]
  },
  {
   "cell_type": "code",
   "execution_count": 62,
   "metadata": {},
   "outputs": [
    {
     "data": {
      "text/plain": [
       "array([[0.99999976, 0.5214916 , 0.55871594, ..., 0.69063044, 0.5993461 ,\n",
       "        0.6503042 ],\n",
       "       [0.5214916 , 1.0000002 , 0.6672558 , ..., 0.6447394 , 0.52439696,\n",
       "        0.5758405 ],\n",
       "       [0.55871594, 0.6672558 , 0.9999999 , ..., 0.6357577 , 0.51056916,\n",
       "        0.66535485],\n",
       "       ...,\n",
       "       [0.69063044, 0.6447394 , 0.6357577 , ..., 1.0000001 , 0.6003269 ,\n",
       "        0.7389338 ],\n",
       "       [0.5993461 , 0.52439696, 0.51056916, ..., 0.6003269 , 1.0000002 ,\n",
       "        0.6041701 ],\n",
       "       [0.6503042 , 0.5758405 , 0.66535485, ..., 0.7389338 , 0.6041701 ,\n",
       "        0.99999994]], dtype=float32)"
      ]
     },
     "execution_count": 62,
     "metadata": {},
     "output_type": "execute_result"
    }
   ],
   "source": [
    "pairwise_similarities"
   ]
  },
  {
   "cell_type": "code",
   "execution_count": 66,
   "metadata": {},
   "outputs": [],
   "source": [
    "def most_similar_bert(doc_id: int, similarity_matrix: np.ndarray, matrix: str) -> None:\n",
    "    print(f\"Document: {abstracts_df.iloc[doc_id]['abstracts']}\\n\")\n",
    "    print(\"Similar Documents\")\n",
    "    if matrix.startswith(\"Cosine Similarity\"):\n",
    "        similar_index_array = np.argsort(similarity_matrix[doc_id])[::-1]\n",
    "    elif matrix.startswith(\"Euclidean Distance\"):\n",
    "        similar_index_array = np.argsort(similarity_matrix[doc_id])\n",
    "    for index_ in similar_index_array[0:15]:\n",
    "        if index_ == doc_id:\n",
    "            continue\n",
    "        print(f\"\\nDocument: {abstracts_df.iloc[index_]['abstracts']}\")\n",
    "        print(f\"{matrix} : {similarity_matrix[doc_id][index_]}\")"
   ]
  },
  {
   "cell_type": "markdown",
   "metadata": {},
   "source": [
    "# Running BERT Cluster on all Full-text ETDs"
   ]
  },
  {
   "cell_type": "code",
   "execution_count": 2,
   "metadata": {},
   "outputs": [],
   "source": [
    "etds = pathlib.Path(\"../tmp/etds\")\n",
    "etd_paths = []"
   ]
  },
  {
   "cell_type": "code",
   "execution_count": 3,
   "metadata": {},
   "outputs": [],
   "source": [
    "for row in etds.iterdir():\n",
    "    if row.is_dir() or not row.name.endswith(\"txt\"):\n",
    "        continue\n",
    "    etd_paths.append(row)"
   ]
  },
  {
   "cell_type": "code",
   "execution_count": 4,
   "metadata": {},
   "outputs": [],
   "source": [
    "all_etds = [[etd.name[:-4], etd.read_text()] for etd in etd_paths]"
   ]
  },
  {
   "cell_type": "code",
   "execution_count": 6,
   "metadata": {},
   "outputs": [],
   "source": [
    "etds_df = pd.DataFrame(all_etds, columns=['druids', 'full_text'])"
   ]
  },
  {
   "cell_type": "code",
   "execution_count": 11,
   "metadata": {},
   "outputs": [
    {
     "name": "stdout",
     "output_type": "stream",
     "text": [
      "Finished at 2020-10-23 22:19:54.510016 total time 12.166666666666666 mins\n"
     ]
    }
   ],
   "source": [
    "import datetime\n",
    "def clean_fulltext():\n",
    "    start = datetime.datetime.utcnow()\n",
    "    etds_df['cleaned_full_text'] = etds_df.full_text.apply(cleanup)\n",
    "    end = datetime.datetime.utcnow()\n",
    "    print(f\"Finished at {end} total time {(end-start).seconds / 60.} mins\")\n",
    "clean_fulltext()"
   ]
  },
  {
   "cell_type": "code",
   "execution_count": 12,
   "metadata": {},
   "outputs": [],
   "source": [
    "def bert_embeddings(data_frame):\n",
    "    start = datetime.datetime.utcnow()\n",
    "    print(start)\n",
    "    text_embeddings = sbert_model.encode(data_frame['cleaned_full_text'])\n",
    "    end = datetime.datetime.utcnow()\n",
    "    print(f\"Finished at {end} total time {(end-start).seconds / 60.} mins\")\n",
    "    return text_embeddings"
   ]
  },
  {
   "cell_type": "code",
   "execution_count": 15,
   "metadata": {
    "collapsed": true,
    "jupyter": {
     "outputs_hidden": true
    }
   },
   "outputs": [
    {
     "name": "stdout",
     "output_type": "stream",
     "text": [
      "2020-10-23 22:26:01.131906\n"
     ]
    },
    {
     "ename": "KeyboardInterrupt",
     "evalue": "",
     "output_type": "error",
     "traceback": [
      "\u001b[0;31m---------------------------------------------------------------------------\u001b[0m",
      "\u001b[0;31mKeyboardInterrupt\u001b[0m                         Traceback (most recent call last)",
      "\u001b[0;32m<ipython-input-15-b18eb589de6f>\u001b[0m in \u001b[0;36m<module>\u001b[0;34m\u001b[0m\n\u001b[0;32m----> 1\u001b[0;31m \u001b[0mfull_text_embeddings\u001b[0m \u001b[0;34m=\u001b[0m \u001b[0mbert_embeddings\u001b[0m\u001b[0;34m(\u001b[0m\u001b[0metds_df\u001b[0m\u001b[0;34m)\u001b[0m\u001b[0;34m\u001b[0m\u001b[0;34m\u001b[0m\u001b[0m\n\u001b[0m",
      "\u001b[0;32m<ipython-input-12-64a8afd7673f>\u001b[0m in \u001b[0;36mbert_embeddings\u001b[0;34m(data_frame)\u001b[0m\n\u001b[1;32m      2\u001b[0m     \u001b[0mstart\u001b[0m \u001b[0;34m=\u001b[0m \u001b[0mdatetime\u001b[0m\u001b[0;34m.\u001b[0m\u001b[0mdatetime\u001b[0m\u001b[0;34m.\u001b[0m\u001b[0mutcnow\u001b[0m\u001b[0;34m(\u001b[0m\u001b[0;34m)\u001b[0m\u001b[0;34m\u001b[0m\u001b[0;34m\u001b[0m\u001b[0m\n\u001b[1;32m      3\u001b[0m     \u001b[0mprint\u001b[0m\u001b[0;34m(\u001b[0m\u001b[0mstart\u001b[0m\u001b[0;34m)\u001b[0m\u001b[0;34m\u001b[0m\u001b[0;34m\u001b[0m\u001b[0m\n\u001b[0;32m----> 4\u001b[0;31m     \u001b[0mtext_embeddings\u001b[0m \u001b[0;34m=\u001b[0m \u001b[0msbert_model\u001b[0m\u001b[0;34m.\u001b[0m\u001b[0mencode\u001b[0m\u001b[0;34m(\u001b[0m\u001b[0mdata_frame\u001b[0m\u001b[0;34m[\u001b[0m\u001b[0;34m'cleaned_full_text'\u001b[0m\u001b[0;34m]\u001b[0m\u001b[0;34m)\u001b[0m\u001b[0;34m\u001b[0m\u001b[0;34m\u001b[0m\u001b[0m\n\u001b[0m\u001b[1;32m      5\u001b[0m     \u001b[0mend\u001b[0m \u001b[0;34m=\u001b[0m \u001b[0mdatetime\u001b[0m\u001b[0;34m.\u001b[0m\u001b[0mdatetime\u001b[0m\u001b[0;34m.\u001b[0m\u001b[0mutcnow\u001b[0m\u001b[0;34m(\u001b[0m\u001b[0;34m)\u001b[0m\u001b[0;34m\u001b[0m\u001b[0;34m\u001b[0m\u001b[0m\n\u001b[1;32m      6\u001b[0m     \u001b[0mprint\u001b[0m\u001b[0;34m(\u001b[0m\u001b[0;34mf\"Finished at {end} total time {(end-start).seconds / 60.} mins\"\u001b[0m\u001b[0;34m)\u001b[0m\u001b[0;34m\u001b[0m\u001b[0;34m\u001b[0m\u001b[0m\n",
      "\u001b[0;32m~/2020/py3-env/lib/python3.8/site-packages/sentence_transformers/SentenceTransformer.py\u001b[0m in \u001b[0;36mencode\u001b[0;34m(self, sentences, batch_size, show_progress_bar, output_value, convert_to_numpy, convert_to_tensor, is_pretokenized, device, num_workers)\u001b[0m\n\u001b[1;32m    166\u001b[0m             \u001b[0miterator\u001b[0m \u001b[0;34m=\u001b[0m \u001b[0mtqdm\u001b[0m\u001b[0;34m(\u001b[0m\u001b[0minp_dataloader\u001b[0m\u001b[0;34m,\u001b[0m \u001b[0mdesc\u001b[0m\u001b[0;34m=\u001b[0m\u001b[0;34m\"Batches\"\u001b[0m\u001b[0;34m)\u001b[0m\u001b[0;34m\u001b[0m\u001b[0;34m\u001b[0m\u001b[0m\n\u001b[1;32m    167\u001b[0m \u001b[0;34m\u001b[0m\u001b[0m\n\u001b[0;32m--> 168\u001b[0;31m         \u001b[0;32mfor\u001b[0m \u001b[0mfeatures\u001b[0m \u001b[0;32min\u001b[0m \u001b[0miterator\u001b[0m\u001b[0;34m:\u001b[0m\u001b[0;34m\u001b[0m\u001b[0;34m\u001b[0m\u001b[0m\n\u001b[0m\u001b[1;32m    169\u001b[0m             \u001b[0;32mfor\u001b[0m \u001b[0mfeature_name\u001b[0m \u001b[0;32min\u001b[0m \u001b[0mfeatures\u001b[0m\u001b[0;34m:\u001b[0m\u001b[0;34m\u001b[0m\u001b[0;34m\u001b[0m\u001b[0m\n\u001b[1;32m    170\u001b[0m                 \u001b[0mfeatures\u001b[0m\u001b[0;34m[\u001b[0m\u001b[0mfeature_name\u001b[0m\u001b[0;34m]\u001b[0m \u001b[0;34m=\u001b[0m \u001b[0mfeatures\u001b[0m\u001b[0;34m[\u001b[0m\u001b[0mfeature_name\u001b[0m\u001b[0;34m]\u001b[0m\u001b[0;34m.\u001b[0m\u001b[0mto\u001b[0m\u001b[0;34m(\u001b[0m\u001b[0mdevice\u001b[0m\u001b[0;34m)\u001b[0m\u001b[0;34m\u001b[0m\u001b[0;34m\u001b[0m\u001b[0m\n",
      "\u001b[0;32m~/2020/py3-env/lib/python3.8/site-packages/torch/utils/data/dataloader.py\u001b[0m in \u001b[0;36m__next__\u001b[0;34m(self)\u001b[0m\n\u001b[1;32m    343\u001b[0m \u001b[0;34m\u001b[0m\u001b[0m\n\u001b[1;32m    344\u001b[0m     \u001b[0;32mdef\u001b[0m \u001b[0m__next__\u001b[0m\u001b[0;34m(\u001b[0m\u001b[0mself\u001b[0m\u001b[0;34m)\u001b[0m\u001b[0;34m:\u001b[0m\u001b[0;34m\u001b[0m\u001b[0;34m\u001b[0m\u001b[0m\n\u001b[0;32m--> 345\u001b[0;31m         \u001b[0mdata\u001b[0m \u001b[0;34m=\u001b[0m \u001b[0mself\u001b[0m\u001b[0;34m.\u001b[0m\u001b[0m_next_data\u001b[0m\u001b[0;34m(\u001b[0m\u001b[0;34m)\u001b[0m\u001b[0;34m\u001b[0m\u001b[0;34m\u001b[0m\u001b[0m\n\u001b[0m\u001b[1;32m    346\u001b[0m         \u001b[0mself\u001b[0m\u001b[0;34m.\u001b[0m\u001b[0m_num_yielded\u001b[0m \u001b[0;34m+=\u001b[0m \u001b[0;36m1\u001b[0m\u001b[0;34m\u001b[0m\u001b[0;34m\u001b[0m\u001b[0m\n\u001b[1;32m    347\u001b[0m         \u001b[0;32mif\u001b[0m \u001b[0mself\u001b[0m\u001b[0;34m.\u001b[0m\u001b[0m_dataset_kind\u001b[0m \u001b[0;34m==\u001b[0m \u001b[0m_DatasetKind\u001b[0m\u001b[0;34m.\u001b[0m\u001b[0mIterable\u001b[0m \u001b[0;32mand\u001b[0m\u001b[0;31m \u001b[0m\u001b[0;31m\\\u001b[0m\u001b[0;34m\u001b[0m\u001b[0;34m\u001b[0m\u001b[0m\n",
      "\u001b[0;32m~/2020/py3-env/lib/python3.8/site-packages/torch/utils/data/dataloader.py\u001b[0m in \u001b[0;36m_next_data\u001b[0;34m(self)\u001b[0m\n\u001b[1;32m    383\u001b[0m     \u001b[0;32mdef\u001b[0m \u001b[0m_next_data\u001b[0m\u001b[0;34m(\u001b[0m\u001b[0mself\u001b[0m\u001b[0;34m)\u001b[0m\u001b[0;34m:\u001b[0m\u001b[0;34m\u001b[0m\u001b[0;34m\u001b[0m\u001b[0m\n\u001b[1;32m    384\u001b[0m         \u001b[0mindex\u001b[0m \u001b[0;34m=\u001b[0m \u001b[0mself\u001b[0m\u001b[0;34m.\u001b[0m\u001b[0m_next_index\u001b[0m\u001b[0;34m(\u001b[0m\u001b[0;34m)\u001b[0m  \u001b[0;31m# may raise StopIteration\u001b[0m\u001b[0;34m\u001b[0m\u001b[0;34m\u001b[0m\u001b[0m\n\u001b[0;32m--> 385\u001b[0;31m         \u001b[0mdata\u001b[0m \u001b[0;34m=\u001b[0m \u001b[0mself\u001b[0m\u001b[0;34m.\u001b[0m\u001b[0m_dataset_fetcher\u001b[0m\u001b[0;34m.\u001b[0m\u001b[0mfetch\u001b[0m\u001b[0;34m(\u001b[0m\u001b[0mindex\u001b[0m\u001b[0;34m)\u001b[0m  \u001b[0;31m# may raise StopIteration\u001b[0m\u001b[0;34m\u001b[0m\u001b[0;34m\u001b[0m\u001b[0m\n\u001b[0m\u001b[1;32m    386\u001b[0m         \u001b[0;32mif\u001b[0m \u001b[0mself\u001b[0m\u001b[0;34m.\u001b[0m\u001b[0m_pin_memory\u001b[0m\u001b[0;34m:\u001b[0m\u001b[0;34m\u001b[0m\u001b[0;34m\u001b[0m\u001b[0m\n\u001b[1;32m    387\u001b[0m             \u001b[0mdata\u001b[0m \u001b[0;34m=\u001b[0m \u001b[0m_utils\u001b[0m\u001b[0;34m.\u001b[0m\u001b[0mpin_memory\u001b[0m\u001b[0;34m.\u001b[0m\u001b[0mpin_memory\u001b[0m\u001b[0;34m(\u001b[0m\u001b[0mdata\u001b[0m\u001b[0;34m)\u001b[0m\u001b[0;34m\u001b[0m\u001b[0;34m\u001b[0m\u001b[0m\n",
      "\u001b[0;32m~/2020/py3-env/lib/python3.8/site-packages/torch/utils/data/_utils/fetch.py\u001b[0m in \u001b[0;36mfetch\u001b[0;34m(self, possibly_batched_index)\u001b[0m\n\u001b[1;32m     45\u001b[0m         \u001b[0;32melse\u001b[0m\u001b[0;34m:\u001b[0m\u001b[0;34m\u001b[0m\u001b[0;34m\u001b[0m\u001b[0m\n\u001b[1;32m     46\u001b[0m             \u001b[0mdata\u001b[0m \u001b[0;34m=\u001b[0m \u001b[0mself\u001b[0m\u001b[0;34m.\u001b[0m\u001b[0mdataset\u001b[0m\u001b[0;34m[\u001b[0m\u001b[0mpossibly_batched_index\u001b[0m\u001b[0;34m]\u001b[0m\u001b[0;34m\u001b[0m\u001b[0;34m\u001b[0m\u001b[0m\n\u001b[0;32m---> 47\u001b[0;31m         \u001b[0;32mreturn\u001b[0m \u001b[0mself\u001b[0m\u001b[0;34m.\u001b[0m\u001b[0mcollate_fn\u001b[0m\u001b[0;34m(\u001b[0m\u001b[0mdata\u001b[0m\u001b[0;34m)\u001b[0m\u001b[0;34m\u001b[0m\u001b[0;34m\u001b[0m\u001b[0m\n\u001b[0m",
      "\u001b[0;32m~/2020/py3-env/lib/python3.8/site-packages/sentence_transformers/SentenceTransformer.py\u001b[0m in \u001b[0;36msmart_batching_collate_text_only\u001b[0;34m(self, batch)\u001b[0m\n\u001b[1;32m    408\u001b[0m \u001b[0;34m\u001b[0m\u001b[0m\n\u001b[1;32m    409\u001b[0m         \u001b[0;32mfor\u001b[0m \u001b[0mtext\u001b[0m \u001b[0;32min\u001b[0m \u001b[0mbatch\u001b[0m\u001b[0;34m:\u001b[0m\u001b[0;34m\u001b[0m\u001b[0;34m\u001b[0m\u001b[0m\n\u001b[0;32m--> 410\u001b[0;31m             \u001b[0msentence_features\u001b[0m \u001b[0;34m=\u001b[0m \u001b[0mself\u001b[0m\u001b[0;34m.\u001b[0m\u001b[0mget_sentence_features\u001b[0m\u001b[0;34m(\u001b[0m\u001b[0mtext\u001b[0m\u001b[0;34m,\u001b[0m \u001b[0mmax_seq_len\u001b[0m\u001b[0;34m)\u001b[0m\u001b[0;34m\u001b[0m\u001b[0;34m\u001b[0m\u001b[0m\n\u001b[0m\u001b[1;32m    411\u001b[0m             \u001b[0;32mfor\u001b[0m \u001b[0mfeature_name\u001b[0m \u001b[0;32min\u001b[0m \u001b[0msentence_features\u001b[0m\u001b[0;34m:\u001b[0m\u001b[0;34m\u001b[0m\u001b[0;34m\u001b[0m\u001b[0m\n\u001b[1;32m    412\u001b[0m                 \u001b[0;32mif\u001b[0m \u001b[0mfeature_name\u001b[0m \u001b[0;32mnot\u001b[0m \u001b[0;32min\u001b[0m \u001b[0mfeature_lists\u001b[0m\u001b[0;34m:\u001b[0m\u001b[0;34m\u001b[0m\u001b[0;34m\u001b[0m\u001b[0m\n",
      "\u001b[0;32m~/2020/py3-env/lib/python3.8/site-packages/sentence_transformers/SentenceTransformer.py\u001b[0m in \u001b[0;36mget_sentence_features\u001b[0;34m(self, *features)\u001b[0m\n\u001b[1;32m    313\u001b[0m \u001b[0;34m\u001b[0m\u001b[0m\n\u001b[1;32m    314\u001b[0m     \u001b[0;32mdef\u001b[0m \u001b[0mget_sentence_features\u001b[0m\u001b[0;34m(\u001b[0m\u001b[0mself\u001b[0m\u001b[0;34m,\u001b[0m \u001b[0;34m*\u001b[0m\u001b[0mfeatures\u001b[0m\u001b[0;34m)\u001b[0m\u001b[0;34m:\u001b[0m\u001b[0;34m\u001b[0m\u001b[0;34m\u001b[0m\u001b[0m\n\u001b[0;32m--> 315\u001b[0;31m         \u001b[0;32mreturn\u001b[0m \u001b[0mself\u001b[0m\u001b[0;34m.\u001b[0m\u001b[0m_first_module\u001b[0m\u001b[0;34m(\u001b[0m\u001b[0;34m)\u001b[0m\u001b[0;34m.\u001b[0m\u001b[0mget_sentence_features\u001b[0m\u001b[0;34m(\u001b[0m\u001b[0;34m*\u001b[0m\u001b[0mfeatures\u001b[0m\u001b[0;34m)\u001b[0m\u001b[0;34m\u001b[0m\u001b[0;34m\u001b[0m\u001b[0m\n\u001b[0m\u001b[1;32m    316\u001b[0m \u001b[0;34m\u001b[0m\u001b[0m\n\u001b[1;32m    317\u001b[0m     \u001b[0;32mdef\u001b[0m \u001b[0mget_sentence_embedding_dimension\u001b[0m\u001b[0;34m(\u001b[0m\u001b[0mself\u001b[0m\u001b[0;34m)\u001b[0m\u001b[0;34m:\u001b[0m\u001b[0;34m\u001b[0m\u001b[0;34m\u001b[0m\u001b[0m\n",
      "\u001b[0;32m~/2020/py3-env/lib/python3.8/site-packages/sentence_transformers/models/Transformer.py\u001b[0m in \u001b[0;36mget_sentence_features\u001b[0;34m(self, tokens, pad_seq_length)\u001b[0m\n\u001b[1;32m     75\u001b[0m \u001b[0;34m\u001b[0m\u001b[0m\n\u001b[1;32m     76\u001b[0m         \u001b[0;32mif\u001b[0m \u001b[0mlen\u001b[0m\u001b[0;34m(\u001b[0m\u001b[0mtokens\u001b[0m\u001b[0;34m)\u001b[0m \u001b[0;34m==\u001b[0m \u001b[0;36m0\u001b[0m \u001b[0;32mor\u001b[0m \u001b[0misinstance\u001b[0m\u001b[0;34m(\u001b[0m\u001b[0mtokens\u001b[0m\u001b[0;34m[\u001b[0m\u001b[0;36m0\u001b[0m\u001b[0;34m]\u001b[0m\u001b[0;34m,\u001b[0m \u001b[0mint\u001b[0m\u001b[0;34m)\u001b[0m\u001b[0;34m:\u001b[0m\u001b[0;34m\u001b[0m\u001b[0;34m\u001b[0m\u001b[0m\n\u001b[0;32m---> 77\u001b[0;31m             \u001b[0;32mreturn\u001b[0m \u001b[0mself\u001b[0m\u001b[0;34m.\u001b[0m\u001b[0mtokenizer\u001b[0m\u001b[0;34m.\u001b[0m\u001b[0mprepare_for_model\u001b[0m\u001b[0;34m(\u001b[0m\u001b[0mtokens\u001b[0m\u001b[0;34m,\u001b[0m \u001b[0mmax_length\u001b[0m\u001b[0;34m=\u001b[0m\u001b[0mpad_seq_length\u001b[0m\u001b[0;34m,\u001b[0m \u001b[0mpadding\u001b[0m\u001b[0;34m=\u001b[0m\u001b[0;34m'max_length'\u001b[0m\u001b[0;34m,\u001b[0m \u001b[0mreturn_tensors\u001b[0m\u001b[0;34m=\u001b[0m\u001b[0;34m'pt'\u001b[0m\u001b[0;34m,\u001b[0m \u001b[0mtruncation\u001b[0m\u001b[0;34m=\u001b[0m\u001b[0;32mTrue\u001b[0m\u001b[0;34m,\u001b[0m \u001b[0mprepend_batch_axis\u001b[0m\u001b[0;34m=\u001b[0m\u001b[0;32mTrue\u001b[0m\u001b[0;34m)\u001b[0m\u001b[0;34m\u001b[0m\u001b[0;34m\u001b[0m\u001b[0m\n\u001b[0m\u001b[1;32m     78\u001b[0m         \u001b[0;32melse\u001b[0m\u001b[0;34m:\u001b[0m\u001b[0;34m\u001b[0m\u001b[0;34m\u001b[0m\u001b[0m\n\u001b[1;32m     79\u001b[0m             \u001b[0;32mreturn\u001b[0m \u001b[0mself\u001b[0m\u001b[0;34m.\u001b[0m\u001b[0mtokenizer\u001b[0m\u001b[0;34m.\u001b[0m\u001b[0mprepare_for_model\u001b[0m\u001b[0;34m(\u001b[0m\u001b[0mtokens\u001b[0m\u001b[0;34m[\u001b[0m\u001b[0;36m0\u001b[0m\u001b[0;34m]\u001b[0m\u001b[0;34m,\u001b[0m \u001b[0mtokens\u001b[0m\u001b[0;34m[\u001b[0m\u001b[0;36m1\u001b[0m\u001b[0;34m]\u001b[0m\u001b[0;34m,\u001b[0m \u001b[0mmax_length\u001b[0m\u001b[0;34m=\u001b[0m\u001b[0mpad_seq_length\u001b[0m\u001b[0;34m,\u001b[0m \u001b[0mpadding\u001b[0m\u001b[0;34m=\u001b[0m\u001b[0;34m'max_length'\u001b[0m\u001b[0;34m,\u001b[0m \u001b[0mreturn_tensors\u001b[0m\u001b[0;34m=\u001b[0m\u001b[0;34m'pt'\u001b[0m\u001b[0;34m,\u001b[0m \u001b[0mtruncation\u001b[0m\u001b[0;34m=\u001b[0m\u001b[0;34m'longest_first'\u001b[0m\u001b[0;34m,\u001b[0m \u001b[0mprepend_batch_axis\u001b[0m\u001b[0;34m=\u001b[0m\u001b[0;32mTrue\u001b[0m\u001b[0;34m)\u001b[0m\u001b[0;34m\u001b[0m\u001b[0;34m\u001b[0m\u001b[0m\n",
      "\u001b[0;32m~/2020/py3-env/lib/python3.8/site-packages/transformers/tokenization_utils_base.py\u001b[0m in \u001b[0;36mprepare_for_model\u001b[0;34m(self, ids, pair_ids, add_special_tokens, padding, truncation, max_length, stride, pad_to_multiple_of, return_tensors, return_token_type_ids, return_attention_mask, return_overflowing_tokens, return_special_tokens_mask, return_offsets_mapping, return_length, verbose, prepend_batch_axis, **kwargs)\u001b[0m\n\u001b[1;32m   2448\u001b[0m         \u001b[0moverflowing_tokens\u001b[0m \u001b[0;34m=\u001b[0m \u001b[0;34m[\u001b[0m\u001b[0;34m]\u001b[0m\u001b[0;34m\u001b[0m\u001b[0;34m\u001b[0m\u001b[0m\n\u001b[1;32m   2449\u001b[0m         \u001b[0;32mif\u001b[0m \u001b[0mtruncation_strategy\u001b[0m \u001b[0;34m!=\u001b[0m \u001b[0mTruncationStrategy\u001b[0m\u001b[0;34m.\u001b[0m\u001b[0mDO_NOT_TRUNCATE\u001b[0m \u001b[0;32mand\u001b[0m \u001b[0mmax_length\u001b[0m \u001b[0;32mand\u001b[0m \u001b[0mtotal_len\u001b[0m \u001b[0;34m>\u001b[0m \u001b[0mmax_length\u001b[0m\u001b[0;34m:\u001b[0m\u001b[0;34m\u001b[0m\u001b[0;34m\u001b[0m\u001b[0m\n\u001b[0;32m-> 2450\u001b[0;31m             ids, pair_ids, overflowing_tokens = self.truncate_sequences(\n\u001b[0m\u001b[1;32m   2451\u001b[0m                 \u001b[0mids\u001b[0m\u001b[0;34m,\u001b[0m\u001b[0;34m\u001b[0m\u001b[0;34m\u001b[0m\u001b[0m\n\u001b[1;32m   2452\u001b[0m                 \u001b[0mpair_ids\u001b[0m\u001b[0;34m=\u001b[0m\u001b[0mpair_ids\u001b[0m\u001b[0;34m,\u001b[0m\u001b[0;34m\u001b[0m\u001b[0;34m\u001b[0m\u001b[0m\n",
      "\u001b[0;32m~/2020/py3-env/lib/python3.8/site-packages/transformers/tokenization_utils_base.py\u001b[0m in \u001b[0;36mtruncate_sequences\u001b[0;34m(self, ids, pair_ids, num_tokens_to_remove, truncation_strategy, stride)\u001b[0m\n\u001b[1;32m   2569\u001b[0m                         \u001b[0mwindow_len\u001b[0m \u001b[0;34m=\u001b[0m \u001b[0;36m1\u001b[0m\u001b[0;34m\u001b[0m\u001b[0;34m\u001b[0m\u001b[0m\n\u001b[1;32m   2570\u001b[0m                     \u001b[0moverflowing_tokens\u001b[0m\u001b[0;34m.\u001b[0m\u001b[0mextend\u001b[0m\u001b[0;34m(\u001b[0m\u001b[0mids\u001b[0m\u001b[0;34m[\u001b[0m\u001b[0;34m-\u001b[0m\u001b[0mwindow_len\u001b[0m\u001b[0;34m:\u001b[0m\u001b[0;34m]\u001b[0m\u001b[0;34m)\u001b[0m\u001b[0;34m\u001b[0m\u001b[0;34m\u001b[0m\u001b[0m\n\u001b[0;32m-> 2571\u001b[0;31m                     \u001b[0mids\u001b[0m \u001b[0;34m=\u001b[0m \u001b[0mids\u001b[0m\u001b[0;34m[\u001b[0m\u001b[0;34m:\u001b[0m\u001b[0;34m-\u001b[0m\u001b[0;36m1\u001b[0m\u001b[0;34m]\u001b[0m\u001b[0;34m\u001b[0m\u001b[0;34m\u001b[0m\u001b[0m\n\u001b[0m\u001b[1;32m   2572\u001b[0m                 \u001b[0;32melse\u001b[0m\u001b[0;34m:\u001b[0m\u001b[0;34m\u001b[0m\u001b[0;34m\u001b[0m\u001b[0m\n\u001b[1;32m   2573\u001b[0m                     \u001b[0;32mif\u001b[0m \u001b[0;32mnot\u001b[0m \u001b[0moverflowing_tokens\u001b[0m\u001b[0;34m:\u001b[0m\u001b[0;34m\u001b[0m\u001b[0;34m\u001b[0m\u001b[0m\n",
      "\u001b[0;31mKeyboardInterrupt\u001b[0m: "
     ]
    }
   ],
   "source": [
    "full_text_embeddings = bert_embeddings(etds_df)"
   ]
  },
  {
   "cell_type": "code",
   "execution_count": 17,
   "metadata": {},
   "outputs": [
    {
     "name": "stdout",
     "output_type": "stream",
     "text": [
      "<class 'pandas.core.frame.DataFrame'>\n",
      "RangeIndex: 6283 entries, 0 to 6282\n",
      "Data columns (total 3 columns):\n",
      " #   Column             Non-Null Count  Dtype \n",
      "---  ------             --------------  ----- \n",
      " 0   druids             6283 non-null   object\n",
      " 1   full_text          6283 non-null   object\n",
      " 2   cleaned_full_text  6283 non-null   object\n",
      "dtypes: object(3)\n",
      "memory usage: 147.4+ KB\n"
     ]
    }
   ],
   "source": [
    "etds_df.info()"
   ]
  }
 ],
 "metadata": {
  "kernelspec": {
   "display_name": "Python 3",
   "language": "python",
   "name": "python3"
  },
  "language_info": {
   "codemirror_mode": {
    "name": "ipython",
    "version": 3
   },
   "file_extension": ".py",
   "mimetype": "text/x-python",
   "name": "python",
   "nbconvert_exporter": "python",
   "pygments_lexer": "ipython3",
   "version": "3.8.1"
  }
 },
 "nbformat": 4,
 "nbformat_minor": 4
}
