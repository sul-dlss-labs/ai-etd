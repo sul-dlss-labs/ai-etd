{
 "cells": [
  {
   "cell_type": "code",
   "execution_count": 175,
   "metadata": {},
   "outputs": [],
   "source": [
    "import datetime\n",
    "import pickle\n",
    "import re\n",
    "\n",
    "import lxml.etree as etree\n",
    "import requests\n",
    "\n",
    "import pandas as pd\n",
    "import numpy as np\n",
    "import matplotlib.pyplot as plt \n",
    "from nltk.corpus import stopwords\n",
    "from sentence_transformers import SentenceTransformer\n",
    "from sklearn.cluster import KMeans\n",
    "sbert_model = SentenceTransformer('bert-base-nli-mean-tokens')\n",
    "stop_words_list = stopwords.words('english')\n",
    "ns = {\"mods\": \"http://www.loc.gov/mods/v3\"}"
   ]
  },
  {
   "cell_type": "code",
   "execution_count": 132,
   "metadata": {},
   "outputs": [],
   "source": [
    "def get_mods(druid: str):\n",
    "    purl_url = f\"https://purl.stanford.edu/{druid}.mods\"\n",
    "    try:\n",
    "        purl_result = requests.get(purl_url)\n",
    "    except:\n",
    "        print(f\"Request error for {druid} with {purl_url}\")\n",
    "        return ''\n",
    "    try:\n",
    "        purl_xml = etree.XML(purl_result.text.encode())\n",
    "    except etree.XMLSyntaxError:\n",
    "        print(f\"\\nXML Syntax Error for {druid}\")\n",
    "        return ''\n",
    "    return purl_xml\n",
    "    \n",
    "def get_abstract(purl_xml):\n",
    "    abstract = purl_xml.find(\"mods:abstract\", namespaces=ns)\n",
    "    if abstract is not None:\n",
    "        return abstract.text\n",
    "\n",
    "def get_department(purl_xml):\n",
    "    corporate_names = purl_xml.findall(\"mods:name[@type='corporate']/mods:namePart\", namespaces=ns)\n",
    "    department = []\n",
    "    for name in corporate_names:\n",
    "        if name.text.startswith(\"Stanford University\"):\n",
    "            continue\n",
    "        department.append(name.text)\n",
    "    return ','.join(department)\n",
    "\n",
    "special_char_re = re.compile(r'[^a-zA-Z]')\n",
    "\n",
    "def cleanup(term: str) -> str:\n",
    "    cleaned = []\n",
    "    for char in term.split():\n",
    "        cleaned_char = special_char_re.sub(' ', char).lower()\n",
    "        if cleaned_char in stop_words_list:\n",
    "            continue\n",
    "        cleaned.append(cleaned_char)\n",
    "    return ' '.join(cleaned)"
   ]
  },
  {
   "cell_type": "code",
   "execution_count": 34,
   "metadata": {},
   "outputs": [],
   "source": [
    "biology_df = pd.read_pickle(\"data/biology.pkl\")"
   ]
  },
  {
   "cell_type": "code",
   "execution_count": 68,
   "metadata": {},
   "outputs": [
    {
     "data": {
      "text/html": [
       "<div>\n",
       "<style scoped>\n",
       "    .dataframe tbody tr th:only-of-type {\n",
       "        vertical-align: middle;\n",
       "    }\n",
       "\n",
       "    .dataframe tbody tr th {\n",
       "        vertical-align: top;\n",
       "    }\n",
       "\n",
       "    .dataframe thead th {\n",
       "        text-align: right;\n",
       "    }\n",
       "</style>\n",
       "<table border=\"1\" class=\"dataframe\">\n",
       "  <thead>\n",
       "    <tr style=\"text-align: right;\">\n",
       "      <th></th>\n",
       "      <th>druids</th>\n",
       "      <th>abstracts</th>\n",
       "      <th>abstracts_cleaned</th>\n",
       "      <th>departments</th>\n",
       "    </tr>\n",
       "  </thead>\n",
       "  <tbody>\n",
       "    <tr>\n",
       "      <th>0</th>\n",
       "      <td>zd879dy3740</td>\n",
       "      <td>Circumstantial evidence suggests vast post-tra...</td>\n",
       "      <td>circumstantial evidence suggests vast post tra...</td>\n",
       "      <td>Department of Biochemistry.</td>\n",
       "    </tr>\n",
       "    <tr>\n",
       "      <th>1</th>\n",
       "      <td>sc349gp0346</td>\n",
       "      <td>The brain is a complex organ formed from billi...</td>\n",
       "      <td>brain complex organ formed billions neurons  t...</td>\n",
       "      <td>Department of Biology.</td>\n",
       "    </tr>\n",
       "    <tr>\n",
       "      <th>2</th>\n",
       "      <td>gh439vr9294</td>\n",
       "      <td>Because of their capability of assembling hier...</td>\n",
       "      <td>capability assembling hierarchically stable or...</td>\n",
       "      <td>Department of Chemistry</td>\n",
       "    </tr>\n",
       "    <tr>\n",
       "      <th>3</th>\n",
       "      <td>qv108wv0750</td>\n",
       "      <td>L-type voltage-gated calcium channels (LTCs) p...</td>\n",
       "      <td>l type voltage gated calcium channels  ltcs  p...</td>\n",
       "      <td>Neurosciences Program.</td>\n",
       "    </tr>\n",
       "    <tr>\n",
       "      <th>4</th>\n",
       "      <td>cr369nn5134</td>\n",
       "      <td>During cell division, chromosome segregation m...</td>\n",
       "      <td>cell division  chromosome segregation must coo...</td>\n",
       "      <td>Department of Biochemistry</td>\n",
       "    </tr>\n",
       "  </tbody>\n",
       "</table>\n",
       "</div>"
      ],
      "text/plain": [
       "        druids                                          abstracts  \\\n",
       "0  zd879dy3740  Circumstantial evidence suggests vast post-tra...   \n",
       "1  sc349gp0346  The brain is a complex organ formed from billi...   \n",
       "2  gh439vr9294  Because of their capability of assembling hier...   \n",
       "3  qv108wv0750  L-type voltage-gated calcium channels (LTCs) p...   \n",
       "4  cr369nn5134  During cell division, chromosome segregation m...   \n",
       "\n",
       "                                   abstracts_cleaned  \\\n",
       "0  circumstantial evidence suggests vast post tra...   \n",
       "1  brain complex organ formed billions neurons  t...   \n",
       "2  capability assembling hierarchically stable or...   \n",
       "3  l type voltage gated calcium channels  ltcs  p...   \n",
       "4  cell division  chromosome segregation must coo...   \n",
       "\n",
       "                   departments  \n",
       "0  Department of Biochemistry.  \n",
       "1       Department of Biology.  \n",
       "2      Department of Chemistry  \n",
       "3       Neurosciences Program.  \n",
       "4   Department of Biochemistry  "
      ]
     },
     "execution_count": 68,
     "metadata": {},
     "output_type": "execute_result"
    }
   ],
   "source": [
    "biology_df.head()"
   ]
  },
  {
   "cell_type": "code",
   "execution_count": 87,
   "metadata": {},
   "outputs": [
    {
     "data": {
      "text/plain": [
       "247"
      ]
     },
     "execution_count": 87,
     "metadata": {},
     "output_type": "execute_result"
    }
   ],
   "source": [
    "biology_df['abstracts'].isnull().sum()"
   ]
  },
  {
   "cell_type": "code",
   "execution_count": 103,
   "metadata": {},
   "outputs": [],
   "source": [
    "missing_info = []\n",
    "for i,row in enumerate(biology_df['abstracts'].isnull()):\n",
    "    if row:\n",
    "        missing_info.append(biology_df.iloc[i])"
   ]
  },
  {
   "cell_type": "code",
   "execution_count": 104,
   "metadata": {},
   "outputs": [
    {
     "data": {
      "text/plain": [
       "247"
      ]
     },
     "execution_count": 104,
     "metadata": {},
     "output_type": "execute_result"
    }
   ],
   "source": [
    "len(missing_info)"
   ]
  },
  {
   "cell_type": "code",
   "execution_count": 105,
   "metadata": {},
   "outputs": [
    {
     "data": {
      "text/plain": [
       "druids               bz168ds1940\n",
       "abstracts                    NaN\n",
       "abstracts_cleaned            NaN\n",
       "departments                  NaN\n",
       "Name: 116, dtype: object"
      ]
     },
     "execution_count": 105,
     "metadata": {},
     "output_type": "execute_result"
    }
   ],
   "source": [
    "missing_info[0]"
   ]
  },
  {
   "cell_type": "code",
   "execution_count": 114,
   "metadata": {},
   "outputs": [],
   "source": [
    "xml = get_mods('bz168ds1940')"
   ]
  },
  {
   "cell_type": "code",
   "execution_count": 122,
   "metadata": {},
   "outputs": [
    {
     "data": {
      "text/plain": [
       "'Department of Chemistry'"
      ]
     },
     "execution_count": 122,
     "metadata": {},
     "output_type": "execute_result"
    }
   ],
   "source": [
    "get_department(xml)"
   ]
  },
  {
   "cell_type": "code",
   "execution_count": 127,
   "metadata": {},
   "outputs": [
    {
     "data": {
      "text/plain": [
       "'Despite numerous advances in metal ion sensor design, it is still difficult, slow and laborious to rationally design, synthesize and optimize selective sensors for each individual metal ion for a wide variety of metal cations. In order to develop an approach to rapidly generate sensors for many different metal cations, a new molecular sensor design strategy based on DNA-like oligomers (oligodeoxyfluorosides or ODFs) was investigated. The ODF-based design incorporates fluorophores and metal ligands onto the DNA backbone, allowing the binding and reporting moieties to interact intimately by bringing them into direct contact by pi-pi stacking, analogous to the stacking of DNA bases. The highly modular molecular design allows for water solubility and enables rapid synthesis and discovery of sensors from combinatorial libraries. Using the ODF-based sensor design and a combinatorial library approach, a wide variety of metal ion sensors were discovered for many different metal cations. A selective ODF sensor for silver ions that functions similarly to the more classical type of metal ion sensors was discovered employing this approach. In addition, ODF sensors that have diverse responses (such as fluorescence enhancement, quenching, and blue- and red-shifts) for a number of different metal cations were also discovered utilizing this sensor design strategy. Five water-soluble ODF sensors were identified to exhibit responses beyond simple fluorescence quenching to eight typically quenching metal cations. The diversity of sensor responses enable as few as two ODF sensors to be utilized to successfully differentiate all eight metal cations based on the response pattern of the sensors. The modular nature of this sensor design strategy suggests a broadly applicable approach to finding sensors for many different cations, simply by varying the sequence and composition of ligands and fluorophores using a DNA synthesizer.'"
      ]
     },
     "execution_count": 127,
     "metadata": {},
     "output_type": "execute_result"
    }
   ],
   "source": [
    "get_abstract(xml)"
   ]
  },
  {
   "cell_type": "code",
   "execution_count": 128,
   "metadata": {},
   "outputs": [],
   "source": [
    "missing_info[0]['abstracts'] = get_abstract(xml)"
   ]
  },
  {
   "cell_type": "code",
   "execution_count": 133,
   "metadata": {},
   "outputs": [
    {
     "data": {
      "text/plain": [
       "'bz168ds1940'"
      ]
     },
     "execution_count": 133,
     "metadata": {},
     "output_type": "execute_result"
    }
   ],
   "source": [
    "missing_info[0]['druids']"
   ]
  },
  {
   "cell_type": "code",
   "execution_count": 154,
   "metadata": {},
   "outputs": [],
   "source": [
    "def populate_missing(missing_info):\n",
    "    start = datetime.datetime.utcnow()\n",
    "    print(f\"Starting at {start} for {len(missing_info)}\")\n",
    "    for i,row in enumerate(missing_info):\n",
    "        druid = row['druids']\n",
    "        xml = get_mods(druid)\n",
    "        if len(xml) < 1:\n",
    "            print(f\"XML is empty for {druid}, index {i}\")\n",
    "            continue\n",
    "        row['departments'] = get_department(xml)\n",
    "        abstract = get_abstract(xml)\n",
    "        if abstract is None:\n",
    "            print(f\"No abstract for {druid}, index {i}\")\n",
    "            abstract = ''\n",
    "        row['abstracts'] = abstract\n",
    "        row['abstracts_cleaned'] = cleanup(abstract)\n",
    "\n",
    "    end = datetime.datetime.utcnow()\n",
    "    print(f\"Finished at {end} total time {(end-start).seconds / 60.} mins\")"
   ]
  },
  {
   "cell_type": "code",
   "execution_count": 153,
   "metadata": {},
   "outputs": [
    {
     "name": "stdout",
     "output_type": "stream",
     "text": [
      "Starting at 2020-10-21 20:42:47.660303 for 247\n",
      "No abstract for dg421jb1685, index 15\n",
      "Finished at 2020-10-21 20:44:04.694893 total time 1.2833333333333334 mins\n"
     ]
    }
   ],
   "source": [
    "populate_missing()"
   ]
  },
  {
   "cell_type": "code",
   "execution_count": 150,
   "metadata": {},
   "outputs": [],
   "source": [
    "missing_info[156]['druids'] = 'yq505mb7923'"
   ]
  },
  {
   "cell_type": "code",
   "execution_count": 160,
   "metadata": {},
   "outputs": [
    {
     "name": "stdout",
     "output_type": "stream",
     "text": [
      "druids                         dg421jb1685\n",
      "abstracts                                 \n",
      "abstracts_cleaned                         \n",
      "departments          Department of Biology\n",
      "Name: 216, dtype: object\n"
     ]
    }
   ],
   "source": [
    "print(missing_info[15])"
   ]
  },
  {
   "cell_type": "code",
   "execution_count": 159,
   "metadata": {},
   "outputs": [],
   "source": [
    "missing_info[15]['departments'] = 'Department of Biology'"
   ]
  },
  {
   "cell_type": "code",
   "execution_count": 161,
   "metadata": {},
   "outputs": [
    {
     "data": {
      "text/html": [
       "<div>\n",
       "<style scoped>\n",
       "    .dataframe tbody tr th:only-of-type {\n",
       "        vertical-align: middle;\n",
       "    }\n",
       "\n",
       "    .dataframe tbody tr th {\n",
       "        vertical-align: top;\n",
       "    }\n",
       "\n",
       "    .dataframe thead th {\n",
       "        text-align: right;\n",
       "    }\n",
       "</style>\n",
       "<table border=\"1\" class=\"dataframe\">\n",
       "  <thead>\n",
       "    <tr style=\"text-align: right;\">\n",
       "      <th></th>\n",
       "      <th>druids</th>\n",
       "      <th>abstracts</th>\n",
       "      <th>abstracts_cleaned</th>\n",
       "      <th>departments</th>\n",
       "    </tr>\n",
       "  </thead>\n",
       "  <tbody>\n",
       "    <tr>\n",
       "      <th>1138</th>\n",
       "      <td>xr773zb6840</td>\n",
       "      <td>Some of our earliest artisans were pioneers of...</td>\n",
       "      <td>earliest artisans pioneers nanoengineering  bu...</td>\n",
       "      <td>Department of Chemistry.</td>\n",
       "    </tr>\n",
       "    <tr>\n",
       "      <th>1139</th>\n",
       "      <td>xs043wz4950</td>\n",
       "      <td>Salmonella enterica serovars can cause a range...</td>\n",
       "      <td>salmonella enterica serovars cause range disea...</td>\n",
       "      <td>Program in Immunology.</td>\n",
       "    </tr>\n",
       "    <tr>\n",
       "      <th>1140</th>\n",
       "      <td>rh679rc9667</td>\n",
       "      <td>Pregnancy is a complicated process were the ma...</td>\n",
       "      <td>pregnancy complicated process maternal body dr...</td>\n",
       "      <td>Department of Genetics.</td>\n",
       "    </tr>\n",
       "    <tr>\n",
       "      <th>1141</th>\n",
       "      <td>xq696rs8043</td>\n",
       "      <td>The impact, pervasivity and regulation of the ...</td>\n",
       "      <td>impact  pervasivity regulation two phase separ...</td>\n",
       "      <td>Department of Biology.</td>\n",
       "    </tr>\n",
       "    <tr>\n",
       "      <th>1142</th>\n",
       "      <td>pz926bj0175</td>\n",
       "      <td>The 15q13.3 microdeletion is associated with s...</td>\n",
       "      <td>q     microdeletion associated several neuro...</td>\n",
       "      <td>Department of Genetics.</td>\n",
       "    </tr>\n",
       "  </tbody>\n",
       "</table>\n",
       "</div>"
      ],
      "text/plain": [
       "           druids                                          abstracts  \\\n",
       "1138  xr773zb6840  Some of our earliest artisans were pioneers of...   \n",
       "1139  xs043wz4950  Salmonella enterica serovars can cause a range...   \n",
       "1140  rh679rc9667  Pregnancy is a complicated process were the ma...   \n",
       "1141  xq696rs8043  The impact, pervasivity and regulation of the ...   \n",
       "1142  pz926bj0175  The 15q13.3 microdeletion is associated with s...   \n",
       "\n",
       "                                      abstracts_cleaned  \\\n",
       "1138  earliest artisans pioneers nanoengineering  bu...   \n",
       "1139  salmonella enterica serovars cause range disea...   \n",
       "1140  pregnancy complicated process maternal body dr...   \n",
       "1141  impact  pervasivity regulation two phase separ...   \n",
       "1142    q     microdeletion associated several neuro...   \n",
       "\n",
       "                   departments  \n",
       "1138  Department of Chemistry.  \n",
       "1139    Program in Immunology.  \n",
       "1140   Department of Genetics.  \n",
       "1141    Department of Biology.  \n",
       "1142   Department of Genetics.  "
      ]
     },
     "execution_count": 161,
     "metadata": {},
     "output_type": "execute_result"
    }
   ],
   "source": [
    "biology_df.tail()"
   ]
  },
  {
   "cell_type": "code",
   "execution_count": 163,
   "metadata": {},
   "outputs": [],
   "source": [
    "biology_df.to_pickle(\"./data/biology.pkl\")"
   ]
  },
  {
   "cell_type": "code",
   "execution_count": 164,
   "metadata": {},
   "outputs": [],
   "source": [
    "biology_embeddings = sbert_model.encode(biology_df['abstracts_cleaned'])"
   ]
  },
  {
   "cell_type": "code",
   "execution_count": 165,
   "metadata": {},
   "outputs": [],
   "source": [
    "wcss = []\n",
    "for i in range(1,50):\n",
    "    kmeans = KMeans(n_clusters=i, init = 'k-means++', random_state=42)\n",
    "    kmeans.fit(biology_embeddings)\n",
    "    wcss.append(kmeans.inertia_)"
   ]
  },
  {
   "cell_type": "code",
   "execution_count": 167,
   "metadata": {},
   "outputs": [
    {
     "data": {
      "image/png": "[encoded data removed]",
      "text/plain": [
       "<Figure size 720x576 with 1 Axes>"
      ]
     },
     "metadata": {
      "needs_background": "light"
     },
     "output_type": "display_data"
    }
   ],
   "source": [
    "plt.figure(figsize=(10,8))\n",
    "plt.plot(range(1,50), wcss, marker = 'o', linestyle='--')\n",
    "plt.xlabel('Number of clusters')\n",
    "plt.ylabel('WCSS')\n",
    "plt.title('K-means Clustering')\n",
    "plt.show()"
   ]
  },
  {
   "cell_type": "code",
   "execution_count": null,
   "metadata": {},
   "outputs": [],
   "source": []
  },
  {
   "cell_type": "code",
   "execution_count": 169,
   "metadata": {},
   "outputs": [],
   "source": [
    "clustering_model = KMeans(n_clusters=18)\n",
    "clustering_model.fit(biology_embeddings)\n",
    "cluster_assignment = clustering_model.labels_"
   ]
  },
  {
   "cell_type": "code",
   "execution_count": 172,
   "metadata": {},
   "outputs": [],
   "source": [
    "clustered_sentences = [[] for i in range(18)]\n",
    "for abstract_id, cluster_id in enumerate(cluster_assignment):\n",
    "    clustered_sentences[cluster_id].append({ 'abstract': biology_df.iloc[abstract_id]['abstracts'], \n",
    "                                             'druid': biology_df.iloc[abstract_id]['druids'] })"
   ]
  },
  {
   "cell_type": "code",
   "execution_count": 173,
   "metadata": {},
   "outputs": [
    {
     "name": "stdout",
     "output_type": "stream",
     "text": [
      "Cluster 0 size 48\n",
      "Cluster 1 size 83\n",
      "Cluster 2 size 94\n",
      "Cluster 3 size 84\n",
      "Cluster 4 size 63\n",
      "Cluster 5 size 80\n",
      "Cluster 6 size 41\n",
      "Cluster 7 size 43\n",
      "Cluster 8 size 84\n",
      "Cluster 9 size 3\n",
      "Cluster 10 size 39\n",
      "Cluster 11 size 55\n",
      "Cluster 12 size 55\n",
      "Cluster 13 size 91\n",
      "Cluster 14 size 84\n",
      "Cluster 15 size 81\n",
      "Cluster 16 size 52\n",
      "Cluster 17 size 63\n"
     ]
    }
   ],
   "source": [
    "for i,row in enumerate(clustered_sentences):\n",
    "    print(f\"Cluster {i} size {len(row)}\")"
   ]
  },
  {
   "cell_type": "code",
   "execution_count": 174,
   "metadata": {},
   "outputs": [
    {
     "name": "stdout",
     "output_type": "stream",
     "text": [
      "{'abstract': '', 'druid': 'dg421jb1685'}\n",
      "Last abstract\n",
      "{'abstract': 'Abstract to be provided.', 'druid': 'bz491tn4091'}\n"
     ]
    }
   ],
   "source": [
    "print(clustered_sentences[9][0])\n",
    "print(f\"Last abstract\")\n",
    "print(clustered_sentences[9][-1])"
   ]
  },
  {
   "cell_type": "code",
   "execution_count": 177,
   "metadata": {},
   "outputs": [],
   "source": [
    "with open('./data/biology-bert-embedding.pkl', 'wb+') as fo:\n",
    "    pickle.dump(biology_embeddings, fo)"
   ]
  },
  {
   "cell_type": "code",
   "execution_count": 3,
   "metadata": {},
   "outputs": [],
   "source": [
    "import pandas as pd\n",
    "bio_df = pd.read_pickle(\"../biology-etds/data/biology.pkl\")"
   ]
  },
  {
   "cell_type": "code",
   "execution_count": 4,
   "metadata": {},
   "outputs": [
    {
     "data": {
      "text/plain": [
       "1143"
      ]
     },
     "execution_count": 4,
     "metadata": {},
     "output_type": "execute_result"
    }
   ],
   "source": [
    "len(bio_df)"
   ]
  },
  {
   "cell_type": "code",
   "execution_count": null,
   "metadata": {},
   "outputs": [],
   "source": []
  }
 ],
 "metadata": {
  "kernelspec": {
   "display_name": "Python 3",
   "language": "python",
   "name": "python3"
  },
  "language_info": {
   "codemirror_mode": {
    "name": "ipython",
    "version": 3
   },
   "file_extension": ".py",
   "mimetype": "text/x-python",
   "name": "python",
   "nbconvert_exporter": "python",
   "pygments_lexer": "ipython3",
   "version": "3.8.1"
  }
 },
 "nbformat": 4,
 "nbformat_minor": 4
}
