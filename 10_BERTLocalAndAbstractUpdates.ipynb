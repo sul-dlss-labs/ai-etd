{
 "cells": [
  {
   "cell_type": "code",
   "execution_count": 300,
   "metadata": {},
   "outputs": [],
   "source": [
    "%reload_ext autoreload\n",
    "%autoreload 2\n",
    "%matplotlib inline\n",
    "import datetime\n",
    "import pickle\n",
    "import re\n",
    "\n",
    "import lxml.etree as etree\n",
    "import requests\n",
    "\n",
    "import pandas as pd\n",
    "import numpy as np\n",
    "import matplotlib.pyplot as plt \n",
    "from nltk.corpus import stopwords\n",
    "from sentence_transformers import SentenceTransformer\n",
    "from sklearn.cluster import KMeans\n",
    "sbert_model = SentenceTransformer('bert-base-nli-mean-tokens')\n",
    "stop_words_list = stopwords.words('english')\n",
    "ns = {\"mods\": \"http://www.loc.gov/mods/v3\"}\n",
    "\n",
    "from sentence_transformers import SentenceTransformer\n",
    "sbert_model = SentenceTransformer('bert-base-nli-mean-tokens')"
   ]
  },
  {
   "cell_type": "code",
   "execution_count": 2,
   "metadata": {},
   "outputs": [],
   "source": [
    "model = BertForSequenceClassification.from_pretrained(\"data/b-druids-model\")"
   ]
  },
  {
   "cell_type": "code",
   "execution_count": 41,
   "metadata": {},
   "outputs": [],
   "source": [
    "tokenizer = BertTokenizer.from_pretrained('bert-base-uncased', do_lower_case=True)"
   ]
  },
  {
   "cell_type": "code",
   "execution_count": 5,
   "metadata": {},
   "outputs": [],
   "source": [
    "etds_path = pathlib.Path(\"../tmp/etd-10-27/results/\")"
   ]
  },
  {
   "cell_type": "code",
   "execution_count": 7,
   "metadata": {},
   "outputs": [],
   "source": [
    "bio_druids = pd.read_csv(\"data/druids_biology_cleaned.csv\")"
   ]
  },
  {
   "cell_type": "code",
   "execution_count": 9,
   "metadata": {},
   "outputs": [
    {
     "data": {
      "text/html": [
       "<div>\n",
       "<style scoped>\n",
       "    .dataframe tbody tr th:only-of-type {\n",
       "        vertical-align: middle;\n",
       "    }\n",
       "\n",
       "    .dataframe tbody tr th {\n",
       "        vertical-align: top;\n",
       "    }\n",
       "\n",
       "    .dataframe thead th {\n",
       "        text-align: right;\n",
       "    }\n",
       "</style>\n",
       "<table border=\"1\" class=\"dataframe\">\n",
       "  <thead>\n",
       "    <tr style=\"text-align: right;\">\n",
       "      <th></th>\n",
       "      <th>druids</th>\n",
       "    </tr>\n",
       "  </thead>\n",
       "  <tbody>\n",
       "    <tr>\n",
       "      <th>603</th>\n",
       "      <td>sh172dm7469</td>\n",
       "    </tr>\n",
       "  </tbody>\n",
       "</table>\n",
       "</div>"
      ],
      "text/plain": [
       "          druids\n",
       "603  sh172dm7469"
      ]
     },
     "execution_count": 9,
     "metadata": {},
     "output_type": "execute_result"
    }
   ],
   "source": [
    "bio_druids.sample()"
   ]
  },
  {
   "cell_type": "code",
   "execution_count": 10,
   "metadata": {},
   "outputs": [],
   "source": [
    "druid_603 = etds_path/'sh172dm7469.txt'"
   ]
  },
  {
   "cell_type": "code",
   "execution_count": 16,
   "metadata": {},
   "outputs": [],
   "source": [
    "bio_fast = pd.read_csv(\"../biology-etds/data/fast-bio.csv\")"
   ]
  },
  {
   "cell_type": "code",
   "execution_count": 17,
   "metadata": {},
   "outputs": [
    {
     "data": {
      "text/html": [
       "<div>\n",
       "<style scoped>\n",
       "    .dataframe tbody tr th:only-of-type {\n",
       "        vertical-align: middle;\n",
       "    }\n",
       "\n",
       "    .dataframe tbody tr th {\n",
       "        vertical-align: top;\n",
       "    }\n",
       "\n",
       "    .dataframe thead th {\n",
       "        text-align: right;\n",
       "    }\n",
       "</style>\n",
       "<table border=\"1\" class=\"dataframe\">\n",
       "  <thead>\n",
       "    <tr style=\"text-align: right;\">\n",
       "      <th></th>\n",
       "      <th>id</th>\n",
       "      <th>URI</th>\n",
       "      <th>Label</th>\n",
       "    </tr>\n",
       "  </thead>\n",
       "  <tbody>\n",
       "    <tr>\n",
       "      <th>1788</th>\n",
       "      <td>1788</td>\n",
       "      <td>http://id.worldcat.org/fast/235269</td>\n",
       "      <td>Amici, Giovanni Battista, 1786-1863</td>\n",
       "    </tr>\n",
       "    <tr>\n",
       "      <th>1789</th>\n",
       "      <td>1789</td>\n",
       "      <td>http://id.worldcat.org/fast/185500</td>\n",
       "      <td>Clark, William Andrews, 1877-1934</td>\n",
       "    </tr>\n",
       "    <tr>\n",
       "      <th>1790</th>\n",
       "      <td>1790</td>\n",
       "      <td>http://id.worldcat.org/fast/675822</td>\n",
       "      <td>Nationaal Natuurhistorisch Museum (Netherlands)</td>\n",
       "    </tr>\n",
       "    <tr>\n",
       "      <th>1791</th>\n",
       "      <td>1791</td>\n",
       "      <td>http://id.worldcat.org/fast/444817</td>\n",
       "      <td>Menzies, Archibald, 1754-1842</td>\n",
       "    </tr>\n",
       "    <tr>\n",
       "      <th>1792</th>\n",
       "      <td>1792</td>\n",
       "      <td>http://id.worldcat.org/fast/43064</td>\n",
       "      <td>Linné, Carl von, 1707-1778</td>\n",
       "    </tr>\n",
       "  </tbody>\n",
       "</table>\n",
       "</div>"
      ],
      "text/plain": [
       "        id                                 URI  \\\n",
       "1788  1788  http://id.worldcat.org/fast/235269   \n",
       "1789  1789  http://id.worldcat.org/fast/185500   \n",
       "1790  1790  http://id.worldcat.org/fast/675822   \n",
       "1791  1791  http://id.worldcat.org/fast/444817   \n",
       "1792  1792   http://id.worldcat.org/fast/43064   \n",
       "\n",
       "                                                Label  \n",
       "1788              Amici, Giovanni Battista, 1786-1863  \n",
       "1789                Clark, William Andrews, 1877-1934  \n",
       "1790  Nationaal Natuurhistorisch Museum (Netherlands)  \n",
       "1791                    Menzies, Archibald, 1754-1842  \n",
       "1792                       Linné, Carl von, 1707-1778  "
      ]
     },
     "execution_count": 17,
     "metadata": {},
     "output_type": "execute_result"
    }
   ],
   "source": [
    "bio_fast.tail()"
   ]
  },
  {
   "cell_type": "code",
   "execution_count": 18,
   "metadata": {},
   "outputs": [],
   "source": [
    "def batch(full_text: str) -> list:\n",
    "    batches = []\n",
    "    for i in range(0, len(full_text), 512):\n",
    "        batches.append(full_text[i:i+512])\n",
    "    return batches"
   ]
  },
  {
   "cell_type": "code",
   "execution_count": 19,
   "metadata": {},
   "outputs": [],
   "source": [
    "druid_603_batches = batch(druid_603.read_text())"
   ]
  },
  {
   "cell_type": "code",
   "execution_count": 20,
   "metadata": {},
   "outputs": [
    {
     "data": {
      "text/plain": [
       "342"
      ]
     },
     "execution_count": 20,
     "metadata": {},
     "output_type": "execute_result"
    }
   ],
   "source": [
    "len(druid_603_batches)"
   ]
  },
  {
   "cell_type": "code",
   "execution_count": 33,
   "metadata": {},
   "outputs": [],
   "source": [
    "druid_603_data = []\n",
    "zeros = list(np.zeros(1793))\n",
    "for row in druid_603_batches:\n",
    "    record = ['sh172dm7469', row]\n",
    "    record.extend(zeros)\n",
    "    druid_603_data.append(record)\n",
    "    "
   ]
  },
  {
   "cell_type": "code",
   "execution_count": 59,
   "metadata": {},
   "outputs": [],
   "source": [
    "column_names = ['druid', 'text']\n",
    "column_names.extend(list(bio_fast['URI']))\n",
    "druid_603_df = pd.DataFrame(druid_603_data, columns=column_names)"
   ]
  },
  {
   "cell_type": "code",
   "execution_count": 60,
   "metadata": {},
   "outputs": [],
   "source": [
    "druid_603_label_cols = list(druid_603_df.columns[2:])"
   ]
  },
  {
   "cell_type": "code",
   "execution_count": 61,
   "metadata": {},
   "outputs": [],
   "source": [
    "druid_603_df['one_hot_labels'] = list(druid_603_df[druid_603_label_cols].values)"
   ]
  },
  {
   "cell_type": "code",
   "execution_count": 62,
   "metadata": {},
   "outputs": [
    {
     "data": {
      "text/html": [
       "<div>\n",
       "<style scoped>\n",
       "    .dataframe tbody tr th:only-of-type {\n",
       "        vertical-align: middle;\n",
       "    }\n",
       "\n",
       "    .dataframe tbody tr th {\n",
       "        vertical-align: top;\n",
       "    }\n",
       "\n",
       "    .dataframe thead th {\n",
       "        text-align: right;\n",
       "    }\n",
       "</style>\n",
       "<table border=\"1\" class=\"dataframe\">\n",
       "  <thead>\n",
       "    <tr style=\"text-align: right;\">\n",
       "      <th></th>\n",
       "      <th>druid</th>\n",
       "      <th>text</th>\n",
       "      <th>http://id.worldcat.org/fast/870268</th>\n",
       "      <th>http://id.worldcat.org/fast/894932</th>\n",
       "      <th>http://id.worldcat.org/fast/917265</th>\n",
       "      <th>http://id.worldcat.org/fast/887377</th>\n",
       "      <th>http://id.worldcat.org/fast/897386</th>\n",
       "      <th>http://id.worldcat.org/fast/1204623</th>\n",
       "      <th>http://id.worldcat.org/fast/1205427</th>\n",
       "      <th>http://id.worldcat.org/fast/1065823</th>\n",
       "      <th>...</th>\n",
       "      <th>http://id.worldcat.org/fast/179858</th>\n",
       "      <th>http://id.worldcat.org/fast/434309</th>\n",
       "      <th>http://id.worldcat.org/fast/1423826</th>\n",
       "      <th>http://id.worldcat.org/fast/1423871</th>\n",
       "      <th>http://id.worldcat.org/fast/235269</th>\n",
       "      <th>http://id.worldcat.org/fast/185500</th>\n",
       "      <th>http://id.worldcat.org/fast/675822</th>\n",
       "      <th>http://id.worldcat.org/fast/444817</th>\n",
       "      <th>http://id.worldcat.org/fast/43064</th>\n",
       "      <th>one_hot_labels</th>\n",
       "    </tr>\n",
       "  </thead>\n",
       "  <tbody>\n",
       "    <tr>\n",
       "      <th>0</th>\n",
       "      <td>sh172dm7469</td>\n",
       "      <td>IDENTIFYING LOCATIONS AND CHARACTERIZING CIS\\n...</td>\n",
       "      <td>0.0</td>\n",
       "      <td>0.0</td>\n",
       "      <td>0.0</td>\n",
       "      <td>0.0</td>\n",
       "      <td>0.0</td>\n",
       "      <td>0.0</td>\n",
       "      <td>0.0</td>\n",
       "      <td>0.0</td>\n",
       "      <td>...</td>\n",
       "      <td>0.0</td>\n",
       "      <td>0.0</td>\n",
       "      <td>0.0</td>\n",
       "      <td>0.0</td>\n",
       "      <td>0.0</td>\n",
       "      <td>0.0</td>\n",
       "      <td>0.0</td>\n",
       "      <td>0.0</td>\n",
       "      <td>0.0</td>\n",
       "      <td>[0.0, 0.0, 0.0, 0.0, 0.0, 0.0, 0.0, 0.0, 0.0, ...</td>\n",
       "    </tr>\n",
       "    <tr>\n",
       "      <th>1</th>\n",
       "      <td>sh172dm7469</td>\n",
       "      <td>University under license with the author.\\n  ...</td>\n",
       "      <td>0.0</td>\n",
       "      <td>0.0</td>\n",
       "      <td>0.0</td>\n",
       "      <td>0.0</td>\n",
       "      <td>0.0</td>\n",
       "      <td>0.0</td>\n",
       "      <td>0.0</td>\n",
       "      <td>0.0</td>\n",
       "      <td>...</td>\n",
       "      <td>0.0</td>\n",
       "      <td>0.0</td>\n",
       "      <td>0.0</td>\n",
       "      <td>0.0</td>\n",
       "      <td>0.0</td>\n",
       "      <td>0.0</td>\n",
       "      <td>0.0</td>\n",
       "      <td>0.0</td>\n",
       "      <td>0.0</td>\n",
       "      <td>[0.0, 0.0, 0.0, 0.0, 0.0, 0.0, 0.0, 0.0, 0.0, ...</td>\n",
       "    </tr>\n",
       "    <tr>\n",
       "      <th>2</th>\n",
       "      <td>sh172dm7469</td>\n",
       "      <td>issertation for the degree of Doctor of Philos...</td>\n",
       "      <td>0.0</td>\n",
       "      <td>0.0</td>\n",
       "      <td>0.0</td>\n",
       "      <td>0.0</td>\n",
       "      <td>0.0</td>\n",
       "      <td>0.0</td>\n",
       "      <td>0.0</td>\n",
       "      <td>0.0</td>\n",
       "      <td>...</td>\n",
       "      <td>0.0</td>\n",
       "      <td>0.0</td>\n",
       "      <td>0.0</td>\n",
       "      <td>0.0</td>\n",
       "      <td>0.0</td>\n",
       "      <td>0.0</td>\n",
       "      <td>0.0</td>\n",
       "      <td>0.0</td>\n",
       "      <td>0.0</td>\n",
       "      <td>[0.0, 0.0, 0.0, 0.0, 0.0, 0.0, 0.0, 0.0, 0.0, ...</td>\n",
       "    </tr>\n",
       "    <tr>\n",
       "      <th>3</th>\n",
       "      <td>sh172dm7469</td>\n",
       "      <td>ality as a dissertation for the degree of Doct...</td>\n",
       "      <td>0.0</td>\n",
       "      <td>0.0</td>\n",
       "      <td>0.0</td>\n",
       "      <td>0.0</td>\n",
       "      <td>0.0</td>\n",
       "      <td>0.0</td>\n",
       "      <td>0.0</td>\n",
       "      <td>0.0</td>\n",
       "      <td>...</td>\n",
       "      <td>0.0</td>\n",
       "      <td>0.0</td>\n",
       "      <td>0.0</td>\n",
       "      <td>0.0</td>\n",
       "      <td>0.0</td>\n",
       "      <td>0.0</td>\n",
       "      <td>0.0</td>\n",
       "      <td>0.0</td>\n",
       "      <td>0.0</td>\n",
       "      <td>[0.0, 0.0, 0.0, 0.0, 0.0, 0.0, 0.0, 0.0, 0.0, ...</td>\n",
       "    </tr>\n",
       "    <tr>\n",
       "      <th>4</th>\n",
       "      <td>sh172dm7469</td>\n",
       "      <td>Patricia J. Gumport, Vice Provost for Graduat...</td>\n",
       "      <td>0.0</td>\n",
       "      <td>0.0</td>\n",
       "      <td>0.0</td>\n",
       "      <td>0.0</td>\n",
       "      <td>0.0</td>\n",
       "      <td>0.0</td>\n",
       "      <td>0.0</td>\n",
       "      <td>0.0</td>\n",
       "      <td>...</td>\n",
       "      <td>0.0</td>\n",
       "      <td>0.0</td>\n",
       "      <td>0.0</td>\n",
       "      <td>0.0</td>\n",
       "      <td>0.0</td>\n",
       "      <td>0.0</td>\n",
       "      <td>0.0</td>\n",
       "      <td>0.0</td>\n",
       "      <td>0.0</td>\n",
       "      <td>[0.0, 0.0, 0.0, 0.0, 0.0, 0.0, 0.0, 0.0, 0.0, ...</td>\n",
       "    </tr>\n",
       "  </tbody>\n",
       "</table>\n",
       "<p>5 rows × 1796 columns</p>\n",
       "</div>"
      ],
      "text/plain": [
       "         druid                                               text  \\\n",
       "0  sh172dm7469  IDENTIFYING LOCATIONS AND CHARACTERIZING CIS\\n...   \n",
       "1  sh172dm7469   University under license with the author.\\n  ...   \n",
       "2  sh172dm7469  issertation for the degree of Doctor of Philos...   \n",
       "3  sh172dm7469  ality as a dissertation for the degree of Doct...   \n",
       "4  sh172dm7469   Patricia J. Gumport, Vice Provost for Graduat...   \n",
       "\n",
       "   http://id.worldcat.org/fast/870268  http://id.worldcat.org/fast/894932  \\\n",
       "0                                 0.0                                 0.0   \n",
       "1                                 0.0                                 0.0   \n",
       "2                                 0.0                                 0.0   \n",
       "3                                 0.0                                 0.0   \n",
       "4                                 0.0                                 0.0   \n",
       "\n",
       "   http://id.worldcat.org/fast/917265  http://id.worldcat.org/fast/887377  \\\n",
       "0                                 0.0                                 0.0   \n",
       "1                                 0.0                                 0.0   \n",
       "2                                 0.0                                 0.0   \n",
       "3                                 0.0                                 0.0   \n",
       "4                                 0.0                                 0.0   \n",
       "\n",
       "   http://id.worldcat.org/fast/897386  http://id.worldcat.org/fast/1204623  \\\n",
       "0                                 0.0                                  0.0   \n",
       "1                                 0.0                                  0.0   \n",
       "2                                 0.0                                  0.0   \n",
       "3                                 0.0                                  0.0   \n",
       "4                                 0.0                                  0.0   \n",
       "\n",
       "   http://id.worldcat.org/fast/1205427  http://id.worldcat.org/fast/1065823  \\\n",
       "0                                  0.0                                  0.0   \n",
       "1                                  0.0                                  0.0   \n",
       "2                                  0.0                                  0.0   \n",
       "3                                  0.0                                  0.0   \n",
       "4                                  0.0                                  0.0   \n",
       "\n",
       "   ...  http://id.worldcat.org/fast/179858  \\\n",
       "0  ...                                 0.0   \n",
       "1  ...                                 0.0   \n",
       "2  ...                                 0.0   \n",
       "3  ...                                 0.0   \n",
       "4  ...                                 0.0   \n",
       "\n",
       "   http://id.worldcat.org/fast/434309  http://id.worldcat.org/fast/1423826  \\\n",
       "0                                 0.0                                  0.0   \n",
       "1                                 0.0                                  0.0   \n",
       "2                                 0.0                                  0.0   \n",
       "3                                 0.0                                  0.0   \n",
       "4                                 0.0                                  0.0   \n",
       "\n",
       "   http://id.worldcat.org/fast/1423871  http://id.worldcat.org/fast/235269  \\\n",
       "0                                  0.0                                 0.0   \n",
       "1                                  0.0                                 0.0   \n",
       "2                                  0.0                                 0.0   \n",
       "3                                  0.0                                 0.0   \n",
       "4                                  0.0                                 0.0   \n",
       "\n",
       "   http://id.worldcat.org/fast/185500  http://id.worldcat.org/fast/675822  \\\n",
       "0                                 0.0                                 0.0   \n",
       "1                                 0.0                                 0.0   \n",
       "2                                 0.0                                 0.0   \n",
       "3                                 0.0                                 0.0   \n",
       "4                                 0.0                                 0.0   \n",
       "\n",
       "   http://id.worldcat.org/fast/444817  http://id.worldcat.org/fast/43064  \\\n",
       "0                                 0.0                                0.0   \n",
       "1                                 0.0                                0.0   \n",
       "2                                 0.0                                0.0   \n",
       "3                                 0.0                                0.0   \n",
       "4                                 0.0                                0.0   \n",
       "\n",
       "                                      one_hot_labels  \n",
       "0  [0.0, 0.0, 0.0, 0.0, 0.0, 0.0, 0.0, 0.0, 0.0, ...  \n",
       "1  [0.0, 0.0, 0.0, 0.0, 0.0, 0.0, 0.0, 0.0, 0.0, ...  \n",
       "2  [0.0, 0.0, 0.0, 0.0, 0.0, 0.0, 0.0, 0.0, 0.0, ...  \n",
       "3  [0.0, 0.0, 0.0, 0.0, 0.0, 0.0, 0.0, 0.0, 0.0, ...  \n",
       "4  [0.0, 0.0, 0.0, 0.0, 0.0, 0.0, 0.0, 0.0, 0.0, ...  \n",
       "\n",
       "[5 rows x 1796 columns]"
      ]
     },
     "execution_count": 62,
     "metadata": {},
     "output_type": "execute_result"
    }
   ],
   "source": [
    "druid_603_df.head()"
   ]
  },
  {
   "cell_type": "code",
   "execution_count": 63,
   "metadata": {},
   "outputs": [],
   "source": [
    "druid_603_hot_labels = list(druid_603_df.one_hot_labels.values)\n",
    "druid_603_text = list(druid_603_df.text.values)"
   ]
  },
  {
   "cell_type": "code",
   "execution_count": 65,
   "metadata": {},
   "outputs": [
    {
     "name": "stderr",
     "output_type": "stream",
     "text": [
      "/Users/jpnelson/2020/py3-env/lib/python3.8/site-packages/transformers/tokenization_utils_base.py:1767: FutureWarning: The `pad_to_max_length` argument is deprecated and will be removed in a future version, use `padding=True` or `padding='longest'` to pad to the longest sequence in the batch, or use `padding='max_length'` to pad to a max length. In this case, you can give a specific length with `max_length` (e.g. `max_length=45`) or leave max_length to None to pad to the maximal input size of the model (e.g. 512 for Bert).\n",
      "  warnings.warn(\n"
     ]
    }
   ],
   "source": [
    "druid_603_encodings = tokenizer.batch_encode_plus(druid_603_text, max_length=512, pad_to_max_length=True, truncation=True)"
   ]
  },
  {
   "cell_type": "code",
   "execution_count": 66,
   "metadata": {},
   "outputs": [],
   "source": [
    "druid_603_input_ids = druid_603_encodings['input_ids']\n",
    "druid_603_token_type_ids = druid_603_encodings['token_type_ids']\n",
    "druid_603_attention_masks = druid_603_encodings['attention_mask']"
   ]
  },
  {
   "cell_type": "code",
   "execution_count": 70,
   "metadata": {},
   "outputs": [],
   "source": [
    "druid_603_inputs = torch.tensor(druid_603_input_ids)\n",
    "druid_603_labels = torch.tensor(druid_603_hot_labels)\n",
    "druid_603_masks = torch.tensor(druid_603_attention_masks)\n",
    "druid_603_token_types = torch.tensor(druid_603_token_type_ids)\n",
    "\n",
    "druid_603_data = TensorDataset(druid_603_inputs, druid_603_masks, druid_603_labels, druid_603_token_types)\n",
    "druid_603_sampler = SequentialSampler(druid_603_data)\n",
    "druid_603_dataloader = DataLoader(druid_603_data, sampler=druid_603_sampler, batch_size=8)"
   ]
  },
  {
   "cell_type": "code",
   "execution_count": 75,
   "metadata": {},
   "outputs": [
    {
     "name": "stdout",
     "output_type": "stream",
     "text": [
      "Started evaluation at 2020-10-28 22:54:55.765087\n"
     ]
    },
    {
     "ename": "KeyboardInterrupt",
     "evalue": "",
     "output_type": "error",
     "traceback": [
      "\u001b[0;31m---------------------------------------------------------------------------\u001b[0m",
      "\u001b[0;31mKeyboardInterrupt\u001b[0m                         Traceback (most recent call last)",
      "\u001b[0;32m<ipython-input-75-a6e09cc7836c>\u001b[0m in \u001b[0;36m<module>\u001b[0;34m\u001b[0m\n\u001b[1;32m      8\u001b[0m     \u001b[0mb_input_ids\u001b[0m\u001b[0;34m,\u001b[0m \u001b[0mb_input_mask\u001b[0m\u001b[0;34m,\u001b[0m \u001b[0mb_labels\u001b[0m\u001b[0;34m,\u001b[0m \u001b[0mb_token_types\u001b[0m \u001b[0;34m=\u001b[0m \u001b[0mbatch\u001b[0m\u001b[0;34m\u001b[0m\u001b[0;34m\u001b[0m\u001b[0m\n\u001b[1;32m      9\u001b[0m     \u001b[0;32mwhile\u001b[0m \u001b[0mtorch\u001b[0m\u001b[0;34m.\u001b[0m\u001b[0mno_grad\u001b[0m\u001b[0;34m(\u001b[0m\u001b[0;34m)\u001b[0m\u001b[0;34m:\u001b[0m\u001b[0;34m\u001b[0m\u001b[0;34m\u001b[0m\u001b[0m\n\u001b[0;32m---> 10\u001b[0;31m         \u001b[0mouts\u001b[0m \u001b[0;34m=\u001b[0m \u001b[0mmodel\u001b[0m\u001b[0;34m(\u001b[0m\u001b[0mb_input_ids\u001b[0m\u001b[0;34m,\u001b[0m \u001b[0mtoken_type_ids\u001b[0m\u001b[0;34m=\u001b[0m\u001b[0;32mNone\u001b[0m\u001b[0;34m,\u001b[0m \u001b[0mattention_mask\u001b[0m\u001b[0;34m=\u001b[0m\u001b[0mb_input_mask\u001b[0m\u001b[0;34m)\u001b[0m\u001b[0;34m\u001b[0m\u001b[0;34m\u001b[0m\u001b[0m\n\u001b[0m\u001b[1;32m     11\u001b[0m         \u001b[0mb_logit_pred\u001b[0m \u001b[0;34m=\u001b[0m \u001b[0mouts\u001b[0m\u001b[0;34m[\u001b[0m\u001b[0;36m0\u001b[0m\u001b[0;34m]\u001b[0m\u001b[0;34m\u001b[0m\u001b[0;34m\u001b[0m\u001b[0m\n\u001b[1;32m     12\u001b[0m         \u001b[0mpred_label\u001b[0m \u001b[0;34m=\u001b[0m \u001b[0mtorch\u001b[0m\u001b[0;34m.\u001b[0m\u001b[0msigmoid\u001b[0m\u001b[0;34m(\u001b[0m\u001b[0mb_logit_pred\u001b[0m\u001b[0;34m)\u001b[0m\u001b[0;34m\u001b[0m\u001b[0;34m\u001b[0m\u001b[0m\n",
      "\u001b[0;32m~/2020/py3-env/lib/python3.8/site-packages/torch/nn/modules/module.py\u001b[0m in \u001b[0;36m_call_impl\u001b[0;34m(self, *input, **kwargs)\u001b[0m\n\u001b[1;32m    720\u001b[0m             \u001b[0mresult\u001b[0m \u001b[0;34m=\u001b[0m \u001b[0mself\u001b[0m\u001b[0;34m.\u001b[0m\u001b[0m_slow_forward\u001b[0m\u001b[0;34m(\u001b[0m\u001b[0;34m*\u001b[0m\u001b[0minput\u001b[0m\u001b[0;34m,\u001b[0m \u001b[0;34m**\u001b[0m\u001b[0mkwargs\u001b[0m\u001b[0;34m)\u001b[0m\u001b[0;34m\u001b[0m\u001b[0;34m\u001b[0m\u001b[0m\n\u001b[1;32m    721\u001b[0m         \u001b[0;32melse\u001b[0m\u001b[0;34m:\u001b[0m\u001b[0;34m\u001b[0m\u001b[0;34m\u001b[0m\u001b[0m\n\u001b[0;32m--> 722\u001b[0;31m             \u001b[0mresult\u001b[0m \u001b[0;34m=\u001b[0m \u001b[0mself\u001b[0m\u001b[0;34m.\u001b[0m\u001b[0mforward\u001b[0m\u001b[0;34m(\u001b[0m\u001b[0;34m*\u001b[0m\u001b[0minput\u001b[0m\u001b[0;34m,\u001b[0m \u001b[0;34m**\u001b[0m\u001b[0mkwargs\u001b[0m\u001b[0;34m)\u001b[0m\u001b[0;34m\u001b[0m\u001b[0;34m\u001b[0m\u001b[0m\n\u001b[0m\u001b[1;32m    723\u001b[0m         for hook in itertools.chain(\n\u001b[1;32m    724\u001b[0m                 \u001b[0m_global_forward_hooks\u001b[0m\u001b[0;34m.\u001b[0m\u001b[0mvalues\u001b[0m\u001b[0;34m(\u001b[0m\u001b[0;34m)\u001b[0m\u001b[0;34m,\u001b[0m\u001b[0;34m\u001b[0m\u001b[0;34m\u001b[0m\u001b[0m\n",
      "\u001b[0;32m~/2020/py3-env/lib/python3.8/site-packages/transformers/modeling_bert.py\u001b[0m in \u001b[0;36mforward\u001b[0;34m(self, input_ids, attention_mask, token_type_ids, position_ids, head_mask, inputs_embeds, labels, output_attentions, output_hidden_states, return_dict)\u001b[0m\n\u001b[1;32m   1333\u001b[0m         \u001b[0mreturn_dict\u001b[0m \u001b[0;34m=\u001b[0m \u001b[0mreturn_dict\u001b[0m \u001b[0;32mif\u001b[0m \u001b[0mreturn_dict\u001b[0m \u001b[0;32mis\u001b[0m \u001b[0;32mnot\u001b[0m \u001b[0;32mNone\u001b[0m \u001b[0;32melse\u001b[0m \u001b[0mself\u001b[0m\u001b[0;34m.\u001b[0m\u001b[0mconfig\u001b[0m\u001b[0;34m.\u001b[0m\u001b[0muse_return_dict\u001b[0m\u001b[0;34m\u001b[0m\u001b[0;34m\u001b[0m\u001b[0m\n\u001b[1;32m   1334\u001b[0m \u001b[0;34m\u001b[0m\u001b[0m\n\u001b[0;32m-> 1335\u001b[0;31m         outputs = self.bert(\n\u001b[0m\u001b[1;32m   1336\u001b[0m             \u001b[0minput_ids\u001b[0m\u001b[0;34m,\u001b[0m\u001b[0;34m\u001b[0m\u001b[0;34m\u001b[0m\u001b[0m\n\u001b[1;32m   1337\u001b[0m             \u001b[0mattention_mask\u001b[0m\u001b[0;34m=\u001b[0m\u001b[0mattention_mask\u001b[0m\u001b[0;34m,\u001b[0m\u001b[0;34m\u001b[0m\u001b[0;34m\u001b[0m\u001b[0m\n",
      "\u001b[0;32m~/2020/py3-env/lib/python3.8/site-packages/torch/nn/modules/module.py\u001b[0m in \u001b[0;36m_call_impl\u001b[0;34m(self, *input, **kwargs)\u001b[0m\n\u001b[1;32m    720\u001b[0m             \u001b[0mresult\u001b[0m \u001b[0;34m=\u001b[0m \u001b[0mself\u001b[0m\u001b[0;34m.\u001b[0m\u001b[0m_slow_forward\u001b[0m\u001b[0;34m(\u001b[0m\u001b[0;34m*\u001b[0m\u001b[0minput\u001b[0m\u001b[0;34m,\u001b[0m \u001b[0;34m**\u001b[0m\u001b[0mkwargs\u001b[0m\u001b[0;34m)\u001b[0m\u001b[0;34m\u001b[0m\u001b[0;34m\u001b[0m\u001b[0m\n\u001b[1;32m    721\u001b[0m         \u001b[0;32melse\u001b[0m\u001b[0;34m:\u001b[0m\u001b[0;34m\u001b[0m\u001b[0;34m\u001b[0m\u001b[0m\n\u001b[0;32m--> 722\u001b[0;31m             \u001b[0mresult\u001b[0m \u001b[0;34m=\u001b[0m \u001b[0mself\u001b[0m\u001b[0;34m.\u001b[0m\u001b[0mforward\u001b[0m\u001b[0;34m(\u001b[0m\u001b[0;34m*\u001b[0m\u001b[0minput\u001b[0m\u001b[0;34m,\u001b[0m \u001b[0;34m**\u001b[0m\u001b[0mkwargs\u001b[0m\u001b[0;34m)\u001b[0m\u001b[0;34m\u001b[0m\u001b[0;34m\u001b[0m\u001b[0m\n\u001b[0m\u001b[1;32m    723\u001b[0m         for hook in itertools.chain(\n\u001b[1;32m    724\u001b[0m                 \u001b[0m_global_forward_hooks\u001b[0m\u001b[0;34m.\u001b[0m\u001b[0mvalues\u001b[0m\u001b[0;34m(\u001b[0m\u001b[0;34m)\u001b[0m\u001b[0;34m,\u001b[0m\u001b[0;34m\u001b[0m\u001b[0;34m\u001b[0m\u001b[0m\n",
      "\u001b[0;32m~/2020/py3-env/lib/python3.8/site-packages/transformers/modeling_bert.py\u001b[0m in \u001b[0;36mforward\u001b[0;34m(self, input_ids, attention_mask, token_type_ids, position_ids, head_mask, inputs_embeds, encoder_hidden_states, encoder_attention_mask, output_attentions, output_hidden_states, return_dict)\u001b[0m\n\u001b[1;32m    831\u001b[0m             \u001b[0minput_ids\u001b[0m\u001b[0;34m=\u001b[0m\u001b[0minput_ids\u001b[0m\u001b[0;34m,\u001b[0m \u001b[0mposition_ids\u001b[0m\u001b[0;34m=\u001b[0m\u001b[0mposition_ids\u001b[0m\u001b[0;34m,\u001b[0m \u001b[0mtoken_type_ids\u001b[0m\u001b[0;34m=\u001b[0m\u001b[0mtoken_type_ids\u001b[0m\u001b[0;34m,\u001b[0m \u001b[0minputs_embeds\u001b[0m\u001b[0;34m=\u001b[0m\u001b[0minputs_embeds\u001b[0m\u001b[0;34m\u001b[0m\u001b[0;34m\u001b[0m\u001b[0m\n\u001b[1;32m    832\u001b[0m         )\n\u001b[0;32m--> 833\u001b[0;31m         encoder_outputs = self.encoder(\n\u001b[0m\u001b[1;32m    834\u001b[0m             \u001b[0membedding_output\u001b[0m\u001b[0;34m,\u001b[0m\u001b[0;34m\u001b[0m\u001b[0;34m\u001b[0m\u001b[0m\n\u001b[1;32m    835\u001b[0m             \u001b[0mattention_mask\u001b[0m\u001b[0;34m=\u001b[0m\u001b[0mextended_attention_mask\u001b[0m\u001b[0;34m,\u001b[0m\u001b[0;34m\u001b[0m\u001b[0;34m\u001b[0m\u001b[0m\n",
      "\u001b[0;32m~/2020/py3-env/lib/python3.8/site-packages/torch/nn/modules/module.py\u001b[0m in \u001b[0;36m_call_impl\u001b[0;34m(self, *input, **kwargs)\u001b[0m\n\u001b[1;32m    720\u001b[0m             \u001b[0mresult\u001b[0m \u001b[0;34m=\u001b[0m \u001b[0mself\u001b[0m\u001b[0;34m.\u001b[0m\u001b[0m_slow_forward\u001b[0m\u001b[0;34m(\u001b[0m\u001b[0;34m*\u001b[0m\u001b[0minput\u001b[0m\u001b[0;34m,\u001b[0m \u001b[0;34m**\u001b[0m\u001b[0mkwargs\u001b[0m\u001b[0;34m)\u001b[0m\u001b[0;34m\u001b[0m\u001b[0;34m\u001b[0m\u001b[0m\n\u001b[1;32m    721\u001b[0m         \u001b[0;32melse\u001b[0m\u001b[0;34m:\u001b[0m\u001b[0;34m\u001b[0m\u001b[0;34m\u001b[0m\u001b[0m\n\u001b[0;32m--> 722\u001b[0;31m             \u001b[0mresult\u001b[0m \u001b[0;34m=\u001b[0m \u001b[0mself\u001b[0m\u001b[0;34m.\u001b[0m\u001b[0mforward\u001b[0m\u001b[0;34m(\u001b[0m\u001b[0;34m*\u001b[0m\u001b[0minput\u001b[0m\u001b[0;34m,\u001b[0m \u001b[0;34m**\u001b[0m\u001b[0mkwargs\u001b[0m\u001b[0;34m)\u001b[0m\u001b[0;34m\u001b[0m\u001b[0;34m\u001b[0m\u001b[0m\n\u001b[0m\u001b[1;32m    723\u001b[0m         for hook in itertools.chain(\n\u001b[1;32m    724\u001b[0m                 \u001b[0m_global_forward_hooks\u001b[0m\u001b[0;34m.\u001b[0m\u001b[0mvalues\u001b[0m\u001b[0;34m(\u001b[0m\u001b[0;34m)\u001b[0m\u001b[0;34m,\u001b[0m\u001b[0;34m\u001b[0m\u001b[0;34m\u001b[0m\u001b[0m\n",
      "\u001b[0;32m~/2020/py3-env/lib/python3.8/site-packages/transformers/modeling_bert.py\u001b[0m in \u001b[0;36mforward\u001b[0;34m(self, hidden_states, attention_mask, head_mask, encoder_hidden_states, encoder_attention_mask, output_attentions, output_hidden_states, return_dict)\u001b[0m\n\u001b[1;32m    474\u001b[0m                 )\n\u001b[1;32m    475\u001b[0m             \u001b[0;32melse\u001b[0m\u001b[0;34m:\u001b[0m\u001b[0;34m\u001b[0m\u001b[0;34m\u001b[0m\u001b[0m\n\u001b[0;32m--> 476\u001b[0;31m                 layer_outputs = layer_module(\n\u001b[0m\u001b[1;32m    477\u001b[0m                     \u001b[0mhidden_states\u001b[0m\u001b[0;34m,\u001b[0m\u001b[0;34m\u001b[0m\u001b[0;34m\u001b[0m\u001b[0m\n\u001b[1;32m    478\u001b[0m                     \u001b[0mattention_mask\u001b[0m\u001b[0;34m,\u001b[0m\u001b[0;34m\u001b[0m\u001b[0;34m\u001b[0m\u001b[0m\n",
      "\u001b[0;32m~/2020/py3-env/lib/python3.8/site-packages/torch/nn/modules/module.py\u001b[0m in \u001b[0;36m_call_impl\u001b[0;34m(self, *input, **kwargs)\u001b[0m\n\u001b[1;32m    720\u001b[0m             \u001b[0mresult\u001b[0m \u001b[0;34m=\u001b[0m \u001b[0mself\u001b[0m\u001b[0;34m.\u001b[0m\u001b[0m_slow_forward\u001b[0m\u001b[0;34m(\u001b[0m\u001b[0;34m*\u001b[0m\u001b[0minput\u001b[0m\u001b[0;34m,\u001b[0m \u001b[0;34m**\u001b[0m\u001b[0mkwargs\u001b[0m\u001b[0;34m)\u001b[0m\u001b[0;34m\u001b[0m\u001b[0;34m\u001b[0m\u001b[0m\n\u001b[1;32m    721\u001b[0m         \u001b[0;32melse\u001b[0m\u001b[0;34m:\u001b[0m\u001b[0;34m\u001b[0m\u001b[0;34m\u001b[0m\u001b[0m\n\u001b[0;32m--> 722\u001b[0;31m             \u001b[0mresult\u001b[0m \u001b[0;34m=\u001b[0m \u001b[0mself\u001b[0m\u001b[0;34m.\u001b[0m\u001b[0mforward\u001b[0m\u001b[0;34m(\u001b[0m\u001b[0;34m*\u001b[0m\u001b[0minput\u001b[0m\u001b[0;34m,\u001b[0m \u001b[0;34m**\u001b[0m\u001b[0mkwargs\u001b[0m\u001b[0;34m)\u001b[0m\u001b[0;34m\u001b[0m\u001b[0;34m\u001b[0m\u001b[0m\n\u001b[0m\u001b[1;32m    723\u001b[0m         for hook in itertools.chain(\n\u001b[1;32m    724\u001b[0m                 \u001b[0m_global_forward_hooks\u001b[0m\u001b[0;34m.\u001b[0m\u001b[0mvalues\u001b[0m\u001b[0;34m(\u001b[0m\u001b[0;34m)\u001b[0m\u001b[0;34m,\u001b[0m\u001b[0;34m\u001b[0m\u001b[0;34m\u001b[0m\u001b[0m\n",
      "\u001b[0;32m~/2020/py3-env/lib/python3.8/site-packages/transformers/modeling_bert.py\u001b[0m in \u001b[0;36mforward\u001b[0;34m(self, hidden_states, attention_mask, head_mask, encoder_hidden_states, encoder_attention_mask, output_attentions)\u001b[0m\n\u001b[1;32m    396\u001b[0m         \u001b[0moutput_attentions\u001b[0m\u001b[0;34m=\u001b[0m\u001b[0;32mFalse\u001b[0m\u001b[0;34m,\u001b[0m\u001b[0;34m\u001b[0m\u001b[0;34m\u001b[0m\u001b[0m\n\u001b[1;32m    397\u001b[0m     ):\n\u001b[0;32m--> 398\u001b[0;31m         self_attention_outputs = self.attention(\n\u001b[0m\u001b[1;32m    399\u001b[0m             \u001b[0mhidden_states\u001b[0m\u001b[0;34m,\u001b[0m\u001b[0;34m\u001b[0m\u001b[0;34m\u001b[0m\u001b[0m\n\u001b[1;32m    400\u001b[0m             \u001b[0mattention_mask\u001b[0m\u001b[0;34m,\u001b[0m\u001b[0;34m\u001b[0m\u001b[0;34m\u001b[0m\u001b[0m\n",
      "\u001b[0;32m~/2020/py3-env/lib/python3.8/site-packages/torch/nn/modules/module.py\u001b[0m in \u001b[0;36m_call_impl\u001b[0;34m(self, *input, **kwargs)\u001b[0m\n\u001b[1;32m    720\u001b[0m             \u001b[0mresult\u001b[0m \u001b[0;34m=\u001b[0m \u001b[0mself\u001b[0m\u001b[0;34m.\u001b[0m\u001b[0m_slow_forward\u001b[0m\u001b[0;34m(\u001b[0m\u001b[0;34m*\u001b[0m\u001b[0minput\u001b[0m\u001b[0;34m,\u001b[0m \u001b[0;34m**\u001b[0m\u001b[0mkwargs\u001b[0m\u001b[0;34m)\u001b[0m\u001b[0;34m\u001b[0m\u001b[0;34m\u001b[0m\u001b[0m\n\u001b[1;32m    721\u001b[0m         \u001b[0;32melse\u001b[0m\u001b[0;34m:\u001b[0m\u001b[0;34m\u001b[0m\u001b[0;34m\u001b[0m\u001b[0m\n\u001b[0;32m--> 722\u001b[0;31m             \u001b[0mresult\u001b[0m \u001b[0;34m=\u001b[0m \u001b[0mself\u001b[0m\u001b[0;34m.\u001b[0m\u001b[0mforward\u001b[0m\u001b[0;34m(\u001b[0m\u001b[0;34m*\u001b[0m\u001b[0minput\u001b[0m\u001b[0;34m,\u001b[0m \u001b[0;34m**\u001b[0m\u001b[0mkwargs\u001b[0m\u001b[0;34m)\u001b[0m\u001b[0;34m\u001b[0m\u001b[0;34m\u001b[0m\u001b[0m\n\u001b[0m\u001b[1;32m    723\u001b[0m         for hook in itertools.chain(\n\u001b[1;32m    724\u001b[0m                 \u001b[0m_global_forward_hooks\u001b[0m\u001b[0;34m.\u001b[0m\u001b[0mvalues\u001b[0m\u001b[0;34m(\u001b[0m\u001b[0;34m)\u001b[0m\u001b[0;34m,\u001b[0m\u001b[0;34m\u001b[0m\u001b[0;34m\u001b[0m\u001b[0m\n",
      "\u001b[0;32m~/2020/py3-env/lib/python3.8/site-packages/transformers/modeling_bert.py\u001b[0m in \u001b[0;36mforward\u001b[0;34m(self, hidden_states, attention_mask, head_mask, encoder_hidden_states, encoder_attention_mask, output_attentions)\u001b[0m\n\u001b[1;32m    339\u001b[0m             \u001b[0moutput_attentions\u001b[0m\u001b[0;34m,\u001b[0m\u001b[0;34m\u001b[0m\u001b[0;34m\u001b[0m\u001b[0m\n\u001b[1;32m    340\u001b[0m         )\n\u001b[0;32m--> 341\u001b[0;31m         \u001b[0mattention_output\u001b[0m \u001b[0;34m=\u001b[0m \u001b[0mself\u001b[0m\u001b[0;34m.\u001b[0m\u001b[0moutput\u001b[0m\u001b[0;34m(\u001b[0m\u001b[0mself_outputs\u001b[0m\u001b[0;34m[\u001b[0m\u001b[0;36m0\u001b[0m\u001b[0;34m]\u001b[0m\u001b[0;34m,\u001b[0m \u001b[0mhidden_states\u001b[0m\u001b[0;34m)\u001b[0m\u001b[0;34m\u001b[0m\u001b[0;34m\u001b[0m\u001b[0m\n\u001b[0m\u001b[1;32m    342\u001b[0m         \u001b[0moutputs\u001b[0m \u001b[0;34m=\u001b[0m \u001b[0;34m(\u001b[0m\u001b[0mattention_output\u001b[0m\u001b[0;34m,\u001b[0m\u001b[0;34m)\u001b[0m \u001b[0;34m+\u001b[0m \u001b[0mself_outputs\u001b[0m\u001b[0;34m[\u001b[0m\u001b[0;36m1\u001b[0m\u001b[0;34m:\u001b[0m\u001b[0;34m]\u001b[0m  \u001b[0;31m# add attentions if we output them\u001b[0m\u001b[0;34m\u001b[0m\u001b[0;34m\u001b[0m\u001b[0m\n\u001b[1;32m    343\u001b[0m         \u001b[0;32mreturn\u001b[0m \u001b[0moutputs\u001b[0m\u001b[0;34m\u001b[0m\u001b[0;34m\u001b[0m\u001b[0m\n",
      "\u001b[0;32m~/2020/py3-env/lib/python3.8/site-packages/torch/nn/modules/module.py\u001b[0m in \u001b[0;36m_call_impl\u001b[0;34m(self, *input, **kwargs)\u001b[0m\n\u001b[1;32m    720\u001b[0m             \u001b[0mresult\u001b[0m \u001b[0;34m=\u001b[0m \u001b[0mself\u001b[0m\u001b[0;34m.\u001b[0m\u001b[0m_slow_forward\u001b[0m\u001b[0;34m(\u001b[0m\u001b[0;34m*\u001b[0m\u001b[0minput\u001b[0m\u001b[0;34m,\u001b[0m \u001b[0;34m**\u001b[0m\u001b[0mkwargs\u001b[0m\u001b[0;34m)\u001b[0m\u001b[0;34m\u001b[0m\u001b[0;34m\u001b[0m\u001b[0m\n\u001b[1;32m    721\u001b[0m         \u001b[0;32melse\u001b[0m\u001b[0;34m:\u001b[0m\u001b[0;34m\u001b[0m\u001b[0;34m\u001b[0m\u001b[0m\n\u001b[0;32m--> 722\u001b[0;31m             \u001b[0mresult\u001b[0m \u001b[0;34m=\u001b[0m \u001b[0mself\u001b[0m\u001b[0;34m.\u001b[0m\u001b[0mforward\u001b[0m\u001b[0;34m(\u001b[0m\u001b[0;34m*\u001b[0m\u001b[0minput\u001b[0m\u001b[0;34m,\u001b[0m \u001b[0;34m**\u001b[0m\u001b[0mkwargs\u001b[0m\u001b[0;34m)\u001b[0m\u001b[0;34m\u001b[0m\u001b[0;34m\u001b[0m\u001b[0m\n\u001b[0m\u001b[1;32m    723\u001b[0m         for hook in itertools.chain(\n\u001b[1;32m    724\u001b[0m                 \u001b[0m_global_forward_hooks\u001b[0m\u001b[0;34m.\u001b[0m\u001b[0mvalues\u001b[0m\u001b[0;34m(\u001b[0m\u001b[0;34m)\u001b[0m\u001b[0;34m,\u001b[0m\u001b[0;34m\u001b[0m\u001b[0;34m\u001b[0m\u001b[0m\n",
      "\u001b[0;32m~/2020/py3-env/lib/python3.8/site-packages/transformers/modeling_bert.py\u001b[0m in \u001b[0;36mforward\u001b[0;34m(self, hidden_states, input_tensor)\u001b[0m\n\u001b[1;32m    291\u001b[0m \u001b[0;34m\u001b[0m\u001b[0m\n\u001b[1;32m    292\u001b[0m     \u001b[0;32mdef\u001b[0m \u001b[0mforward\u001b[0m\u001b[0;34m(\u001b[0m\u001b[0mself\u001b[0m\u001b[0;34m,\u001b[0m \u001b[0mhidden_states\u001b[0m\u001b[0;34m,\u001b[0m \u001b[0minput_tensor\u001b[0m\u001b[0;34m)\u001b[0m\u001b[0;34m:\u001b[0m\u001b[0;34m\u001b[0m\u001b[0;34m\u001b[0m\u001b[0m\n\u001b[0;32m--> 293\u001b[0;31m         \u001b[0mhidden_states\u001b[0m \u001b[0;34m=\u001b[0m \u001b[0mself\u001b[0m\u001b[0;34m.\u001b[0m\u001b[0mdense\u001b[0m\u001b[0;34m(\u001b[0m\u001b[0mhidden_states\u001b[0m\u001b[0;34m)\u001b[0m\u001b[0;34m\u001b[0m\u001b[0;34m\u001b[0m\u001b[0m\n\u001b[0m\u001b[1;32m    294\u001b[0m         \u001b[0mhidden_states\u001b[0m \u001b[0;34m=\u001b[0m \u001b[0mself\u001b[0m\u001b[0;34m.\u001b[0m\u001b[0mdropout\u001b[0m\u001b[0;34m(\u001b[0m\u001b[0mhidden_states\u001b[0m\u001b[0;34m)\u001b[0m\u001b[0;34m\u001b[0m\u001b[0;34m\u001b[0m\u001b[0m\n\u001b[1;32m    295\u001b[0m         \u001b[0mhidden_states\u001b[0m \u001b[0;34m=\u001b[0m \u001b[0mself\u001b[0m\u001b[0;34m.\u001b[0m\u001b[0mLayerNorm\u001b[0m\u001b[0;34m(\u001b[0m\u001b[0mhidden_states\u001b[0m \u001b[0;34m+\u001b[0m \u001b[0minput_tensor\u001b[0m\u001b[0;34m)\u001b[0m\u001b[0;34m\u001b[0m\u001b[0;34m\u001b[0m\u001b[0m\n",
      "\u001b[0;32m~/2020/py3-env/lib/python3.8/site-packages/torch/nn/modules/module.py\u001b[0m in \u001b[0;36m_call_impl\u001b[0;34m(self, *input, **kwargs)\u001b[0m\n\u001b[1;32m    720\u001b[0m             \u001b[0mresult\u001b[0m \u001b[0;34m=\u001b[0m \u001b[0mself\u001b[0m\u001b[0;34m.\u001b[0m\u001b[0m_slow_forward\u001b[0m\u001b[0;34m(\u001b[0m\u001b[0;34m*\u001b[0m\u001b[0minput\u001b[0m\u001b[0;34m,\u001b[0m \u001b[0;34m**\u001b[0m\u001b[0mkwargs\u001b[0m\u001b[0;34m)\u001b[0m\u001b[0;34m\u001b[0m\u001b[0;34m\u001b[0m\u001b[0m\n\u001b[1;32m    721\u001b[0m         \u001b[0;32melse\u001b[0m\u001b[0;34m:\u001b[0m\u001b[0;34m\u001b[0m\u001b[0;34m\u001b[0m\u001b[0m\n\u001b[0;32m--> 722\u001b[0;31m             \u001b[0mresult\u001b[0m \u001b[0;34m=\u001b[0m \u001b[0mself\u001b[0m\u001b[0;34m.\u001b[0m\u001b[0mforward\u001b[0m\u001b[0;34m(\u001b[0m\u001b[0;34m*\u001b[0m\u001b[0minput\u001b[0m\u001b[0;34m,\u001b[0m \u001b[0;34m**\u001b[0m\u001b[0mkwargs\u001b[0m\u001b[0;34m)\u001b[0m\u001b[0;34m\u001b[0m\u001b[0;34m\u001b[0m\u001b[0m\n\u001b[0m\u001b[1;32m    723\u001b[0m         for hook in itertools.chain(\n\u001b[1;32m    724\u001b[0m                 \u001b[0m_global_forward_hooks\u001b[0m\u001b[0;34m.\u001b[0m\u001b[0mvalues\u001b[0m\u001b[0;34m(\u001b[0m\u001b[0;34m)\u001b[0m\u001b[0;34m,\u001b[0m\u001b[0;34m\u001b[0m\u001b[0;34m\u001b[0m\u001b[0m\n",
      "\u001b[0;32m~/2020/py3-env/lib/python3.8/site-packages/torch/nn/modules/linear.py\u001b[0m in \u001b[0;36mforward\u001b[0;34m(self, input)\u001b[0m\n\u001b[1;32m     89\u001b[0m \u001b[0;34m\u001b[0m\u001b[0m\n\u001b[1;32m     90\u001b[0m     \u001b[0;32mdef\u001b[0m \u001b[0mforward\u001b[0m\u001b[0;34m(\u001b[0m\u001b[0mself\u001b[0m\u001b[0;34m,\u001b[0m \u001b[0minput\u001b[0m\u001b[0;34m:\u001b[0m \u001b[0mTensor\u001b[0m\u001b[0;34m)\u001b[0m \u001b[0;34m->\u001b[0m \u001b[0mTensor\u001b[0m\u001b[0;34m:\u001b[0m\u001b[0;34m\u001b[0m\u001b[0;34m\u001b[0m\u001b[0m\n\u001b[0;32m---> 91\u001b[0;31m         \u001b[0;32mreturn\u001b[0m \u001b[0mF\u001b[0m\u001b[0;34m.\u001b[0m\u001b[0mlinear\u001b[0m\u001b[0;34m(\u001b[0m\u001b[0minput\u001b[0m\u001b[0;34m,\u001b[0m \u001b[0mself\u001b[0m\u001b[0;34m.\u001b[0m\u001b[0mweight\u001b[0m\u001b[0;34m,\u001b[0m \u001b[0mself\u001b[0m\u001b[0;34m.\u001b[0m\u001b[0mbias\u001b[0m\u001b[0;34m)\u001b[0m\u001b[0;34m\u001b[0m\u001b[0;34m\u001b[0m\u001b[0m\n\u001b[0m\u001b[1;32m     92\u001b[0m \u001b[0;34m\u001b[0m\u001b[0m\n\u001b[1;32m     93\u001b[0m     \u001b[0;32mdef\u001b[0m \u001b[0mextra_repr\u001b[0m\u001b[0;34m(\u001b[0m\u001b[0mself\u001b[0m\u001b[0;34m)\u001b[0m \u001b[0;34m->\u001b[0m \u001b[0mstr\u001b[0m\u001b[0;34m:\u001b[0m\u001b[0;34m\u001b[0m\u001b[0;34m\u001b[0m\u001b[0m\n",
      "\u001b[0;32m~/2020/py3-env/lib/python3.8/site-packages/torch/nn/functional.py\u001b[0m in \u001b[0;36mlinear\u001b[0;34m(input, weight, bias)\u001b[0m\n\u001b[1;32m   1674\u001b[0m         \u001b[0mret\u001b[0m \u001b[0;34m=\u001b[0m \u001b[0mtorch\u001b[0m\u001b[0;34m.\u001b[0m\u001b[0maddmm\u001b[0m\u001b[0;34m(\u001b[0m\u001b[0mbias\u001b[0m\u001b[0;34m,\u001b[0m \u001b[0minput\u001b[0m\u001b[0;34m,\u001b[0m \u001b[0mweight\u001b[0m\u001b[0;34m.\u001b[0m\u001b[0mt\u001b[0m\u001b[0;34m(\u001b[0m\u001b[0;34m)\u001b[0m\u001b[0;34m)\u001b[0m\u001b[0;34m\u001b[0m\u001b[0;34m\u001b[0m\u001b[0m\n\u001b[1;32m   1675\u001b[0m     \u001b[0;32melse\u001b[0m\u001b[0;34m:\u001b[0m\u001b[0;34m\u001b[0m\u001b[0;34m\u001b[0m\u001b[0m\n\u001b[0;32m-> 1676\u001b[0;31m         \u001b[0moutput\u001b[0m \u001b[0;34m=\u001b[0m \u001b[0minput\u001b[0m\u001b[0;34m.\u001b[0m\u001b[0mmatmul\u001b[0m\u001b[0;34m(\u001b[0m\u001b[0mweight\u001b[0m\u001b[0;34m.\u001b[0m\u001b[0mt\u001b[0m\u001b[0;34m(\u001b[0m\u001b[0;34m)\u001b[0m\u001b[0;34m)\u001b[0m\u001b[0;34m\u001b[0m\u001b[0;34m\u001b[0m\u001b[0m\n\u001b[0m\u001b[1;32m   1677\u001b[0m         \u001b[0;32mif\u001b[0m \u001b[0mbias\u001b[0m \u001b[0;32mis\u001b[0m \u001b[0;32mnot\u001b[0m \u001b[0;32mNone\u001b[0m\u001b[0;34m:\u001b[0m\u001b[0;34m\u001b[0m\u001b[0;34m\u001b[0m\u001b[0m\n\u001b[1;32m   1678\u001b[0m             \u001b[0moutput\u001b[0m \u001b[0;34m+=\u001b[0m \u001b[0mbias\u001b[0m\u001b[0;34m\u001b[0m\u001b[0;34m\u001b[0m\u001b[0m\n",
      "\u001b[0;31mKeyboardInterrupt\u001b[0m: "
     ]
    }
   ],
   "source": [
    "device = torch.device(\"cuda\" if torch.cuda.is_available() else \"cpu\")\n",
    "start = datetime.datetime.utcnow()\n",
    "print(f\"Started evaluation at {start}\")\n",
    "model.eval()\n",
    "logit_preds,true_labels,pred_labels,tokenized_texts = [],[],[],[]\n",
    "for i, batch in enumerate(druid_603_dataloader):\n",
    "    batch = tuple(t.to(device) for t in batch)\n",
    "    b_input_ids, b_input_mask, b_labels, b_token_types = batch\n",
    "    while torch.no_grad():\n",
    "        outs = model(b_input_ids, token_type_ids=None, attention_mask=b_input_mask)\n",
    "        b_logit_pred = outs[0]\n",
    "        pred_label = torch.sigmoid(b_logit_pred)\n",
    "\n",
    "        b_logit_pred = b_logit_pred.detach().cpu().numpy()\n",
    "        pred_label = pred_label.to('cpu').detach().numpy()\n",
    "#         b_labels = b_labels.to('cpu').detach().numpy()\n",
    "    tokenized_texts.append(b_input_ids)\n",
    "    logit_preds.append(b_logit_pred)\n",
    "    true_labels.append(b_labels)\n",
    "    pred_labels.append(pred_label)\n",
    "    batch_date = datetime.datetime.utcnow()\n",
    "    print(f\"{i} finished at {batch_date}, time elapsed {(batch_data-start).seconds / 60.}\")\n",
    "# Flatten outputs\n",
    "tokenized_texts = [item for sublist in tokenized_texts for item in sublist]\n",
    "pred_labels = [item for sublist in pred_labels for item in sublist]\n",
    "true_labels = [item for sublist in true_labels for item in sublist]\n",
    "# Converting flattened binary values to boolean values\n",
    "true_bools = [tl==1 for tl in true_labels]\n",
    "end = datetime.datetime.utcnow()\n",
    "print(f\"Finished Evaluation at {end}, elapsed time {(end-start).seconds / 60.}\")"
   ]
  },
  {
   "cell_type": "code",
   "execution_count": 84,
   "metadata": {},
   "outputs": [],
   "source": [
    "import re\n",
    "special_char_re = re.compile(r'[^a-zA-Z]')\n",
    "from nltk.corpus import stopwords\n",
    "\n",
    "stop_words_list = stopwords.words('english')\n",
    "def cleanup(term: str) -> str:\n",
    "    cleaned = []\n",
    "    for char in term.split():\n",
    "        cleaned_char = special_char_re.sub(' ', char).lower()\n",
    "        if cleaned_char in stop_words_list:\n",
    "            continue\n",
    "        cleaned.append(cleaned_char)\n",
    "    return ' '.join(cleaned)"
   ]
  },
  {
   "cell_type": "code",
   "execution_count": 77,
   "metadata": {},
   "outputs": [],
   "source": [
    "chron_df = pd.read_csv(\"data/chron_uri_label_utf8.csv\", names=[\"URI\", \"Label\"])"
   ]
  },
  {
   "cell_type": "code",
   "execution_count": 85,
   "metadata": {},
   "outputs": [],
   "source": [
    "chron_df['clean'] = chron_df['Label'].apply(cleanup)"
   ]
  },
  {
   "cell_type": "code",
   "execution_count": 86,
   "metadata": {},
   "outputs": [
    {
     "data": {
      "text/html": [
       "<div>\n",
       "<style scoped>\n",
       "    .dataframe tbody tr th:only-of-type {\n",
       "        vertical-align: middle;\n",
       "    }\n",
       "\n",
       "    .dataframe tbody tr th {\n",
       "        vertical-align: top;\n",
       "    }\n",
       "\n",
       "    .dataframe thead th {\n",
       "        text-align: right;\n",
       "    }\n",
       "</style>\n",
       "<table border=\"1\" class=\"dataframe\">\n",
       "  <thead>\n",
       "    <tr style=\"text-align: right;\">\n",
       "      <th></th>\n",
       "      <th>URI</th>\n",
       "      <th>Label</th>\n",
       "      <th>clean</th>\n",
       "    </tr>\n",
       "  </thead>\n",
       "  <tbody>\n",
       "    <tr>\n",
       "      <th>0</th>\n",
       "      <td>http://id.worldcat.org/fast/1356000</td>\n",
       "      <td>963-969</td>\n",
       "      <td></td>\n",
       "    </tr>\n",
       "    <tr>\n",
       "      <th>1</th>\n",
       "      <td>http://id.worldcat.org/fast/1355997</td>\n",
       "      <td>960-1386</td>\n",
       "      <td></td>\n",
       "    </tr>\n",
       "    <tr>\n",
       "      <th>2</th>\n",
       "      <td>http://id.worldcat.org/fast/1355744</td>\n",
       "      <td>1773-1796</td>\n",
       "      <td></td>\n",
       "    </tr>\n",
       "    <tr>\n",
       "      <th>3</th>\n",
       "      <td>http://id.worldcat.org/fast/1355919</td>\n",
       "      <td>37-41</td>\n",
       "      <td></td>\n",
       "    </tr>\n",
       "    <tr>\n",
       "      <th>4</th>\n",
       "      <td>http://id.worldcat.org/fast/1355499</td>\n",
       "      <td>1371-1707</td>\n",
       "      <td></td>\n",
       "    </tr>\n",
       "  </tbody>\n",
       "</table>\n",
       "</div>"
      ],
      "text/plain": [
       "                                   URI      Label      clean\n",
       "0  http://id.worldcat.org/fast/1356000    963-969           \n",
       "1  http://id.worldcat.org/fast/1355997   960-1386           \n",
       "2  http://id.worldcat.org/fast/1355744  1773-1796           \n",
       "3  http://id.worldcat.org/fast/1355919      37-41           \n",
       "4  http://id.worldcat.org/fast/1355499  1371-1707           "
      ]
     },
     "execution_count": 86,
     "metadata": {},
     "output_type": "execute_result"
    }
   ],
   "source": [
    "chron_df.head()"
   ]
  },
  {
   "cell_type": "code",
   "execution_count": 87,
   "metadata": {},
   "outputs": [],
   "source": [
    "topics_df = pd.read_csv(\"data/topic_uri_label_utf8.csv\", names=[\"URI\", \"Label\"])\n",
    "topics_df[\"cleaned\"] = topics_df[\"Label\"].apply(cleanup)"
   ]
  },
  {
   "cell_type": "code",
   "execution_count": 89,
   "metadata": {},
   "outputs": [
    {
     "data": {
      "text/html": [
       "<div>\n",
       "<style scoped>\n",
       "    .dataframe tbody tr th:only-of-type {\n",
       "        vertical-align: middle;\n",
       "    }\n",
       "\n",
       "    .dataframe tbody tr th {\n",
       "        vertical-align: top;\n",
       "    }\n",
       "\n",
       "    .dataframe thead th {\n",
       "        text-align: right;\n",
       "    }\n",
       "</style>\n",
       "<table border=\"1\" class=\"dataframe\">\n",
       "  <thead>\n",
       "    <tr style=\"text-align: right;\">\n",
       "      <th></th>\n",
       "      <th>URI</th>\n",
       "      <th>Label</th>\n",
       "      <th>cleaned</th>\n",
       "    </tr>\n",
       "  </thead>\n",
       "  <tbody>\n",
       "    <tr>\n",
       "      <th>0</th>\n",
       "      <td>http://id.worldcat.org/fast/799409</td>\n",
       "      <td>African American teenagers--Education</td>\n",
       "      <td>african american teenagers  education</td>\n",
       "    </tr>\n",
       "    <tr>\n",
       "      <th>1</th>\n",
       "      <td>http://id.worldcat.org/fast/912703</td>\n",
       "      <td>Enthusiasm--Religious aspects--Christianity</td>\n",
       "      <td>enthusiasm  religious aspects  christianity</td>\n",
       "    </tr>\n",
       "    <tr>\n",
       "      <th>2</th>\n",
       "      <td>http://id.worldcat.org/fast/966912</td>\n",
       "      <td>Identity (Psychology) in old age</td>\n",
       "      <td>identity  psychology  old age</td>\n",
       "    </tr>\n",
       "    <tr>\n",
       "      <th>3</th>\n",
       "      <td>http://id.worldcat.org/fast/817698</td>\n",
       "      <td>Artists' studios</td>\n",
       "      <td>artists  studios</td>\n",
       "    </tr>\n",
       "    <tr>\n",
       "      <th>4</th>\n",
       "      <td>http://id.worldcat.org/fast/833340</td>\n",
       "      <td>Bisexual women--Health and hygiene</td>\n",
       "      <td>bisexual women  health hygiene</td>\n",
       "    </tr>\n",
       "  </tbody>\n",
       "</table>\n",
       "</div>"
      ],
      "text/plain": [
       "                                  URI  \\\n",
       "0  http://id.worldcat.org/fast/799409   \n",
       "1  http://id.worldcat.org/fast/912703   \n",
       "2  http://id.worldcat.org/fast/966912   \n",
       "3  http://id.worldcat.org/fast/817698   \n",
       "4  http://id.worldcat.org/fast/833340   \n",
       "\n",
       "                                         Label  \\\n",
       "0        African American teenagers--Education   \n",
       "1  Enthusiasm--Religious aspects--Christianity   \n",
       "2             Identity (Psychology) in old age   \n",
       "3                             Artists' studios   \n",
       "4           Bisexual women--Health and hygiene   \n",
       "\n",
       "                                       cleaned  \n",
       "0        african american teenagers  education  \n",
       "1  enthusiasm  religious aspects  christianity  \n",
       "2                identity  psychology  old age  \n",
       "3                             artists  studios  \n",
       "4               bisexual women  health hygiene  "
      ]
     },
     "execution_count": 89,
     "metadata": {},
     "output_type": "execute_result"
    }
   ],
   "source": [
    "topics_df.head()"
   ]
  },
  {
   "cell_type": "code",
   "execution_count": 90,
   "metadata": {},
   "outputs": [],
   "source": [
    "geo_df = pd.read_csv(\"data/geo_uri_label_utf8.csv\", names=[\"URI\", \"Label\"])\n",
    "geo_df[\"cleaned\"] = geo_df[\"Label\"].apply(cleanup)"
   ]
  },
  {
   "cell_type": "code",
   "execution_count": 91,
   "metadata": {},
   "outputs": [
    {
     "data": {
      "text/html": [
       "<div>\n",
       "<style scoped>\n",
       "    .dataframe tbody tr th:only-of-type {\n",
       "        vertical-align: middle;\n",
       "    }\n",
       "\n",
       "    .dataframe tbody tr th {\n",
       "        vertical-align: top;\n",
       "    }\n",
       "\n",
       "    .dataframe thead th {\n",
       "        text-align: right;\n",
       "    }\n",
       "</style>\n",
       "<table border=\"1\" class=\"dataframe\">\n",
       "  <thead>\n",
       "    <tr style=\"text-align: right;\">\n",
       "      <th></th>\n",
       "      <th>URI</th>\n",
       "      <th>Label</th>\n",
       "      <th>cleaned</th>\n",
       "    </tr>\n",
       "  </thead>\n",
       "  <tbody>\n",
       "    <tr>\n",
       "      <th>0</th>\n",
       "      <td>http://id.worldcat.org/fast/1891285</td>\n",
       "      <td>North America--Dalton Trail</td>\n",
       "      <td>north america  dalton trail</td>\n",
       "    </tr>\n",
       "    <tr>\n",
       "      <th>1</th>\n",
       "      <td>http://id.worldcat.org/fast/1896954</td>\n",
       "      <td>Cyprus--Kition (Extinct city)</td>\n",
       "      <td>cyprus  kition  extinct city</td>\n",
       "    </tr>\n",
       "    <tr>\n",
       "      <th>2</th>\n",
       "      <td>http://id.worldcat.org/fast/1207790</td>\n",
       "      <td>Japan--Isen-chō</td>\n",
       "      <td>japan  isen ch</td>\n",
       "    </tr>\n",
       "    <tr>\n",
       "      <th>3</th>\n",
       "      <td>http://id.worldcat.org/fast/1866544</td>\n",
       "      <td>Arizona--South Mountain Freeway</td>\n",
       "      <td>arizona  south mountain freeway</td>\n",
       "    </tr>\n",
       "    <tr>\n",
       "      <th>4</th>\n",
       "      <td>http://id.worldcat.org/fast/1868488</td>\n",
       "      <td>England--Jump</td>\n",
       "      <td>england  jump</td>\n",
       "    </tr>\n",
       "  </tbody>\n",
       "</table>\n",
       "</div>"
      ],
      "text/plain": [
       "                                   URI                            Label  \\\n",
       "0  http://id.worldcat.org/fast/1891285      North America--Dalton Trail   \n",
       "1  http://id.worldcat.org/fast/1896954    Cyprus--Kition (Extinct city)   \n",
       "2  http://id.worldcat.org/fast/1207790                  Japan--Isen-chō   \n",
       "3  http://id.worldcat.org/fast/1866544  Arizona--South Mountain Freeway   \n",
       "4  http://id.worldcat.org/fast/1868488                    England--Jump   \n",
       "\n",
       "                           cleaned  \n",
       "0      north america  dalton trail  \n",
       "1    cyprus  kition  extinct city   \n",
       "2                  japan  isen ch   \n",
       "3  arizona  south mountain freeway  \n",
       "4                    england  jump  "
      ]
     },
     "execution_count": 91,
     "metadata": {},
     "output_type": "execute_result"
    }
   ],
   "source": [
    "geo_df.head()"
   ]
  },
  {
   "cell_type": "code",
   "execution_count": 92,
   "metadata": {},
   "outputs": [],
   "source": [
    "geo_df.to_json(\"/Users/jpnelson/2020/sul-dlss/etd-abstract-similarity/data/fast-geo.json\")"
   ]
  },
  {
   "cell_type": "code",
   "execution_count": 94,
   "metadata": {},
   "outputs": [],
   "source": [
    "topics_df.to_json(\"/Users/jpnelson/2020/sul-dlss/etd-abstract-similarity/data/fast-topics.json\")"
   ]
  },
  {
   "cell_type": "code",
   "execution_count": 95,
   "metadata": {},
   "outputs": [],
   "source": [
    "abstracts = pd.read_pickle(\"/Users/jpnelson/2020/sul-dlss/etd-abstract-similarity/data/abstracts.pkl\")"
   ]
  },
  {
   "cell_type": "code",
   "execution_count": 96,
   "metadata": {},
   "outputs": [
    {
     "data": {
      "text/html": [
       "<div>\n",
       "<style scoped>\n",
       "    .dataframe tbody tr th:only-of-type {\n",
       "        vertical-align: middle;\n",
       "    }\n",
       "\n",
       "    .dataframe tbody tr th {\n",
       "        vertical-align: top;\n",
       "    }\n",
       "\n",
       "    .dataframe thead th {\n",
       "        text-align: right;\n",
       "    }\n",
       "</style>\n",
       "<table border=\"1\" class=\"dataframe\">\n",
       "  <thead>\n",
       "    <tr style=\"text-align: right;\">\n",
       "      <th></th>\n",
       "      <th>druids</th>\n",
       "      <th>abstracts</th>\n",
       "      <th>abstracts_cleaned</th>\n",
       "      <th>departments</th>\n",
       "      <th>title</th>\n",
       "    </tr>\n",
       "  </thead>\n",
       "  <tbody>\n",
       "    <tr>\n",
       "      <th>0</th>\n",
       "      <td>yq942qc7340</td>\n",
       "      <td>Metaverses are virtual worlds where users crea...</td>\n",
       "      <td>metaverses virtual worlds users create entire ...</td>\n",
       "      <td>Department of Computer Science.</td>\n",
       "      <td>Simplification algorithms for large virtual wo...</td>\n",
       "    </tr>\n",
       "    <tr>\n",
       "      <th>1</th>\n",
       "      <td>yx753dx0216</td>\n",
       "      <td>In this dissertation, I use two novel test sco...</td>\n",
       "      <td>dissertation  use two novel test score data se...</td>\n",
       "      <td>Graduate School of Education.</td>\n",
       "      <td>Gender disparities in U.S. educational achieve...</td>\n",
       "    </tr>\n",
       "    <tr>\n",
       "      <th>2</th>\n",
       "      <td>yd874rr2274</td>\n",
       "      <td>A 20-minute documentary film was created to ac...</td>\n",
       "      <td>minute documentary film created accelerate ...</td>\n",
       "      <td>Department of Geological and Environmental Sci...</td>\n",
       "      <td>matched pair, cluster randomized, controlled t...</td>\n",
       "    </tr>\n",
       "    <tr>\n",
       "      <th>3</th>\n",
       "      <td>sh260yn9550</td>\n",
       "      <td>The usage of hydrogen as an alternative energy...</td>\n",
       "      <td>usage hydrogen alternative energy carrier beco...</td>\n",
       "      <td>Department of Bioengineering.</td>\n",
       "      <td>Improving functions of redox proteins for hydr...</td>\n",
       "    </tr>\n",
       "    <tr>\n",
       "      <th>4</th>\n",
       "      <td>nk877ng0918</td>\n",
       "      <td>High-order methods in Computational Fluid Dyna...</td>\n",
       "      <td>high order methods computational fluid dynamic...</td>\n",
       "      <td>Department of Aeronautics and Astronautics.</td>\n",
       "      <td>analysis of stability of the flux reconstructi...</td>\n",
       "    </tr>\n",
       "  </tbody>\n",
       "</table>\n",
       "</div>"
      ],
      "text/plain": [
       "        druids                                          abstracts  \\\n",
       "0  yq942qc7340  Metaverses are virtual worlds where users crea...   \n",
       "1  yx753dx0216  In this dissertation, I use two novel test sco...   \n",
       "2  yd874rr2274  A 20-minute documentary film was created to ac...   \n",
       "3  sh260yn9550  The usage of hydrogen as an alternative energy...   \n",
       "4  nk877ng0918  High-order methods in Computational Fluid Dyna...   \n",
       "\n",
       "                                   abstracts_cleaned  \\\n",
       "0  metaverses virtual worlds users create entire ...   \n",
       "1  dissertation  use two novel test score data se...   \n",
       "2     minute documentary film created accelerate ...   \n",
       "3  usage hydrogen alternative energy carrier beco...   \n",
       "4  high order methods computational fluid dynamic...   \n",
       "\n",
       "                                         departments  \\\n",
       "0                    Department of Computer Science.   \n",
       "1                      Graduate School of Education.   \n",
       "2  Department of Geological and Environmental Sci...   \n",
       "3                      Department of Bioengineering.   \n",
       "4        Department of Aeronautics and Astronautics.   \n",
       "\n",
       "                                               title  \n",
       "0  Simplification algorithms for large virtual wo...  \n",
       "1  Gender disparities in U.S. educational achieve...  \n",
       "2  matched pair, cluster randomized, controlled t...  \n",
       "3  Improving functions of redox proteins for hydr...  \n",
       "4  analysis of stability of the flux reconstructi...  "
      ]
     },
     "execution_count": 96,
     "metadata": {},
     "output_type": "execute_result"
    }
   ],
   "source": [
    "abstracts.head()"
   ]
  },
  {
   "cell_type": "code",
   "execution_count": 97,
   "metadata": {},
   "outputs": [],
   "source": [
    "all_fast_df = geo_df + topics_df "
   ]
  },
  {
   "cell_type": "code",
   "execution_count": 100,
   "metadata": {},
   "outputs": [],
   "source": [
    "all_fast_df = pd.concat([geo_df, topics_df])"
   ]
  },
  {
   "cell_type": "code",
   "execution_count": 101,
   "metadata": {},
   "outputs": [
    {
     "data": {
      "text/html": [
       "<div>\n",
       "<style scoped>\n",
       "    .dataframe tbody tr th:only-of-type {\n",
       "        vertical-align: middle;\n",
       "    }\n",
       "\n",
       "    .dataframe tbody tr th {\n",
       "        vertical-align: top;\n",
       "    }\n",
       "\n",
       "    .dataframe thead th {\n",
       "        text-align: right;\n",
       "    }\n",
       "</style>\n",
       "<table border=\"1\" class=\"dataframe\">\n",
       "  <thead>\n",
       "    <tr style=\"text-align: right;\">\n",
       "      <th></th>\n",
       "      <th>URI</th>\n",
       "      <th>Label</th>\n",
       "      <th>cleaned</th>\n",
       "    </tr>\n",
       "  </thead>\n",
       "  <tbody>\n",
       "    <tr>\n",
       "      <th>0</th>\n",
       "      <td>http://id.worldcat.org/fast/1891285</td>\n",
       "      <td>North America--Dalton Trail</td>\n",
       "      <td>north america  dalton trail</td>\n",
       "    </tr>\n",
       "    <tr>\n",
       "      <th>1</th>\n",
       "      <td>http://id.worldcat.org/fast/1896954</td>\n",
       "      <td>Cyprus--Kition (Extinct city)</td>\n",
       "      <td>cyprus  kition  extinct city</td>\n",
       "    </tr>\n",
       "    <tr>\n",
       "      <th>2</th>\n",
       "      <td>http://id.worldcat.org/fast/1207790</td>\n",
       "      <td>Japan--Isen-chō</td>\n",
       "      <td>japan  isen ch</td>\n",
       "    </tr>\n",
       "    <tr>\n",
       "      <th>3</th>\n",
       "      <td>http://id.worldcat.org/fast/1866544</td>\n",
       "      <td>Arizona--South Mountain Freeway</td>\n",
       "      <td>arizona  south mountain freeway</td>\n",
       "    </tr>\n",
       "    <tr>\n",
       "      <th>4</th>\n",
       "      <td>http://id.worldcat.org/fast/1868488</td>\n",
       "      <td>England--Jump</td>\n",
       "      <td>england  jump</td>\n",
       "    </tr>\n",
       "  </tbody>\n",
       "</table>\n",
       "</div>"
      ],
      "text/plain": [
       "                                   URI                            Label  \\\n",
       "0  http://id.worldcat.org/fast/1891285      North America--Dalton Trail   \n",
       "1  http://id.worldcat.org/fast/1896954    Cyprus--Kition (Extinct city)   \n",
       "2  http://id.worldcat.org/fast/1207790                  Japan--Isen-chō   \n",
       "3  http://id.worldcat.org/fast/1866544  Arizona--South Mountain Freeway   \n",
       "4  http://id.worldcat.org/fast/1868488                    England--Jump   \n",
       "\n",
       "                           cleaned  \n",
       "0      north america  dalton trail  \n",
       "1    cyprus  kition  extinct city   \n",
       "2                  japan  isen ch   \n",
       "3  arizona  south mountain freeway  \n",
       "4                    england  jump  "
      ]
     },
     "execution_count": 101,
     "metadata": {},
     "output_type": "execute_result"
    }
   ],
   "source": [
    "all_fast_df.head()"
   ]
  },
  {
   "cell_type": "code",
   "execution_count": 102,
   "metadata": {},
   "outputs": [
    {
     "data": {
      "text/plain": [
       "648999"
      ]
     },
     "execution_count": 102,
     "metadata": {},
     "output_type": "execute_result"
    }
   ],
   "source": [
    "len(all_fast_df)"
   ]
  },
  {
   "cell_type": "code",
   "execution_count": 105,
   "metadata": {},
   "outputs": [
    {
     "data": {
      "text/plain": [
       "'England--Jump'"
      ]
     },
     "execution_count": 105,
     "metadata": {},
     "output_type": "execute_result"
    }
   ],
   "source": [
    "all_fast_df.loc[all_fast_df['URI'] == 'http://id.worldcat.org/fast/1868488']['Label'].item()"
   ]
  },
  {
   "cell_type": "code",
   "execution_count": 106,
   "metadata": {},
   "outputs": [],
   "source": [
    "from sentence_transformers import SentenceTransformer"
   ]
  },
  {
   "cell_type": "code",
   "execution_count": 107,
   "metadata": {},
   "outputs": [],
   "source": [
    "sbert_model = SentenceTransformer('bert-base-nli-mean-tokens')"
   ]
  },
  {
   "cell_type": "code",
   "execution_count": 108,
   "metadata": {},
   "outputs": [],
   "source": [
    "abstract_embeddings = sbert_model.encode(abstracts['abstracts_cleaned'])"
   ]
  },
  {
   "cell_type": "code",
   "execution_count": 111,
   "metadata": {},
   "outputs": [
    {
     "data": {
      "text/plain": [
       "6284"
      ]
     },
     "execution_count": 111,
     "metadata": {},
     "output_type": "execute_result"
    }
   ],
   "source": [
    "len(abstract_embeddings)"
   ]
  },
  {
   "cell_type": "code",
   "execution_count": 112,
   "metadata": {},
   "outputs": [
    {
     "data": {
      "text/plain": [
       "6284"
      ]
     },
     "execution_count": 112,
     "metadata": {},
     "output_type": "execute_result"
    }
   ],
   "source": [
    "len(abstracts['abstracts_cleaned'])"
   ]
  },
  {
   "cell_type": "code",
   "execution_count": 114,
   "metadata": {},
   "outputs": [],
   "source": [
    "from sklearn.cluster import KMeans"
   ]
  },
  {
   "cell_type": "code",
   "execution_count": 123,
   "metadata": {},
   "outputs": [],
   "source": [
    "cluster_model = KMeans(n_clusters=30)"
   ]
  },
  {
   "cell_type": "code",
   "execution_count": 124,
   "metadata": {},
   "outputs": [],
   "source": [
    "predicted_cluster = cluster_model.fit_predict(abstract_embeddings)"
   ]
  },
  {
   "cell_type": "code",
   "execution_count": 131,
   "metadata": {},
   "outputs": [
    {
     "data": {
      "text/plain": [
       "3"
      ]
     },
     "execution_count": 131,
     "metadata": {},
     "output_type": "execute_result"
    }
   ],
   "source": [
    "predicted_cluster[0]"
   ]
  },
  {
   "cell_type": "code",
   "execution_count": 126,
   "metadata": {},
   "outputs": [
    {
     "data": {
      "text/plain": [
       "6284"
      ]
     },
     "execution_count": 126,
     "metadata": {},
     "output_type": "execute_result"
    }
   ],
   "source": [
    "len(cluster_model.labels_)"
   ]
  },
  {
   "cell_type": "code",
   "execution_count": 127,
   "metadata": {},
   "outputs": [],
   "source": [
    "clustered_abstracts = [[] for i in range(30)]"
   ]
  },
  {
   "cell_type": "code",
   "execution_count": 134,
   "metadata": {},
   "outputs": [
    {
     "data": {
      "text/plain": [
       "array([ True,  True,  True, ...,  True,  True,  True])"
      ]
     },
     "execution_count": 134,
     "metadata": {},
     "output_type": "execute_result"
    }
   ],
   "source": [
    "cluster_model.labels_ == predicted_cluster\n"
   ]
  },
  {
   "cell_type": "code",
   "execution_count": 148,
   "metadata": {},
   "outputs": [],
   "source": [
    "clusters = abstracts.copy()"
   ]
  },
  {
   "cell_type": "code",
   "execution_count": 164,
   "metadata": {},
   "outputs": [],
   "source": [
    "for row in clusters.iterrows():\n",
    "    row[1]['cluster'] = predicted_cluster[row[0]]\n",
    "    \n",
    "    "
   ]
  },
  {
   "cell_type": "code",
   "execution_count": 165,
   "metadata": {},
   "outputs": [
    {
     "data": {
      "text/html": [
       "<div>\n",
       "<style scoped>\n",
       "    .dataframe tbody tr th:only-of-type {\n",
       "        vertical-align: middle;\n",
       "    }\n",
       "\n",
       "    .dataframe tbody tr th {\n",
       "        vertical-align: top;\n",
       "    }\n",
       "\n",
       "    .dataframe thead th {\n",
       "        text-align: right;\n",
       "    }\n",
       "</style>\n",
       "<table border=\"1\" class=\"dataframe\">\n",
       "  <thead>\n",
       "    <tr style=\"text-align: right;\">\n",
       "      <th></th>\n",
       "      <th>druids</th>\n",
       "      <th>abstracts</th>\n",
       "      <th>abstracts_cleaned</th>\n",
       "      <th>departments</th>\n",
       "      <th>title</th>\n",
       "    </tr>\n",
       "  </thead>\n",
       "  <tbody>\n",
       "    <tr>\n",
       "      <th>0</th>\n",
       "      <td>yq942qc7340</td>\n",
       "      <td>Metaverses are virtual worlds where users crea...</td>\n",
       "      <td>metaverses virtual worlds users create entire ...</td>\n",
       "      <td>Department of Computer Science.</td>\n",
       "      <td>Simplification algorithms for large virtual wo...</td>\n",
       "    </tr>\n",
       "    <tr>\n",
       "      <th>1</th>\n",
       "      <td>yx753dx0216</td>\n",
       "      <td>In this dissertation, I use two novel test sco...</td>\n",
       "      <td>dissertation  use two novel test score data se...</td>\n",
       "      <td>Graduate School of Education.</td>\n",
       "      <td>Gender disparities in U.S. educational achieve...</td>\n",
       "    </tr>\n",
       "    <tr>\n",
       "      <th>2</th>\n",
       "      <td>yd874rr2274</td>\n",
       "      <td>A 20-minute documentary film was created to ac...</td>\n",
       "      <td>minute documentary film created accelerate ...</td>\n",
       "      <td>Department of Geological and Environmental Sci...</td>\n",
       "      <td>matched pair, cluster randomized, controlled t...</td>\n",
       "    </tr>\n",
       "    <tr>\n",
       "      <th>3</th>\n",
       "      <td>sh260yn9550</td>\n",
       "      <td>The usage of hydrogen as an alternative energy...</td>\n",
       "      <td>usage hydrogen alternative energy carrier beco...</td>\n",
       "      <td>Department of Bioengineering.</td>\n",
       "      <td>Improving functions of redox proteins for hydr...</td>\n",
       "    </tr>\n",
       "    <tr>\n",
       "      <th>4</th>\n",
       "      <td>nk877ng0918</td>\n",
       "      <td>High-order methods in Computational Fluid Dyna...</td>\n",
       "      <td>high order methods computational fluid dynamic...</td>\n",
       "      <td>Department of Aeronautics and Astronautics.</td>\n",
       "      <td>analysis of stability of the flux reconstructi...</td>\n",
       "    </tr>\n",
       "  </tbody>\n",
       "</table>\n",
       "</div>"
      ],
      "text/plain": [
       "        druids                                          abstracts  \\\n",
       "0  yq942qc7340  Metaverses are virtual worlds where users crea...   \n",
       "1  yx753dx0216  In this dissertation, I use two novel test sco...   \n",
       "2  yd874rr2274  A 20-minute documentary film was created to ac...   \n",
       "3  sh260yn9550  The usage of hydrogen as an alternative energy...   \n",
       "4  nk877ng0918  High-order methods in Computational Fluid Dyna...   \n",
       "\n",
       "                                   abstracts_cleaned  \\\n",
       "0  metaverses virtual worlds users create entire ...   \n",
       "1  dissertation  use two novel test score data se...   \n",
       "2     minute documentary film created accelerate ...   \n",
       "3  usage hydrogen alternative energy carrier beco...   \n",
       "4  high order methods computational fluid dynamic...   \n",
       "\n",
       "                                         departments  \\\n",
       "0                    Department of Computer Science.   \n",
       "1                      Graduate School of Education.   \n",
       "2  Department of Geological and Environmental Sci...   \n",
       "3                      Department of Bioengineering.   \n",
       "4        Department of Aeronautics and Astronautics.   \n",
       "\n",
       "                                               title  \n",
       "0  Simplification algorithms for large virtual wo...  \n",
       "1  Gender disparities in U.S. educational achieve...  \n",
       "2  matched pair, cluster randomized, controlled t...  \n",
       "3  Improving functions of redox proteins for hydr...  \n",
       "4  analysis of stability of the flux reconstructi...  "
      ]
     },
     "execution_count": 165,
     "metadata": {},
     "output_type": "execute_result"
    }
   ],
   "source": [
    "clusters.head()"
   ]
  },
  {
   "cell_type": "code",
   "execution_count": 167,
   "metadata": {},
   "outputs": [],
   "source": [
    "clusters['cluster'] = clusters.index.map(lambda x: predicted_cluster[x])"
   ]
  },
  {
   "cell_type": "code",
   "execution_count": 168,
   "metadata": {},
   "outputs": [
    {
     "data": {
      "text/html": [
       "<div>\n",
       "<style scoped>\n",
       "    .dataframe tbody tr th:only-of-type {\n",
       "        vertical-align: middle;\n",
       "    }\n",
       "\n",
       "    .dataframe tbody tr th {\n",
       "        vertical-align: top;\n",
       "    }\n",
       "\n",
       "    .dataframe thead th {\n",
       "        text-align: right;\n",
       "    }\n",
       "</style>\n",
       "<table border=\"1\" class=\"dataframe\">\n",
       "  <thead>\n",
       "    <tr style=\"text-align: right;\">\n",
       "      <th></th>\n",
       "      <th>druids</th>\n",
       "      <th>abstracts</th>\n",
       "      <th>abstracts_cleaned</th>\n",
       "      <th>departments</th>\n",
       "      <th>title</th>\n",
       "      <th>cluster</th>\n",
       "    </tr>\n",
       "  </thead>\n",
       "  <tbody>\n",
       "    <tr>\n",
       "      <th>0</th>\n",
       "      <td>yq942qc7340</td>\n",
       "      <td>Metaverses are virtual worlds where users crea...</td>\n",
       "      <td>metaverses virtual worlds users create entire ...</td>\n",
       "      <td>Department of Computer Science.</td>\n",
       "      <td>Simplification algorithms for large virtual wo...</td>\n",
       "      <td>3</td>\n",
       "    </tr>\n",
       "    <tr>\n",
       "      <th>1</th>\n",
       "      <td>yx753dx0216</td>\n",
       "      <td>In this dissertation, I use two novel test sco...</td>\n",
       "      <td>dissertation  use two novel test score data se...</td>\n",
       "      <td>Graduate School of Education.</td>\n",
       "      <td>Gender disparities in U.S. educational achieve...</td>\n",
       "      <td>8</td>\n",
       "    </tr>\n",
       "    <tr>\n",
       "      <th>2</th>\n",
       "      <td>yd874rr2274</td>\n",
       "      <td>A 20-minute documentary film was created to ac...</td>\n",
       "      <td>minute documentary film created accelerate ...</td>\n",
       "      <td>Department of Geological and Environmental Sci...</td>\n",
       "      <td>matched pair, cluster randomized, controlled t...</td>\n",
       "      <td>8</td>\n",
       "    </tr>\n",
       "    <tr>\n",
       "      <th>3</th>\n",
       "      <td>sh260yn9550</td>\n",
       "      <td>The usage of hydrogen as an alternative energy...</td>\n",
       "      <td>usage hydrogen alternative energy carrier beco...</td>\n",
       "      <td>Department of Bioengineering.</td>\n",
       "      <td>Improving functions of redox proteins for hydr...</td>\n",
       "      <td>0</td>\n",
       "    </tr>\n",
       "    <tr>\n",
       "      <th>4</th>\n",
       "      <td>nk877ng0918</td>\n",
       "      <td>High-order methods in Computational Fluid Dyna...</td>\n",
       "      <td>high order methods computational fluid dynamic...</td>\n",
       "      <td>Department of Aeronautics and Astronautics.</td>\n",
       "      <td>analysis of stability of the flux reconstructi...</td>\n",
       "      <td>9</td>\n",
       "    </tr>\n",
       "  </tbody>\n",
       "</table>\n",
       "</div>"
      ],
      "text/plain": [
       "        druids                                          abstracts  \\\n",
       "0  yq942qc7340  Metaverses are virtual worlds where users crea...   \n",
       "1  yx753dx0216  In this dissertation, I use two novel test sco...   \n",
       "2  yd874rr2274  A 20-minute documentary film was created to ac...   \n",
       "3  sh260yn9550  The usage of hydrogen as an alternative energy...   \n",
       "4  nk877ng0918  High-order methods in Computational Fluid Dyna...   \n",
       "\n",
       "                                   abstracts_cleaned  \\\n",
       "0  metaverses virtual worlds users create entire ...   \n",
       "1  dissertation  use two novel test score data se...   \n",
       "2     minute documentary film created accelerate ...   \n",
       "3  usage hydrogen alternative energy carrier beco...   \n",
       "4  high order methods computational fluid dynamic...   \n",
       "\n",
       "                                         departments  \\\n",
       "0                    Department of Computer Science.   \n",
       "1                      Graduate School of Education.   \n",
       "2  Department of Geological and Environmental Sci...   \n",
       "3                      Department of Bioengineering.   \n",
       "4        Department of Aeronautics and Astronautics.   \n",
       "\n",
       "                                               title  cluster  \n",
       "0  Simplification algorithms for large virtual wo...        3  \n",
       "1  Gender disparities in U.S. educational achieve...        8  \n",
       "2  matched pair, cluster randomized, controlled t...        8  \n",
       "3  Improving functions of redox proteins for hydr...        0  \n",
       "4  analysis of stability of the flux reconstructi...        9  "
      ]
     },
     "execution_count": 168,
     "metadata": {},
     "output_type": "execute_result"
    }
   ],
   "source": [
    "clusters.head()"
   ]
  },
  {
   "cell_type": "code",
   "execution_count": 170,
   "metadata": {},
   "outputs": [],
   "source": [
    "all_clusters = []\n",
    "for row in clusters.groupby(by=\"cluster\"):\n",
    "    all_clusters.append(row)"
   ]
  },
  {
   "cell_type": "code",
   "execution_count": 171,
   "metadata": {},
   "outputs": [
    {
     "data": {
      "text/plain": [
       "30"
      ]
     },
     "execution_count": 171,
     "metadata": {},
     "output_type": "execute_result"
    }
   ],
   "source": [
    "len(all_clusters)"
   ]
  },
  {
   "cell_type": "code",
   "execution_count": 173,
   "metadata": {},
   "outputs": [
    {
     "data": {
      "text/html": [
       "<div>\n",
       "<style scoped>\n",
       "    .dataframe tbody tr th:only-of-type {\n",
       "        vertical-align: middle;\n",
       "    }\n",
       "\n",
       "    .dataframe tbody tr th {\n",
       "        vertical-align: top;\n",
       "    }\n",
       "\n",
       "    .dataframe thead th {\n",
       "        text-align: right;\n",
       "    }\n",
       "</style>\n",
       "<table border=\"1\" class=\"dataframe\">\n",
       "  <thead>\n",
       "    <tr style=\"text-align: right;\">\n",
       "      <th></th>\n",
       "      <th>druids</th>\n",
       "      <th>abstracts</th>\n",
       "      <th>abstracts_cleaned</th>\n",
       "      <th>departments</th>\n",
       "      <th>title</th>\n",
       "    </tr>\n",
       "  </thead>\n",
       "  <tbody>\n",
       "    <tr>\n",
       "      <th>0</th>\n",
       "      <td>yq942qc7340</td>\n",
       "      <td>Metaverses are virtual worlds where users crea...</td>\n",
       "      <td>metaverses virtual worlds users create entire ...</td>\n",
       "      <td>Department of Computer Science.</td>\n",
       "      <td>Simplification algorithms for large virtual wo...</td>\n",
       "    </tr>\n",
       "    <tr>\n",
       "      <th>1</th>\n",
       "      <td>yx753dx0216</td>\n",
       "      <td>In this dissertation, I use two novel test sco...</td>\n",
       "      <td>dissertation  use two novel test score data se...</td>\n",
       "      <td>Graduate School of Education.</td>\n",
       "      <td>Gender disparities in U.S. educational achieve...</td>\n",
       "    </tr>\n",
       "    <tr>\n",
       "      <th>2</th>\n",
       "      <td>yd874rr2274</td>\n",
       "      <td>A 20-minute documentary film was created to ac...</td>\n",
       "      <td>minute documentary film created accelerate ...</td>\n",
       "      <td>Department of Geological and Environmental Sci...</td>\n",
       "      <td>matched pair, cluster randomized, controlled t...</td>\n",
       "    </tr>\n",
       "    <tr>\n",
       "      <th>3</th>\n",
       "      <td>sh260yn9550</td>\n",
       "      <td>The usage of hydrogen as an alternative energy...</td>\n",
       "      <td>usage hydrogen alternative energy carrier beco...</td>\n",
       "      <td>Department of Bioengineering.</td>\n",
       "      <td>Improving functions of redox proteins for hydr...</td>\n",
       "    </tr>\n",
       "    <tr>\n",
       "      <th>4</th>\n",
       "      <td>nk877ng0918</td>\n",
       "      <td>High-order methods in Computational Fluid Dyna...</td>\n",
       "      <td>high order methods computational fluid dynamic...</td>\n",
       "      <td>Department of Aeronautics and Astronautics.</td>\n",
       "      <td>analysis of stability of the flux reconstructi...</td>\n",
       "    </tr>\n",
       "  </tbody>\n",
       "</table>\n",
       "</div>"
      ],
      "text/plain": [
       "        druids                                          abstracts  \\\n",
       "0  yq942qc7340  Metaverses are virtual worlds where users crea...   \n",
       "1  yx753dx0216  In this dissertation, I use two novel test sco...   \n",
       "2  yd874rr2274  A 20-minute documentary film was created to ac...   \n",
       "3  sh260yn9550  The usage of hydrogen as an alternative energy...   \n",
       "4  nk877ng0918  High-order methods in Computational Fluid Dyna...   \n",
       "\n",
       "                                   abstracts_cleaned  \\\n",
       "0  metaverses virtual worlds users create entire ...   \n",
       "1  dissertation  use two novel test score data se...   \n",
       "2     minute documentary film created accelerate ...   \n",
       "3  usage hydrogen alternative energy carrier beco...   \n",
       "4  high order methods computational fluid dynamic...   \n",
       "\n",
       "                                         departments  \\\n",
       "0                    Department of Computer Science.   \n",
       "1                      Graduate School of Education.   \n",
       "2  Department of Geological and Environmental Sci...   \n",
       "3                      Department of Bioengineering.   \n",
       "4        Department of Aeronautics and Astronautics.   \n",
       "\n",
       "                                               title  \n",
       "0  Simplification algorithms for large virtual wo...  \n",
       "1  Gender disparities in U.S. educational achieve...  \n",
       "2  matched pair, cluster randomized, controlled t...  \n",
       "3  Improving functions of redox proteins for hydr...  \n",
       "4  analysis of stability of the flux reconstructi...  "
      ]
     },
     "execution_count": 173,
     "metadata": {},
     "output_type": "execute_result"
    }
   ],
   "source": [
    "abstracts.head()"
   ]
  },
  {
   "cell_type": "code",
   "execution_count": 174,
   "metadata": {},
   "outputs": [],
   "source": [
    "cleaned_areas = pd.read_csv(\"/Users/jpnelson/Downloads/Department_to_Area.csv\")"
   ]
  },
  {
   "cell_type": "code",
   "execution_count": 175,
   "metadata": {},
   "outputs": [
    {
     "data": {
      "text/html": [
       "<div>\n",
       "<style scoped>\n",
       "    .dataframe tbody tr th:only-of-type {\n",
       "        vertical-align: middle;\n",
       "    }\n",
       "\n",
       "    .dataframe tbody tr th {\n",
       "        vertical-align: top;\n",
       "    }\n",
       "\n",
       "    .dataframe thead th {\n",
       "        text-align: right;\n",
       "    }\n",
       "</style>\n",
       "<table border=\"1\" class=\"dataframe\">\n",
       "  <thead>\n",
       "    <tr style=\"text-align: right;\">\n",
       "      <th></th>\n",
       "      <th>Area</th>\n",
       "      <th>Department</th>\n",
       "      <th>Number</th>\n",
       "    </tr>\n",
       "  </thead>\n",
       "  <tbody>\n",
       "    <tr>\n",
       "      <th>0</th>\n",
       "      <td>Aeronautics &amp; Astronautics</td>\n",
       "      <td>Department of Aeronautics and Astronautics</td>\n",
       "      <td>173</td>\n",
       "    </tr>\n",
       "    <tr>\n",
       "      <th>1</th>\n",
       "      <td>Aeronautics &amp; Astronautics</td>\n",
       "      <td>Department of Aeronautics &amp; Astronautics</td>\n",
       "      <td>2</td>\n",
       "    </tr>\n",
       "    <tr>\n",
       "      <th>2</th>\n",
       "      <td>Anthropology</td>\n",
       "      <td>Department of Anthropology</td>\n",
       "      <td>47</td>\n",
       "    </tr>\n",
       "    <tr>\n",
       "      <th>3</th>\n",
       "      <td>Anthropology</td>\n",
       "      <td>Department of Anthropological Sciences</td>\n",
       "      <td>4</td>\n",
       "    </tr>\n",
       "    <tr>\n",
       "      <th>4</th>\n",
       "      <td>Applied Physics</td>\n",
       "      <td>Department of Applied Physics</td>\n",
       "      <td>188</td>\n",
       "    </tr>\n",
       "  </tbody>\n",
       "</table>\n",
       "</div>"
      ],
      "text/plain": [
       "                         Area                                   Department  \\\n",
       "0  Aeronautics & Astronautics  Department of Aeronautics and Astronautics    \n",
       "1  Aeronautics & Astronautics    Department of Aeronautics & Astronautics    \n",
       "2                Anthropology                  Department of Anthropology    \n",
       "3                Anthropology      Department of Anthropological Sciences    \n",
       "4             Applied Physics               Department of Applied Physics    \n",
       "\n",
       "   Number  \n",
       "0     173  \n",
       "1       2  \n",
       "2      47  \n",
       "3       4  \n",
       "4     188  "
      ]
     },
     "execution_count": 175,
     "metadata": {},
     "output_type": "execute_result"
    }
   ],
   "source": [
    "cleaned_areas.head()"
   ]
  },
  {
   "cell_type": "code",
   "execution_count": 177,
   "metadata": {
    "collapsed": true,
    "jupyter": {
     "outputs_hidden": true
    }
   },
   "outputs": [
    {
     "ename": "ValueError",
     "evalue": "Wrong number of items passed 0, placement implies 1",
     "output_type": "error",
     "traceback": [
      "\u001b[0;31m---------------------------------------------------------------------------\u001b[0m",
      "\u001b[0;31mKeyError\u001b[0m                                  Traceback (most recent call last)",
      "\u001b[0;32m~/2020/py3-env/lib/python3.8/site-packages/pandas/core/indexes/base.py\u001b[0m in \u001b[0;36mget_loc\u001b[0;34m(self, key, method, tolerance)\u001b[0m\n\u001b[1;32m   2645\u001b[0m             \u001b[0;32mtry\u001b[0m\u001b[0;34m:\u001b[0m\u001b[0;34m\u001b[0m\u001b[0;34m\u001b[0m\u001b[0m\n\u001b[0;32m-> 2646\u001b[0;31m                 \u001b[0;32mreturn\u001b[0m \u001b[0mself\u001b[0m\u001b[0;34m.\u001b[0m\u001b[0m_engine\u001b[0m\u001b[0;34m.\u001b[0m\u001b[0mget_loc\u001b[0m\u001b[0;34m(\u001b[0m\u001b[0mkey\u001b[0m\u001b[0;34m)\u001b[0m\u001b[0;34m\u001b[0m\u001b[0;34m\u001b[0m\u001b[0m\n\u001b[0m\u001b[1;32m   2647\u001b[0m             \u001b[0;32mexcept\u001b[0m \u001b[0mKeyError\u001b[0m\u001b[0;34m:\u001b[0m\u001b[0;34m\u001b[0m\u001b[0;34m\u001b[0m\u001b[0m\n",
      "\u001b[0;32mpandas/_libs/index.pyx\u001b[0m in \u001b[0;36mpandas._libs.index.IndexEngine.get_loc\u001b[0;34m()\u001b[0m\n",
      "\u001b[0;32mpandas/_libs/index.pyx\u001b[0m in \u001b[0;36mpandas._libs.index.IndexEngine.get_loc\u001b[0;34m()\u001b[0m\n",
      "\u001b[0;32mpandas/_libs/hashtable_class_helper.pxi\u001b[0m in \u001b[0;36mpandas._libs.hashtable.PyObjectHashTable.get_item\u001b[0;34m()\u001b[0m\n",
      "\u001b[0;32mpandas/_libs/hashtable_class_helper.pxi\u001b[0m in \u001b[0;36mpandas._libs.hashtable.PyObjectHashTable.get_item\u001b[0;34m()\u001b[0m\n",
      "\u001b[0;31mKeyError\u001b[0m: 'area'",
      "\nDuring handling of the above exception, another exception occurred:\n",
      "\u001b[0;31mKeyError\u001b[0m                                  Traceback (most recent call last)",
      "\u001b[0;32m~/2020/py3-env/lib/python3.8/site-packages/pandas/core/internals/managers.py\u001b[0m in \u001b[0;36mset\u001b[0;34m(self, item, value)\u001b[0m\n\u001b[1;32m   1070\u001b[0m         \u001b[0;32mtry\u001b[0m\u001b[0;34m:\u001b[0m\u001b[0;34m\u001b[0m\u001b[0;34m\u001b[0m\u001b[0m\n\u001b[0;32m-> 1071\u001b[0;31m             \u001b[0mloc\u001b[0m \u001b[0;34m=\u001b[0m \u001b[0mself\u001b[0m\u001b[0;34m.\u001b[0m\u001b[0mitems\u001b[0m\u001b[0;34m.\u001b[0m\u001b[0mget_loc\u001b[0m\u001b[0;34m(\u001b[0m\u001b[0mitem\u001b[0m\u001b[0;34m)\u001b[0m\u001b[0;34m\u001b[0m\u001b[0;34m\u001b[0m\u001b[0m\n\u001b[0m\u001b[1;32m   1072\u001b[0m         \u001b[0;32mexcept\u001b[0m \u001b[0mKeyError\u001b[0m\u001b[0;34m:\u001b[0m\u001b[0;34m\u001b[0m\u001b[0;34m\u001b[0m\u001b[0m\n",
      "\u001b[0;32m~/2020/py3-env/lib/python3.8/site-packages/pandas/core/indexes/base.py\u001b[0m in \u001b[0;36mget_loc\u001b[0;34m(self, key, method, tolerance)\u001b[0m\n\u001b[1;32m   2647\u001b[0m             \u001b[0;32mexcept\u001b[0m \u001b[0mKeyError\u001b[0m\u001b[0;34m:\u001b[0m\u001b[0;34m\u001b[0m\u001b[0;34m\u001b[0m\u001b[0m\n\u001b[0;32m-> 2648\u001b[0;31m                 \u001b[0;32mreturn\u001b[0m \u001b[0mself\u001b[0m\u001b[0;34m.\u001b[0m\u001b[0m_engine\u001b[0m\u001b[0;34m.\u001b[0m\u001b[0mget_loc\u001b[0m\u001b[0;34m(\u001b[0m\u001b[0mself\u001b[0m\u001b[0;34m.\u001b[0m\u001b[0m_maybe_cast_indexer\u001b[0m\u001b[0;34m(\u001b[0m\u001b[0mkey\u001b[0m\u001b[0;34m)\u001b[0m\u001b[0;34m)\u001b[0m\u001b[0;34m\u001b[0m\u001b[0;34m\u001b[0m\u001b[0m\n\u001b[0m\u001b[1;32m   2649\u001b[0m         \u001b[0mindexer\u001b[0m \u001b[0;34m=\u001b[0m \u001b[0mself\u001b[0m\u001b[0;34m.\u001b[0m\u001b[0mget_indexer\u001b[0m\u001b[0;34m(\u001b[0m\u001b[0;34m[\u001b[0m\u001b[0mkey\u001b[0m\u001b[0;34m]\u001b[0m\u001b[0;34m,\u001b[0m \u001b[0mmethod\u001b[0m\u001b[0;34m=\u001b[0m\u001b[0mmethod\u001b[0m\u001b[0;34m,\u001b[0m \u001b[0mtolerance\u001b[0m\u001b[0;34m=\u001b[0m\u001b[0mtolerance\u001b[0m\u001b[0;34m)\u001b[0m\u001b[0;34m\u001b[0m\u001b[0;34m\u001b[0m\u001b[0m\n",
      "\u001b[0;32mpandas/_libs/index.pyx\u001b[0m in \u001b[0;36mpandas._libs.index.IndexEngine.get_loc\u001b[0;34m()\u001b[0m\n",
      "\u001b[0;32mpandas/_libs/index.pyx\u001b[0m in \u001b[0;36mpandas._libs.index.IndexEngine.get_loc\u001b[0;34m()\u001b[0m\n",
      "\u001b[0;32mpandas/_libs/hashtable_class_helper.pxi\u001b[0m in \u001b[0;36mpandas._libs.hashtable.PyObjectHashTable.get_item\u001b[0;34m()\u001b[0m\n",
      "\u001b[0;32mpandas/_libs/hashtable_class_helper.pxi\u001b[0m in \u001b[0;36mpandas._libs.hashtable.PyObjectHashTable.get_item\u001b[0;34m()\u001b[0m\n",
      "\u001b[0;31mKeyError\u001b[0m: 'area'",
      "\nDuring handling of the above exception, another exception occurred:\n",
      "\u001b[0;31mValueError\u001b[0m                                Traceback (most recent call last)",
      "\u001b[0;32m<ipython-input-177-d4f849df9a0c>\u001b[0m in \u001b[0;36m<module>\u001b[0;34m\u001b[0m\n\u001b[0;32m----> 1\u001b[0;31m \u001b[0mabstracts\u001b[0m\u001b[0;34m[\u001b[0m\u001b[0;34m'area'\u001b[0m\u001b[0;34m]\u001b[0m \u001b[0;34m=\u001b[0m \u001b[0mabstracts\u001b[0m\u001b[0;34m[\u001b[0m\u001b[0;34m'departments'\u001b[0m\u001b[0;34m]\u001b[0m\u001b[0;34m.\u001b[0m\u001b[0mapply\u001b[0m\u001b[0;34m(\u001b[0m\u001b[0;32mlambda\u001b[0m \u001b[0mx\u001b[0m\u001b[0;34m:\u001b[0m \u001b[0mcleaned_areas\u001b[0m\u001b[0;34m.\u001b[0m\u001b[0mloc\u001b[0m\u001b[0;34m[\u001b[0m\u001b[0mcleaned_areas\u001b[0m\u001b[0;34m[\u001b[0m\u001b[0;34m'Department'\u001b[0m\u001b[0;34m]\u001b[0m \u001b[0;34m==\u001b[0m \u001b[0mx\u001b[0m\u001b[0;34m]\u001b[0m\u001b[0;34m[\u001b[0m\u001b[0;34m'Area'\u001b[0m\u001b[0;34m]\u001b[0m\u001b[0;34m)\u001b[0m\u001b[0;34m\u001b[0m\u001b[0;34m\u001b[0m\u001b[0m\n\u001b[0m",
      "\u001b[0;32m~/2020/py3-env/lib/python3.8/site-packages/pandas/core/frame.py\u001b[0m in \u001b[0;36m__setitem__\u001b[0;34m(self, key, value)\u001b[0m\n\u001b[1;32m   2936\u001b[0m         \u001b[0;32melse\u001b[0m\u001b[0;34m:\u001b[0m\u001b[0;34m\u001b[0m\u001b[0;34m\u001b[0m\u001b[0m\n\u001b[1;32m   2937\u001b[0m             \u001b[0;31m# set column\u001b[0m\u001b[0;34m\u001b[0m\u001b[0;34m\u001b[0m\u001b[0;34m\u001b[0m\u001b[0m\n\u001b[0;32m-> 2938\u001b[0;31m             \u001b[0mself\u001b[0m\u001b[0;34m.\u001b[0m\u001b[0m_set_item\u001b[0m\u001b[0;34m(\u001b[0m\u001b[0mkey\u001b[0m\u001b[0;34m,\u001b[0m \u001b[0mvalue\u001b[0m\u001b[0;34m)\u001b[0m\u001b[0;34m\u001b[0m\u001b[0;34m\u001b[0m\u001b[0m\n\u001b[0m\u001b[1;32m   2939\u001b[0m \u001b[0;34m\u001b[0m\u001b[0m\n\u001b[1;32m   2940\u001b[0m     \u001b[0;32mdef\u001b[0m \u001b[0m_setitem_slice\u001b[0m\u001b[0;34m(\u001b[0m\u001b[0mself\u001b[0m\u001b[0;34m,\u001b[0m \u001b[0mkey\u001b[0m\u001b[0;34m,\u001b[0m \u001b[0mvalue\u001b[0m\u001b[0;34m)\u001b[0m\u001b[0;34m:\u001b[0m\u001b[0;34m\u001b[0m\u001b[0;34m\u001b[0m\u001b[0m\n",
      "\u001b[0;32m~/2020/py3-env/lib/python3.8/site-packages/pandas/core/frame.py\u001b[0m in \u001b[0;36m_set_item\u001b[0;34m(self, key, value)\u001b[0m\n\u001b[1;32m   2999\u001b[0m         \u001b[0mself\u001b[0m\u001b[0;34m.\u001b[0m\u001b[0m_ensure_valid_index\u001b[0m\u001b[0;34m(\u001b[0m\u001b[0mvalue\u001b[0m\u001b[0;34m)\u001b[0m\u001b[0;34m\u001b[0m\u001b[0;34m\u001b[0m\u001b[0m\n\u001b[1;32m   3000\u001b[0m         \u001b[0mvalue\u001b[0m \u001b[0;34m=\u001b[0m \u001b[0mself\u001b[0m\u001b[0;34m.\u001b[0m\u001b[0m_sanitize_column\u001b[0m\u001b[0;34m(\u001b[0m\u001b[0mkey\u001b[0m\u001b[0;34m,\u001b[0m \u001b[0mvalue\u001b[0m\u001b[0;34m)\u001b[0m\u001b[0;34m\u001b[0m\u001b[0;34m\u001b[0m\u001b[0m\n\u001b[0;32m-> 3001\u001b[0;31m         \u001b[0mNDFrame\u001b[0m\u001b[0;34m.\u001b[0m\u001b[0m_set_item\u001b[0m\u001b[0;34m(\u001b[0m\u001b[0mself\u001b[0m\u001b[0;34m,\u001b[0m \u001b[0mkey\u001b[0m\u001b[0;34m,\u001b[0m \u001b[0mvalue\u001b[0m\u001b[0;34m)\u001b[0m\u001b[0;34m\u001b[0m\u001b[0;34m\u001b[0m\u001b[0m\n\u001b[0m\u001b[1;32m   3002\u001b[0m \u001b[0;34m\u001b[0m\u001b[0m\n\u001b[1;32m   3003\u001b[0m         \u001b[0;31m# check if we are modifying a copy\u001b[0m\u001b[0;34m\u001b[0m\u001b[0;34m\u001b[0m\u001b[0;34m\u001b[0m\u001b[0m\n",
      "\u001b[0;32m~/2020/py3-env/lib/python3.8/site-packages/pandas/core/generic.py\u001b[0m in \u001b[0;36m_set_item\u001b[0;34m(self, key, value)\u001b[0m\n\u001b[1;32m   3622\u001b[0m \u001b[0;34m\u001b[0m\u001b[0m\n\u001b[1;32m   3623\u001b[0m     \u001b[0;32mdef\u001b[0m \u001b[0m_set_item\u001b[0m\u001b[0;34m(\u001b[0m\u001b[0mself\u001b[0m\u001b[0;34m,\u001b[0m \u001b[0mkey\u001b[0m\u001b[0;34m,\u001b[0m \u001b[0mvalue\u001b[0m\u001b[0;34m)\u001b[0m \u001b[0;34m->\u001b[0m \u001b[0;32mNone\u001b[0m\u001b[0;34m:\u001b[0m\u001b[0;34m\u001b[0m\u001b[0;34m\u001b[0m\u001b[0m\n\u001b[0;32m-> 3624\u001b[0;31m         \u001b[0mself\u001b[0m\u001b[0;34m.\u001b[0m\u001b[0m_data\u001b[0m\u001b[0;34m.\u001b[0m\u001b[0mset\u001b[0m\u001b[0;34m(\u001b[0m\u001b[0mkey\u001b[0m\u001b[0;34m,\u001b[0m \u001b[0mvalue\u001b[0m\u001b[0;34m)\u001b[0m\u001b[0;34m\u001b[0m\u001b[0;34m\u001b[0m\u001b[0m\n\u001b[0m\u001b[1;32m   3625\u001b[0m         \u001b[0mself\u001b[0m\u001b[0;34m.\u001b[0m\u001b[0m_clear_item_cache\u001b[0m\u001b[0;34m(\u001b[0m\u001b[0;34m)\u001b[0m\u001b[0;34m\u001b[0m\u001b[0;34m\u001b[0m\u001b[0m\n\u001b[1;32m   3626\u001b[0m \u001b[0;34m\u001b[0m\u001b[0m\n",
      "\u001b[0;32m~/2020/py3-env/lib/python3.8/site-packages/pandas/core/internals/managers.py\u001b[0m in \u001b[0;36mset\u001b[0;34m(self, item, value)\u001b[0m\n\u001b[1;32m   1072\u001b[0m         \u001b[0;32mexcept\u001b[0m \u001b[0mKeyError\u001b[0m\u001b[0;34m:\u001b[0m\u001b[0;34m\u001b[0m\u001b[0;34m\u001b[0m\u001b[0m\n\u001b[1;32m   1073\u001b[0m             \u001b[0;31m# This item wasn't present, just insert at end\u001b[0m\u001b[0;34m\u001b[0m\u001b[0;34m\u001b[0m\u001b[0;34m\u001b[0m\u001b[0m\n\u001b[0;32m-> 1074\u001b[0;31m             \u001b[0mself\u001b[0m\u001b[0;34m.\u001b[0m\u001b[0minsert\u001b[0m\u001b[0;34m(\u001b[0m\u001b[0mlen\u001b[0m\u001b[0;34m(\u001b[0m\u001b[0mself\u001b[0m\u001b[0;34m.\u001b[0m\u001b[0mitems\u001b[0m\u001b[0;34m)\u001b[0m\u001b[0;34m,\u001b[0m \u001b[0mitem\u001b[0m\u001b[0;34m,\u001b[0m \u001b[0mvalue\u001b[0m\u001b[0;34m)\u001b[0m\u001b[0;34m\u001b[0m\u001b[0;34m\u001b[0m\u001b[0m\n\u001b[0m\u001b[1;32m   1075\u001b[0m             \u001b[0;32mreturn\u001b[0m\u001b[0;34m\u001b[0m\u001b[0;34m\u001b[0m\u001b[0m\n\u001b[1;32m   1076\u001b[0m \u001b[0;34m\u001b[0m\u001b[0m\n",
      "\u001b[0;32m~/2020/py3-env/lib/python3.8/site-packages/pandas/core/internals/managers.py\u001b[0m in \u001b[0;36minsert\u001b[0;34m(self, loc, item, value, allow_duplicates)\u001b[0m\n\u001b[1;32m   1179\u001b[0m         \u001b[0mnew_axis\u001b[0m \u001b[0;34m=\u001b[0m \u001b[0mself\u001b[0m\u001b[0;34m.\u001b[0m\u001b[0mitems\u001b[0m\u001b[0;34m.\u001b[0m\u001b[0minsert\u001b[0m\u001b[0;34m(\u001b[0m\u001b[0mloc\u001b[0m\u001b[0;34m,\u001b[0m \u001b[0mitem\u001b[0m\u001b[0;34m)\u001b[0m\u001b[0;34m\u001b[0m\u001b[0;34m\u001b[0m\u001b[0m\n\u001b[1;32m   1180\u001b[0m \u001b[0;34m\u001b[0m\u001b[0m\n\u001b[0;32m-> 1181\u001b[0;31m         \u001b[0mblock\u001b[0m \u001b[0;34m=\u001b[0m \u001b[0mmake_block\u001b[0m\u001b[0;34m(\u001b[0m\u001b[0mvalues\u001b[0m\u001b[0;34m=\u001b[0m\u001b[0mvalue\u001b[0m\u001b[0;34m,\u001b[0m \u001b[0mndim\u001b[0m\u001b[0;34m=\u001b[0m\u001b[0mself\u001b[0m\u001b[0;34m.\u001b[0m\u001b[0mndim\u001b[0m\u001b[0;34m,\u001b[0m \u001b[0mplacement\u001b[0m\u001b[0;34m=\u001b[0m\u001b[0mslice\u001b[0m\u001b[0;34m(\u001b[0m\u001b[0mloc\u001b[0m\u001b[0;34m,\u001b[0m \u001b[0mloc\u001b[0m \u001b[0;34m+\u001b[0m \u001b[0;36m1\u001b[0m\u001b[0;34m)\u001b[0m\u001b[0;34m)\u001b[0m\u001b[0;34m\u001b[0m\u001b[0;34m\u001b[0m\u001b[0m\n\u001b[0m\u001b[1;32m   1182\u001b[0m \u001b[0;34m\u001b[0m\u001b[0m\n\u001b[1;32m   1183\u001b[0m         \u001b[0;32mfor\u001b[0m \u001b[0mblkno\u001b[0m\u001b[0;34m,\u001b[0m \u001b[0mcount\u001b[0m \u001b[0;32min\u001b[0m \u001b[0m_fast_count_smallints\u001b[0m\u001b[0;34m(\u001b[0m\u001b[0mself\u001b[0m\u001b[0;34m.\u001b[0m\u001b[0m_blknos\u001b[0m\u001b[0;34m[\u001b[0m\u001b[0mloc\u001b[0m\u001b[0;34m:\u001b[0m\u001b[0;34m]\u001b[0m\u001b[0;34m)\u001b[0m\u001b[0;34m:\u001b[0m\u001b[0;34m\u001b[0m\u001b[0;34m\u001b[0m\u001b[0m\n",
      "\u001b[0;32m~/2020/py3-env/lib/python3.8/site-packages/pandas/core/internals/blocks.py\u001b[0m in \u001b[0;36mmake_block\u001b[0;34m(values, placement, klass, ndim, dtype)\u001b[0m\n\u001b[1;32m   3045\u001b[0m         \u001b[0mvalues\u001b[0m \u001b[0;34m=\u001b[0m \u001b[0mDatetimeArray\u001b[0m\u001b[0;34m.\u001b[0m\u001b[0m_simple_new\u001b[0m\u001b[0;34m(\u001b[0m\u001b[0mvalues\u001b[0m\u001b[0;34m,\u001b[0m \u001b[0mdtype\u001b[0m\u001b[0;34m=\u001b[0m\u001b[0mdtype\u001b[0m\u001b[0;34m)\u001b[0m\u001b[0;34m\u001b[0m\u001b[0;34m\u001b[0m\u001b[0m\n\u001b[1;32m   3046\u001b[0m \u001b[0;34m\u001b[0m\u001b[0m\n\u001b[0;32m-> 3047\u001b[0;31m     \u001b[0;32mreturn\u001b[0m \u001b[0mklass\u001b[0m\u001b[0;34m(\u001b[0m\u001b[0mvalues\u001b[0m\u001b[0;34m,\u001b[0m \u001b[0mndim\u001b[0m\u001b[0;34m=\u001b[0m\u001b[0mndim\u001b[0m\u001b[0;34m,\u001b[0m \u001b[0mplacement\u001b[0m\u001b[0;34m=\u001b[0m\u001b[0mplacement\u001b[0m\u001b[0;34m)\u001b[0m\u001b[0;34m\u001b[0m\u001b[0;34m\u001b[0m\u001b[0m\n\u001b[0m\u001b[1;32m   3048\u001b[0m \u001b[0;34m\u001b[0m\u001b[0m\n\u001b[1;32m   3049\u001b[0m \u001b[0;34m\u001b[0m\u001b[0m\n",
      "\u001b[0;32m~/2020/py3-env/lib/python3.8/site-packages/pandas/core/internals/blocks.py\u001b[0m in \u001b[0;36m__init__\u001b[0;34m(self, values, placement, ndim)\u001b[0m\n\u001b[1;32m    122\u001b[0m \u001b[0;34m\u001b[0m\u001b[0m\n\u001b[1;32m    123\u001b[0m         \u001b[0;32mif\u001b[0m \u001b[0mself\u001b[0m\u001b[0;34m.\u001b[0m\u001b[0m_validate_ndim\u001b[0m \u001b[0;32mand\u001b[0m \u001b[0mself\u001b[0m\u001b[0;34m.\u001b[0m\u001b[0mndim\u001b[0m \u001b[0;32mand\u001b[0m \u001b[0mlen\u001b[0m\u001b[0;34m(\u001b[0m\u001b[0mself\u001b[0m\u001b[0;34m.\u001b[0m\u001b[0mmgr_locs\u001b[0m\u001b[0;34m)\u001b[0m \u001b[0;34m!=\u001b[0m \u001b[0mlen\u001b[0m\u001b[0;34m(\u001b[0m\u001b[0mself\u001b[0m\u001b[0;34m.\u001b[0m\u001b[0mvalues\u001b[0m\u001b[0;34m)\u001b[0m\u001b[0;34m:\u001b[0m\u001b[0;34m\u001b[0m\u001b[0;34m\u001b[0m\u001b[0m\n\u001b[0;32m--> 124\u001b[0;31m             raise ValueError(\n\u001b[0m\u001b[1;32m    125\u001b[0m                 \u001b[0;34mf\"Wrong number of items passed {len(self.values)}, \"\u001b[0m\u001b[0;34m\u001b[0m\u001b[0;34m\u001b[0m\u001b[0m\n\u001b[1;32m    126\u001b[0m                 \u001b[0;34mf\"placement implies {len(self.mgr_locs)}\"\u001b[0m\u001b[0;34m\u001b[0m\u001b[0;34m\u001b[0m\u001b[0m\n",
      "\u001b[0;31mValueError\u001b[0m: Wrong number of items passed 0, placement implies 1"
     ]
    }
   ],
   "source": [
    "abstracts['area'] = abstracts['departments'].apply(lambda x: cleaned_areas.loc[cleaned_areas['Department'] == x]['Area'])"
   ]
  },
  {
   "cell_type": "code",
   "execution_count": 178,
   "metadata": {},
   "outputs": [],
   "source": [
    "def normalize_area(department):\n",
    "    area = cleaned_areas.loc[cleaned_areas['Department'] == department]\n",
    "    print(area)"
   ]
  },
  {
   "cell_type": "code",
   "execution_count": 185,
   "metadata": {},
   "outputs": [
    {
     "name": "stdout",
     "output_type": "stream",
     "text": [
      "Empty DataFrame\n",
      "Columns: [Area, Department, Number]\n",
      "Index: []\n"
     ]
    }
   ],
   "source": [
    "normalize_area('Department of Aeronautics and Astronautics')"
   ]
  },
  {
   "cell_type": "code",
   "execution_count": 188,
   "metadata": {},
   "outputs": [
    {
     "data": {
      "text/html": [
       "<div>\n",
       "<style scoped>\n",
       "    .dataframe tbody tr th:only-of-type {\n",
       "        vertical-align: middle;\n",
       "    }\n",
       "\n",
       "    .dataframe tbody tr th {\n",
       "        vertical-align: top;\n",
       "    }\n",
       "\n",
       "    .dataframe thead th {\n",
       "        text-align: right;\n",
       "    }\n",
       "</style>\n",
       "<table border=\"1\" class=\"dataframe\">\n",
       "  <thead>\n",
       "    <tr style=\"text-align: right;\">\n",
       "      <th></th>\n",
       "      <th>Area</th>\n",
       "      <th>Department</th>\n",
       "      <th>Number</th>\n",
       "    </tr>\n",
       "  </thead>\n",
       "  <tbody>\n",
       "  </tbody>\n",
       "</table>\n",
       "</div>"
      ],
      "text/plain": [
       "Empty DataFrame\n",
       "Columns: [Area, Department, Number]\n",
       "Index: []"
      ]
     },
     "execution_count": 188,
     "metadata": {},
     "output_type": "execute_result"
    }
   ],
   "source": [
    "cleaned_areas[cleaned_areas['Department'] == 'Department of Aeronautics and Astronautics']"
   ]
  },
  {
   "cell_type": "code",
   "execution_count": 190,
   "metadata": {},
   "outputs": [
    {
     "data": {
      "text/html": [
       "<div>\n",
       "<style scoped>\n",
       "    .dataframe tbody tr th:only-of-type {\n",
       "        vertical-align: middle;\n",
       "    }\n",
       "\n",
       "    .dataframe tbody tr th {\n",
       "        vertical-align: top;\n",
       "    }\n",
       "\n",
       "    .dataframe thead th {\n",
       "        text-align: right;\n",
       "    }\n",
       "</style>\n",
       "<table border=\"1\" class=\"dataframe\">\n",
       "  <thead>\n",
       "    <tr style=\"text-align: right;\">\n",
       "      <th></th>\n",
       "      <th>Area</th>\n",
       "      <th>Department</th>\n",
       "      <th>Number</th>\n",
       "    </tr>\n",
       "  </thead>\n",
       "  <tbody>\n",
       "    <tr>\n",
       "      <th>112</th>\n",
       "      <td>Stem Cell Biology and Regenerative Medicine</td>\n",
       "      <td>Department of Stem Cell Biology and Regenerati...</td>\n",
       "      <td>1</td>\n",
       "    </tr>\n",
       "    <tr>\n",
       "      <th>113</th>\n",
       "      <td>Stem Cell Biology and Regenerative Medicine</td>\n",
       "      <td>Institute for Stem Cell Biology and Regenerati...</td>\n",
       "      <td>1</td>\n",
       "    </tr>\n",
       "    <tr>\n",
       "      <th>114</th>\n",
       "      <td>Stem Cell Biology and Regenerative Medicine</td>\n",
       "      <td>Department of Stem Cell Biology and Regenerati...</td>\n",
       "      <td>1</td>\n",
       "    </tr>\n",
       "    <tr>\n",
       "      <th>115</th>\n",
       "      <td>Structural Biology</td>\n",
       "      <td>Department of Structural Biology</td>\n",
       "      <td>9</td>\n",
       "    </tr>\n",
       "    <tr>\n",
       "      <th>116</th>\n",
       "      <td>Theater and Performance Studies</td>\n",
       "      <td>Department of Theater and Performance Studies</td>\n",
       "      <td>15</td>\n",
       "    </tr>\n",
       "  </tbody>\n",
       "</table>\n",
       "</div>"
      ],
      "text/plain": [
       "                                            Area  \\\n",
       "112  Stem Cell Biology and Regenerative Medicine   \n",
       "113  Stem Cell Biology and Regenerative Medicine   \n",
       "114  Stem Cell Biology and Regenerative Medicine   \n",
       "115                           Structural Biology   \n",
       "116              Theater and Performance Studies   \n",
       "\n",
       "                                            Department  Number  \n",
       "112  Department of Stem Cell Biology and Regenerati...       1  \n",
       "113  Institute for Stem Cell Biology and Regenerati...       1  \n",
       "114  Department of Stem Cell Biology and Regenerati...       1  \n",
       "115                  Department of Structural Biology        9  \n",
       "116     Department of Theater and Performance Studies       15  "
      ]
     },
     "execution_count": 190,
     "metadata": {},
     "output_type": "execute_result"
    }
   ],
   "source": [
    "cleaned_areas.tail()"
   ]
  },
  {
   "cell_type": "code",
   "execution_count": 208,
   "metadata": {},
   "outputs": [],
   "source": [
    "result = cleaned_areas.loc[cleaned_areas['Department'].str.startswith('Department of Structural Biological systesm')]"
   ]
  },
  {
   "cell_type": "code",
   "execution_count": 214,
   "metadata": {},
   "outputs": [],
   "source": [
    "def test_area(department):\n",
    "    department = department.replace(\".\", \"\")\n",
    "    result = cleaned_areas.loc[cleaned_areas['Department'].str.startswith(department)]\n",
    "    if len(result) > 0:\n",
    "        return result['Area']\n",
    "    else:\n",
    "        print(f\"Could not find Area for department {department}\")\n",
    "        return"
   ]
  },
  {
   "cell_type": "code",
   "execution_count": 240,
   "metadata": {},
   "outputs": [],
   "source": [
    "dept_to_areas = { '': 'Unknown'}\n",
    "for row in cleaned_areas.iterrows():\n",
    "    dept = row[1]['Department']\n",
    "    area = row[1]['Area']\n",
    "    dept_to_areas[dept.strip()] = area.strip()"
   ]
  },
  {
   "cell_type": "code",
   "execution_count": 241,
   "metadata": {},
   "outputs": [],
   "source": [
    "abstracts['area'] = abstracts['departments'].apply(lambda x: dept_to_areas[x.replace(\".\",\"\")])"
   ]
  },
  {
   "cell_type": "code",
   "execution_count": 232,
   "metadata": {},
   "outputs": [
    {
     "name": "stdout",
     "output_type": "stream",
     "text": [
      "Center for Computer Research in Music and Acoustics \n",
      "Computer Science Department \n",
      "Department of Computer Science \n"
     ]
    }
   ],
   "source": [
    "for key in dept_to_areas.keys():\n",
    "    if 'Computer' in key:\n",
    "        print(key)"
   ]
  },
  {
   "cell_type": "code",
   "execution_count": 236,
   "metadata": {},
   "outputs": [
    {
     "data": {
      "text/plain": [
       "'Center for Computer Research in Music and Acoustics'"
      ]
     },
     "execution_count": 236,
     "metadata": {},
     "output_type": "execute_result"
    }
   ],
   "source": [
    "dept_to_areas['Center for Computer Research in Music and Acoustics ']"
   ]
  },
  {
   "cell_type": "code",
   "execution_count": 242,
   "metadata": {},
   "outputs": [
    {
     "data": {
      "text/html": [
       "<div>\n",
       "<style scoped>\n",
       "    .dataframe tbody tr th:only-of-type {\n",
       "        vertical-align: middle;\n",
       "    }\n",
       "\n",
       "    .dataframe tbody tr th {\n",
       "        vertical-align: top;\n",
       "    }\n",
       "\n",
       "    .dataframe thead th {\n",
       "        text-align: right;\n",
       "    }\n",
       "</style>\n",
       "<table border=\"1\" class=\"dataframe\">\n",
       "  <thead>\n",
       "    <tr style=\"text-align: right;\">\n",
       "      <th></th>\n",
       "      <th>druids</th>\n",
       "      <th>abstracts</th>\n",
       "      <th>abstracts_cleaned</th>\n",
       "      <th>departments</th>\n",
       "      <th>title</th>\n",
       "      <th>area</th>\n",
       "    </tr>\n",
       "  </thead>\n",
       "  <tbody>\n",
       "    <tr>\n",
       "      <th>0</th>\n",
       "      <td>yq942qc7340</td>\n",
       "      <td>Metaverses are virtual worlds where users crea...</td>\n",
       "      <td>metaverses virtual worlds users create entire ...</td>\n",
       "      <td>Department of Computer Science.</td>\n",
       "      <td>Simplification algorithms for large virtual wo...</td>\n",
       "      <td>Computer Science</td>\n",
       "    </tr>\n",
       "    <tr>\n",
       "      <th>1</th>\n",
       "      <td>yx753dx0216</td>\n",
       "      <td>In this dissertation, I use two novel test sco...</td>\n",
       "      <td>dissertation  use two novel test score data se...</td>\n",
       "      <td>Graduate School of Education.</td>\n",
       "      <td>Gender disparities in U.S. educational achieve...</td>\n",
       "      <td>Graduate School of Business</td>\n",
       "    </tr>\n",
       "    <tr>\n",
       "      <th>2</th>\n",
       "      <td>yd874rr2274</td>\n",
       "      <td>A 20-minute documentary film was created to ac...</td>\n",
       "      <td>minute documentary film created accelerate ...</td>\n",
       "      <td>Department of Geological and Environmental Sci...</td>\n",
       "      <td>matched pair, cluster randomized, controlled t...</td>\n",
       "      <td>Earth, Energy and Environmental Sciences</td>\n",
       "    </tr>\n",
       "    <tr>\n",
       "      <th>3</th>\n",
       "      <td>sh260yn9550</td>\n",
       "      <td>The usage of hydrogen as an alternative energy...</td>\n",
       "      <td>usage hydrogen alternative energy carrier beco...</td>\n",
       "      <td>Department of Bioengineering.</td>\n",
       "      <td>Improving functions of redox proteins for hydr...</td>\n",
       "      <td>Bioengineering</td>\n",
       "    </tr>\n",
       "    <tr>\n",
       "      <th>4</th>\n",
       "      <td>nk877ng0918</td>\n",
       "      <td>High-order methods in Computational Fluid Dyna...</td>\n",
       "      <td>high order methods computational fluid dynamic...</td>\n",
       "      <td>Department of Aeronautics and Astronautics.</td>\n",
       "      <td>analysis of stability of the flux reconstructi...</td>\n",
       "      <td>Aeronautics &amp; Astronautics</td>\n",
       "    </tr>\n",
       "  </tbody>\n",
       "</table>\n",
       "</div>"
      ],
      "text/plain": [
       "        druids                                          abstracts  \\\n",
       "0  yq942qc7340  Metaverses are virtual worlds where users crea...   \n",
       "1  yx753dx0216  In this dissertation, I use two novel test sco...   \n",
       "2  yd874rr2274  A 20-minute documentary film was created to ac...   \n",
       "3  sh260yn9550  The usage of hydrogen as an alternative energy...   \n",
       "4  nk877ng0918  High-order methods in Computational Fluid Dyna...   \n",
       "\n",
       "                                   abstracts_cleaned  \\\n",
       "0  metaverses virtual worlds users create entire ...   \n",
       "1  dissertation  use two novel test score data se...   \n",
       "2     minute documentary film created accelerate ...   \n",
       "3  usage hydrogen alternative energy carrier beco...   \n",
       "4  high order methods computational fluid dynamic...   \n",
       "\n",
       "                                         departments  \\\n",
       "0                    Department of Computer Science.   \n",
       "1                      Graduate School of Education.   \n",
       "2  Department of Geological and Environmental Sci...   \n",
       "3                      Department of Bioengineering.   \n",
       "4        Department of Aeronautics and Astronautics.   \n",
       "\n",
       "                                               title  \\\n",
       "0  Simplification algorithms for large virtual wo...   \n",
       "1  Gender disparities in U.S. educational achieve...   \n",
       "2  matched pair, cluster randomized, controlled t...   \n",
       "3  Improving functions of redox proteins for hydr...   \n",
       "4  analysis of stability of the flux reconstructi...   \n",
       "\n",
       "                                       area  \n",
       "0                          Computer Science  \n",
       "1               Graduate School of Business  \n",
       "2  Earth, Energy and Environmental Sciences  \n",
       "3                            Bioengineering  \n",
       "4                Aeronautics & Astronautics  "
      ]
     },
     "execution_count": 242,
     "metadata": {},
     "output_type": "execute_result"
    }
   ],
   "source": [
    "abstracts.head()"
   ]
  },
  {
   "cell_type": "code",
   "execution_count": 248,
   "metadata": {},
   "outputs": [],
   "source": [
    "regenerated_etds = pathlib.Path(\"/Users/jpnelson/2020/sul-dlss/tmp/etd-10-27/results\")"
   ]
  },
  {
   "cell_type": "code",
   "execution_count": 253,
   "metadata": {},
   "outputs": [],
   "source": [
    "missing_druids = []\n",
    "for row in regenerated_etds.iterdir():\n",
    "    druid = row.name[:-4]\n",
    "    result = abstracts.loc[abstracts['druids'] == druid]\n",
    "    if len(result)  < 1:\n",
    "        missing_druids.append(druid)"
   ]
  },
  {
   "cell_type": "code",
   "execution_count": 254,
   "metadata": {},
   "outputs": [
    {
     "data": {
      "text/plain": [
       "1005"
      ]
     },
     "execution_count": 254,
     "metadata": {},
     "output_type": "execute_result"
    }
   ],
   "source": [
    "len(missing_druids)"
   ]
  },
  {
   "cell_type": "code",
   "execution_count": 255,
   "metadata": {},
   "outputs": [
    {
     "data": {
      "text/plain": [
       "(1005, 6284)"
      ]
     },
     "execution_count": 255,
     "metadata": {},
     "output_type": "execute_result"
    }
   ],
   "source": [
    "len(missing_druids), len(abstracts)"
   ]
  },
  {
   "cell_type": "code",
   "execution_count": 256,
   "metadata": {},
   "outputs": [
    {
     "data": {
      "text/plain": [
       "'pt382fg9784'"
      ]
     },
     "execution_count": 256,
     "metadata": {},
     "output_type": "execute_result"
    }
   ],
   "source": [
    "missing_druids[0]"
   ]
  },
  {
   "cell_type": "code",
   "execution_count": 260,
   "metadata": {},
   "outputs": [],
   "source": [
    "mods = get_mods(missing_druids[0])"
   ]
  },
  {
   "cell_type": "code",
   "execution_count": 263,
   "metadata": {},
   "outputs": [
    {
     "data": {
      "text/html": [
       "<div>\n",
       "<style scoped>\n",
       "    .dataframe tbody tr th:only-of-type {\n",
       "        vertical-align: middle;\n",
       "    }\n",
       "\n",
       "    .dataframe tbody tr th {\n",
       "        vertical-align: top;\n",
       "    }\n",
       "\n",
       "    .dataframe thead th {\n",
       "        text-align: right;\n",
       "    }\n",
       "</style>\n",
       "<table border=\"1\" class=\"dataframe\">\n",
       "  <thead>\n",
       "    <tr style=\"text-align: right;\">\n",
       "      <th></th>\n",
       "      <th>druids</th>\n",
       "      <th>abstracts</th>\n",
       "      <th>abstracts_cleaned</th>\n",
       "      <th>departments</th>\n",
       "      <th>title</th>\n",
       "      <th>area</th>\n",
       "    </tr>\n",
       "  </thead>\n",
       "  <tbody>\n",
       "    <tr>\n",
       "      <th>0</th>\n",
       "      <td>yq942qc7340</td>\n",
       "      <td>Metaverses are virtual worlds where users crea...</td>\n",
       "      <td>metaverses virtual worlds users create entire ...</td>\n",
       "      <td>Department of Computer Science.</td>\n",
       "      <td>Simplification algorithms for large virtual wo...</td>\n",
       "      <td>Computer Science</td>\n",
       "    </tr>\n",
       "    <tr>\n",
       "      <th>1</th>\n",
       "      <td>yx753dx0216</td>\n",
       "      <td>In this dissertation, I use two novel test sco...</td>\n",
       "      <td>dissertation  use two novel test score data se...</td>\n",
       "      <td>Graduate School of Education.</td>\n",
       "      <td>Gender disparities in U.S. educational achieve...</td>\n",
       "      <td>Graduate School of Business</td>\n",
       "    </tr>\n",
       "    <tr>\n",
       "      <th>2</th>\n",
       "      <td>yd874rr2274</td>\n",
       "      <td>A 20-minute documentary film was created to ac...</td>\n",
       "      <td>minute documentary film created accelerate ...</td>\n",
       "      <td>Department of Geological and Environmental Sci...</td>\n",
       "      <td>matched pair, cluster randomized, controlled t...</td>\n",
       "      <td>Earth, Energy and Environmental Sciences</td>\n",
       "    </tr>\n",
       "    <tr>\n",
       "      <th>3</th>\n",
       "      <td>sh260yn9550</td>\n",
       "      <td>The usage of hydrogen as an alternative energy...</td>\n",
       "      <td>usage hydrogen alternative energy carrier beco...</td>\n",
       "      <td>Department of Bioengineering.</td>\n",
       "      <td>Improving functions of redox proteins for hydr...</td>\n",
       "      <td>Bioengineering</td>\n",
       "    </tr>\n",
       "    <tr>\n",
       "      <th>4</th>\n",
       "      <td>nk877ng0918</td>\n",
       "      <td>High-order methods in Computational Fluid Dyna...</td>\n",
       "      <td>high order methods computational fluid dynamic...</td>\n",
       "      <td>Department of Aeronautics and Astronautics.</td>\n",
       "      <td>analysis of stability of the flux reconstructi...</td>\n",
       "      <td>Aeronautics &amp; Astronautics</td>\n",
       "    </tr>\n",
       "  </tbody>\n",
       "</table>\n",
       "</div>"
      ],
      "text/plain": [
       "        druids                                          abstracts  \\\n",
       "0  yq942qc7340  Metaverses are virtual worlds where users crea...   \n",
       "1  yx753dx0216  In this dissertation, I use two novel test sco...   \n",
       "2  yd874rr2274  A 20-minute documentary film was created to ac...   \n",
       "3  sh260yn9550  The usage of hydrogen as an alternative energy...   \n",
       "4  nk877ng0918  High-order methods in Computational Fluid Dyna...   \n",
       "\n",
       "                                   abstracts_cleaned  \\\n",
       "0  metaverses virtual worlds users create entire ...   \n",
       "1  dissertation  use two novel test score data se...   \n",
       "2     minute documentary film created accelerate ...   \n",
       "3  usage hydrogen alternative energy carrier beco...   \n",
       "4  high order methods computational fluid dynamic...   \n",
       "\n",
       "                                         departments  \\\n",
       "0                    Department of Computer Science.   \n",
       "1                      Graduate School of Education.   \n",
       "2  Department of Geological and Environmental Sci...   \n",
       "3                      Department of Bioengineering.   \n",
       "4        Department of Aeronautics and Astronautics.   \n",
       "\n",
       "                                               title  \\\n",
       "0  Simplification algorithms for large virtual wo...   \n",
       "1  Gender disparities in U.S. educational achieve...   \n",
       "2  matched pair, cluster randomized, controlled t...   \n",
       "3  Improving functions of redox proteins for hydr...   \n",
       "4  analysis of stability of the flux reconstructi...   \n",
       "\n",
       "                                       area  \n",
       "0                          Computer Science  \n",
       "1               Graduate School of Business  \n",
       "2  Earth, Energy and Environmental Sciences  \n",
       "3                            Bioengineering  \n",
       "4                Aeronautics & Astronautics  "
      ]
     },
     "execution_count": 263,
     "metadata": {},
     "output_type": "execute_result"
    }
   ],
   "source": [
    "abstracts.head()"
   ]
  },
  {
   "cell_type": "code",
   "execution_count": 267,
   "metadata": {},
   "outputs": [
    {
     "data": {
      "text/plain": [
       "'Inverse problems in the Pacific'"
      ]
     },
     "execution_count": 267,
     "metadata": {},
     "output_type": "execute_result"
    }
   ],
   "source": [
    "mods.find(\"mods:titleInfo/mods:title\", namespaces=ns).text"
   ]
  },
  {
   "cell_type": "code",
   "execution_count": 270,
   "metadata": {},
   "outputs": [],
   "source": [
    "import sys\n",
    "sys.path.append(\"/Users/jpnelson/2020/sul-dlss/etd-abstract-similarity/src/\")\n",
    "import prep"
   ]
  },
  {
   "cell_type": "code",
   "execution_count": 286,
   "metadata": {},
   "outputs": [
    {
     "name": "stdout",
     "output_type": "stream",
     "text": [
      "Started at 2020-10-30 19:44:10.140675\n",
      ".0..25...50..75...100..125...150..175...200..225..e246.250..275...300.e317.325...350.e364.375.e387..400e402..425e429...450..475...500e501.e516.525...550..575...600..625..e643.650e659..e671675...700..725...750..775...800e807..825...850.e869.875...900..925...950e957.e965.975...1000Finished at 2020-10-30 19:50:53.321656, total time 6.716666666666667\n"
     ]
    }
   ],
   "source": [
    "new_abstracts = []\n",
    "start = datetime.datetime.utcnow()\n",
    "print(f\"Started at {start}\")\n",
    "errors = []\n",
    "for i,druid in enumerate(missing_druids):\n",
    "    record = { \"druids\": druid }\n",
    "    mods_xml = prep.get_mods(druid)\n",
    "    abstract = prep.get_abstract(mods_xml)\n",
    "    if abstract is None:\n",
    "        record['mods'] = mods_xml\n",
    "        errors.append(record)\n",
    "        continue\n",
    "    record['abstracts'] = abstract\n",
    "    cleaned_abstract = prep.cleanup(abstract)\n",
    "    record['abstracts_cleaned'] = cleaned_abstract\n",
    "    department = prep.get_department(mods_xml)\n",
    "    record['departments'] = department\n",
    "    try:\n",
    "        area = dept_to_areas[department.replace(\".\",\"\")]\n",
    "    except KeyError:\n",
    "        print(f\"e{i}\", end=\"\")\n",
    "        errors.append(record)\n",
    "    record['area'] = area\n",
    "    title = prep.get_title(mods_xml)\n",
    "    record['title'] = title\n",
    "    new_abstracts.append(record)\n",
    "    if not i%10:\n",
    "        print(\".\", end=\"\")\n",
    "    if i == 0 or not i%25:\n",
    "        print(f\"{i}\", end=\"\")\n",
    "end = datetime.datetime.utcnow()\n",
    "print(f\"Finished at {end}, total time {(end-start).seconds / 60.}\")"
   ]
  },
  {
   "cell_type": "code",
   "execution_count": 279,
   "metadata": {},
   "outputs": [],
   "source": [
    "dept_to_areas['Department of Medicine'] = 'Medicine'"
   ]
  },
  {
   "cell_type": "code",
   "execution_count": 278,
   "metadata": {},
   "outputs": [
    {
     "data": {
      "text/plain": [
       "'Department of Medicine'"
      ]
     },
     "execution_count": 278,
     "metadata": {},
     "output_type": "execute_result"
    }
   ],
   "source": [
    "dept_to_areas.pop('Medicine')"
   ]
  },
  {
   "cell_type": "code",
   "execution_count": 283,
   "metadata": {},
   "outputs": [],
   "source": [
    "dept_to_areas['Program in Chemical Engineering'] = 'Chemical Engineering'"
   ]
  },
  {
   "cell_type": "code",
   "execution_count": 287,
   "metadata": {},
   "outputs": [
    {
     "data": {
      "text/html": [
       "<div>\n",
       "<style scoped>\n",
       "    .dataframe tbody tr th:only-of-type {\n",
       "        vertical-align: middle;\n",
       "    }\n",
       "\n",
       "    .dataframe tbody tr th {\n",
       "        vertical-align: top;\n",
       "    }\n",
       "\n",
       "    .dataframe thead th {\n",
       "        text-align: right;\n",
       "    }\n",
       "</style>\n",
       "<table border=\"1\" class=\"dataframe\">\n",
       "  <thead>\n",
       "    <tr style=\"text-align: right;\">\n",
       "      <th></th>\n",
       "      <th>druids</th>\n",
       "      <th>abstracts</th>\n",
       "      <th>abstracts_cleaned</th>\n",
       "      <th>departments</th>\n",
       "      <th>title</th>\n",
       "      <th>area</th>\n",
       "    </tr>\n",
       "  </thead>\n",
       "  <tbody>\n",
       "    <tr>\n",
       "      <th>895</th>\n",
       "      <td>.DS_S</td>\n",
       "      <td></td>\n",
       "      <td></td>\n",
       "      <td></td>\n",
       "      <td>None</td>\n",
       "      <td>Unknown</td>\n",
       "    </tr>\n",
       "  </tbody>\n",
       "</table>\n",
       "</div>"
      ],
      "text/plain": [
       "    druids abstracts abstracts_cleaned departments title     area\n",
       "895  .DS_S                                          None  Unknown"
      ]
     },
     "execution_count": 287,
     "metadata": {},
     "output_type": "execute_result"
    }
   ],
   "source": [
    "abstracts.loc[abstracts['druids']=='.DS_S']"
   ]
  },
  {
   "cell_type": "code",
   "execution_count": 288,
   "metadata": {},
   "outputs": [
    {
     "data": {
      "text/plain": [
       "17"
      ]
     },
     "execution_count": 288,
     "metadata": {},
     "output_type": "execute_result"
    }
   ],
   "source": [
    "len(errors)"
   ]
  },
  {
   "cell_type": "code",
   "execution_count": 291,
   "metadata": {},
   "outputs": [
    {
     "name": "stdout",
     "output_type": "stream",
     "text": [
      "Department of Geology.\n",
      "Department of Civil & Environmental Engineering Department\n",
      "Not found 2\n",
      "Graduate Program of Immunology.\n",
      "Department of Epidemiology\n",
      "Department of Computer Science Department.\n",
      "Program in Chemical and Systems Biology.\n",
      "Not found 7\n",
      "Interdisciplinary Stem Cell Biology and Regenerative Medicine.\n",
      "Earth Systems Science.\n",
      "Department of Epidemiology.\n",
      "Department of Civil & Environmental Engineering.\n",
      "Emmet Interdisciplinary Program in Environment and Resources (Stanford University)\n",
      "Department of Neurology.\n",
      "Department of Civil & Environmental Engineering\n",
      "Department of Cultural and Social Anthropology\n",
      "Department of Health Policy.\n"
     ]
    }
   ],
   "source": [
    "for i,row in enumerate(errors):\n",
    "    print(row.get('departments', f\"Not found {i}\"))"
   ]
  },
  {
   "cell_type": "code",
   "execution_count": 292,
   "metadata": {},
   "outputs": [
    {
     "data": {
      "text/plain": [
       "1003"
      ]
     },
     "execution_count": 292,
     "metadata": {},
     "output_type": "execute_result"
    }
   ],
   "source": [
    "len(new_abstracts)"
   ]
  },
  {
   "cell_type": "code",
   "execution_count": 293,
   "metadata": {},
   "outputs": [],
   "source": [
    "new_abstracts_df = pd.DataFrame(new_abstracts)"
   ]
  },
  {
   "cell_type": "code",
   "execution_count": 294,
   "metadata": {},
   "outputs": [
    {
     "data": {
      "text/html": [
       "<div>\n",
       "<style scoped>\n",
       "    .dataframe tbody tr th:only-of-type {\n",
       "        vertical-align: middle;\n",
       "    }\n",
       "\n",
       "    .dataframe tbody tr th {\n",
       "        vertical-align: top;\n",
       "    }\n",
       "\n",
       "    .dataframe thead th {\n",
       "        text-align: right;\n",
       "    }\n",
       "</style>\n",
       "<table border=\"1\" class=\"dataframe\">\n",
       "  <thead>\n",
       "    <tr style=\"text-align: right;\">\n",
       "      <th></th>\n",
       "      <th>druids</th>\n",
       "      <th>abstracts</th>\n",
       "      <th>abstracts_cleaned</th>\n",
       "      <th>departments</th>\n",
       "      <th>area</th>\n",
       "      <th>title</th>\n",
       "    </tr>\n",
       "  </thead>\n",
       "  <tbody>\n",
       "    <tr>\n",
       "      <th>0</th>\n",
       "      <td>pt382fg9784</td>\n",
       "      <td>The settlement of Polynesia represents a uniqu...</td>\n",
       "      <td>settlement polynesia represents uniquely struc...</td>\n",
       "      <td>Institute for Computational and Mathematical E...</td>\n",
       "      <td>Computational and Mathematical Engineering</td>\n",
       "      <td>Inverse problems in the Pacific</td>\n",
       "    </tr>\n",
       "    <tr>\n",
       "      <th>1</th>\n",
       "      <td>hh687db3446</td>\n",
       "      <td>Catalysts are a critical component of the chem...</td>\n",
       "      <td>catalysts critical component chemical industry...</td>\n",
       "      <td>Department of Chemical Engineering</td>\n",
       "      <td>Chemical Engineering</td>\n",
       "      <td>Design and understanding of selective catalyst...</td>\n",
       "    </tr>\n",
       "    <tr>\n",
       "      <th>2</th>\n",
       "      <td>bg169vz8806</td>\n",
       "      <td>This dissertation examines how local governmen...</td>\n",
       "      <td>dissertation examines local government institu...</td>\n",
       "      <td>Department of Political Science</td>\n",
       "      <td>Political Science</td>\n",
       "      <td>art of not governing</td>\n",
       "    </tr>\n",
       "    <tr>\n",
       "      <th>3</th>\n",
       "      <td>ky788fx0492</td>\n",
       "      <td>This dissertation assesses the style of the He...</td>\n",
       "      <td>dissertation assesses style hesiodic shield he...</td>\n",
       "      <td>Department of Classics.</td>\n",
       "      <td>Classics</td>\n",
       "      <td>poetics of style in the shield of Heracles</td>\n",
       "    </tr>\n",
       "    <tr>\n",
       "      <th>4</th>\n",
       "      <td>kc412qs1135</td>\n",
       "      <td>Carbon mitigation policies should be designed ...</td>\n",
       "      <td>carbon mitigation policies designed balance co...</td>\n",
       "      <td>Department of Management Science and Engineering.</td>\n",
       "      <td>Management Science and Engineering</td>\n",
       "      <td>Modeling uncertain climate impacts and adaptat...</td>\n",
       "    </tr>\n",
       "  </tbody>\n",
       "</table>\n",
       "</div>"
      ],
      "text/plain": [
       "        druids                                          abstracts  \\\n",
       "0  pt382fg9784  The settlement of Polynesia represents a uniqu...   \n",
       "1  hh687db3446  Catalysts are a critical component of the chem...   \n",
       "2  bg169vz8806  This dissertation examines how local governmen...   \n",
       "3  ky788fx0492  This dissertation assesses the style of the He...   \n",
       "4  kc412qs1135  Carbon mitigation policies should be designed ...   \n",
       "\n",
       "                                   abstracts_cleaned  \\\n",
       "0  settlement polynesia represents uniquely struc...   \n",
       "1  catalysts critical component chemical industry...   \n",
       "2  dissertation examines local government institu...   \n",
       "3  dissertation assesses style hesiodic shield he...   \n",
       "4  carbon mitigation policies designed balance co...   \n",
       "\n",
       "                                         departments  \\\n",
       "0  Institute for Computational and Mathematical E...   \n",
       "1                 Department of Chemical Engineering   \n",
       "2                    Department of Political Science   \n",
       "3                            Department of Classics.   \n",
       "4  Department of Management Science and Engineering.   \n",
       "\n",
       "                                         area  \\\n",
       "0  Computational and Mathematical Engineering   \n",
       "1                        Chemical Engineering   \n",
       "2                           Political Science   \n",
       "3                                    Classics   \n",
       "4          Management Science and Engineering   \n",
       "\n",
       "                                               title  \n",
       "0                    Inverse problems in the Pacific  \n",
       "1  Design and understanding of selective catalyst...  \n",
       "2                               art of not governing  \n",
       "3         poetics of style in the shield of Heracles  \n",
       "4  Modeling uncertain climate impacts and adaptat...  "
      ]
     },
     "execution_count": 294,
     "metadata": {},
     "output_type": "execute_result"
    }
   ],
   "source": [
    "new_abstracts_df.head()"
   ]
  },
  {
   "cell_type": "code",
   "execution_count": 296,
   "metadata": {},
   "outputs": [],
   "source": [
    "all_abstracts = pd.concat([abstracts, new_abstracts_df])"
   ]
  },
  {
   "cell_type": "code",
   "execution_count": 297,
   "metadata": {},
   "outputs": [
    {
     "data": {
      "text/html": [
       "<div>\n",
       "<style scoped>\n",
       "    .dataframe tbody tr th:only-of-type {\n",
       "        vertical-align: middle;\n",
       "    }\n",
       "\n",
       "    .dataframe tbody tr th {\n",
       "        vertical-align: top;\n",
       "    }\n",
       "\n",
       "    .dataframe thead th {\n",
       "        text-align: right;\n",
       "    }\n",
       "</style>\n",
       "<table border=\"1\" class=\"dataframe\">\n",
       "  <thead>\n",
       "    <tr style=\"text-align: right;\">\n",
       "      <th></th>\n",
       "      <th>druids</th>\n",
       "      <th>abstracts</th>\n",
       "      <th>abstracts_cleaned</th>\n",
       "      <th>departments</th>\n",
       "      <th>title</th>\n",
       "      <th>area</th>\n",
       "    </tr>\n",
       "  </thead>\n",
       "  <tbody>\n",
       "    <tr>\n",
       "      <th>0</th>\n",
       "      <td>yq942qc7340</td>\n",
       "      <td>Metaverses are virtual worlds where users crea...</td>\n",
       "      <td>metaverses virtual worlds users create entire ...</td>\n",
       "      <td>Department of Computer Science.</td>\n",
       "      <td>Simplification algorithms for large virtual wo...</td>\n",
       "      <td>Computer Science</td>\n",
       "    </tr>\n",
       "    <tr>\n",
       "      <th>1</th>\n",
       "      <td>yx753dx0216</td>\n",
       "      <td>In this dissertation, I use two novel test sco...</td>\n",
       "      <td>dissertation  use two novel test score data se...</td>\n",
       "      <td>Graduate School of Education.</td>\n",
       "      <td>Gender disparities in U.S. educational achieve...</td>\n",
       "      <td>Graduate School of Business</td>\n",
       "    </tr>\n",
       "    <tr>\n",
       "      <th>2</th>\n",
       "      <td>yd874rr2274</td>\n",
       "      <td>A 20-minute documentary film was created to ac...</td>\n",
       "      <td>minute documentary film created accelerate ...</td>\n",
       "      <td>Department of Geological and Environmental Sci...</td>\n",
       "      <td>matched pair, cluster randomized, controlled t...</td>\n",
       "      <td>Earth, Energy and Environmental Sciences</td>\n",
       "    </tr>\n",
       "    <tr>\n",
       "      <th>3</th>\n",
       "      <td>sh260yn9550</td>\n",
       "      <td>The usage of hydrogen as an alternative energy...</td>\n",
       "      <td>usage hydrogen alternative energy carrier beco...</td>\n",
       "      <td>Department of Bioengineering.</td>\n",
       "      <td>Improving functions of redox proteins for hydr...</td>\n",
       "      <td>Bioengineering</td>\n",
       "    </tr>\n",
       "    <tr>\n",
       "      <th>4</th>\n",
       "      <td>nk877ng0918</td>\n",
       "      <td>High-order methods in Computational Fluid Dyna...</td>\n",
       "      <td>high order methods computational fluid dynamic...</td>\n",
       "      <td>Department of Aeronautics and Astronautics.</td>\n",
       "      <td>analysis of stability of the flux reconstructi...</td>\n",
       "      <td>Aeronautics &amp; Astronautics</td>\n",
       "    </tr>\n",
       "  </tbody>\n",
       "</table>\n",
       "</div>"
      ],
      "text/plain": [
       "        druids                                          abstracts  \\\n",
       "0  yq942qc7340  Metaverses are virtual worlds where users crea...   \n",
       "1  yx753dx0216  In this dissertation, I use two novel test sco...   \n",
       "2  yd874rr2274  A 20-minute documentary film was created to ac...   \n",
       "3  sh260yn9550  The usage of hydrogen as an alternative energy...   \n",
       "4  nk877ng0918  High-order methods in Computational Fluid Dyna...   \n",
       "\n",
       "                                   abstracts_cleaned  \\\n",
       "0  metaverses virtual worlds users create entire ...   \n",
       "1  dissertation  use two novel test score data se...   \n",
       "2     minute documentary film created accelerate ...   \n",
       "3  usage hydrogen alternative energy carrier beco...   \n",
       "4  high order methods computational fluid dynamic...   \n",
       "\n",
       "                                         departments  \\\n",
       "0                    Department of Computer Science.   \n",
       "1                      Graduate School of Education.   \n",
       "2  Department of Geological and Environmental Sci...   \n",
       "3                      Department of Bioengineering.   \n",
       "4        Department of Aeronautics and Astronautics.   \n",
       "\n",
       "                                               title  \\\n",
       "0  Simplification algorithms for large virtual wo...   \n",
       "1  Gender disparities in U.S. educational achieve...   \n",
       "2  matched pair, cluster randomized, controlled t...   \n",
       "3  Improving functions of redox proteins for hydr...   \n",
       "4  analysis of stability of the flux reconstructi...   \n",
       "\n",
       "                                       area  \n",
       "0                          Computer Science  \n",
       "1               Graduate School of Business  \n",
       "2  Earth, Energy and Environmental Sciences  \n",
       "3                            Bioengineering  \n",
       "4                Aeronautics & Astronautics  "
      ]
     },
     "execution_count": 297,
     "metadata": {},
     "output_type": "execute_result"
    }
   ],
   "source": [
    "all_abstracts.head()"
   ]
  },
  {
   "cell_type": "code",
   "execution_count": 298,
   "metadata": {},
   "outputs": [
    {
     "data": {
      "text/html": [
       "<div>\n",
       "<style scoped>\n",
       "    .dataframe tbody tr th:only-of-type {\n",
       "        vertical-align: middle;\n",
       "    }\n",
       "\n",
       "    .dataframe tbody tr th {\n",
       "        vertical-align: top;\n",
       "    }\n",
       "\n",
       "    .dataframe thead th {\n",
       "        text-align: right;\n",
       "    }\n",
       "</style>\n",
       "<table border=\"1\" class=\"dataframe\">\n",
       "  <thead>\n",
       "    <tr style=\"text-align: right;\">\n",
       "      <th></th>\n",
       "      <th>druids</th>\n",
       "      <th>abstracts</th>\n",
       "      <th>abstracts_cleaned</th>\n",
       "      <th>departments</th>\n",
       "      <th>title</th>\n",
       "      <th>area</th>\n",
       "    </tr>\n",
       "  </thead>\n",
       "  <tbody>\n",
       "    <tr>\n",
       "      <th>998</th>\n",
       "      <td>db465vb0804</td>\n",
       "      <td>In today's digital age, online services, such ...</td>\n",
       "      <td>today s digital age  online services  search e...</td>\n",
       "      <td>Computer Science Department</td>\n",
       "      <td>Protecting privacy when mining and sharing use...</td>\n",
       "      <td>Computer Science</td>\n",
       "    </tr>\n",
       "    <tr>\n",
       "      <th>999</th>\n",
       "      <td>sj995pm3375</td>\n",
       "      <td>This dissertation consists of three chapters. ...</td>\n",
       "      <td>dissertation consists three chapters  first tw...</td>\n",
       "      <td>Graduate School of Business</td>\n",
       "      <td>Essays in microeconomics</td>\n",
       "      <td>Graduate School of Business</td>\n",
       "    </tr>\n",
       "    <tr>\n",
       "      <th>1000</th>\n",
       "      <td>qn448rp1399</td>\n",
       "      <td>Magnetic resonance imaging (MRI) is an importa...</td>\n",
       "      <td>magnetic resonance imaging  mri  important med...</td>\n",
       "      <td>Department of Electrical Engineering.</td>\n",
       "      <td>Acceleration of 3D magnetic resonance angiography</td>\n",
       "      <td>Electrical Engineering</td>\n",
       "    </tr>\n",
       "    <tr>\n",
       "      <th>1001</th>\n",
       "      <td>sj756gx1416</td>\n",
       "      <td>Five-year survival rates for adult B-cell acut...</td>\n",
       "      <td>five year survival rates adult b cell acute ly...</td>\n",
       "      <td>Cancer Biology Program.</td>\n",
       "      <td>Myeloid reprogramming B cell acute lymphoblast...</td>\n",
       "      <td>Cancer Biology</td>\n",
       "    </tr>\n",
       "    <tr>\n",
       "      <th>1002</th>\n",
       "      <td>sz929xd7180</td>\n",
       "      <td>A defining step in germ cell development is th...</td>\n",
       "      <td>defining step germ cell development exit mitot...</td>\n",
       "      <td>Cancer Biology Program.</td>\n",
       "      <td>Conserved regulation of the switch from prolif...</td>\n",
       "      <td>Cancer Biology</td>\n",
       "    </tr>\n",
       "  </tbody>\n",
       "</table>\n",
       "</div>"
      ],
      "text/plain": [
       "           druids                                          abstracts  \\\n",
       "998   db465vb0804  In today's digital age, online services, such ...   \n",
       "999   sj995pm3375  This dissertation consists of three chapters. ...   \n",
       "1000  qn448rp1399  Magnetic resonance imaging (MRI) is an importa...   \n",
       "1001  sj756gx1416  Five-year survival rates for adult B-cell acut...   \n",
       "1002  sz929xd7180  A defining step in germ cell development is th...   \n",
       "\n",
       "                                      abstracts_cleaned  \\\n",
       "998   today s digital age  online services  search e...   \n",
       "999   dissertation consists three chapters  first tw...   \n",
       "1000  magnetic resonance imaging  mri  important med...   \n",
       "1001  five year survival rates adult b cell acute ly...   \n",
       "1002  defining step germ cell development exit mitot...   \n",
       "\n",
       "                                departments  \\\n",
       "998             Computer Science Department   \n",
       "999             Graduate School of Business   \n",
       "1000  Department of Electrical Engineering.   \n",
       "1001                Cancer Biology Program.   \n",
       "1002                Cancer Biology Program.   \n",
       "\n",
       "                                                  title  \\\n",
       "998   Protecting privacy when mining and sharing use...   \n",
       "999                            Essays in microeconomics   \n",
       "1000  Acceleration of 3D magnetic resonance angiography   \n",
       "1001  Myeloid reprogramming B cell acute lymphoblast...   \n",
       "1002  Conserved regulation of the switch from prolif...   \n",
       "\n",
       "                             area  \n",
       "998              Computer Science  \n",
       "999   Graduate School of Business  \n",
       "1000       Electrical Engineering  \n",
       "1001               Cancer Biology  \n",
       "1002               Cancer Biology  "
      ]
     },
     "execution_count": 298,
     "metadata": {},
     "output_type": "execute_result"
    }
   ],
   "source": [
    "all_abstracts.tail()"
   ]
  },
  {
   "cell_type": "code",
   "execution_count": 341,
   "metadata": {},
   "outputs": [
    {
     "name": "stdout",
     "output_type": "stream",
     "text": [
      "7283\n"
     ]
    }
   ],
   "source": [
    "all_abstracts.to_pickle(\"/Users/jpnelson/2020/sul-dlss/etd-abstract-similarity/data/abstracts.pkl\")\n",
    "print(len(all_abstracts))"
   ]
  },
  {
   "cell_type": "code",
   "execution_count": 342,
   "metadata": {},
   "outputs": [
    {
     "name": "stdout",
     "output_type": "stream",
     "text": [
      "Start 2020-10-30 22:22:22.874855\n",
      "Finished 2020-10-30 22:42:06.641384 total time 19.716666666666665 minutes\n"
     ]
    }
   ],
   "source": [
    "start_emb = datetime.datetime.utcnow()\n",
    "print(f\"Start {start_emb}\")\n",
    "abstract_embeddings = sbert_model.encode(all_abstracts['abstracts_cleaned'])\n",
    "end_emb = datetime.datetime.utcnow()\n",
    "print(f\"Finished {end_emb} total time {(end_emb-start_emb).seconds / 60.} minutes\")"
   ]
  },
  {
   "cell_type": "code",
   "execution_count": 304,
   "metadata": {},
   "outputs": [
    {
     "data": {
      "text/plain": [
       "\u001b[0;31mSignature:\u001b[0m\n",
       "\u001b[0mpickle\u001b[0m\u001b[0;34m.\u001b[0m\u001b[0mdump\u001b[0m\u001b[0;34m(\u001b[0m\u001b[0;34m\u001b[0m\n",
       "\u001b[0;34m\u001b[0m    \u001b[0mobj\u001b[0m\u001b[0;34m,\u001b[0m\u001b[0;34m\u001b[0m\n",
       "\u001b[0;34m\u001b[0m    \u001b[0mfile\u001b[0m\u001b[0;34m,\u001b[0m\u001b[0;34m\u001b[0m\n",
       "\u001b[0;34m\u001b[0m    \u001b[0mprotocol\u001b[0m\u001b[0;34m=\u001b[0m\u001b[0;32mNone\u001b[0m\u001b[0;34m,\u001b[0m\u001b[0;34m\u001b[0m\n",
       "\u001b[0;34m\u001b[0m    \u001b[0;34m*\u001b[0m\u001b[0;34m,\u001b[0m\u001b[0;34m\u001b[0m\n",
       "\u001b[0;34m\u001b[0m    \u001b[0mfix_imports\u001b[0m\u001b[0;34m=\u001b[0m\u001b[0;32mTrue\u001b[0m\u001b[0;34m,\u001b[0m\u001b[0;34m\u001b[0m\n",
       "\u001b[0;34m\u001b[0m    \u001b[0mbuffer_callback\u001b[0m\u001b[0;34m=\u001b[0m\u001b[0;32mNone\u001b[0m\u001b[0;34m,\u001b[0m\u001b[0;34m\u001b[0m\n",
       "\u001b[0;34m\u001b[0m\u001b[0;34m)\u001b[0m\u001b[0;34m\u001b[0m\u001b[0;34m\u001b[0m\u001b[0m\n",
       "\u001b[0;31mDocstring:\u001b[0m\n",
       "Write a pickled representation of obj to the open file object file.\n",
       "\n",
       "This is equivalent to ``Pickler(file, protocol).dump(obj)``, but may\n",
       "be more efficient.\n",
       "\n",
       "The optional *protocol* argument tells the pickler to use the given\n",
       "protocol; supported protocols are 0, 1, 2, 3 and 4.  The default\n",
       "protocol is 4. It was introduced in Python 3.4, it is incompatible\n",
       "with previous versions.\n",
       "\n",
       "Specifying a negative protocol version selects the highest protocol\n",
       "version supported.  The higher the protocol used, the more recent the\n",
       "version of Python needed to read the pickle produced.\n",
       "\n",
       "The *file* argument must have a write() method that accepts a single\n",
       "bytes argument.  It can thus be a file object opened for binary\n",
       "writing, an io.BytesIO instance, or any other custom object that meets\n",
       "this interface.\n",
       "\n",
       "If *fix_imports* is True and protocol is less than 3, pickle will try\n",
       "to map the new Python 3 names to the old module names used in Python\n",
       "2, so that the pickle data stream is readable with Python 2.\n",
       "\n",
       "If *buffer_callback* is None (the default), buffer views are serialized\n",
       "into *file* as part of the pickle stream.  It is an error if\n",
       "*buffer_callback* is not None and *protocol* is None or smaller than 5.\n",
       "\u001b[0;31mType:\u001b[0m      builtin_function_or_method\n"
      ]
     },
     "metadata": {},
     "output_type": "display_data"
    }
   ],
   "source": [
    "pickle.dump?"
   ]
  },
  {
   "cell_type": "code",
   "execution_count": 344,
   "metadata": {},
   "outputs": [],
   "source": [
    "with open(\"/Users/jpnelson/2020/sul-dlss/etd-abstract-similarity/data/abstracts-bert-embeddings.pkl\", \"wb+\") as fo:\n",
    "    pickle.dump(abstract_embeddings, fo)"
   ]
  },
  {
   "cell_type": "code",
   "execution_count": 311,
   "metadata": {},
   "outputs": [
    {
     "data": {
      "text/html": [
       "<div>\n",
       "<style scoped>\n",
       "    .dataframe tbody tr th:only-of-type {\n",
       "        vertical-align: middle;\n",
       "    }\n",
       "\n",
       "    .dataframe tbody tr th {\n",
       "        vertical-align: top;\n",
       "    }\n",
       "\n",
       "    .dataframe thead th {\n",
       "        text-align: right;\n",
       "    }\n",
       "</style>\n",
       "<table border=\"1\" class=\"dataframe\">\n",
       "  <thead>\n",
       "    <tr style=\"text-align: right;\">\n",
       "      <th></th>\n",
       "      <th>druids</th>\n",
       "      <th>abstracts</th>\n",
       "      <th>abstracts_cleaned</th>\n",
       "      <th>departments</th>\n",
       "      <th>title</th>\n",
       "      <th>area</th>\n",
       "    </tr>\n",
       "  </thead>\n",
       "  <tbody>\n",
       "    <tr>\n",
       "      <th>0</th>\n",
       "      <td>yq942qc7340</td>\n",
       "      <td>Metaverses are virtual worlds where users crea...</td>\n",
       "      <td>metaverses virtual worlds users create entire ...</td>\n",
       "      <td>Department of Computer Science.</td>\n",
       "      <td>Simplification algorithms for large virtual wo...</td>\n",
       "      <td>Computer Science</td>\n",
       "    </tr>\n",
       "    <tr>\n",
       "      <th>1</th>\n",
       "      <td>yx753dx0216</td>\n",
       "      <td>In this dissertation, I use two novel test sco...</td>\n",
       "      <td>dissertation  use two novel test score data se...</td>\n",
       "      <td>Graduate School of Education.</td>\n",
       "      <td>Gender disparities in U.S. educational achieve...</td>\n",
       "      <td>Graduate School of Business</td>\n",
       "    </tr>\n",
       "    <tr>\n",
       "      <th>2</th>\n",
       "      <td>yd874rr2274</td>\n",
       "      <td>A 20-minute documentary film was created to ac...</td>\n",
       "      <td>minute documentary film created accelerate ...</td>\n",
       "      <td>Department of Geological and Environmental Sci...</td>\n",
       "      <td>matched pair, cluster randomized, controlled t...</td>\n",
       "      <td>Earth, Energy and Environmental Sciences</td>\n",
       "    </tr>\n",
       "    <tr>\n",
       "      <th>3</th>\n",
       "      <td>sh260yn9550</td>\n",
       "      <td>The usage of hydrogen as an alternative energy...</td>\n",
       "      <td>usage hydrogen alternative energy carrier beco...</td>\n",
       "      <td>Department of Bioengineering.</td>\n",
       "      <td>Improving functions of redox proteins for hydr...</td>\n",
       "      <td>Bioengineering</td>\n",
       "    </tr>\n",
       "    <tr>\n",
       "      <th>4</th>\n",
       "      <td>nk877ng0918</td>\n",
       "      <td>High-order methods in Computational Fluid Dyna...</td>\n",
       "      <td>high order methods computational fluid dynamic...</td>\n",
       "      <td>Department of Aeronautics and Astronautics.</td>\n",
       "      <td>analysis of stability of the flux reconstructi...</td>\n",
       "      <td>Aeronautics &amp; Astronautics</td>\n",
       "    </tr>\n",
       "    <tr>\n",
       "      <th>...</th>\n",
       "      <td>...</td>\n",
       "      <td>...</td>\n",
       "      <td>...</td>\n",
       "      <td>...</td>\n",
       "      <td>...</td>\n",
       "      <td>...</td>\n",
       "    </tr>\n",
       "    <tr>\n",
       "      <th>6279</th>\n",
       "      <td>kc119hd5549</td>\n",
       "      <td>Small RNAs that are 19-30 nucleotides in lengt...</td>\n",
       "      <td>small rnas       nucleotides length use geneti...</td>\n",
       "      <td>Department of Microbiology and Immunology</td>\n",
       "      <td>Molecular signatures of virome-host interactions</td>\n",
       "      <td>Microbiology and Immunology</td>\n",
       "    </tr>\n",
       "    <tr>\n",
       "      <th>6280</th>\n",
       "      <td>mz572jk7876</td>\n",
       "      <td>Computer architecture is at a critical junctur...</td>\n",
       "      <td>computer architecture critical juncture  singl...</td>\n",
       "      <td>Department of Electrical Engineering</td>\n",
       "      <td>Hardware and software techniques for scalable ...</td>\n",
       "      <td>Electrical Engineering</td>\n",
       "    </tr>\n",
       "    <tr>\n",
       "      <th>6281</th>\n",
       "      <td>wb228xv1479</td>\n",
       "      <td>This dissertation comprises three chapters. Th...</td>\n",
       "      <td>dissertation comprises three chapters  first t...</td>\n",
       "      <td>Department of Economics.</td>\n",
       "      <td>Essay in empirical industrial organization and...</td>\n",
       "      <td>Economics</td>\n",
       "    </tr>\n",
       "    <tr>\n",
       "      <th>6282</th>\n",
       "      <td>gv302td4683</td>\n",
       "      <td>Morphometric studies reveal that the volumes o...</td>\n",
       "      <td>morphometric studies reveal volumes many brain...</td>\n",
       "      <td>Department of Psychology</td>\n",
       "      <td>Neuroanatomical correlates of emotion reactivi...</td>\n",
       "      <td>Psychology</td>\n",
       "    </tr>\n",
       "    <tr>\n",
       "      <th>6283</th>\n",
       "      <td>rc358bn5948</td>\n",
       "      <td>The purpose of this dissertation is to try and...</td>\n",
       "      <td>purpose dissertation try understand mechanisms...</td>\n",
       "      <td>School of Education.</td>\n",
       "      <td>Globalization of knowledge and its impact on h...</td>\n",
       "      <td>Graduate School of Business</td>\n",
       "    </tr>\n",
       "  </tbody>\n",
       "</table>\n",
       "<p>6283 rows × 6 columns</p>\n",
       "</div>"
      ],
      "text/plain": [
       "           druids                                          abstracts  \\\n",
       "0     yq942qc7340  Metaverses are virtual worlds where users crea...   \n",
       "1     yx753dx0216  In this dissertation, I use two novel test sco...   \n",
       "2     yd874rr2274  A 20-minute documentary film was created to ac...   \n",
       "3     sh260yn9550  The usage of hydrogen as an alternative energy...   \n",
       "4     nk877ng0918  High-order methods in Computational Fluid Dyna...   \n",
       "...           ...                                                ...   \n",
       "6279  kc119hd5549  Small RNAs that are 19-30 nucleotides in lengt...   \n",
       "6280  mz572jk7876  Computer architecture is at a critical junctur...   \n",
       "6281  wb228xv1479  This dissertation comprises three chapters. Th...   \n",
       "6282  gv302td4683  Morphometric studies reveal that the volumes o...   \n",
       "6283  rc358bn5948  The purpose of this dissertation is to try and...   \n",
       "\n",
       "                                      abstracts_cleaned  \\\n",
       "0     metaverses virtual worlds users create entire ...   \n",
       "1     dissertation  use two novel test score data se...   \n",
       "2        minute documentary film created accelerate ...   \n",
       "3     usage hydrogen alternative energy carrier beco...   \n",
       "4     high order methods computational fluid dynamic...   \n",
       "...                                                 ...   \n",
       "6279  small rnas       nucleotides length use geneti...   \n",
       "6280  computer architecture critical juncture  singl...   \n",
       "6281  dissertation comprises three chapters  first t...   \n",
       "6282  morphometric studies reveal volumes many brain...   \n",
       "6283  purpose dissertation try understand mechanisms...   \n",
       "\n",
       "                                            departments  \\\n",
       "0                       Department of Computer Science.   \n",
       "1                         Graduate School of Education.   \n",
       "2     Department of Geological and Environmental Sci...   \n",
       "3                         Department of Bioengineering.   \n",
       "4           Department of Aeronautics and Astronautics.   \n",
       "...                                                 ...   \n",
       "6279          Department of Microbiology and Immunology   \n",
       "6280               Department of Electrical Engineering   \n",
       "6281                           Department of Economics.   \n",
       "6282                           Department of Psychology   \n",
       "6283                               School of Education.   \n",
       "\n",
       "                                                  title  \\\n",
       "0     Simplification algorithms for large virtual wo...   \n",
       "1     Gender disparities in U.S. educational achieve...   \n",
       "2     matched pair, cluster randomized, controlled t...   \n",
       "3     Improving functions of redox proteins for hydr...   \n",
       "4     analysis of stability of the flux reconstructi...   \n",
       "...                                                 ...   \n",
       "6279   Molecular signatures of virome-host interactions   \n",
       "6280  Hardware and software techniques for scalable ...   \n",
       "6281  Essay in empirical industrial organization and...   \n",
       "6282  Neuroanatomical correlates of emotion reactivi...   \n",
       "6283  Globalization of knowledge and its impact on h...   \n",
       "\n",
       "                                          area  \n",
       "0                             Computer Science  \n",
       "1                  Graduate School of Business  \n",
       "2     Earth, Energy and Environmental Sciences  \n",
       "3                               Bioengineering  \n",
       "4                   Aeronautics & Astronautics  \n",
       "...                                        ...  \n",
       "6279               Microbiology and Immunology  \n",
       "6280                    Electrical Engineering  \n",
       "6281                                 Economics  \n",
       "6282                                Psychology  \n",
       "6283               Graduate School of Business  \n",
       "\n",
       "[6283 rows x 6 columns]"
      ]
     },
     "execution_count": 311,
     "metadata": {},
     "output_type": "execute_result"
    }
   ],
   "source": []
  },
  {
   "cell_type": "code",
   "execution_count": 315,
   "metadata": {},
   "outputs": [
    {
     "data": {
      "text/html": [
       "<div>\n",
       "<style scoped>\n",
       "    .dataframe tbody tr th:only-of-type {\n",
       "        vertical-align: middle;\n",
       "    }\n",
       "\n",
       "    .dataframe tbody tr th {\n",
       "        vertical-align: top;\n",
       "    }\n",
       "\n",
       "    .dataframe thead th {\n",
       "        text-align: right;\n",
       "    }\n",
       "</style>\n",
       "<table border=\"1\" class=\"dataframe\">\n",
       "  <thead>\n",
       "    <tr style=\"text-align: right;\">\n",
       "      <th></th>\n",
       "      <th>druids</th>\n",
       "      <th>abstracts</th>\n",
       "      <th>abstracts_cleaned</th>\n",
       "      <th>departments</th>\n",
       "      <th>title</th>\n",
       "      <th>area</th>\n",
       "    </tr>\n",
       "  </thead>\n",
       "  <tbody>\n",
       "    <tr>\n",
       "      <th>0</th>\n",
       "      <td>yq942qc7340</td>\n",
       "      <td>Metaverses are virtual worlds where users crea...</td>\n",
       "      <td>metaverses virtual worlds users create entire ...</td>\n",
       "      <td>Department of Computer Science.</td>\n",
       "      <td>Simplification algorithms for large virtual wo...</td>\n",
       "      <td>Computer Science</td>\n",
       "    </tr>\n",
       "    <tr>\n",
       "      <th>1</th>\n",
       "      <td>yx753dx0216</td>\n",
       "      <td>In this dissertation, I use two novel test sco...</td>\n",
       "      <td>dissertation  use two novel test score data se...</td>\n",
       "      <td>Graduate School of Education.</td>\n",
       "      <td>Gender disparities in U.S. educational achieve...</td>\n",
       "      <td>Graduate School of Business</td>\n",
       "    </tr>\n",
       "    <tr>\n",
       "      <th>2</th>\n",
       "      <td>yd874rr2274</td>\n",
       "      <td>A 20-minute documentary film was created to ac...</td>\n",
       "      <td>minute documentary film created accelerate ...</td>\n",
       "      <td>Department of Geological and Environmental Sci...</td>\n",
       "      <td>matched pair, cluster randomized, controlled t...</td>\n",
       "      <td>Earth, Energy and Environmental Sciences</td>\n",
       "    </tr>\n",
       "    <tr>\n",
       "      <th>3</th>\n",
       "      <td>sh260yn9550</td>\n",
       "      <td>The usage of hydrogen as an alternative energy...</td>\n",
       "      <td>usage hydrogen alternative energy carrier beco...</td>\n",
       "      <td>Department of Bioengineering.</td>\n",
       "      <td>Improving functions of redox proteins for hydr...</td>\n",
       "      <td>Bioengineering</td>\n",
       "    </tr>\n",
       "    <tr>\n",
       "      <th>4</th>\n",
       "      <td>nk877ng0918</td>\n",
       "      <td>High-order methods in Computational Fluid Dyna...</td>\n",
       "      <td>high order methods computational fluid dynamic...</td>\n",
       "      <td>Department of Aeronautics and Astronautics.</td>\n",
       "      <td>analysis of stability of the flux reconstructi...</td>\n",
       "      <td>Aeronautics &amp; Astronautics</td>\n",
       "    </tr>\n",
       "    <tr>\n",
       "      <th>...</th>\n",
       "      <td>...</td>\n",
       "      <td>...</td>\n",
       "      <td>...</td>\n",
       "      <td>...</td>\n",
       "      <td>...</td>\n",
       "      <td>...</td>\n",
       "    </tr>\n",
       "    <tr>\n",
       "      <th>998</th>\n",
       "      <td>db465vb0804</td>\n",
       "      <td>In today's digital age, online services, such ...</td>\n",
       "      <td>today s digital age  online services  search e...</td>\n",
       "      <td>Computer Science Department</td>\n",
       "      <td>Protecting privacy when mining and sharing use...</td>\n",
       "      <td>Computer Science</td>\n",
       "    </tr>\n",
       "    <tr>\n",
       "      <th>999</th>\n",
       "      <td>sj995pm3375</td>\n",
       "      <td>This dissertation consists of three chapters. ...</td>\n",
       "      <td>dissertation consists three chapters  first tw...</td>\n",
       "      <td>Graduate School of Business</td>\n",
       "      <td>Essays in microeconomics</td>\n",
       "      <td>Graduate School of Business</td>\n",
       "    </tr>\n",
       "    <tr>\n",
       "      <th>1000</th>\n",
       "      <td>qn448rp1399</td>\n",
       "      <td>Magnetic resonance imaging (MRI) is an importa...</td>\n",
       "      <td>magnetic resonance imaging  mri  important med...</td>\n",
       "      <td>Department of Electrical Engineering.</td>\n",
       "      <td>Acceleration of 3D magnetic resonance angiography</td>\n",
       "      <td>Electrical Engineering</td>\n",
       "    </tr>\n",
       "    <tr>\n",
       "      <th>1001</th>\n",
       "      <td>sj756gx1416</td>\n",
       "      <td>Five-year survival rates for adult B-cell acut...</td>\n",
       "      <td>five year survival rates adult b cell acute ly...</td>\n",
       "      <td>Cancer Biology Program.</td>\n",
       "      <td>Myeloid reprogramming B cell acute lymphoblast...</td>\n",
       "      <td>Cancer Biology</td>\n",
       "    </tr>\n",
       "    <tr>\n",
       "      <th>1002</th>\n",
       "      <td>sz929xd7180</td>\n",
       "      <td>A defining step in germ cell development is th...</td>\n",
       "      <td>defining step germ cell development exit mitot...</td>\n",
       "      <td>Cancer Biology Program.</td>\n",
       "      <td>Conserved regulation of the switch from prolif...</td>\n",
       "      <td>Cancer Biology</td>\n",
       "    </tr>\n",
       "  </tbody>\n",
       "</table>\n",
       "<p>7285 rows × 6 columns</p>\n",
       "</div>"
      ],
      "text/plain": [
       "           druids                                          abstracts  \\\n",
       "0     yq942qc7340  Metaverses are virtual worlds where users crea...   \n",
       "1     yx753dx0216  In this dissertation, I use two novel test sco...   \n",
       "2     yd874rr2274  A 20-minute documentary film was created to ac...   \n",
       "3     sh260yn9550  The usage of hydrogen as an alternative energy...   \n",
       "4     nk877ng0918  High-order methods in Computational Fluid Dyna...   \n",
       "...           ...                                                ...   \n",
       "998   db465vb0804  In today's digital age, online services, such ...   \n",
       "999   sj995pm3375  This dissertation consists of three chapters. ...   \n",
       "1000  qn448rp1399  Magnetic resonance imaging (MRI) is an importa...   \n",
       "1001  sj756gx1416  Five-year survival rates for adult B-cell acut...   \n",
       "1002  sz929xd7180  A defining step in germ cell development is th...   \n",
       "\n",
       "                                      abstracts_cleaned  \\\n",
       "0     metaverses virtual worlds users create entire ...   \n",
       "1     dissertation  use two novel test score data se...   \n",
       "2        minute documentary film created accelerate ...   \n",
       "3     usage hydrogen alternative energy carrier beco...   \n",
       "4     high order methods computational fluid dynamic...   \n",
       "...                                                 ...   \n",
       "998   today s digital age  online services  search e...   \n",
       "999   dissertation consists three chapters  first tw...   \n",
       "1000  magnetic resonance imaging  mri  important med...   \n",
       "1001  five year survival rates adult b cell acute ly...   \n",
       "1002  defining step germ cell development exit mitot...   \n",
       "\n",
       "                                            departments  \\\n",
       "0                       Department of Computer Science.   \n",
       "1                         Graduate School of Education.   \n",
       "2     Department of Geological and Environmental Sci...   \n",
       "3                         Department of Bioengineering.   \n",
       "4           Department of Aeronautics and Astronautics.   \n",
       "...                                                 ...   \n",
       "998                         Computer Science Department   \n",
       "999                         Graduate School of Business   \n",
       "1000              Department of Electrical Engineering.   \n",
       "1001                            Cancer Biology Program.   \n",
       "1002                            Cancer Biology Program.   \n",
       "\n",
       "                                                  title  \\\n",
       "0     Simplification algorithms for large virtual wo...   \n",
       "1     Gender disparities in U.S. educational achieve...   \n",
       "2     matched pair, cluster randomized, controlled t...   \n",
       "3     Improving functions of redox proteins for hydr...   \n",
       "4     analysis of stability of the flux reconstructi...   \n",
       "...                                                 ...   \n",
       "998   Protecting privacy when mining and sharing use...   \n",
       "999                            Essays in microeconomics   \n",
       "1000  Acceleration of 3D magnetic resonance angiography   \n",
       "1001  Myeloid reprogramming B cell acute lymphoblast...   \n",
       "1002  Conserved regulation of the switch from prolif...   \n",
       "\n",
       "                                          area  \n",
       "0                             Computer Science  \n",
       "1                  Graduate School of Business  \n",
       "2     Earth, Energy and Environmental Sciences  \n",
       "3                               Bioengineering  \n",
       "4                   Aeronautics & Astronautics  \n",
       "...                                        ...  \n",
       "998                           Computer Science  \n",
       "999                Graduate School of Business  \n",
       "1000                    Electrical Engineering  \n",
       "1001                            Cancer Biology  \n",
       "1002                            Cancer Biology  \n",
       "\n",
       "[7285 rows x 6 columns]"
      ]
     },
     "execution_count": 315,
     "metadata": {},
     "output_type": "execute_result"
    }
   ],
   "source": [
    "all_abstracts.drop(all_abstracts.index[[895,]])"
   ]
  },
  {
   "cell_type": "code",
   "execution_count": 316,
   "metadata": {},
   "outputs": [
    {
     "data": {
      "text/html": [
       "<div>\n",
       "<style scoped>\n",
       "    .dataframe tbody tr th:only-of-type {\n",
       "        vertical-align: middle;\n",
       "    }\n",
       "\n",
       "    .dataframe tbody tr th {\n",
       "        vertical-align: top;\n",
       "    }\n",
       "\n",
       "    .dataframe thead th {\n",
       "        text-align: right;\n",
       "    }\n",
       "</style>\n",
       "<table border=\"1\" class=\"dataframe\">\n",
       "  <thead>\n",
       "    <tr style=\"text-align: right;\">\n",
       "      <th></th>\n",
       "      <th>druids</th>\n",
       "      <th>abstracts</th>\n",
       "      <th>abstracts_cleaned</th>\n",
       "      <th>departments</th>\n",
       "      <th>title</th>\n",
       "      <th>area</th>\n",
       "    </tr>\n",
       "  </thead>\n",
       "  <tbody>\n",
       "    <tr>\n",
       "      <th>890</th>\n",
       "      <td>jv267rz6687</td>\n",
       "      <td>Cell signaling networks are complex dynamical ...</td>\n",
       "      <td>cell signaling networks complex dynamical syst...</td>\n",
       "      <td>Department of Chemical and Systems Biology.</td>\n",
       "      <td>Parameter extraction from single cell dynamics...</td>\n",
       "      <td>Chemical and Systems Biology</td>\n",
       "    </tr>\n",
       "    <tr>\n",
       "      <th>891</th>\n",
       "      <td>qb242rk0531</td>\n",
       "      <td>Knowledge-based approaches to planning and con...</td>\n",
       "      <td>knowledge based approaches planning control of...</td>\n",
       "      <td>Department of Electrical Engineering</td>\n",
       "      <td>Analytical goal-driven learning of procedural ...</td>\n",
       "      <td>Electrical Engineering</td>\n",
       "    </tr>\n",
       "    <tr>\n",
       "      <th>892</th>\n",
       "      <td>qz280bc5733</td>\n",
       "      <td>Reduced deformable bodies in the interactive a...</td>\n",
       "      <td>reduced deformable bodies interactive real tim...</td>\n",
       "      <td>Computer Science Department.</td>\n",
       "      <td>Two-way coupling of fluids to reduced deformab...</td>\n",
       "      <td>Computer Science</td>\n",
       "    </tr>\n",
       "    <tr>\n",
       "      <th>893</th>\n",
       "      <td>rq735dh6510</td>\n",
       "      <td>In this thesis, we develop and use an ab initi...</td>\n",
       "      <td>thesis  develop use ab initio molecular dynami...</td>\n",
       "      <td>Department of Chemistry</td>\n",
       "      <td>First principles molecular dynamics and contro...</td>\n",
       "      <td>Chemistry</td>\n",
       "    </tr>\n",
       "    <tr>\n",
       "      <th>894</th>\n",
       "      <td>gz312sp0723</td>\n",
       "      <td>During normal development, tissue regeneration...</td>\n",
       "      <td>normal development  tissue regeneration cancer...</td>\n",
       "      <td>Cancer Biology Program.</td>\n",
       "      <td>Dissecting the functions of cadherins in cell-...</td>\n",
       "      <td>Cancer Biology</td>\n",
       "    </tr>\n",
       "    <tr>\n",
       "      <th>895</th>\n",
       "      <td>.DS_S</td>\n",
       "      <td></td>\n",
       "      <td></td>\n",
       "      <td></td>\n",
       "      <td>None</td>\n",
       "      <td>Unknown</td>\n",
       "    </tr>\n",
       "  </tbody>\n",
       "</table>\n",
       "</div>"
      ],
      "text/plain": [
       "          druids                                          abstracts  \\\n",
       "890  jv267rz6687  Cell signaling networks are complex dynamical ...   \n",
       "891  qb242rk0531  Knowledge-based approaches to planning and con...   \n",
       "892  qz280bc5733  Reduced deformable bodies in the interactive a...   \n",
       "893  rq735dh6510  In this thesis, we develop and use an ab initi...   \n",
       "894  gz312sp0723  During normal development, tissue regeneration...   \n",
       "895        .DS_S                                                      \n",
       "\n",
       "                                     abstracts_cleaned  \\\n",
       "890  cell signaling networks complex dynamical syst...   \n",
       "891  knowledge based approaches planning control of...   \n",
       "892  reduced deformable bodies interactive real tim...   \n",
       "893  thesis  develop use ab initio molecular dynami...   \n",
       "894  normal development  tissue regeneration cancer...   \n",
       "895                                                      \n",
       "\n",
       "                                     departments  \\\n",
       "890  Department of Chemical and Systems Biology.   \n",
       "891         Department of Electrical Engineering   \n",
       "892                 Computer Science Department.   \n",
       "893                      Department of Chemistry   \n",
       "894                      Cancer Biology Program.   \n",
       "895                                                \n",
       "\n",
       "                                                 title  \\\n",
       "890  Parameter extraction from single cell dynamics...   \n",
       "891  Analytical goal-driven learning of procedural ...   \n",
       "892  Two-way coupling of fluids to reduced deformab...   \n",
       "893  First principles molecular dynamics and contro...   \n",
       "894  Dissecting the functions of cadherins in cell-...   \n",
       "895                                               None   \n",
       "\n",
       "                             area  \n",
       "890  Chemical and Systems Biology  \n",
       "891        Electrical Engineering  \n",
       "892              Computer Science  \n",
       "893                     Chemistry  \n",
       "894                Cancer Biology  \n",
       "895                       Unknown  "
      ]
     },
     "execution_count": 316,
     "metadata": {},
     "output_type": "execute_result"
    }
   ],
   "source": [
    "all_abstracts.iloc[890:896]"
   ]
  },
  {
   "cell_type": "code",
   "execution_count": 317,
   "metadata": {},
   "outputs": [],
   "source": [
    "all_abstracts.to_csv(\"data/all-abstracts.csv\")"
   ]
  },
  {
   "cell_type": "code",
   "execution_count": 318,
   "metadata": {},
   "outputs": [
    {
     "data": {
      "text/plain": [
       "7287"
      ]
     },
     "execution_count": 318,
     "metadata": {},
     "output_type": "execute_result"
    }
   ],
   "source": [
    "len(all_abstracts)"
   ]
  },
  {
   "cell_type": "code",
   "execution_count": 330,
   "metadata": {},
   "outputs": [],
   "source": [
    "all_abstracts = pd.read_csv(\"data/all-abstracts.csv\")"
   ]
  },
  {
   "cell_type": "code",
   "execution_count": 331,
   "metadata": {},
   "outputs": [
    {
     "data": {
      "text/plain": [
       "7283"
      ]
     },
     "execution_count": 331,
     "metadata": {},
     "output_type": "execute_result"
    }
   ],
   "source": [
    "len(all_abstracts)"
   ]
  },
  {
   "cell_type": "code",
   "execution_count": 332,
   "metadata": {},
   "outputs": [
    {
     "data": {
      "text/html": [
       "<div>\n",
       "<style scoped>\n",
       "    .dataframe tbody tr th:only-of-type {\n",
       "        vertical-align: middle;\n",
       "    }\n",
       "\n",
       "    .dataframe tbody tr th {\n",
       "        vertical-align: top;\n",
       "    }\n",
       "\n",
       "    .dataframe thead th {\n",
       "        text-align: right;\n",
       "    }\n",
       "</style>\n",
       "<table border=\"1\" class=\"dataframe\">\n",
       "  <thead>\n",
       "    <tr style=\"text-align: right;\">\n",
       "      <th></th>\n",
       "      <th>Unnamed: 0</th>\n",
       "      <th>druids</th>\n",
       "      <th>abstracts</th>\n",
       "      <th>abstracts_cleaned</th>\n",
       "      <th>departments</th>\n",
       "      <th>title</th>\n",
       "      <th>area</th>\n",
       "    </tr>\n",
       "  </thead>\n",
       "  <tbody>\n",
       "    <tr>\n",
       "      <th>0</th>\n",
       "      <td>0</td>\n",
       "      <td>yq942qc7340</td>\n",
       "      <td>Metaverses are virtual worlds where users crea...</td>\n",
       "      <td>metaverses virtual worlds users create entire ...</td>\n",
       "      <td>Department of Computer Science.</td>\n",
       "      <td>Simplification algorithms for large virtual wo...</td>\n",
       "      <td>Computer Science</td>\n",
       "    </tr>\n",
       "    <tr>\n",
       "      <th>1</th>\n",
       "      <td>1</td>\n",
       "      <td>yx753dx0216</td>\n",
       "      <td>In this dissertation, I use two novel test sco...</td>\n",
       "      <td>dissertation  use two novel test score data se...</td>\n",
       "      <td>Graduate School of Education.</td>\n",
       "      <td>Gender disparities in U.S. educational achieve...</td>\n",
       "      <td>Graduate School of Business</td>\n",
       "    </tr>\n",
       "    <tr>\n",
       "      <th>2</th>\n",
       "      <td>2</td>\n",
       "      <td>yd874rr2274</td>\n",
       "      <td>A 20-minute documentary film was created to ac...</td>\n",
       "      <td>minute documentary film created accelerate ...</td>\n",
       "      <td>Department of Geological and Environmental Sci...</td>\n",
       "      <td>matched pair, cluster randomized, controlled t...</td>\n",
       "      <td>Earth, Energy and Environmental Sciences</td>\n",
       "    </tr>\n",
       "    <tr>\n",
       "      <th>3</th>\n",
       "      <td>3</td>\n",
       "      <td>sh260yn9550</td>\n",
       "      <td>The usage of hydrogen as an alternative energy...</td>\n",
       "      <td>usage hydrogen alternative energy carrier beco...</td>\n",
       "      <td>Department of Bioengineering.</td>\n",
       "      <td>Improving functions of redox proteins for hydr...</td>\n",
       "      <td>Bioengineering</td>\n",
       "    </tr>\n",
       "    <tr>\n",
       "      <th>4</th>\n",
       "      <td>4</td>\n",
       "      <td>nk877ng0918</td>\n",
       "      <td>High-order methods in Computational Fluid Dyna...</td>\n",
       "      <td>high order methods computational fluid dynamic...</td>\n",
       "      <td>Department of Aeronautics and Astronautics.</td>\n",
       "      <td>analysis of stability of the flux reconstructi...</td>\n",
       "      <td>Aeronautics &amp; Astronautics</td>\n",
       "    </tr>\n",
       "  </tbody>\n",
       "</table>\n",
       "</div>"
      ],
      "text/plain": [
       "   Unnamed: 0       druids                                          abstracts  \\\n",
       "0           0  yq942qc7340  Metaverses are virtual worlds where users crea...   \n",
       "1           1  yx753dx0216  In this dissertation, I use two novel test sco...   \n",
       "2           2  yd874rr2274  A 20-minute documentary film was created to ac...   \n",
       "3           3  sh260yn9550  The usage of hydrogen as an alternative energy...   \n",
       "4           4  nk877ng0918  High-order methods in Computational Fluid Dyna...   \n",
       "\n",
       "                                   abstracts_cleaned  \\\n",
       "0  metaverses virtual worlds users create entire ...   \n",
       "1  dissertation  use two novel test score data se...   \n",
       "2     minute documentary film created accelerate ...   \n",
       "3  usage hydrogen alternative energy carrier beco...   \n",
       "4  high order methods computational fluid dynamic...   \n",
       "\n",
       "                                         departments  \\\n",
       "0                    Department of Computer Science.   \n",
       "1                      Graduate School of Education.   \n",
       "2  Department of Geological and Environmental Sci...   \n",
       "3                      Department of Bioengineering.   \n",
       "4        Department of Aeronautics and Astronautics.   \n",
       "\n",
       "                                               title  \\\n",
       "0  Simplification algorithms for large virtual wo...   \n",
       "1  Gender disparities in U.S. educational achieve...   \n",
       "2  matched pair, cluster randomized, controlled t...   \n",
       "3  Improving functions of redox proteins for hydr...   \n",
       "4  analysis of stability of the flux reconstructi...   \n",
       "\n",
       "                                       area  \n",
       "0                          Computer Science  \n",
       "1               Graduate School of Business  \n",
       "2  Earth, Energy and Environmental Sciences  \n",
       "3                            Bioengineering  \n",
       "4                Aeronautics & Astronautics  "
      ]
     },
     "execution_count": 332,
     "metadata": {},
     "output_type": "execute_result"
    }
   ],
   "source": [
    "all_abstracts.head()"
   ]
  },
  {
   "cell_type": "code",
   "execution_count": 323,
   "metadata": {},
   "outputs": [
    {
     "data": {
      "text/plain": [
       "Index(['Unnamed: 0', 'druids', 'abstracts', 'abstracts_cleaned', 'departments',\n",
       "       'title', 'area'],\n",
       "      dtype='object')"
      ]
     },
     "execution_count": 323,
     "metadata": {},
     "output_type": "execute_result"
    }
   ],
   "source": [
    "all_abstracts.columns"
   ]
  },
  {
   "cell_type": "code",
   "execution_count": 326,
   "metadata": {},
   "outputs": [
    {
     "ename": "KeyError",
     "evalue": "'[2177 2978 3509 ... 1000 1001 1002] not found in axis'",
     "output_type": "error",
     "traceback": [
      "\u001b[0;31m---------------------------------------------------------------------------\u001b[0m",
      "\u001b[0;31mKeyError\u001b[0m                                  Traceback (most recent call last)",
      "\u001b[0;32m<ipython-input-326-89de0593b2f0>\u001b[0m in \u001b[0;36m<module>\u001b[0;34m\u001b[0m\n\u001b[0;32m----> 1\u001b[0;31m \u001b[0mall_abstracts1\u001b[0m \u001b[0;34m=\u001b[0m \u001b[0mall_abstracts\u001b[0m\u001b[0;34m.\u001b[0m\u001b[0mdrop\u001b[0m\u001b[0;34m(\u001b[0m\u001b[0mall_abstracts\u001b[0m\u001b[0;34m[\u001b[0m\u001b[0;34m'Unnamed: 0'\u001b[0m\u001b[0;34m]\u001b[0m\u001b[0;34m)\u001b[0m\u001b[0;34m\u001b[0m\u001b[0;34m\u001b[0m\u001b[0m\n\u001b[0m",
      "\u001b[0;32m~/2020/py3-env/lib/python3.8/site-packages/pandas/core/frame.py\u001b[0m in \u001b[0;36mdrop\u001b[0;34m(self, labels, axis, index, columns, level, inplace, errors)\u001b[0m\n\u001b[1;32m   3988\u001b[0m                 \u001b[0mweight\u001b[0m  \u001b[0;36m1.0\u001b[0m     \u001b[0;36m0.8\u001b[0m\u001b[0;34m\u001b[0m\u001b[0;34m\u001b[0m\u001b[0m\n\u001b[1;32m   3989\u001b[0m         \"\"\"\n\u001b[0;32m-> 3990\u001b[0;31m         return super().drop(\n\u001b[0m\u001b[1;32m   3991\u001b[0m             \u001b[0mlabels\u001b[0m\u001b[0;34m=\u001b[0m\u001b[0mlabels\u001b[0m\u001b[0;34m,\u001b[0m\u001b[0;34m\u001b[0m\u001b[0;34m\u001b[0m\u001b[0m\n\u001b[1;32m   3992\u001b[0m             \u001b[0maxis\u001b[0m\u001b[0;34m=\u001b[0m\u001b[0maxis\u001b[0m\u001b[0;34m,\u001b[0m\u001b[0;34m\u001b[0m\u001b[0;34m\u001b[0m\u001b[0m\n",
      "\u001b[0;32m~/2020/py3-env/lib/python3.8/site-packages/pandas/core/generic.py\u001b[0m in \u001b[0;36mdrop\u001b[0;34m(self, labels, axis, index, columns, level, inplace, errors)\u001b[0m\n\u001b[1;32m   3934\u001b[0m         \u001b[0;32mfor\u001b[0m \u001b[0maxis\u001b[0m\u001b[0;34m,\u001b[0m \u001b[0mlabels\u001b[0m \u001b[0;32min\u001b[0m \u001b[0maxes\u001b[0m\u001b[0;34m.\u001b[0m\u001b[0mitems\u001b[0m\u001b[0;34m(\u001b[0m\u001b[0;34m)\u001b[0m\u001b[0;34m:\u001b[0m\u001b[0;34m\u001b[0m\u001b[0;34m\u001b[0m\u001b[0m\n\u001b[1;32m   3935\u001b[0m             \u001b[0;32mif\u001b[0m \u001b[0mlabels\u001b[0m \u001b[0;32mis\u001b[0m \u001b[0;32mnot\u001b[0m \u001b[0;32mNone\u001b[0m\u001b[0;34m:\u001b[0m\u001b[0;34m\u001b[0m\u001b[0;34m\u001b[0m\u001b[0m\n\u001b[0;32m-> 3936\u001b[0;31m                 \u001b[0mobj\u001b[0m \u001b[0;34m=\u001b[0m \u001b[0mobj\u001b[0m\u001b[0;34m.\u001b[0m\u001b[0m_drop_axis\u001b[0m\u001b[0;34m(\u001b[0m\u001b[0mlabels\u001b[0m\u001b[0;34m,\u001b[0m \u001b[0maxis\u001b[0m\u001b[0;34m,\u001b[0m \u001b[0mlevel\u001b[0m\u001b[0;34m=\u001b[0m\u001b[0mlevel\u001b[0m\u001b[0;34m,\u001b[0m \u001b[0merrors\u001b[0m\u001b[0;34m=\u001b[0m\u001b[0merrors\u001b[0m\u001b[0;34m)\u001b[0m\u001b[0;34m\u001b[0m\u001b[0;34m\u001b[0m\u001b[0m\n\u001b[0m\u001b[1;32m   3937\u001b[0m \u001b[0;34m\u001b[0m\u001b[0m\n\u001b[1;32m   3938\u001b[0m         \u001b[0;32mif\u001b[0m \u001b[0minplace\u001b[0m\u001b[0;34m:\u001b[0m\u001b[0;34m\u001b[0m\u001b[0;34m\u001b[0m\u001b[0m\n",
      "\u001b[0;32m~/2020/py3-env/lib/python3.8/site-packages/pandas/core/generic.py\u001b[0m in \u001b[0;36m_drop_axis\u001b[0;34m(self, labels, axis, level, errors)\u001b[0m\n\u001b[1;32m   3968\u001b[0m                 \u001b[0mnew_axis\u001b[0m \u001b[0;34m=\u001b[0m \u001b[0maxis\u001b[0m\u001b[0;34m.\u001b[0m\u001b[0mdrop\u001b[0m\u001b[0;34m(\u001b[0m\u001b[0mlabels\u001b[0m\u001b[0;34m,\u001b[0m \u001b[0mlevel\u001b[0m\u001b[0;34m=\u001b[0m\u001b[0mlevel\u001b[0m\u001b[0;34m,\u001b[0m \u001b[0merrors\u001b[0m\u001b[0;34m=\u001b[0m\u001b[0merrors\u001b[0m\u001b[0;34m)\u001b[0m\u001b[0;34m\u001b[0m\u001b[0;34m\u001b[0m\u001b[0m\n\u001b[1;32m   3969\u001b[0m             \u001b[0;32melse\u001b[0m\u001b[0;34m:\u001b[0m\u001b[0;34m\u001b[0m\u001b[0;34m\u001b[0m\u001b[0m\n\u001b[0;32m-> 3970\u001b[0;31m                 \u001b[0mnew_axis\u001b[0m \u001b[0;34m=\u001b[0m \u001b[0maxis\u001b[0m\u001b[0;34m.\u001b[0m\u001b[0mdrop\u001b[0m\u001b[0;34m(\u001b[0m\u001b[0mlabels\u001b[0m\u001b[0;34m,\u001b[0m \u001b[0merrors\u001b[0m\u001b[0;34m=\u001b[0m\u001b[0merrors\u001b[0m\u001b[0;34m)\u001b[0m\u001b[0;34m\u001b[0m\u001b[0;34m\u001b[0m\u001b[0m\n\u001b[0m\u001b[1;32m   3971\u001b[0m             \u001b[0mresult\u001b[0m \u001b[0;34m=\u001b[0m \u001b[0mself\u001b[0m\u001b[0;34m.\u001b[0m\u001b[0mreindex\u001b[0m\u001b[0;34m(\u001b[0m\u001b[0;34m**\u001b[0m\u001b[0;34m{\u001b[0m\u001b[0maxis_name\u001b[0m\u001b[0;34m:\u001b[0m \u001b[0mnew_axis\u001b[0m\u001b[0;34m}\u001b[0m\u001b[0;34m)\u001b[0m\u001b[0;34m\u001b[0m\u001b[0;34m\u001b[0m\u001b[0m\n\u001b[1;32m   3972\u001b[0m \u001b[0;34m\u001b[0m\u001b[0m\n",
      "\u001b[0;32m~/2020/py3-env/lib/python3.8/site-packages/pandas/core/indexes/base.py\u001b[0m in \u001b[0;36mdrop\u001b[0;34m(self, labels, errors)\u001b[0m\n\u001b[1;32m   5015\u001b[0m         \u001b[0;32mif\u001b[0m \u001b[0mmask\u001b[0m\u001b[0;34m.\u001b[0m\u001b[0many\u001b[0m\u001b[0;34m(\u001b[0m\u001b[0;34m)\u001b[0m\u001b[0;34m:\u001b[0m\u001b[0;34m\u001b[0m\u001b[0;34m\u001b[0m\u001b[0m\n\u001b[1;32m   5016\u001b[0m             \u001b[0;32mif\u001b[0m \u001b[0merrors\u001b[0m \u001b[0;34m!=\u001b[0m \u001b[0;34m\"ignore\"\u001b[0m\u001b[0;34m:\u001b[0m\u001b[0;34m\u001b[0m\u001b[0;34m\u001b[0m\u001b[0m\n\u001b[0;32m-> 5017\u001b[0;31m                 \u001b[0;32mraise\u001b[0m \u001b[0mKeyError\u001b[0m\u001b[0;34m(\u001b[0m\u001b[0;34mf\"{labels[mask]} not found in axis\"\u001b[0m\u001b[0;34m)\u001b[0m\u001b[0;34m\u001b[0m\u001b[0;34m\u001b[0m\u001b[0m\n\u001b[0m\u001b[1;32m   5018\u001b[0m             \u001b[0mindexer\u001b[0m \u001b[0;34m=\u001b[0m \u001b[0mindexer\u001b[0m\u001b[0;34m[\u001b[0m\u001b[0;34m~\u001b[0m\u001b[0mmask\u001b[0m\u001b[0;34m]\u001b[0m\u001b[0;34m\u001b[0m\u001b[0;34m\u001b[0m\u001b[0m\n\u001b[1;32m   5019\u001b[0m         \u001b[0;32mreturn\u001b[0m \u001b[0mself\u001b[0m\u001b[0;34m.\u001b[0m\u001b[0mdelete\u001b[0m\u001b[0;34m(\u001b[0m\u001b[0mindexer\u001b[0m\u001b[0;34m)\u001b[0m\u001b[0;34m\u001b[0m\u001b[0;34m\u001b[0m\u001b[0m\n",
      "\u001b[0;31mKeyError\u001b[0m: '[2177 2978 3509 ... 1000 1001 1002] not found in axis'"
     ]
    }
   ],
   "source": [
    "all_abstracts1 = all_abstracts.drop(all_abstracts['Unnamed: 0'])"
   ]
  },
  {
   "cell_type": "code",
   "execution_count": 333,
   "metadata": {},
   "outputs": [
    {
     "data": {
      "text/plain": [
       "7283"
      ]
     },
     "execution_count": 333,
     "metadata": {},
     "output_type": "execute_result"
    }
   ],
   "source": [
    "len(all_abstracts)"
   ]
  },
  {
   "cell_type": "code",
   "execution_count": 335,
   "metadata": {},
   "outputs": [
    {
     "data": {
      "text/plain": [
       "(7283, 7)"
      ]
     },
     "execution_count": 335,
     "metadata": {},
     "output_type": "execute_result"
    }
   ],
   "source": [
    "all_abstracts.shape"
   ]
  },
  {
   "cell_type": "code",
   "execution_count": 336,
   "metadata": {},
   "outputs": [],
   "source": [
    "del all_abstracts['Unnamed: 0']"
   ]
  },
  {
   "cell_type": "code",
   "execution_count": 339,
   "metadata": {},
   "outputs": [
    {
     "data": {
      "text/plain": [
       "7283"
      ]
     },
     "execution_count": 339,
     "metadata": {},
     "output_type": "execute_result"
    }
   ],
   "source": [
    "len(all_abstracts)"
   ]
  },
  {
   "cell_type": "code",
   "execution_count": null,
   "metadata": {},
   "outputs": [],
   "source": [
    "import csv"
   ]
  }
 ],
 "metadata": {
  "kernelspec": {
   "display_name": "Python 3",
   "language": "python",
   "name": "python3"
  },
  "language_info": {
   "codemirror_mode": {
    "name": "ipython",
    "version": 3
   },
   "file_extension": ".py",
   "mimetype": "text/x-python",
   "name": "python",
   "nbconvert_exporter": "python",
   "pygments_lexer": "ipython3",
   "version": "3.8.1"
  }
 },
 "nbformat": 4,
 "nbformat_minor": 4
}
